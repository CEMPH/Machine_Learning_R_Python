{
 "cells": [
  {
   "cell_type": "markdown",
   "id": "9e566170",
   "metadata": {},
   "source": [
    "First, import Matplotlib for visualization and NumPy for array operations. You’ll also need LogisticRegression, classification_report(), and confusion_matrix() from scikit-learn"
   ]
  },
  {
   "cell_type": "code",
   "execution_count": null,
   "id": "5e135e93",
   "metadata": {},
   "outputs": [],
   "source": [
    "import matplotlib.pyplot as plt\n",
    "import numpy as np\n",
    "from sklearn.linear_model import LogisticRegression\n",
    "from sklearn.metrics import classification_report, confusion_matrix"
   ]
  },
  {
   "cell_type": "markdown",
   "id": "00e904d5",
   "metadata": {},
   "source": [
    "For the purpose of this example, let’s just create arrays for the input (𝑥) and output (𝑦) values:"
   ]
  },
  {
   "cell_type": "code",
   "execution_count": null,
   "id": "32d05c26",
   "metadata": {},
   "outputs": [],
   "source": [
    "x = np.arange(10).reshape(-1, 1)\n",
    "x"
   ]
  },
  {
   "cell_type": "markdown",
   "id": "f432a6ca",
   "metadata": {},
   "source": [
    "The array x is required to be two-dimensional. \n",
    "\n",
    "It should have one column for each input, and the number of rows should be equal to the number of observations. \n",
    "\n",
    "To make x two-dimensional, you apply .reshape() with the arguments -1 to get as many rows as needed and 1 to get one column. "
   ]
  },
  {
   "cell_type": "markdown",
   "id": "629b79ee",
   "metadata": {},
   "source": [
    "x has two dimensions:\n",
    "\n",
    "- One column for a single input\n",
    "- Ten rows, each corresponding to one observation"
   ]
  },
  {
   "cell_type": "code",
   "execution_count": null,
   "id": "82b3720b",
   "metadata": {},
   "outputs": [],
   "source": [
    "y = np.array([0, 0, 0, 0, 1, 1, 1, 1, 1, 1])\n",
    "y"
   ]
  },
  {
   "cell_type": "markdown",
   "id": "ec2ca781",
   "metadata": {},
   "source": [
    "y is one-dimensional with ten items. Again, each item corresponds to one observation. It contains only zeros and ones since this is a binary classification problem."
   ]
  },
  {
   "cell_type": "markdown",
   "id": "6ba9812d",
   "metadata": {},
   "source": [
    "The input and output should be NumPy arrays or similar objects. numpy.arange() creates an array of consecutive, equally-spaced values within a given range. "
   ]
  },
  {
   "cell_type": "code",
   "execution_count": null,
   "id": "7de2f306",
   "metadata": {},
   "outputs": [],
   "source": [
    "# Once you have the input and output prepared, you can create and \n",
    "# define your classification model.\n",
    "model = LogisticRegression(solver='liblinear', random_state=0)"
   ]
  },
  {
   "cell_type": "markdown",
   "id": "bd0f522e",
   "metadata": {},
   "source": [
    "The solver (remerber LLF??) is a string ('liblinear' by default) that decides what solver to use for fitting the model. \n",
    "\n",
    "Other options are 'newton-cg', 'lbfgs', 'sag', and 'saga'.\n",
    "\n",
    "It might be an __hyperparameter__ to tune."
   ]
  },
  {
   "cell_type": "code",
   "execution_count": null,
   "id": "bb4e5ec5",
   "metadata": {},
   "outputs": [],
   "source": [
    "model.fit(x, y)"
   ]
  },
  {
   "cell_type": "markdown",
   "id": "085695dd",
   "metadata": {},
   "source": [
    "Once the model is created, you need to fit (or train) it. Model fitting is the process of determining the coefficients 𝑏₀, 𝑏₁, …, 𝑏ᵣ that correspond to the best value of the cost function. sklearn fit the model with .fit()"
   ]
  },
  {
   "cell_type": "code",
   "execution_count": null,
   "id": "f4cf9e73",
   "metadata": {},
   "outputs": [],
   "source": [
    "#the following code is equivalent\n",
    "model = LogisticRegression(solver='liblinear', random_state=0).fit(x, y)"
   ]
  },
  {
   "cell_type": "code",
   "execution_count": null,
   "id": "4d58f8f0",
   "metadata": {},
   "outputs": [],
   "source": [
    "model.classes_"
   ]
  },
  {
   "cell_type": "markdown",
   "id": "8d7d13ca",
   "metadata": {},
   "source": [
    "We can also get the value of the slope 𝑏₁ and the intercept 𝑏₀ of the linear function 𝑓"
   ]
  },
  {
   "cell_type": "code",
   "execution_count": null,
   "id": "fb8c995e",
   "metadata": {},
   "outputs": [],
   "source": [
    "model.intercept_"
   ]
  },
  {
   "cell_type": "code",
   "execution_count": null,
   "id": "7a85e738",
   "metadata": {},
   "outputs": [],
   "source": [
    "model.coef_"
   ]
  },
  {
   "cell_type": "markdown",
   "id": "c6786bde",
   "metadata": {},
   "source": [
    "Once a model is defined, you can check its performance with `.predict_proba()`, which returns the matrix of probabilities that the predicted output is equal to zero or one:"
   ]
  },
  {
   "cell_type": "code",
   "execution_count": null,
   "id": "abbff0a8",
   "metadata": {},
   "outputs": [],
   "source": [
    "model.predict_proba(x)"
   ]
  },
  {
   "cell_type": "markdown",
   "id": "5cf268ff",
   "metadata": {},
   "source": [
    "In the matrix above, each row corresponds to a single sample. \n",
    "\n",
    "The first column is the probability of the predicted output being zero, that is 1 - 𝑝(𝑥). \n",
    "\n",
    "The second column is the probability that the output is one, or 𝑝(𝑥).\n",
    "\n",
    "\n",
    "You can get the __actual predictions__, based on the probability matrix and the values of 𝑝(𝑥), with `.predict()`:"
   ]
  },
  {
   "cell_type": "code",
   "execution_count": null,
   "id": "e977e169",
   "metadata": {},
   "outputs": [],
   "source": [
    "model.predict(x)"
   ]
  },
  {
   "cell_type": "code",
   "execution_count": null,
   "id": "f255a0dc",
   "metadata": {},
   "outputs": [],
   "source": [
    "y"
   ]
  },
  {
   "cell_type": "markdown",
   "id": "703375dc",
   "metadata": {},
   "source": [
    "When we have nine out of ten observations classified correctly, the accuracy of our model is equal to 9/10=0.9, which you can obtain with `.score()`:"
   ]
  },
  {
   "cell_type": "code",
   "execution_count": null,
   "id": "2398fd06",
   "metadata": {},
   "outputs": [],
   "source": [
    "model.score(x, y)"
   ]
  },
  {
   "cell_type": "code",
   "execution_count": null,
   "id": "b8d09c7c",
   "metadata": {},
   "outputs": [],
   "source": [
    "# confusion matrix\n",
    "confusion_matrix(y, model.predict(x))"
   ]
  },
  {
   "cell_type": "markdown",
   "id": "9c5d84e0",
   "metadata": {},
   "source": [
    "The obtained matrix shows the following:\n",
    "\n",
    " - Three true negative predictions: The first three observations are zeros predicted correctly.\n",
    " - No false negative predictions: These are the ones wrongly predicted as zeros.\n",
    " - One false positive prediction: The fourth observation is a zero that was wrongly predicted as one.\n",
    " - Six true positive predictions: The last six observations are ones predicted correctly."
   ]
  },
  {
   "cell_type": "code",
   "execution_count": null,
   "id": "12414806",
   "metadata": {},
   "outputs": [],
   "source": [
    "cm = confusion_matrix(y, model.predict(x))\n",
    "\n",
    "fig, ax = plt.subplots(figsize=(8, 8))\n",
    "ax.imshow(cm)\n",
    "ax.grid(False)\n",
    "ax.xaxis.set(ticks=(0, 1), ticklabels=('Predicted 0s', 'Predicted 1s'))\n",
    "ax.yaxis.set(ticks=(0, 1), ticklabels=('Actual 0s', 'Actual 1s'))\n",
    "ax.set_ylim(1.5, -0.5)\n",
    "for i in range(2):\n",
    "    for j in range(2):\n",
    "        ax.text(j, i, cm[i, j], ha='center', va='center', color='red')\n",
    "plt.show()"
   ]
  },
  {
   "cell_type": "markdown",
   "id": "9203a337",
   "metadata": {},
   "source": [
    "We can get a more comprehensive report on the classification with `classification_report()`:"
   ]
  },
  {
   "cell_type": "code",
   "execution_count": null,
   "id": "b83096a5",
   "metadata": {},
   "outputs": [],
   "source": [
    "print(classification_report(y, model.predict(x)))"
   ]
  },
  {
   "cell_type": "markdown",
   "id": "d157a73d",
   "metadata": {},
   "source": [
    "We can improve your model by setting different hyperparameters. \n",
    "\n",
    "For example, let’s work with the regularization strength C equal to 10.0, instead of the default value of 1.0."
   ]
  },
  {
   "cell_type": "code",
   "execution_count": null,
   "id": "e6397fe7",
   "metadata": {},
   "outputs": [],
   "source": [
    "model = LogisticRegression(solver='liblinear', C=10.0, random_state=0)\n",
    "model.fit(x, y)"
   ]
  },
  {
   "cell_type": "code",
   "execution_count": null,
   "id": "e259273b",
   "metadata": {},
   "outputs": [],
   "source": [
    "model.intercept_"
   ]
  },
  {
   "cell_type": "code",
   "execution_count": null,
   "id": "77f0843f",
   "metadata": {},
   "outputs": [],
   "source": [
    "model.coef_"
   ]
  },
  {
   "cell_type": "code",
   "execution_count": null,
   "id": "287857cf",
   "metadata": {},
   "outputs": [],
   "source": [
    "model.predict_proba(x)"
   ]
  },
  {
   "cell_type": "code",
   "execution_count": null,
   "id": "39ef3900",
   "metadata": {},
   "outputs": [],
   "source": [
    "model.predict(x)"
   ]
  },
  {
   "cell_type": "code",
   "execution_count": null,
   "id": "94578001",
   "metadata": {},
   "outputs": [],
   "source": [
    "y"
   ]
  },
  {
   "cell_type": "code",
   "execution_count": null,
   "id": "072e814c",
   "metadata": {},
   "outputs": [],
   "source": [
    "model.score(x, y)"
   ]
  },
  {
   "cell_type": "code",
   "execution_count": null,
   "id": "65c4e3fb",
   "metadata": {},
   "outputs": [],
   "source": [
    "confusion_matrix(y, model.predict(x))"
   ]
  },
  {
   "cell_type": "code",
   "execution_count": null,
   "id": "30427082",
   "metadata": {},
   "outputs": [],
   "source": [
    "print(classification_report(y, model.predict(x)))"
   ]
  },
  {
   "attachments": {
    "image.png": {
     "image/png": "[encoded data removed]"
    }
   },
   "cell_type": "markdown",
   "id": "7940f0c7",
   "metadata": {},
   "source": [
    "![image.png](attachment:image.png)"
   ]
  },
  {
   "cell_type": "markdown",
   "id": "732fbf5d",
   "metadata": {},
   "source": [
    "Let’s solve another classification problem. It’s similar to the previous one, except that the output differs in the second value. "
   ]
  },
  {
   "cell_type": "code",
   "execution_count": null,
   "id": "c19afb38",
   "metadata": {},
   "outputs": [],
   "source": [
    "# Step 1: Import packages, functions, and classes\n",
    "import numpy as np\n",
    "from sklearn.linear_model import LogisticRegression\n",
    "from sklearn.metrics import classification_report, confusion_matrix"
   ]
  },
  {
   "cell_type": "code",
   "execution_count": null,
   "id": "c992fe29",
   "metadata": {},
   "outputs": [],
   "source": [
    "# Step 2: Get data\n",
    "x = np.arange(10).reshape(-1, 1)\n",
    "y = np.array([0, 1, 0, 0, 1, 1, 1, 1, 1, 1])"
   ]
  },
  {
   "cell_type": "code",
   "execution_count": null,
   "id": "57a047cb",
   "metadata": {},
   "outputs": [],
   "source": [
    "# Step 3: Create a model and train it\n",
    "model = LogisticRegression(solver='liblinear', C=10.0, random_state=0)\n",
    "model.fit(x, y)"
   ]
  },
  {
   "cell_type": "code",
   "execution_count": null,
   "id": "880350a7",
   "metadata": {},
   "outputs": [],
   "source": [
    "# Step 4: Evaluate the model\n",
    "p_pred = model.predict_proba(x)\n",
    "y_pred = model.predict(x)\n",
    "score_ = model.score(x, y)\n",
    "conf_m = confusion_matrix(y, y_pred)\n",
    "report = classification_report(y, model.predict(x))"
   ]
  },
  {
   "cell_type": "code",
   "execution_count": null,
   "id": "6b4e87f9",
   "metadata": {},
   "outputs": [],
   "source": [
    "print('x:', x, sep='\\n')"
   ]
  },
  {
   "cell_type": "code",
   "execution_count": null,
   "id": "47cb3f56",
   "metadata": {},
   "outputs": [],
   "source": [
    "print('y:', y)"
   ]
  },
  {
   "cell_type": "code",
   "execution_count": null,
   "id": "be349cff",
   "metadata": {},
   "outputs": [],
   "source": [
    "print('intercept:', model.intercept_)"
   ]
  },
  {
   "cell_type": "code",
   "execution_count": null,
   "id": "2408e6f7",
   "metadata": {},
   "outputs": [],
   "source": [
    "print('coef:', model.coef_)"
   ]
  },
  {
   "cell_type": "code",
   "execution_count": null,
   "id": "72e26265",
   "metadata": {},
   "outputs": [],
   "source": [
    "print('p_pred:', p_pred, sep='\\n')"
   ]
  },
  {
   "cell_type": "code",
   "execution_count": null,
   "id": "0b25601c",
   "metadata": {},
   "outputs": [],
   "source": [
    "print('y_pred:', y_pred)"
   ]
  },
  {
   "cell_type": "code",
   "execution_count": null,
   "id": "47b6f557",
   "metadata": {},
   "outputs": [],
   "source": [
    "print('score_:', score_)"
   ]
  },
  {
   "cell_type": "code",
   "execution_count": null,
   "id": "ead6c62b",
   "metadata": {},
   "outputs": [],
   "source": [
    "conf_m"
   ]
  },
  {
   "cell_type": "code",
   "execution_count": null,
   "id": "a7223cfb",
   "metadata": {},
   "outputs": [],
   "source": [
    "print('report:', report, sep='\\n')"
   ]
  },
  {
   "attachments": {
    "image.png": {
     "image/png": "[encoded data removed]"
    }
   },
   "cell_type": "markdown",
   "id": "3be83684",
   "metadata": {},
   "source": [
    "![image.png](attachment:image.png)"
   ]
  },
  {
   "cell_type": "markdown",
   "id": "bfe02bf5",
   "metadata": {},
   "source": [
    "This figure reveals one important characteristic of this example. Unlike the previous one, this __problem is not linearly separable__. \n",
    "\n",
    "That means you can’t find a value of 𝑥 and draw a straight line to separate the observations with 𝑦=0 and those with 𝑦=1. \n",
    "\n",
    "Keep in mind that __logistic regression is essentially a linear classifier__, so you theoretically can’t make a logistic regression model with an accuracy of 1 in this case."
   ]
  },
  {
   "cell_type": "markdown",
   "id": "817f05a3",
   "metadata": {},
   "source": [
    "### Another example"
   ]
  },
  {
   "cell_type": "code",
   "execution_count": null,
   "id": "e4f25753",
   "metadata": {},
   "outputs": [],
   "source": [
    "import pandas as pd\n",
    "#import dataset from CSV file on Github\n",
    "url = \"https://raw.githubusercontent.com/Statology/Python-Guides/main/default.csv\"\n",
    "data = pd.read_csv(url)"
   ]
  },
  {
   "cell_type": "code",
   "execution_count": null,
   "id": "7a880008",
   "metadata": {},
   "outputs": [],
   "source": [
    "#view first six rows of dataset\n",
    "data[0:6]"
   ]
  },
  {
   "cell_type": "markdown",
   "id": "16f89b1e",
   "metadata": {},
   "source": [
    " - default: Indicates whether or not an individual defaulted.\n",
    " - student: Indicates whether or not an individual is a student.\n",
    " - balance: Average balance carried by an individual.\n",
    " - income: Income of the individual."
   ]
  },
  {
   "cell_type": "markdown",
   "id": "77bbc1a7",
   "metadata": {},
   "source": [
    "Suppose we would like to build a logistic regression model that uses “balance” to predict the probability that a given individual defaults."
   ]
  },
  {
   "cell_type": "code",
   "execution_count": null,
   "id": "476a3728",
   "metadata": {},
   "outputs": [],
   "source": [
    "#define the predictor variable and the response variable\n",
    "x = data['balance'].to_numpy().reshape(-1, 1)\n",
    "x"
   ]
  },
  {
   "cell_type": "code",
   "execution_count": null,
   "id": "3a34609e",
   "metadata": {},
   "outputs": [],
   "source": [
    "y = data['default'].to_numpy()\n",
    "y"
   ]
  },
  {
   "cell_type": "markdown",
   "id": "bd1e8cd2",
   "metadata": {},
   "source": [
    "We can see that higher values of balance are associated with higher probabilities that an individual defaults."
   ]
  },
  {
   "cell_type": "code",
   "execution_count": null,
   "id": "8fb10ae4",
   "metadata": {},
   "outputs": [],
   "source": [
    "#the following code is equivalent\n",
    "model = LogisticRegression(solver='liblinear', random_state=0).fit(x, y)"
   ]
  },
  {
   "cell_type": "code",
   "execution_count": null,
   "id": "cc20e333",
   "metadata": {},
   "outputs": [],
   "source": [
    "model.classes_"
   ]
  },
  {
   "cell_type": "markdown",
   "id": "5f6a5744",
   "metadata": {},
   "source": [
    "We can also get the value of the slope 𝑏₁ and the intercept 𝑏₀ of the linear function 𝑓"
   ]
  },
  {
   "cell_type": "code",
   "execution_count": null,
   "id": "6013417e",
   "metadata": {},
   "outputs": [],
   "source": [
    "model.intercept_"
   ]
  },
  {
   "cell_type": "code",
   "execution_count": null,
   "id": "95eb37ff",
   "metadata": {},
   "outputs": [],
   "source": [
    "model.coef_"
   ]
  },
  {
   "cell_type": "markdown",
   "id": "2d4dfeb8",
   "metadata": {},
   "source": [
    "Once a model is defined, you can check its performance with `.predict_proba()`, which returns the matrix of probabilities that the predicted output is equal to zero or one:"
   ]
  },
  {
   "cell_type": "code",
   "execution_count": null,
   "id": "0e2ef5aa",
   "metadata": {},
   "outputs": [],
   "source": [
    "model.predict_proba(x)"
   ]
  },
  {
   "cell_type": "markdown",
   "id": "638a88e3",
   "metadata": {},
   "source": [
    "In the matrix above, each row corresponds to a single sample. \n",
    "\n",
    "The first column is the probability of the predicted output being zero, that is 1 - 𝑝(𝑥). \n",
    "\n",
    "The second column is the probability that the output is one, or 𝑝(𝑥).\n",
    "\n",
    "\n",
    "You can get the __actual predictions__, based on the probability matrix and the values of 𝑝(𝑥), with `.predict()`:"
   ]
  },
  {
   "cell_type": "code",
   "execution_count": null,
   "id": "d4ff7bb2",
   "metadata": {},
   "outputs": [],
   "source": [
    "model.predict(x)"
   ]
  },
  {
   "cell_type": "code",
   "execution_count": null,
   "id": "321e1807",
   "metadata": {},
   "outputs": [],
   "source": [
    "y"
   ]
  },
  {
   "cell_type": "markdown",
   "id": "33d05382",
   "metadata": {},
   "source": [
    "When we have nine out of ten observations classified correctly, the accuracy of our model is equal to 9/10=0.9, which you can obtain with `.score()`:"
   ]
  },
  {
   "cell_type": "code",
   "execution_count": null,
   "id": "bcf3f8cc",
   "metadata": {},
   "outputs": [],
   "source": [
    "model.score(x, y)"
   ]
  },
  {
   "cell_type": "code",
   "execution_count": null,
   "id": "dc4ee6c5",
   "metadata": {},
   "outputs": [],
   "source": [
    "# confusion matrix\n",
    "confusion_matrix(y, model.predict(x))"
   ]
  },
  {
   "cell_type": "code",
   "execution_count": null,
   "id": "6d930a25",
   "metadata": {},
   "outputs": [],
   "source": [
    "# import functions for confusion matrix\n",
    "from sklearn.metrics import confusion_matrix, plot_confusion_matrix # confusion matrix"
   ]
  },
  {
   "cell_type": "code",
   "execution_count": null,
   "id": "d09f62fa",
   "metadata": {},
   "outputs": [],
   "source": [
    "confusion_matrix(y, model.predict(x))"
   ]
  },
  {
   "cell_type": "code",
   "execution_count": null,
   "id": "1a1d5233",
   "metadata": {},
   "outputs": [],
   "source": [
    "plot_confusion_matrix(model, x, y) \n",
    "plt.grid(False)\n",
    "plt.show()"
   ]
  },
  {
   "cell_type": "code",
   "execution_count": null,
   "id": "370cb177",
   "metadata": {},
   "outputs": [],
   "source": [
    "plot_confusion_matrix(model, x, y,normalize='true') #try 'all'\n",
    "plt.grid(False)\n",
    "plt.show()"
   ]
  },
  {
   "cell_type": "markdown",
   "id": "57680ae3",
   "metadata": {},
   "source": [
    "We can get a more comprehensive report on the classification with `classification_report()`:"
   ]
  },
  {
   "cell_type": "code",
   "execution_count": null,
   "id": "651e13b1",
   "metadata": {},
   "outputs": [],
   "source": [
    "print(classification_report(y, model.predict(x)))"
   ]
  },
  {
   "cell_type": "code",
   "execution_count": null,
   "id": "f71c64be",
   "metadata": {},
   "outputs": [],
   "source": [
    "import seaborn as sns\n",
    "#plot logistic regression curve\n",
    "sns.regplot(x=x, y=y, data=data, logistic=True, ci=None)"
   ]
  },
  {
   "cell_type": "markdown",
   "id": "303f3c70",
   "metadata": {},
   "source": [
    "We can see that higher values of balance are associated with higher probabilities that an individual defaults."
   ]
  },
  {
   "cell_type": "code",
   "execution_count": null,
   "id": "5176ea00",
   "metadata": {},
   "outputs": [],
   "source": [
    "#plot logistic regression curve with black points and red line\n",
    "sns.regplot(x=x, y=y, data=data, logistic=True, ci=None, scatter_kws={'color': 'black'}, line_kws={'color': 'red'})"
   ]
  },
  {
   "cell_type": "markdown",
   "id": "339efa5f",
   "metadata": {},
   "source": [
    "try with income!"
   ]
  },
  {
   "cell_type": "markdown",
   "id": "994ae584",
   "metadata": {},
   "source": [
    "#### We can use statsmodel pqckage, the same we used for linear reglression (OLS)"
   ]
  },
  {
   "cell_type": "code",
   "execution_count": null,
   "id": "f1d29c81",
   "metadata": {},
   "outputs": [],
   "source": [
    "import numpy as np\n",
    "import statsmodels.api as sm"
   ]
  },
  {
   "cell_type": "code",
   "execution_count": null,
   "id": "efb61163",
   "metadata": {},
   "outputs": [],
   "source": [
    "x = np.arange(10).reshape(-1, 1)\n",
    "y = np.array([0, 1, 0, 0, 1, 1, 1, 1, 1, 1])\n",
    "x = sm.add_constant(x)"
   ]
  },
  {
   "cell_type": "code",
   "execution_count": null,
   "id": "6e140b93",
   "metadata": {},
   "outputs": [],
   "source": [
    "x"
   ]
  },
  {
   "cell_type": "code",
   "execution_count": null,
   "id": "b8d4124e",
   "metadata": {},
   "outputs": [],
   "source": [
    "y"
   ]
  },
  {
   "cell_type": "code",
   "execution_count": null,
   "id": "91bd883a",
   "metadata": {},
   "outputs": [],
   "source": [
    "model = sm.Logit(y, x)"
   ]
  },
  {
   "cell_type": "code",
   "execution_count": null,
   "id": "1965eaa9",
   "metadata": {},
   "outputs": [],
   "source": [
    "result = model.fit()"
   ]
  },
  {
   "cell_type": "code",
   "execution_count": null,
   "id": "ecc7f8a9",
   "metadata": {},
   "outputs": [],
   "source": [
    "result.params"
   ]
  },
  {
   "cell_type": "code",
   "execution_count": null,
   "id": "9916387d",
   "metadata": {},
   "outputs": [],
   "source": [
    "result.predict(x)"
   ]
  },
  {
   "cell_type": "code",
   "execution_count": null,
   "id": "c253085c",
   "metadata": {},
   "outputs": [],
   "source": [
    "#These probabilities are calculated with .predict(). You can use their values to get the actual predicted outputs:\n",
    "(result.predict(x) >= 0.5).astype(int)"
   ]
  },
  {
   "cell_type": "code",
   "execution_count": null,
   "id": "a4ca111b",
   "metadata": {},
   "outputs": [],
   "source": [
    "result.pred_table()"
   ]
  },
  {
   "cell_type": "code",
   "execution_count": null,
   "id": "0bca2ff3",
   "metadata": {},
   "outputs": [],
   "source": [
    "result.summary()"
   ]
  },
  {
   "cell_type": "code",
   "execution_count": null,
   "id": "e3986b21",
   "metadata": {},
   "outputs": [],
   "source": [
    "result.summary2()"
   ]
  },
  {
   "cell_type": "markdown",
   "id": "1cdf2ffc",
   "metadata": {},
   "source": [
    "### Handwriting Recognition - a multivariate example"
   ]
  },
  {
   "cell_type": "code",
   "execution_count": null,
   "id": "a0f3de2c",
   "metadata": {},
   "outputs": [],
   "source": [
    "import matplotlib.pyplot as plt\n",
    "import numpy as np\n",
    "from sklearn.datasets import load_digits\n",
    "from sklearn.linear_model import LogisticRegression\n",
    "from sklearn.metrics import classification_report, confusion_matrix\n",
    "from sklearn.model_selection import train_test_split\n",
    "from sklearn.preprocessing import StandardScaler"
   ]
  },
  {
   "attachments": {
    "image.png": {
     "image/png": "[encoded data removed]"
    }
   },
   "cell_type": "markdown",
   "id": "7647eea3",
   "metadata": {},
   "source": [
    "![image.png](attachment:image.png)"
   ]
  },
  {
   "attachments": {
    "image.png": {
     "image/png": "[encoded data removed]"
    }
   },
   "cell_type": "markdown",
   "id": "97c90bfe",
   "metadata": {},
   "source": [
    "![image.png](attachment:image.png)"
   ]
  },
  {
   "cell_type": "code",
   "execution_count": null,
   "id": "71e238ab",
   "metadata": {},
   "outputs": [],
   "source": [
    "x, y = load_digits(return_X_y=True) #import the data"
   ]
  },
  {
   "cell_type": "code",
   "execution_count": null,
   "id": "428f07aa",
   "metadata": {},
   "outputs": [],
   "source": [
    "x"
   ]
  },
  {
   "cell_type": "code",
   "execution_count": null,
   "id": "9412421d",
   "metadata": {},
   "outputs": [],
   "source": [
    "y"
   ]
  },
  {
   "cell_type": "code",
   "execution_count": null,
   "id": "b9a64e41",
   "metadata": {},
   "outputs": [],
   "source": [
    "# Split in train and test\n",
    "x_train, x_test, y_train, y_test = train_test_split(x, y, test_size=0.2, random_state=0)"
   ]
  },
  {
   "cell_type": "code",
   "execution_count": null,
   "id": "84b7bdee",
   "metadata": {},
   "outputs": [],
   "source": [
    "# scale the data\n",
    "scaler = StandardScaler()\n",
    "x_train = scaler.fit_transform(x_train)"
   ]
  },
  {
   "cell_type": "code",
   "execution_count": null,
   "id": "7eba8138",
   "metadata": {},
   "outputs": [],
   "source": [
    "# apply the model\n",
    "model = LogisticRegression(solver='liblinear', C=0.05, multi_class='ovr',\n",
    "                           random_state=0)\n",
    "model.fit(x_train, y_train)"
   ]
  },
  {
   "cell_type": "markdown",
   "id": "6e62e9b7",
   "metadata": {},
   "source": [
    "'ovr' says to make the binary fit for each class"
   ]
  },
  {
   "cell_type": "code",
   "execution_count": null,
   "id": "24ccf79a",
   "metadata": {},
   "outputs": [],
   "source": [
    "x_test = scaler.transform(x_test)"
   ]
  },
  {
   "cell_type": "code",
   "execution_count": null,
   "id": "e7114f2b",
   "metadata": {},
   "outputs": [],
   "source": [
    "y_pred = model.predict(x_test)"
   ]
  },
  {
   "cell_type": "code",
   "execution_count": null,
   "id": "edaf5e1e",
   "metadata": {},
   "outputs": [],
   "source": [
    "model.score(x_train, y_train)"
   ]
  },
  {
   "cell_type": "code",
   "execution_count": null,
   "id": "e3fd2fd4",
   "metadata": {},
   "outputs": [],
   "source": [
    "model.score(x_test, y_test)"
   ]
  },
  {
   "cell_type": "code",
   "execution_count": null,
   "id": "c3160bb3",
   "metadata": {},
   "outputs": [],
   "source": [
    "confusion_matrix(y_test, y_pred)"
   ]
  },
  {
   "cell_type": "code",
   "execution_count": null,
   "id": "4ab2f943",
   "metadata": {},
   "outputs": [],
   "source": [
    "cm = confusion_matrix(y_test, y_pred)\n",
    "\n",
    "fig, ax = plt.subplots(figsize=(8, 8))\n",
    "ax.imshow(cm)\n",
    "ax.grid(False)\n",
    "ax.set_xlabel('Predicted outputs', color='black')\n",
    "ax.set_ylabel('Actual outputs', color='black')\n",
    "ax.xaxis.set(ticks=range(10))\n",
    "ax.yaxis.set(ticks=range(10))\n",
    "ax.set_ylim(9.5, -0.5)\n",
    "for i in range(10):\n",
    "    for j in range(10):\n",
    "        ax.text(j, i, cm[i, j], ha='center', va='center', color='white')\n",
    "plt.show()"
   ]
  },
  {
   "cell_type": "code",
   "execution_count": null,
   "id": "131b33a2",
   "metadata": {
    "scrolled": true
   },
   "outputs": [],
   "source": [
    "print(classification_report(y_test, y_pred))"
   ]
  },
  {
   "cell_type": "code",
   "execution_count": null,
   "id": "6ef042ff",
   "metadata": {
    "scrolled": false
   },
   "outputs": [],
   "source": [
    "#interpreting the coefficients\n",
    "print('coef:', model.coef_)"
   ]
  },
  {
   "cell_type": "code",
   "execution_count": null,
   "id": "3172921b",
   "metadata": {},
   "outputs": [],
   "source": [
    "logreg = LogisticRegression()\n",
    "logreg.fit(x, y)\n",
    "odds = np.exp(logreg.coef_[0])\n",
    "pd.DataFrame(odds, \n",
    "             np.arange(64), \n",
    "             columns=['coef'])\\\n",
    "            .sort_values(by='coef', ascending=False)"
   ]
  },
  {
   "cell_type": "markdown",
   "id": "d077bbbd",
   "metadata": {},
   "source": [
    "### Can you do the same on iris?"
   ]
  },
  {
   "cell_type": "code",
   "execution_count": null,
   "id": "97bcbe12",
   "metadata": {},
   "outputs": [],
   "source": [
    "url = \"https://archive.ics.uci.edu/ml/machine-learning-databases/iris/iris.data\"\n",
    "\n",
    "# Assign colum names to the dataset\n",
    "colnames = ['sepal-length', 'sepal-width', 'petal-length', 'petal-width', 'Class']\n",
    "\n",
    "# Read dataset to pandas dataframe\n",
    "data = pd.read_csv(url, names=colnames)"
   ]
  },
  {
   "cell_type": "code",
   "execution_count": null,
   "id": "0470c14d",
   "metadata": {},
   "outputs": [],
   "source": [
    "x = data.drop('Class', axis=1)\n",
    "x"
   ]
  },
  {
   "cell_type": "code",
   "execution_count": null,
   "id": "a30e2ef1",
   "metadata": {},
   "outputs": [],
   "source": [
    "y = data['Class']\n",
    "y"
   ]
  },
  {
   "cell_type": "code",
   "execution_count": null,
   "id": "b166bc27",
   "metadata": {},
   "outputs": [],
   "source": [
    "# Split in train and test\n",
    "x_train, x_test, y_train, y_test = train_test_split(x, y, test_size=0.2, random_state=0)"
   ]
  },
  {
   "cell_type": "code",
   "execution_count": null,
   "id": "b241e5d0",
   "metadata": {},
   "outputs": [],
   "source": [
    "# scale the data\n",
    "scaler = StandardScaler()\n",
    "x_train = scaler.fit_transform(x_train)"
   ]
  },
  {
   "cell_type": "code",
   "execution_count": null,
   "id": "2fe93c0b",
   "metadata": {},
   "outputs": [],
   "source": [
    "# apply the model\n",
    "model = LogisticRegression(solver='liblinear', C=0.05, multi_class='ovr',\n",
    "                           random_state=0)\n",
    "model.fit(x_train, y_train)"
   ]
  },
  {
   "cell_type": "markdown",
   "id": "db964961",
   "metadata": {},
   "source": [
    "'ovr' says to make the binary fit for each class"
   ]
  },
  {
   "cell_type": "code",
   "execution_count": null,
   "id": "520204e5",
   "metadata": {},
   "outputs": [],
   "source": [
    "x_test = scaler.transform(x_test)"
   ]
  },
  {
   "cell_type": "code",
   "execution_count": null,
   "id": "67abc9fd",
   "metadata": {},
   "outputs": [],
   "source": [
    "y_pred = model.predict(x_test)"
   ]
  },
  {
   "cell_type": "code",
   "execution_count": null,
   "id": "54a2f6bb",
   "metadata": {},
   "outputs": [],
   "source": [
    "model.score(x_train, y_train)"
   ]
  },
  {
   "cell_type": "code",
   "execution_count": null,
   "id": "cb122dbc",
   "metadata": {},
   "outputs": [],
   "source": [
    "model.score(x_test, y_test)"
   ]
  },
  {
   "cell_type": "code",
   "execution_count": null,
   "id": "53b5f4fb",
   "metadata": {},
   "outputs": [],
   "source": [
    "confusion_matrix(y_test, y_pred)"
   ]
  },
  {
   "cell_type": "code",
   "execution_count": null,
   "id": "72a6f318",
   "metadata": {},
   "outputs": [],
   "source": [
    "cm = confusion_matrix(y_test, y_pred)\n",
    "\n",
    "fig, ax = plt.subplots(figsize=(8, 8))\n",
    "ax.imshow(cm)\n",
    "ax.grid(False)\n",
    "ax.set_xlabel('Predicted outputs', color='black')\n",
    "ax.set_ylabel('Actual outputs', color='black')\n",
    "ax.xaxis.set(ticks=range(3))\n",
    "ax.yaxis.set(ticks=range(3))\n",
    "for i in range(3):\n",
    "    for j in range(3):\n",
    "        ax.text(j, i, cm[i, j], ha='center', va='center', color='red')\n",
    "plt.show()"
   ]
  },
  {
   "cell_type": "code",
   "execution_count": null,
   "id": "a15b901d",
   "metadata": {},
   "outputs": [],
   "source": []
  }
 ],
 "metadata": {
  "kernelspec": {
   "display_name": "Python 3 (ipykernel)",
   "language": "python",
   "name": "python3"
  },
  "language_info": {
   "codemirror_mode": {
    "name": "ipython",
    "version": 3
   },
   "file_extension": ".py",
   "mimetype": "text/x-python",
   "name": "python",
   "nbconvert_exporter": "python",
   "pygments_lexer": "ipython3",
   "version": "3.9.7"
  }
 },
 "nbformat": 4,
 "nbformat_minor": 5
}
