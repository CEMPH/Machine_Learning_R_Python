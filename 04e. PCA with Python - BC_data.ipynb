{
 "cells": [
  {
   "cell_type": "markdown",
   "id": "3b013c17",
   "metadata": {},
   "source": [
    "# Principal Component Analysis (PCA) with Python"
   ]
  },
  {
   "cell_type": "code",
   "execution_count": 2,
   "id": "4a4abf15",
   "metadata": {},
   "outputs": [],
   "source": [
    "import numpy as np\n",
    "import pandas as pd\n",
    "import seaborn as sns\n",
    "import plotly.express as px"
   ]
  },
  {
   "cell_type": "markdown",
   "id": "60151353",
   "metadata": {},
   "source": [
    "## Data Import: quarries dataset"
   ]
  },
  {
   "cell_type": "code",
   "execution_count": 7,
   "id": "4f611ba2",
   "metadata": {},
   "outputs": [],
   "source": [
    "data = pd.read_csv('C:/Users/Eugenio_Py/Desktop/Notebooks/datasets/BC_data.csv', sep=\";\", header=0, index_col=0)"
   ]
  },
  {
   "cell_type": "code",
   "execution_count": 8,
   "id": "75a9149d",
   "metadata": {},
   "outputs": [
    {
     "name": "stdout",
     "output_type": "stream",
     "text": [
      "<class 'pandas.core.frame.DataFrame'>\n",
      "Index: 250 entries, Subject_1 to Subject_250\n",
      "Data columns (total 21 columns):\n",
      " #   Column                      Non-Null Count  Dtype  \n",
      "---  ------                      --------------  -----  \n",
      " 0   Class                       250 non-null    object \n",
      " 1   testosterone_sulphate       250 non-null    float64\n",
      " 2   testosterone_glucuronide    250 non-null    float64\n",
      " 3   testosterone                250 non-null    float64\n",
      " 4   estrone_beta-D-glucuronide  250 non-null    float64\n",
      " 5   estrone                     250 non-null    float64\n",
      " 6   estriol                     250 non-null    float64\n",
      " 7   epitestosterone_sulphate    250 non-null    float64\n",
      " 8   DHEA_sulphate               250 non-null    float64\n",
      " 9   DHEA_glucuronide            250 non-null    float64\n",
      " 10  DHEA                        250 non-null    float64\n",
      " 11  beta-estradiol              250 non-null    float64\n",
      " 12  androsterone                250 non-null    float64\n",
      " 13  androstenedione             250 non-null    float64\n",
      " 14  androstendiol               250 non-null    float64\n",
      " 15  alpha-estradiol             250 non-null    float64\n",
      " 16  4-methoxy_estrone           250 non-null    float64\n",
      " 17  4-methoxy_estradiol         250 non-null    float64\n",
      " 18  2-methoxy_estradiol         250 non-null    float64\n",
      " 19  16-epiestriol               250 non-null    float64\n",
      " 20  16alpha-hidroxy_estrone     250 non-null    float64\n",
      "dtypes: float64(20), object(1)\n",
      "memory usage: 43.0+ KB\n"
     ]
    }
   ],
   "source": [
    "data.info()"
   ]
  },
  {
   "cell_type": "code",
   "execution_count": 9,
   "id": "20b4c452",
   "metadata": {
    "scrolled": true
   },
   "outputs": [
    {
     "data": {
      "text/html": [
       "<div>\n",
       "<style scoped>\n",
       "    .dataframe tbody tr th:only-of-type {\n",
       "        vertical-align: middle;\n",
       "    }\n",
       "\n",
       "    .dataframe tbody tr th {\n",
       "        vertical-align: top;\n",
       "    }\n",
       "\n",
       "    .dataframe thead th {\n",
       "        text-align: right;\n",
       "    }\n",
       "</style>\n",
       "<table border=\"1\" class=\"dataframe\">\n",
       "  <thead>\n",
       "    <tr style=\"text-align: right;\">\n",
       "      <th></th>\n",
       "      <th>Class</th>\n",
       "      <th>testosterone_sulphate</th>\n",
       "      <th>testosterone_glucuronide</th>\n",
       "      <th>testosterone</th>\n",
       "      <th>estrone_beta-D-glucuronide</th>\n",
       "      <th>estrone</th>\n",
       "      <th>estriol</th>\n",
       "      <th>epitestosterone_sulphate</th>\n",
       "      <th>DHEA_sulphate</th>\n",
       "      <th>DHEA_glucuronide</th>\n",
       "      <th>...</th>\n",
       "      <th>beta-estradiol</th>\n",
       "      <th>androsterone</th>\n",
       "      <th>androstenedione</th>\n",
       "      <th>androstendiol</th>\n",
       "      <th>alpha-estradiol</th>\n",
       "      <th>4-methoxy_estrone</th>\n",
       "      <th>4-methoxy_estradiol</th>\n",
       "      <th>2-methoxy_estradiol</th>\n",
       "      <th>16-epiestriol</th>\n",
       "      <th>16alpha-hidroxy_estrone</th>\n",
       "    </tr>\n",
       "    <tr>\n",
       "      <th>Sample_Name</th>\n",
       "      <th></th>\n",
       "      <th></th>\n",
       "      <th></th>\n",
       "      <th></th>\n",
       "      <th></th>\n",
       "      <th></th>\n",
       "      <th></th>\n",
       "      <th></th>\n",
       "      <th></th>\n",
       "      <th></th>\n",
       "      <th></th>\n",
       "      <th></th>\n",
       "      <th></th>\n",
       "      <th></th>\n",
       "      <th></th>\n",
       "      <th></th>\n",
       "      <th></th>\n",
       "      <th></th>\n",
       "      <th></th>\n",
       "      <th></th>\n",
       "      <th></th>\n",
       "    </tr>\n",
       "  </thead>\n",
       "  <tbody>\n",
       "    <tr>\n",
       "      <th>Subject_1</th>\n",
       "      <td>POSITIVE</td>\n",
       "      <td>17.16</td>\n",
       "      <td>0.64</td>\n",
       "      <td>74.80</td>\n",
       "      <td>0.73</td>\n",
       "      <td>0.27</td>\n",
       "      <td>0.55</td>\n",
       "      <td>0.55</td>\n",
       "      <td>14.93</td>\n",
       "      <td>7.08</td>\n",
       "      <td>...</td>\n",
       "      <td>0.18</td>\n",
       "      <td>597.40</td>\n",
       "      <td>1281.00</td>\n",
       "      <td>0.38</td>\n",
       "      <td>12.51</td>\n",
       "      <td>199.50</td>\n",
       "      <td>164.00</td>\n",
       "      <td>8.55</td>\n",
       "      <td>258.50</td>\n",
       "      <td>3.11</td>\n",
       "    </tr>\n",
       "    <tr>\n",
       "      <th>Subject_2</th>\n",
       "      <td>POSITIVE</td>\n",
       "      <td>0.20</td>\n",
       "      <td>0.00</td>\n",
       "      <td>22.44</td>\n",
       "      <td>0.00</td>\n",
       "      <td>0.27</td>\n",
       "      <td>0.39</td>\n",
       "      <td>0.39</td>\n",
       "      <td>2.29</td>\n",
       "      <td>1.00</td>\n",
       "      <td>...</td>\n",
       "      <td>0.18</td>\n",
       "      <td>99.44</td>\n",
       "      <td>52.22</td>\n",
       "      <td>1.35</td>\n",
       "      <td>5.06</td>\n",
       "      <td>56.74</td>\n",
       "      <td>47.11</td>\n",
       "      <td>3.93</td>\n",
       "      <td>52.15</td>\n",
       "      <td>3.71</td>\n",
       "    </tr>\n",
       "    <tr>\n",
       "      <th>Subject_3</th>\n",
       "      <td>POSITIVE</td>\n",
       "      <td>1.07</td>\n",
       "      <td>1.31</td>\n",
       "      <td>2.00</td>\n",
       "      <td>1.07</td>\n",
       "      <td>0.27</td>\n",
       "      <td>3.01</td>\n",
       "      <td>3.18</td>\n",
       "      <td>2.45</td>\n",
       "      <td>0.11</td>\n",
       "      <td>...</td>\n",
       "      <td>0.18</td>\n",
       "      <td>210.80</td>\n",
       "      <td>86.59</td>\n",
       "      <td>0.38</td>\n",
       "      <td>5.20</td>\n",
       "      <td>26.23</td>\n",
       "      <td>43.58</td>\n",
       "      <td>5.83</td>\n",
       "      <td>45.11</td>\n",
       "      <td>4.72</td>\n",
       "    </tr>\n",
       "    <tr>\n",
       "      <th>Subject_4</th>\n",
       "      <td>POSITIVE</td>\n",
       "      <td>0.89</td>\n",
       "      <td>1.42</td>\n",
       "      <td>1.75</td>\n",
       "      <td>1.25</td>\n",
       "      <td>0.27</td>\n",
       "      <td>2.80</td>\n",
       "      <td>2.98</td>\n",
       "      <td>2.18</td>\n",
       "      <td>0.43</td>\n",
       "      <td>...</td>\n",
       "      <td>0.18</td>\n",
       "      <td>58.13</td>\n",
       "      <td>55.75</td>\n",
       "      <td>0.38</td>\n",
       "      <td>7.47</td>\n",
       "      <td>3.26</td>\n",
       "      <td>6.63</td>\n",
       "      <td>8.69</td>\n",
       "      <td>7.23</td>\n",
       "      <td>8.32</td>\n",
       "    </tr>\n",
       "    <tr>\n",
       "      <th>Subject_5</th>\n",
       "      <td>POSITIVE</td>\n",
       "      <td>0.80</td>\n",
       "      <td>6.51</td>\n",
       "      <td>2.48</td>\n",
       "      <td>11.70</td>\n",
       "      <td>1.89</td>\n",
       "      <td>5.42</td>\n",
       "      <td>5.60</td>\n",
       "      <td>3.06</td>\n",
       "      <td>0.28</td>\n",
       "      <td>...</td>\n",
       "      <td>3.42</td>\n",
       "      <td>272.30</td>\n",
       "      <td>224.20</td>\n",
       "      <td>0.38</td>\n",
       "      <td>9.80</td>\n",
       "      <td>179.10</td>\n",
       "      <td>297.20</td>\n",
       "      <td>11.55</td>\n",
       "      <td>297.00</td>\n",
       "      <td>5.34</td>\n",
       "    </tr>\n",
       "  </tbody>\n",
       "</table>\n",
       "<p>5 rows × 21 columns</p>\n",
       "</div>"
      ],
      "text/plain": [
       "                Class  testosterone_sulphate  testosterone_glucuronide  \\\n",
       "Sample_Name                                                              \n",
       "Subject_1    POSITIVE                  17.16                      0.64   \n",
       "Subject_2    POSITIVE                   0.20                      0.00   \n",
       "Subject_3    POSITIVE                   1.07                      1.31   \n",
       "Subject_4    POSITIVE                   0.89                      1.42   \n",
       "Subject_5    POSITIVE                   0.80                      6.51   \n",
       "\n",
       "             testosterone  estrone_beta-D-glucuronide  estrone  estriol  \\\n",
       "Sample_Name                                                               \n",
       "Subject_1           74.80                        0.73     0.27     0.55   \n",
       "Subject_2           22.44                        0.00     0.27     0.39   \n",
       "Subject_3            2.00                        1.07     0.27     3.01   \n",
       "Subject_4            1.75                        1.25     0.27     2.80   \n",
       "Subject_5            2.48                       11.70     1.89     5.42   \n",
       "\n",
       "             epitestosterone_sulphate  DHEA_sulphate  DHEA_glucuronide  ...  \\\n",
       "Sample_Name                                                             ...   \n",
       "Subject_1                        0.55          14.93              7.08  ...   \n",
       "Subject_2                        0.39           2.29              1.00  ...   \n",
       "Subject_3                        3.18           2.45              0.11  ...   \n",
       "Subject_4                        2.98           2.18              0.43  ...   \n",
       "Subject_5                        5.60           3.06              0.28  ...   \n",
       "\n",
       "             beta-estradiol  androsterone  androstenedione  androstendiol  \\\n",
       "Sample_Name                                                                 \n",
       "Subject_1              0.18        597.40          1281.00           0.38   \n",
       "Subject_2              0.18         99.44            52.22           1.35   \n",
       "Subject_3              0.18        210.80            86.59           0.38   \n",
       "Subject_4              0.18         58.13            55.75           0.38   \n",
       "Subject_5              3.42        272.30           224.20           0.38   \n",
       "\n",
       "             alpha-estradiol  4-methoxy_estrone  4-methoxy_estradiol  \\\n",
       "Sample_Name                                                            \n",
       "Subject_1              12.51             199.50               164.00   \n",
       "Subject_2               5.06              56.74                47.11   \n",
       "Subject_3               5.20              26.23                43.58   \n",
       "Subject_4               7.47               3.26                 6.63   \n",
       "Subject_5               9.80             179.10               297.20   \n",
       "\n",
       "             2-methoxy_estradiol  16-epiestriol  16alpha-hidroxy_estrone  \n",
       "Sample_Name                                                               \n",
       "Subject_1                   8.55         258.50                     3.11  \n",
       "Subject_2                   3.93          52.15                     3.71  \n",
       "Subject_3                   5.83          45.11                     4.72  \n",
       "Subject_4                   8.69           7.23                     8.32  \n",
       "Subject_5                  11.55         297.00                     5.34  \n",
       "\n",
       "[5 rows x 21 columns]"
      ]
     },
     "execution_count": 9,
     "metadata": {},
     "output_type": "execute_result"
    }
   ],
   "source": [
    "data.head()"
   ]
  },
  {
   "cell_type": "code",
   "execution_count": 10,
   "id": "214a79eb",
   "metadata": {},
   "outputs": [
    {
     "data": {
      "text/plain": [
       "Class                         0\n",
       "testosterone_sulphate         0\n",
       "testosterone_glucuronide      0\n",
       "testosterone                  0\n",
       "estrone_beta-D-glucuronide    0\n",
       "estrone                       0\n",
       "estriol                       0\n",
       "epitestosterone_sulphate      0\n",
       "DHEA_sulphate                 0\n",
       "DHEA_glucuronide              0\n",
       "DHEA                          0\n",
       "beta-estradiol                0\n",
       "androsterone                  0\n",
       "androstenedione               0\n",
       "androstendiol                 0\n",
       "alpha-estradiol               0\n",
       "4-methoxy_estrone             0\n",
       "4-methoxy_estradiol           0\n",
       "2-methoxy_estradiol           0\n",
       "16-epiestriol                 0\n",
       "16alpha-hidroxy_estrone       0\n",
       "dtype: int64"
      ]
     },
     "execution_count": 10,
     "metadata": {},
     "output_type": "execute_result"
    }
   ],
   "source": [
    "# Checking the missing values\n",
    "data.isnull().sum()"
   ]
  },
  {
   "cell_type": "code",
   "execution_count": 12,
   "id": "48579b4c",
   "metadata": {},
   "outputs": [
    {
     "data": {
      "image/png": "[encoded data removed]",
      "text/plain": [
       "<Figure size 432x288 with 1 Axes>"
      ]
     },
     "metadata": {},
     "output_type": "display_data"
    }
   ],
   "source": [
    "# Boxplot using seaborn\n",
    "sns.set_style(\"whitegrid\")  \n",
    "sns.boxplot(x = 'Class', y = 'testosterone_sulphate', data = data);"
   ]
  },
  {
   "cell_type": "code",
   "execution_count": 13,
   "id": "b887d473",
   "metadata": {},
   "outputs": [
    {
     "data": {
      "text/plain": [
       "(250, 21)"
      ]
     },
     "execution_count": 13,
     "metadata": {},
     "output_type": "execute_result"
    }
   ],
   "source": [
    "data.shape"
   ]
  },
  {
   "cell_type": "code",
   "execution_count": 14,
   "id": "3a6fbc44",
   "metadata": {},
   "outputs": [
    {
     "data": {
      "text/html": [
       "<div>\n",
       "<style scoped>\n",
       "    .dataframe tbody tr th:only-of-type {\n",
       "        vertical-align: middle;\n",
       "    }\n",
       "\n",
       "    .dataframe tbody tr th {\n",
       "        vertical-align: top;\n",
       "    }\n",
       "\n",
       "    .dataframe thead th {\n",
       "        text-align: right;\n",
       "    }\n",
       "</style>\n",
       "<table border=\"1\" class=\"dataframe\">\n",
       "  <thead>\n",
       "    <tr style=\"text-align: right;\">\n",
       "      <th></th>\n",
       "      <th>testosterone_sulphate</th>\n",
       "      <th>testosterone_glucuronide</th>\n",
       "      <th>testosterone</th>\n",
       "      <th>estrone_beta-D-glucuronide</th>\n",
       "      <th>estrone</th>\n",
       "      <th>estriol</th>\n",
       "      <th>epitestosterone_sulphate</th>\n",
       "      <th>DHEA_sulphate</th>\n",
       "      <th>DHEA_glucuronide</th>\n",
       "      <th>DHEA</th>\n",
       "      <th>beta-estradiol</th>\n",
       "      <th>androsterone</th>\n",
       "      <th>androstenedione</th>\n",
       "      <th>androstendiol</th>\n",
       "      <th>alpha-estradiol</th>\n",
       "      <th>4-methoxy_estrone</th>\n",
       "      <th>4-methoxy_estradiol</th>\n",
       "      <th>2-methoxy_estradiol</th>\n",
       "      <th>16-epiestriol</th>\n",
       "      <th>16alpha-hidroxy_estrone</th>\n",
       "    </tr>\n",
       "    <tr>\n",
       "      <th>Sample_Name</th>\n",
       "      <th></th>\n",
       "      <th></th>\n",
       "      <th></th>\n",
       "      <th></th>\n",
       "      <th></th>\n",
       "      <th></th>\n",
       "      <th></th>\n",
       "      <th></th>\n",
       "      <th></th>\n",
       "      <th></th>\n",
       "      <th></th>\n",
       "      <th></th>\n",
       "      <th></th>\n",
       "      <th></th>\n",
       "      <th></th>\n",
       "      <th></th>\n",
       "      <th></th>\n",
       "      <th></th>\n",
       "      <th></th>\n",
       "      <th></th>\n",
       "    </tr>\n",
       "  </thead>\n",
       "  <tbody>\n",
       "    <tr>\n",
       "      <th>Subject_1</th>\n",
       "      <td>17.16</td>\n",
       "      <td>0.64</td>\n",
       "      <td>74.80</td>\n",
       "      <td>0.73</td>\n",
       "      <td>0.27</td>\n",
       "      <td>0.55</td>\n",
       "      <td>0.55</td>\n",
       "      <td>14.93</td>\n",
       "      <td>7.08</td>\n",
       "      <td>0.60</td>\n",
       "      <td>0.18</td>\n",
       "      <td>597.40</td>\n",
       "      <td>1281.00</td>\n",
       "      <td>0.38</td>\n",
       "      <td>12.51</td>\n",
       "      <td>199.50</td>\n",
       "      <td>164.00</td>\n",
       "      <td>8.55</td>\n",
       "      <td>258.50</td>\n",
       "      <td>3.11</td>\n",
       "    </tr>\n",
       "    <tr>\n",
       "      <th>Subject_2</th>\n",
       "      <td>0.20</td>\n",
       "      <td>0.00</td>\n",
       "      <td>22.44</td>\n",
       "      <td>0.00</td>\n",
       "      <td>0.27</td>\n",
       "      <td>0.39</td>\n",
       "      <td>0.39</td>\n",
       "      <td>2.29</td>\n",
       "      <td>1.00</td>\n",
       "      <td>20.43</td>\n",
       "      <td>0.18</td>\n",
       "      <td>99.44</td>\n",
       "      <td>52.22</td>\n",
       "      <td>1.35</td>\n",
       "      <td>5.06</td>\n",
       "      <td>56.74</td>\n",
       "      <td>47.11</td>\n",
       "      <td>3.93</td>\n",
       "      <td>52.15</td>\n",
       "      <td>3.71</td>\n",
       "    </tr>\n",
       "    <tr>\n",
       "      <th>Subject_3</th>\n",
       "      <td>1.07</td>\n",
       "      <td>1.31</td>\n",
       "      <td>2.00</td>\n",
       "      <td>1.07</td>\n",
       "      <td>0.27</td>\n",
       "      <td>3.01</td>\n",
       "      <td>3.18</td>\n",
       "      <td>2.45</td>\n",
       "      <td>0.11</td>\n",
       "      <td>25.50</td>\n",
       "      <td>0.18</td>\n",
       "      <td>210.80</td>\n",
       "      <td>86.59</td>\n",
       "      <td>0.38</td>\n",
       "      <td>5.20</td>\n",
       "      <td>26.23</td>\n",
       "      <td>43.58</td>\n",
       "      <td>5.83</td>\n",
       "      <td>45.11</td>\n",
       "      <td>4.72</td>\n",
       "    </tr>\n",
       "    <tr>\n",
       "      <th>Subject_4</th>\n",
       "      <td>0.89</td>\n",
       "      <td>1.42</td>\n",
       "      <td>1.75</td>\n",
       "      <td>1.25</td>\n",
       "      <td>0.27</td>\n",
       "      <td>2.80</td>\n",
       "      <td>2.98</td>\n",
       "      <td>2.18</td>\n",
       "      <td>0.43</td>\n",
       "      <td>8.95</td>\n",
       "      <td>0.18</td>\n",
       "      <td>58.13</td>\n",
       "      <td>55.75</td>\n",
       "      <td>0.38</td>\n",
       "      <td>7.47</td>\n",
       "      <td>3.26</td>\n",
       "      <td>6.63</td>\n",
       "      <td>8.69</td>\n",
       "      <td>7.23</td>\n",
       "      <td>8.32</td>\n",
       "    </tr>\n",
       "    <tr>\n",
       "      <th>Subject_5</th>\n",
       "      <td>0.80</td>\n",
       "      <td>6.51</td>\n",
       "      <td>2.48</td>\n",
       "      <td>11.70</td>\n",
       "      <td>1.89</td>\n",
       "      <td>5.42</td>\n",
       "      <td>5.60</td>\n",
       "      <td>3.06</td>\n",
       "      <td>0.28</td>\n",
       "      <td>39.86</td>\n",
       "      <td>3.42</td>\n",
       "      <td>272.30</td>\n",
       "      <td>224.20</td>\n",
       "      <td>0.38</td>\n",
       "      <td>9.80</td>\n",
       "      <td>179.10</td>\n",
       "      <td>297.20</td>\n",
       "      <td>11.55</td>\n",
       "      <td>297.00</td>\n",
       "      <td>5.34</td>\n",
       "    </tr>\n",
       "    <tr>\n",
       "      <th>...</th>\n",
       "      <td>...</td>\n",
       "      <td>...</td>\n",
       "      <td>...</td>\n",
       "      <td>...</td>\n",
       "      <td>...</td>\n",
       "      <td>...</td>\n",
       "      <td>...</td>\n",
       "      <td>...</td>\n",
       "      <td>...</td>\n",
       "      <td>...</td>\n",
       "      <td>...</td>\n",
       "      <td>...</td>\n",
       "      <td>...</td>\n",
       "      <td>...</td>\n",
       "      <td>...</td>\n",
       "      <td>...</td>\n",
       "      <td>...</td>\n",
       "      <td>...</td>\n",
       "      <td>...</td>\n",
       "      <td>...</td>\n",
       "    </tr>\n",
       "    <tr>\n",
       "      <th>Subject_246</th>\n",
       "      <td>0.64</td>\n",
       "      <td>0.21</td>\n",
       "      <td>1.85</td>\n",
       "      <td>0.29</td>\n",
       "      <td>0.40</td>\n",
       "      <td>0.09</td>\n",
       "      <td>0.09</td>\n",
       "      <td>0.38</td>\n",
       "      <td>0.09</td>\n",
       "      <td>2.36</td>\n",
       "      <td>0.18</td>\n",
       "      <td>16.65</td>\n",
       "      <td>1.65</td>\n",
       "      <td>0.38</td>\n",
       "      <td>4.62</td>\n",
       "      <td>0.29</td>\n",
       "      <td>0.33</td>\n",
       "      <td>0.10</td>\n",
       "      <td>5.69</td>\n",
       "      <td>4.83</td>\n",
       "    </tr>\n",
       "    <tr>\n",
       "      <th>Subject_247</th>\n",
       "      <td>0.64</td>\n",
       "      <td>0.21</td>\n",
       "      <td>6.97</td>\n",
       "      <td>0.61</td>\n",
       "      <td>20.92</td>\n",
       "      <td>0.35</td>\n",
       "      <td>0.64</td>\n",
       "      <td>2.62</td>\n",
       "      <td>0.93</td>\n",
       "      <td>23.81</td>\n",
       "      <td>3.83</td>\n",
       "      <td>281.60</td>\n",
       "      <td>1.65</td>\n",
       "      <td>0.38</td>\n",
       "      <td>9.21</td>\n",
       "      <td>35.44</td>\n",
       "      <td>32.84</td>\n",
       "      <td>0.10</td>\n",
       "      <td>2.88</td>\n",
       "      <td>0.11</td>\n",
       "    </tr>\n",
       "    <tr>\n",
       "      <th>Subject_248</th>\n",
       "      <td>0.64</td>\n",
       "      <td>0.21</td>\n",
       "      <td>17.52</td>\n",
       "      <td>0.45</td>\n",
       "      <td>2.38</td>\n",
       "      <td>0.23</td>\n",
       "      <td>0.31</td>\n",
       "      <td>1.41</td>\n",
       "      <td>0.20</td>\n",
       "      <td>13.22</td>\n",
       "      <td>0.18</td>\n",
       "      <td>81.71</td>\n",
       "      <td>1.65</td>\n",
       "      <td>0.38</td>\n",
       "      <td>2.65</td>\n",
       "      <td>14.72</td>\n",
       "      <td>13.79</td>\n",
       "      <td>0.10</td>\n",
       "      <td>2.00</td>\n",
       "      <td>1.17</td>\n",
       "    </tr>\n",
       "    <tr>\n",
       "      <th>Subject_249</th>\n",
       "      <td>0.64</td>\n",
       "      <td>0.21</td>\n",
       "      <td>42.12</td>\n",
       "      <td>0.61</td>\n",
       "      <td>15.70</td>\n",
       "      <td>0.23</td>\n",
       "      <td>0.31</td>\n",
       "      <td>0.29</td>\n",
       "      <td>0.08</td>\n",
       "      <td>3.57</td>\n",
       "      <td>0.18</td>\n",
       "      <td>33.18</td>\n",
       "      <td>1.65</td>\n",
       "      <td>0.38</td>\n",
       "      <td>6.08</td>\n",
       "      <td>16.66</td>\n",
       "      <td>15.61</td>\n",
       "      <td>0.10</td>\n",
       "      <td>3.35</td>\n",
       "      <td>0.11</td>\n",
       "    </tr>\n",
       "    <tr>\n",
       "      <th>Subject_250</th>\n",
       "      <td>0.64</td>\n",
       "      <td>0.21</td>\n",
       "      <td>12.62</td>\n",
       "      <td>0.99</td>\n",
       "      <td>13.92</td>\n",
       "      <td>0.28</td>\n",
       "      <td>0.50</td>\n",
       "      <td>2.40</td>\n",
       "      <td>0.36</td>\n",
       "      <td>30.43</td>\n",
       "      <td>0.18</td>\n",
       "      <td>207.65</td>\n",
       "      <td>1.65</td>\n",
       "      <td>0.38</td>\n",
       "      <td>6.68</td>\n",
       "      <td>49.16</td>\n",
       "      <td>45.71</td>\n",
       "      <td>0.10</td>\n",
       "      <td>2.50</td>\n",
       "      <td>3.58</td>\n",
       "    </tr>\n",
       "  </tbody>\n",
       "</table>\n",
       "<p>250 rows × 20 columns</p>\n",
       "</div>"
      ],
      "text/plain": [
       "             testosterone_sulphate  testosterone_glucuronide  testosterone  \\\n",
       "Sample_Name                                                                  \n",
       "Subject_1                    17.16                      0.64         74.80   \n",
       "Subject_2                     0.20                      0.00         22.44   \n",
       "Subject_3                     1.07                      1.31          2.00   \n",
       "Subject_4                     0.89                      1.42          1.75   \n",
       "Subject_5                     0.80                      6.51          2.48   \n",
       "...                            ...                       ...           ...   \n",
       "Subject_246                   0.64                      0.21          1.85   \n",
       "Subject_247                   0.64                      0.21          6.97   \n",
       "Subject_248                   0.64                      0.21         17.52   \n",
       "Subject_249                   0.64                      0.21         42.12   \n",
       "Subject_250                   0.64                      0.21         12.62   \n",
       "\n",
       "             estrone_beta-D-glucuronide  estrone  estriol  \\\n",
       "Sample_Name                                                 \n",
       "Subject_1                          0.73     0.27     0.55   \n",
       "Subject_2                          0.00     0.27     0.39   \n",
       "Subject_3                          1.07     0.27     3.01   \n",
       "Subject_4                          1.25     0.27     2.80   \n",
       "Subject_5                         11.70     1.89     5.42   \n",
       "...                                 ...      ...      ...   \n",
       "Subject_246                        0.29     0.40     0.09   \n",
       "Subject_247                        0.61    20.92     0.35   \n",
       "Subject_248                        0.45     2.38     0.23   \n",
       "Subject_249                        0.61    15.70     0.23   \n",
       "Subject_250                        0.99    13.92     0.28   \n",
       "\n",
       "             epitestosterone_sulphate  DHEA_sulphate  DHEA_glucuronide   DHEA  \\\n",
       "Sample_Name                                                                     \n",
       "Subject_1                        0.55          14.93              7.08   0.60   \n",
       "Subject_2                        0.39           2.29              1.00  20.43   \n",
       "Subject_3                        3.18           2.45              0.11  25.50   \n",
       "Subject_4                        2.98           2.18              0.43   8.95   \n",
       "Subject_5                        5.60           3.06              0.28  39.86   \n",
       "...                               ...            ...               ...    ...   \n",
       "Subject_246                      0.09           0.38              0.09   2.36   \n",
       "Subject_247                      0.64           2.62              0.93  23.81   \n",
       "Subject_248                      0.31           1.41              0.20  13.22   \n",
       "Subject_249                      0.31           0.29              0.08   3.57   \n",
       "Subject_250                      0.50           2.40              0.36  30.43   \n",
       "\n",
       "             beta-estradiol  androsterone  androstenedione  androstendiol  \\\n",
       "Sample_Name                                                                 \n",
       "Subject_1              0.18        597.40          1281.00           0.38   \n",
       "Subject_2              0.18         99.44            52.22           1.35   \n",
       "Subject_3              0.18        210.80            86.59           0.38   \n",
       "Subject_4              0.18         58.13            55.75           0.38   \n",
       "Subject_5              3.42        272.30           224.20           0.38   \n",
       "...                     ...           ...              ...            ...   \n",
       "Subject_246            0.18         16.65             1.65           0.38   \n",
       "Subject_247            3.83        281.60             1.65           0.38   \n",
       "Subject_248            0.18         81.71             1.65           0.38   \n",
       "Subject_249            0.18         33.18             1.65           0.38   \n",
       "Subject_250            0.18        207.65             1.65           0.38   \n",
       "\n",
       "             alpha-estradiol  4-methoxy_estrone  4-methoxy_estradiol  \\\n",
       "Sample_Name                                                            \n",
       "Subject_1              12.51             199.50               164.00   \n",
       "Subject_2               5.06              56.74                47.11   \n",
       "Subject_3               5.20              26.23                43.58   \n",
       "Subject_4               7.47               3.26                 6.63   \n",
       "Subject_5               9.80             179.10               297.20   \n",
       "...                      ...                ...                  ...   \n",
       "Subject_246             4.62               0.29                 0.33   \n",
       "Subject_247             9.21              35.44                32.84   \n",
       "Subject_248             2.65              14.72                13.79   \n",
       "Subject_249             6.08              16.66                15.61   \n",
       "Subject_250             6.68              49.16                45.71   \n",
       "\n",
       "             2-methoxy_estradiol  16-epiestriol  16alpha-hidroxy_estrone  \n",
       "Sample_Name                                                               \n",
       "Subject_1                   8.55         258.50                     3.11  \n",
       "Subject_2                   3.93          52.15                     3.71  \n",
       "Subject_3                   5.83          45.11                     4.72  \n",
       "Subject_4                   8.69           7.23                     8.32  \n",
       "Subject_5                  11.55         297.00                     5.34  \n",
       "...                          ...            ...                      ...  \n",
       "Subject_246                 0.10           5.69                     4.83  \n",
       "Subject_247                 0.10           2.88                     0.11  \n",
       "Subject_248                 0.10           2.00                     1.17  \n",
       "Subject_249                 0.10           3.35                     0.11  \n",
       "Subject_250                 0.10           2.50                     3.58  \n",
       "\n",
       "[250 rows x 20 columns]"
      ]
     },
     "execution_count": 14,
     "metadata": {},
     "output_type": "execute_result"
    }
   ],
   "source": [
    "# select only numerical attributes\n",
    "X = data.iloc[:, 1:21]\n",
    "X"
   ]
  },
  {
   "cell_type": "code",
   "execution_count": 15,
   "id": "a2980553",
   "metadata": {
    "scrolled": false
   },
   "outputs": [],
   "source": [
    "# autoscale the data\n",
    "from sklearn.preprocessing import scale\n",
    "X = scale(X.values)"
   ]
  },
  {
   "cell_type": "code",
   "execution_count": 17,
   "id": "9ff826ae",
   "metadata": {},
   "outputs": [
    {
     "data": {
      "image/png": "[encoded data removed]",
      "text/plain": [
       "<Figure size 1920x720 with 1 Axes>"
      ]
     },
     "metadata": {},
     "output_type": "display_data"
    }
   ],
   "source": [
    "# This is called parallel coordinates plot\n",
    "from matplotlib.pyplot import figure\n",
    "figure(figsize=(16, 6), dpi=120)\n",
    "fig = pd.plotting.parallel_coordinates( data, 'Class', color=('red', 'blue'));\n",
    "fig;"
   ]
  },
  {
   "cell_type": "code",
   "execution_count": 19,
   "id": "254e17aa",
   "metadata": {},
   "outputs": [
    {
     "data": {
      "text/html": [
       "<div>\n",
       "<style scoped>\n",
       "    .dataframe tbody tr th:only-of-type {\n",
       "        vertical-align: middle;\n",
       "    }\n",
       "\n",
       "    .dataframe tbody tr th {\n",
       "        vertical-align: top;\n",
       "    }\n",
       "\n",
       "    .dataframe thead th {\n",
       "        text-align: right;\n",
       "    }\n",
       "</style>\n",
       "<table border=\"1\" class=\"dataframe\">\n",
       "  <thead>\n",
       "    <tr style=\"text-align: right;\">\n",
       "      <th></th>\n",
       "      <th>testosterone_sulphate</th>\n",
       "      <th>testosterone_glucuronide</th>\n",
       "      <th>testosterone</th>\n",
       "      <th>estrone_beta-D-glucuronide</th>\n",
       "      <th>estrone</th>\n",
       "      <th>estriol</th>\n",
       "      <th>epitestosterone_sulphate</th>\n",
       "      <th>DHEA_sulphate</th>\n",
       "      <th>DHEA_glucuronide</th>\n",
       "      <th>DHEA</th>\n",
       "      <th>...</th>\n",
       "      <th>androsterone</th>\n",
       "      <th>androstenedione</th>\n",
       "      <th>androstendiol</th>\n",
       "      <th>alpha-estradiol</th>\n",
       "      <th>4-methoxy_estrone</th>\n",
       "      <th>4-methoxy_estradiol</th>\n",
       "      <th>2-methoxy_estradiol</th>\n",
       "      <th>16-epiestriol</th>\n",
       "      <th>16alpha-hidroxy_estrone</th>\n",
       "      <th>Class</th>\n",
       "    </tr>\n",
       "    <tr>\n",
       "      <th>Sample_Name</th>\n",
       "      <th></th>\n",
       "      <th></th>\n",
       "      <th></th>\n",
       "      <th></th>\n",
       "      <th></th>\n",
       "      <th></th>\n",
       "      <th></th>\n",
       "      <th></th>\n",
       "      <th></th>\n",
       "      <th></th>\n",
       "      <th></th>\n",
       "      <th></th>\n",
       "      <th></th>\n",
       "      <th></th>\n",
       "      <th></th>\n",
       "      <th></th>\n",
       "      <th></th>\n",
       "      <th></th>\n",
       "      <th></th>\n",
       "      <th></th>\n",
       "      <th></th>\n",
       "    </tr>\n",
       "  </thead>\n",
       "  <tbody>\n",
       "    <tr>\n",
       "      <th>Subject_1</th>\n",
       "      <td>0.015901</td>\n",
       "      <td>-0.198095</td>\n",
       "      <td>2.706581</td>\n",
       "      <td>-0.345011</td>\n",
       "      <td>-0.119144</td>\n",
       "      <td>-0.275847</td>\n",
       "      <td>-0.198539</td>\n",
       "      <td>0.400307</td>\n",
       "      <td>1.219903</td>\n",
       "      <td>-0.235536</td>\n",
       "      <td>...</td>\n",
       "      <td>-0.011386</td>\n",
       "      <td>0.055579</td>\n",
       "      <td>-0.114034</td>\n",
       "      <td>2.255054</td>\n",
       "      <td>-0.084794</td>\n",
       "      <td>-0.087003</td>\n",
       "      <td>0.110734</td>\n",
       "      <td>-0.052144</td>\n",
       "      <td>-0.170800</td>\n",
       "      <td>POSITIVE</td>\n",
       "    </tr>\n",
       "    <tr>\n",
       "      <th>Subject_2</th>\n",
       "      <td>-0.104405</td>\n",
       "      <td>-0.390947</td>\n",
       "      <td>0.495968</td>\n",
       "      <td>-0.512230</td>\n",
       "      <td>-0.119144</td>\n",
       "      <td>-0.316859</td>\n",
       "      <td>-0.218389</td>\n",
       "      <td>-0.092755</td>\n",
       "      <td>-0.162145</td>\n",
       "      <td>-0.175007</td>\n",
       "      <td>...</td>\n",
       "      <td>-0.213353</td>\n",
       "      <td>-0.159159</td>\n",
       "      <td>-0.084694</td>\n",
       "      <td>0.254331</td>\n",
       "      <td>-0.124708</td>\n",
       "      <td>-0.120388</td>\n",
       "      <td>-0.154048</td>\n",
       "      <td>-0.122281</td>\n",
       "      <td>-0.088721</td>\n",
       "      <td>POSITIVE</td>\n",
       "    </tr>\n",
       "    <tr>\n",
       "      <th>Subject_3</th>\n",
       "      <td>-0.098233</td>\n",
       "      <td>0.003797</td>\n",
       "      <td>-0.366999</td>\n",
       "      <td>-0.267128</td>\n",
       "      <td>-0.119144</td>\n",
       "      <td>0.354713</td>\n",
       "      <td>0.127752</td>\n",
       "      <td>-0.086514</td>\n",
       "      <td>-0.364452</td>\n",
       "      <td>-0.159532</td>\n",
       "      <td>...</td>\n",
       "      <td>-0.168187</td>\n",
       "      <td>-0.153152</td>\n",
       "      <td>-0.114034</td>\n",
       "      <td>0.291928</td>\n",
       "      <td>-0.133239</td>\n",
       "      <td>-0.121397</td>\n",
       "      <td>-0.045155</td>\n",
       "      <td>-0.124674</td>\n",
       "      <td>0.049444</td>\n",
       "      <td>POSITIVE</td>\n",
       "    </tr>\n",
       "    <tr>\n",
       "      <th>Subject_4</th>\n",
       "      <td>-0.099510</td>\n",
       "      <td>0.036943</td>\n",
       "      <td>-0.377554</td>\n",
       "      <td>-0.225896</td>\n",
       "      <td>-0.119144</td>\n",
       "      <td>0.300884</td>\n",
       "      <td>0.102939</td>\n",
       "      <td>-0.097046</td>\n",
       "      <td>-0.291712</td>\n",
       "      <td>-0.210048</td>\n",
       "      <td>...</td>\n",
       "      <td>-0.230108</td>\n",
       "      <td>-0.158542</td>\n",
       "      <td>-0.114034</td>\n",
       "      <td>0.901544</td>\n",
       "      <td>-0.139661</td>\n",
       "      <td>-0.131950</td>\n",
       "      <td>0.118757</td>\n",
       "      <td>-0.137549</td>\n",
       "      <td>0.541916</td>\n",
       "      <td>POSITIVE</td>\n",
       "    </tr>\n",
       "    <tr>\n",
       "      <th>Subject_5</th>\n",
       "      <td>-0.100149</td>\n",
       "      <td>1.570718</td>\n",
       "      <td>-0.346734</td>\n",
       "      <td>2.167850</td>\n",
       "      <td>-0.086143</td>\n",
       "      <td>0.972456</td>\n",
       "      <td>0.427990</td>\n",
       "      <td>-0.062719</td>\n",
       "      <td>-0.325809</td>\n",
       "      <td>-0.115700</td>\n",
       "      <td>...</td>\n",
       "      <td>-0.143243</td>\n",
       "      <td>-0.129104</td>\n",
       "      <td>-0.114034</td>\n",
       "      <td>1.527274</td>\n",
       "      <td>-0.090498</td>\n",
       "      <td>-0.048960</td>\n",
       "      <td>0.282669</td>\n",
       "      <td>-0.039058</td>\n",
       "      <td>0.134259</td>\n",
       "      <td>POSITIVE</td>\n",
       "    </tr>\n",
       "  </tbody>\n",
       "</table>\n",
       "<p>5 rows × 21 columns</p>\n",
       "</div>"
      ],
      "text/plain": [
       "             testosterone_sulphate  testosterone_glucuronide  testosterone  \\\n",
       "Sample_Name                                                                  \n",
       "Subject_1                 0.015901                 -0.198095      2.706581   \n",
       "Subject_2                -0.104405                 -0.390947      0.495968   \n",
       "Subject_3                -0.098233                  0.003797     -0.366999   \n",
       "Subject_4                -0.099510                  0.036943     -0.377554   \n",
       "Subject_5                -0.100149                  1.570718     -0.346734   \n",
       "\n",
       "             estrone_beta-D-glucuronide   estrone   estriol  \\\n",
       "Sample_Name                                                   \n",
       "Subject_1                     -0.345011 -0.119144 -0.275847   \n",
       "Subject_2                     -0.512230 -0.119144 -0.316859   \n",
       "Subject_3                     -0.267128 -0.119144  0.354713   \n",
       "Subject_4                     -0.225896 -0.119144  0.300884   \n",
       "Subject_5                      2.167850 -0.086143  0.972456   \n",
       "\n",
       "             epitestosterone_sulphate  DHEA_sulphate  DHEA_glucuronide  \\\n",
       "Sample_Name                                                              \n",
       "Subject_1                   -0.198539       0.400307          1.219903   \n",
       "Subject_2                   -0.218389      -0.092755         -0.162145   \n",
       "Subject_3                    0.127752      -0.086514         -0.364452   \n",
       "Subject_4                    0.102939      -0.097046         -0.291712   \n",
       "Subject_5                    0.427990      -0.062719         -0.325809   \n",
       "\n",
       "                 DHEA  ...  androsterone  androstenedione  androstendiol  \\\n",
       "Sample_Name            ...                                                 \n",
       "Subject_1   -0.235536  ...     -0.011386         0.055579      -0.114034   \n",
       "Subject_2   -0.175007  ...     -0.213353        -0.159159      -0.084694   \n",
       "Subject_3   -0.159532  ...     -0.168187        -0.153152      -0.114034   \n",
       "Subject_4   -0.210048  ...     -0.230108        -0.158542      -0.114034   \n",
       "Subject_5   -0.115700  ...     -0.143243        -0.129104      -0.114034   \n",
       "\n",
       "             alpha-estradiol  4-methoxy_estrone  4-methoxy_estradiol  \\\n",
       "Sample_Name                                                            \n",
       "Subject_1           2.255054          -0.084794            -0.087003   \n",
       "Subject_2           0.254331          -0.124708            -0.120388   \n",
       "Subject_3           0.291928          -0.133239            -0.121397   \n",
       "Subject_4           0.901544          -0.139661            -0.131950   \n",
       "Subject_5           1.527274          -0.090498            -0.048960   \n",
       "\n",
       "             2-methoxy_estradiol  16-epiestriol  16alpha-hidroxy_estrone  \\\n",
       "Sample_Name                                                                \n",
       "Subject_1               0.110734      -0.052144                -0.170800   \n",
       "Subject_2              -0.154048      -0.122281                -0.088721   \n",
       "Subject_3              -0.045155      -0.124674                 0.049444   \n",
       "Subject_4               0.118757      -0.137549                 0.541916   \n",
       "Subject_5               0.282669      -0.039058                 0.134259   \n",
       "\n",
       "                Class  \n",
       "Sample_Name            \n",
       "Subject_1    POSITIVE  \n",
       "Subject_2    POSITIVE  \n",
       "Subject_3    POSITIVE  \n",
       "Subject_4    POSITIVE  \n",
       "Subject_5    POSITIVE  \n",
       "\n",
       "[5 rows x 21 columns]"
      ]
     },
     "execution_count": 19,
     "metadata": {},
     "output_type": "execute_result"
    }
   ],
   "source": [
    "# Prepare the dataset for autoscaled data\n",
    "data_autosc = pd.DataFrame(X)\n",
    "data_autosc.columns = data.columns[1:21]\n",
    "data_autosc.index = data.index\n",
    "data_autosc.head()\n",
    "data_autosc['Class'] = data.Class\n",
    "data_autosc.head()"
   ]
  },
  {
   "cell_type": "code",
   "execution_count": 20,
   "id": "ea3ba6fa",
   "metadata": {},
   "outputs": [
    {
     "data": {
      "image/png": "[encoded data removed]",
      "text/plain": [
       "<Figure size 1920x720 with 1 Axes>"
      ]
     },
     "metadata": {},
     "output_type": "display_data"
    }
   ],
   "source": [
    "# This is called parallel coordinates plot\n",
    "from matplotlib.pyplot import figure\n",
    "figure(figsize=(16, 6), dpi=120)\n",
    "fig = pd.plotting.parallel_coordinates(data_autosc, 'Class', color=('red', 'blue'));\n",
    "fig;"
   ]
  },
  {
   "cell_type": "code",
   "execution_count": 29,
   "id": "610761ec",
   "metadata": {},
   "outputs": [
    {
     "data": {
      "text/plain": [
       "PCA(n_components=10)"
      ]
     },
     "execution_count": 29,
     "metadata": {},
     "output_type": "execute_result"
    }
   ],
   "source": [
    "from sklearn import decomposition\n",
    "pca = decomposition.PCA(n_components=10)\n",
    "pca"
   ]
  },
  {
   "cell_type": "code",
   "execution_count": 30,
   "id": "e92e6079",
   "metadata": {},
   "outputs": [],
   "source": [
    "Principal_components=pca.fit_transform(X)"
   ]
  },
  {
   "cell_type": "code",
   "execution_count": 31,
   "id": "8fef2292",
   "metadata": {},
   "outputs": [
    {
     "data": {
      "image/png": "[encoded data removed]",
      "text/plain": [
       "<Figure size 432x288 with 1 Axes>"
      ]
     },
     "metadata": {},
     "output_type": "display_data"
    }
   ],
   "source": [
    "# Scree plot\n",
    "import matplotlib\n",
    "import matplotlib.pyplot as plt\n",
    "PC_values = np.arange(pca.n_components_) + 1\n",
    "plt.plot(PC_values, pca.explained_variance_ratio_, 'ro-', linewidth=2)\n",
    "plt.title('Scree Plot')\n",
    "plt.xlabel('Principal Component')\n",
    "plt.ylabel('Proportion of Variance Explained')\n",
    "plt.show()"
   ]
  },
  {
   "cell_type": "code",
   "execution_count": 24,
   "id": "e4ccb888",
   "metadata": {},
   "outputs": [
    {
     "name": "stdout",
     "output_type": "stream",
     "text": [
      "Proportion of Variance Explained :  [0.21143825 0.1710724  0.096008   0.08244291]\n",
      "Cumulative Prop. Variance Explained:  [0.21143825 0.38251065 0.47851865 0.56096156]\n"
     ]
    }
   ],
   "source": [
    "print (\"Proportion of Variance Explained : \", pca.explained_variance_ratio_)  \n",
    "   \n",
    "out_sum = np.cumsum(pca.explained_variance_ratio_)  \n",
    "print (\"Cumulative Prop. Variance Explained: \", out_sum)"
   ]
  },
  {
   "cell_type": "code",
   "execution_count": 33,
   "id": "9bcbc297",
   "metadata": {},
   "outputs": [
    {
     "data": {
      "image/png": "[encoded data removed]",
      "text/plain": [
       "<Figure size 432x288 with 1 Axes>"
      ]
     },
     "metadata": {},
     "output_type": "display_data"
    }
   ],
   "source": [
    "plt.plot(PC_values, np.cumsum(pca.explained_variance_ratio_), 'ro-', linewidth=2)\n",
    "plt.title('Scree Plot')\n",
    "plt.xlabel('Principal Component')\n",
    "plt.ylabel('Cumulative Prop. Variance Explained')\n",
    "plt.show()"
   ]
  },
  {
   "cell_type": "code",
   "execution_count": 26,
   "id": "d4a28c44",
   "metadata": {},
   "outputs": [
    {
     "name": "stdout",
     "output_type": "stream",
     "text": [
      "[4.24574807 3.43518874 1.92787151 1.65548006]\n"
     ]
    }
   ],
   "source": [
    "print(pca.explained_variance_) "
   ]
  },
  {
   "cell_type": "code",
   "execution_count": 32,
   "id": "dfe4860d",
   "metadata": {},
   "outputs": [
    {
     "data": {
      "image/png": "[encoded data removed]",
      "text/plain": [
       "<Figure size 432x288 with 1 Axes>"
      ]
     },
     "metadata": {},
     "output_type": "display_data"
    }
   ],
   "source": [
    "plt.plot(PC_values, np.cumsum(pca.explained_variance_), 'ro-', linewidth=2)\n",
    "plt.title('Scree Plot')\n",
    "plt.xlabel('Principal Component')\n",
    "plt.ylabel('Explained Variance')\n",
    "plt.show()"
   ]
  },
  {
   "cell_type": "code",
   "execution_count": 35,
   "id": "f54cb0c1",
   "metadata": {},
   "outputs": [
    {
     "name": "stdout",
     "output_type": "stream",
     "text": [
      "                  PC1       PC2       PC3       PC4       PC5     Class\n",
      "Sample_Name                                                            \n",
      "Subject_1    0.218374 -0.297495  0.404209  0.012890  2.276038  POSITIVE\n",
      "Subject_2   -0.598768 -0.028203 -0.124598 -0.541747  0.411954  POSITIVE\n",
      "Subject_3   -0.290254 -0.118686  0.186084 -0.142611 -0.192702  POSITIVE\n",
      "Subject_4   -0.287609 -0.201207  0.225794  0.016806  0.322220  POSITIVE\n",
      "Subject_5    0.445198 -0.237239  0.376660  2.722787 -0.232688  POSITIVE\n",
      "...               ...       ...       ...       ...       ...       ...\n",
      "Subject_246 -0.755980  0.040203 -0.213376 -0.555341 -0.052460  NEGATIVE\n",
      "Subject_247 -0.486430 -0.046725 -0.289735 -0.409349 -0.044051  NEGATIVE\n",
      "Subject_248 -0.743331  0.068555 -0.209651 -0.560059 -0.154426  NEGATIVE\n",
      "Subject_249 -0.703439 -0.070326 -0.323217 -0.423561  0.577069  NEGATIVE\n",
      "Subject_250 -0.593034 -0.001271 -0.198137 -0.393099  0.231523  NEGATIVE\n",
      "\n",
      "[250 rows x 6 columns]\n"
     ]
    }
   ],
   "source": [
    "pca = decomposition.PCA(n_components=5)\n",
    "Principal_components=pca.fit_transform(X)\n",
    "scores = pd.DataFrame(data = Principal_components, columns = ['PC1', 'PC2','PC3','PC4','PC5'])\n",
    "scores.index = data.index\n",
    "scores = pd.concat([scores, data.Class], axis = 1)\n",
    "print(scores)"
   ]
  },
  {
   "cell_type": "code",
   "execution_count": 38,
   "id": "6d0f97b2",
   "metadata": {},
   "outputs": [
    {
     "data": {
      "text/html": [
       "<div>\n",
       "<style scoped>\n",
       "    .dataframe tbody tr th:only-of-type {\n",
       "        vertical-align: middle;\n",
       "    }\n",
       "\n",
       "    .dataframe tbody tr th {\n",
       "        vertical-align: top;\n",
       "    }\n",
       "\n",
       "    .dataframe thead th {\n",
       "        text-align: right;\n",
       "    }\n",
       "</style>\n",
       "<table border=\"1\" class=\"dataframe\">\n",
       "  <thead>\n",
       "    <tr style=\"text-align: right;\">\n",
       "      <th></th>\n",
       "      <th>PC1</th>\n",
       "      <th>PC2</th>\n",
       "      <th>PC3</th>\n",
       "      <th>PC4</th>\n",
       "      <th>PC5</th>\n",
       "      <th>Attributes</th>\n",
       "    </tr>\n",
       "  </thead>\n",
       "  <tbody>\n",
       "    <tr>\n",
       "      <th>testosterone_sulphate</th>\n",
       "      <td>-0.004323</td>\n",
       "      <td>0.009945</td>\n",
       "      <td>-0.002207</td>\n",
       "      <td>-0.093168</td>\n",
       "      <td>-0.161608</td>\n",
       "      <td>testosterone_sulphate</td>\n",
       "    </tr>\n",
       "    <tr>\n",
       "      <th>testosterone_glucuronide</th>\n",
       "      <td>0.119432</td>\n",
       "      <td>0.105537</td>\n",
       "      <td>0.011488</td>\n",
       "      <td>0.608495</td>\n",
       "      <td>-0.071311</td>\n",
       "      <td>testosterone_glucuronide</td>\n",
       "    </tr>\n",
       "    <tr>\n",
       "      <th>testosterone</th>\n",
       "      <td>0.007427</td>\n",
       "      <td>-0.064091</td>\n",
       "      <td>0.004465</td>\n",
       "      <td>0.032378</td>\n",
       "      <td>0.551765</td>\n",
       "      <td>testosterone</td>\n",
       "    </tr>\n",
       "    <tr>\n",
       "      <th>estrone_beta-D-glucuronide</th>\n",
       "      <td>0.028092</td>\n",
       "      <td>0.027633</td>\n",
       "      <td>-0.001074</td>\n",
       "      <td>0.709205</td>\n",
       "      <td>-0.071439</td>\n",
       "      <td>estrone_beta-D-glucuronide</td>\n",
       "    </tr>\n",
       "    <tr>\n",
       "      <th>estrone</th>\n",
       "      <td>0.000289</td>\n",
       "      <td>-0.016780</td>\n",
       "      <td>-0.001035</td>\n",
       "      <td>-0.036530</td>\n",
       "      <td>0.114378</td>\n",
       "      <td>estrone</td>\n",
       "    </tr>\n",
       "    <tr>\n",
       "      <th>estriol</th>\n",
       "      <td>0.296352</td>\n",
       "      <td>-0.185962</td>\n",
       "      <td>0.380404</td>\n",
       "      <td>-0.004546</td>\n",
       "      <td>-0.214544</td>\n",
       "      <td>estriol</td>\n",
       "    </tr>\n",
       "    <tr>\n",
       "      <th>epitestosterone_sulphate</th>\n",
       "      <td>0.305491</td>\n",
       "      <td>-0.229046</td>\n",
       "      <td>0.315629</td>\n",
       "      <td>-0.039798</td>\n",
       "      <td>-0.030119</td>\n",
       "      <td>epitestosterone_sulphate</td>\n",
       "    </tr>\n",
       "    <tr>\n",
       "      <th>DHEA_sulphate</th>\n",
       "      <td>0.151872</td>\n",
       "      <td>-0.074546</td>\n",
       "      <td>0.525308</td>\n",
       "      <td>-0.011200</td>\n",
       "      <td>-0.147876</td>\n",
       "      <td>DHEA_sulphate</td>\n",
       "    </tr>\n",
       "    <tr>\n",
       "      <th>DHEA_glucuronide</th>\n",
       "      <td>0.284459</td>\n",
       "      <td>-0.025241</td>\n",
       "      <td>0.357191</td>\n",
       "      <td>0.020109</td>\n",
       "      <td>0.210074</td>\n",
       "      <td>DHEA_glucuronide</td>\n",
       "    </tr>\n",
       "    <tr>\n",
       "      <th>DHEA</th>\n",
       "      <td>0.308811</td>\n",
       "      <td>0.310291</td>\n",
       "      <td>-0.014143</td>\n",
       "      <td>-0.022425</td>\n",
       "      <td>0.001631</td>\n",
       "      <td>DHEA</td>\n",
       "    </tr>\n",
       "    <tr>\n",
       "      <th>beta-estradiol</th>\n",
       "      <td>0.063527</td>\n",
       "      <td>-0.095396</td>\n",
       "      <td>-0.077462</td>\n",
       "      <td>-0.017463</td>\n",
       "      <td>-0.116904</td>\n",
       "      <td>beta-estradiol</td>\n",
       "    </tr>\n",
       "    <tr>\n",
       "      <th>androsterone</th>\n",
       "      <td>0.345497</td>\n",
       "      <td>0.348362</td>\n",
       "      <td>-0.117302</td>\n",
       "      <td>-0.047726</td>\n",
       "      <td>0.019038</td>\n",
       "      <td>androsterone</td>\n",
       "    </tr>\n",
       "    <tr>\n",
       "      <th>androstenedione</th>\n",
       "      <td>0.334129</td>\n",
       "      <td>0.355767</td>\n",
       "      <td>-0.131898</td>\n",
       "      <td>-0.090266</td>\n",
       "      <td>0.032771</td>\n",
       "      <td>androstenedione</td>\n",
       "    </tr>\n",
       "    <tr>\n",
       "      <th>androstendiol</th>\n",
       "      <td>0.332490</td>\n",
       "      <td>0.369547</td>\n",
       "      <td>-0.113225</td>\n",
       "      <td>-0.090800</td>\n",
       "      <td>0.036109</td>\n",
       "      <td>androstendiol</td>\n",
       "    </tr>\n",
       "    <tr>\n",
       "      <th>alpha-estradiol</th>\n",
       "      <td>0.069317</td>\n",
       "      <td>-0.071128</td>\n",
       "      <td>-0.069029</td>\n",
       "      <td>0.092139</td>\n",
       "      <td>0.244819</td>\n",
       "      <td>alpha-estradiol</td>\n",
       "    </tr>\n",
       "    <tr>\n",
       "      <th>4-methoxy_estrone</th>\n",
       "      <td>0.292359</td>\n",
       "      <td>-0.361870</td>\n",
       "      <td>-0.298922</td>\n",
       "      <td>-0.001653</td>\n",
       "      <td>-0.010841</td>\n",
       "      <td>4-methoxy_estrone</td>\n",
       "    </tr>\n",
       "    <tr>\n",
       "      <th>4-methoxy_estradiol</th>\n",
       "      <td>0.292316</td>\n",
       "      <td>-0.362424</td>\n",
       "      <td>-0.295314</td>\n",
       "      <td>-0.001414</td>\n",
       "      <td>-0.013163</td>\n",
       "      <td>4-methoxy_estradiol</td>\n",
       "    </tr>\n",
       "    <tr>\n",
       "      <th>2-methoxy_estradiol</th>\n",
       "      <td>-0.016566</td>\n",
       "      <td>0.006226</td>\n",
       "      <td>-0.056879</td>\n",
       "      <td>0.292543</td>\n",
       "      <td>0.141993</td>\n",
       "      <td>2-methoxy_estradiol</td>\n",
       "    </tr>\n",
       "    <tr>\n",
       "      <th>16-epiestriol</th>\n",
       "      <td>0.287004</td>\n",
       "      <td>-0.359094</td>\n",
       "      <td>-0.300204</td>\n",
       "      <td>0.001878</td>\n",
       "      <td>-0.008303</td>\n",
       "      <td>16-epiestriol</td>\n",
       "    </tr>\n",
       "    <tr>\n",
       "      <th>16alpha-hidroxy_estrone</th>\n",
       "      <td>0.020208</td>\n",
       "      <td>-0.064437</td>\n",
       "      <td>0.164660</td>\n",
       "      <td>-0.002600</td>\n",
       "      <td>0.660579</td>\n",
       "      <td>16alpha-hidroxy_estrone</td>\n",
       "    </tr>\n",
       "  </tbody>\n",
       "</table>\n",
       "</div>"
      ],
      "text/plain": [
       "                                 PC1       PC2       PC3       PC4       PC5  \\\n",
       "testosterone_sulphate      -0.004323  0.009945 -0.002207 -0.093168 -0.161608   \n",
       "testosterone_glucuronide    0.119432  0.105537  0.011488  0.608495 -0.071311   \n",
       "testosterone                0.007427 -0.064091  0.004465  0.032378  0.551765   \n",
       "estrone_beta-D-glucuronide  0.028092  0.027633 -0.001074  0.709205 -0.071439   \n",
       "estrone                     0.000289 -0.016780 -0.001035 -0.036530  0.114378   \n",
       "estriol                     0.296352 -0.185962  0.380404 -0.004546 -0.214544   \n",
       "epitestosterone_sulphate    0.305491 -0.229046  0.315629 -0.039798 -0.030119   \n",
       "DHEA_sulphate               0.151872 -0.074546  0.525308 -0.011200 -0.147876   \n",
       "DHEA_glucuronide            0.284459 -0.025241  0.357191  0.020109  0.210074   \n",
       "DHEA                        0.308811  0.310291 -0.014143 -0.022425  0.001631   \n",
       "beta-estradiol              0.063527 -0.095396 -0.077462 -0.017463 -0.116904   \n",
       "androsterone                0.345497  0.348362 -0.117302 -0.047726  0.019038   \n",
       "androstenedione             0.334129  0.355767 -0.131898 -0.090266  0.032771   \n",
       "androstendiol               0.332490  0.369547 -0.113225 -0.090800  0.036109   \n",
       "alpha-estradiol             0.069317 -0.071128 -0.069029  0.092139  0.244819   \n",
       "4-methoxy_estrone           0.292359 -0.361870 -0.298922 -0.001653 -0.010841   \n",
       "4-methoxy_estradiol         0.292316 -0.362424 -0.295314 -0.001414 -0.013163   \n",
       "2-methoxy_estradiol        -0.016566  0.006226 -0.056879  0.292543  0.141993   \n",
       "16-epiestriol               0.287004 -0.359094 -0.300204  0.001878 -0.008303   \n",
       "16alpha-hidroxy_estrone     0.020208 -0.064437  0.164660 -0.002600  0.660579   \n",
       "\n",
       "                                            Attributes  \n",
       "testosterone_sulphate            testosterone_sulphate  \n",
       "testosterone_glucuronide      testosterone_glucuronide  \n",
       "testosterone                              testosterone  \n",
       "estrone_beta-D-glucuronide  estrone_beta-D-glucuronide  \n",
       "estrone                                        estrone  \n",
       "estriol                                        estriol  \n",
       "epitestosterone_sulphate      epitestosterone_sulphate  \n",
       "DHEA_sulphate                            DHEA_sulphate  \n",
       "DHEA_glucuronide                      DHEA_glucuronide  \n",
       "DHEA                                              DHEA  \n",
       "beta-estradiol                          beta-estradiol  \n",
       "androsterone                              androsterone  \n",
       "androstenedione                        androstenedione  \n",
       "androstendiol                            androstendiol  \n",
       "alpha-estradiol                        alpha-estradiol  \n",
       "4-methoxy_estrone                    4-methoxy_estrone  \n",
       "4-methoxy_estradiol                4-methoxy_estradiol  \n",
       "2-methoxy_estradiol                2-methoxy_estradiol  \n",
       "16-epiestriol                            16-epiestriol  \n",
       "16alpha-hidroxy_estrone        16alpha-hidroxy_estrone  "
      ]
     },
     "execution_count": 38,
     "metadata": {},
     "output_type": "execute_result"
    }
   ],
   "source": [
    "# Loadings\n",
    "loadings = pd.DataFrame(pca.components_.T, columns=['PC1', 'PC2', 'PC3','PC4', 'PC5'], index=data.columns[1:21])\n",
    "loadings[\"Attributes\"] = loadings.index\n",
    "loadings"
   ]
  },
  {
   "cell_type": "code",
   "execution_count": 44,
   "id": "36f2876d",
   "metadata": {},
   "outputs": [
    {
     "data": {
      "application/vnd.plotly.v1+json": {
       "config": {
        "plotlyServerURL": "https://plot.ly"
       },
       "data": [
        {
         "customdata": [
          [
           "POSITIVE"
          ],
          [
           "POSITIVE"
          ],
          [
           "POSITIVE"
          ],
          [
           "POSITIVE"
          ],
          [
           "POSITIVE"
          ],
          [
           "POSITIVE"
          ],
          [
           "POSITIVE"
          ],
          [
           "POSITIVE"
          ],
          [
           "POSITIVE"
          ],
          [
           "POSITIVE"
          ],
          [
           "POSITIVE"
          ],
          [
           "POSITIVE"
          ],
          [
           "POSITIVE"
          ],
          [
           "POSITIVE"
          ],
          [
           "POSITIVE"
          ],
          [
           "POSITIVE"
          ],
          [
           "POSITIVE"
          ],
          [
           "POSITIVE"
          ],
          [
           "POSITIVE"
          ],
          [
           "POSITIVE"
          ],
          [
           "POSITIVE"
          ],
          [
           "POSITIVE"
          ],
          [
           "POSITIVE"
          ],
          [
           "POSITIVE"
          ],
          [
           "POSITIVE"
          ],
          [
           "POSITIVE"
          ],
          [
           "POSITIVE"
          ],
          [
           "POSITIVE"
          ],
          [
           "POSITIVE"
          ],
          [
           "POSITIVE"
          ],
          [
           "POSITIVE"
          ],
          [
           "POSITIVE"
          ],
          [
           "POSITIVE"
          ],
          [
           "POSITIVE"
          ],
          [
           "POSITIVE"
          ],
          [
           "POSITIVE"
          ],
          [
           "POSITIVE"
          ],
          [
           "POSITIVE"
          ],
          [
           "POSITIVE"
          ],
          [
           "POSITIVE"
          ],
          [
           "POSITIVE"
          ],
          [
           "POSITIVE"
          ],
          [
           "POSITIVE"
          ],
          [
           "POSITIVE"
          ],
          [
           "POSITIVE"
          ],
          [
           "POSITIVE"
          ],
          [
           "POSITIVE"
          ],
          [
           "POSITIVE"
          ],
          [
           "POSITIVE"
          ],
          [
           "POSITIVE"
          ],
          [
           "POSITIVE"
          ],
          [
           "POSITIVE"
          ],
          [
           "POSITIVE"
          ],
          [
           "POSITIVE"
          ],
          [
           "POSITIVE"
          ],
          [
           "POSITIVE"
          ],
          [
           "POSITIVE"
          ],
          [
           "POSITIVE"
          ],
          [
           "POSITIVE"
          ],
          [
           "POSITIVE"
          ],
          [
           "POSITIVE"
          ],
          [
           "POSITIVE"
          ],
          [
           "POSITIVE"
          ],
          [
           "POSITIVE"
          ],
          [
           "POSITIVE"
          ],
          [
           "POSITIVE"
          ],
          [
           "POSITIVE"
          ],
          [
           "POSITIVE"
          ],
          [
           "POSITIVE"
          ],
          [
           "POSITIVE"
          ],
          [
           "POSITIVE"
          ],
          [
           "POSITIVE"
          ],
          [
           "POSITIVE"
          ],
          [
           "POSITIVE"
          ],
          [
           "POSITIVE"
          ],
          [
           "POSITIVE"
          ],
          [
           "POSITIVE"
          ],
          [
           "POSITIVE"
          ],
          [
           "POSITIVE"
          ],
          [
           "POSITIVE"
          ],
          [
           "POSITIVE"
          ],
          [
           "POSITIVE"
          ],
          [
           "POSITIVE"
          ],
          [
           "POSITIVE"
          ],
          [
           "POSITIVE"
          ],
          [
           "POSITIVE"
          ],
          [
           "POSITIVE"
          ],
          [
           "POSITIVE"
          ],
          [
           "POSITIVE"
          ],
          [
           "POSITIVE"
          ],
          [
           "POSITIVE"
          ],
          [
           "POSITIVE"
          ],
          [
           "POSITIVE"
          ],
          [
           "POSITIVE"
          ],
          [
           "POSITIVE"
          ],
          [
           "POSITIVE"
          ],
          [
           "POSITIVE"
          ],
          [
           "POSITIVE"
          ],
          [
           "POSITIVE"
          ],
          [
           "POSITIVE"
          ],
          [
           "POSITIVE"
          ],
          [
           "POSITIVE"
          ],
          [
           "POSITIVE"
          ],
          [
           "POSITIVE"
          ],
          [
           "POSITIVE"
          ],
          [
           "POSITIVE"
          ],
          [
           "POSITIVE"
          ],
          [
           "POSITIVE"
          ],
          [
           "POSITIVE"
          ],
          [
           "POSITIVE"
          ],
          [
           "POSITIVE"
          ],
          [
           "POSITIVE"
          ],
          [
           "POSITIVE"
          ],
          [
           "POSITIVE"
          ],
          [
           "POSITIVE"
          ],
          [
           "POSITIVE"
          ],
          [
           "POSITIVE"
          ],
          [
           "POSITIVE"
          ],
          [
           "POSITIVE"
          ],
          [
           "POSITIVE"
          ],
          [
           "POSITIVE"
          ],
          [
           "POSITIVE"
          ],
          [
           "POSITIVE"
          ],
          [
           "POSITIVE"
          ],
          [
           "POSITIVE"
          ],
          [
           "POSITIVE"
          ],
          [
           "POSITIVE"
          ],
          [
           "POSITIVE"
          ],
          [
           "POSITIVE"
          ],
          [
           "POSITIVE"
          ],
          [
           "POSITIVE"
          ],
          [
           "POSITIVE"
          ],
          [
           "POSITIVE"
          ],
          [
           "POSITIVE"
          ],
          [
           "POSITIVE"
          ],
          [
           "POSITIVE"
          ],
          [
           "POSITIVE"
          ],
          [
           "POSITIVE"
          ],
          [
           "POSITIVE"
          ],
          [
           "POSITIVE"
          ],
          [
           "POSITIVE"
          ],
          [
           "POSITIVE"
          ],
          [
           "POSITIVE"
          ],
          [
           "POSITIVE"
          ],
          [
           "POSITIVE"
          ],
          [
           "POSITIVE"
          ],
          [
           "POSITIVE"
          ],
          [
           "POSITIVE"
          ],
          [
           "POSITIVE"
          ],
          [
           "POSITIVE"
          ],
          [
           "POSITIVE"
          ],
          [
           "POSITIVE"
          ],
          [
           "POSITIVE"
          ],
          [
           "POSITIVE"
          ],
          [
           "POSITIVE"
          ],
          [
           "POSITIVE"
          ],
          [
           "POSITIVE"
          ],
          [
           "POSITIVE"
          ],
          [
           "POSITIVE"
          ],
          [
           "POSITIVE"
          ],
          [
           "POSITIVE"
          ],
          [
           "POSITIVE"
          ],
          [
           "POSITIVE"
          ],
          [
           "POSITIVE"
          ],
          [
           "POSITIVE"
          ],
          [
           "POSITIVE"
          ],
          [
           "POSITIVE"
          ],
          [
           "POSITIVE"
          ],
          [
           "POSITIVE"
          ],
          [
           "POSITIVE"
          ],
          [
           "POSITIVE"
          ],
          [
           "POSITIVE"
          ],
          [
           "POSITIVE"
          ],
          [
           "POSITIVE"
          ],
          [
           "POSITIVE"
          ],
          [
           "POSITIVE"
          ],
          [
           "POSITIVE"
          ],
          [
           "POSITIVE"
          ],
          [
           "POSITIVE"
          ],
          [
           "POSITIVE"
          ],
          [
           "POSITIVE"
          ],
          [
           "POSITIVE"
          ],
          [
           "POSITIVE"
          ],
          [
           "POSITIVE"
          ],
          [
           "POSITIVE"
          ]
         ],
         "hovertemplate": "<b>%{hovertext}</b><br><br>Class=%{customdata[0]}<br>PC1=%{x}<br>PC2=%{y}<extra></extra>",
         "hovertext": [
          "Subject_1",
          "Subject_2",
          "Subject_3",
          "Subject_4",
          "Subject_5",
          "Subject_6",
          "Subject_7",
          "Subject_8",
          "Subject_9",
          "Subject_10",
          "Subject_11",
          "Subject_12",
          "Subject_13",
          "Subject_14",
          "Subject_15",
          "Subject_16",
          "Subject_17",
          "Subject_18",
          "Subject_19",
          "Subject_20",
          "Subject_21",
          "Subject_22",
          "Subject_23",
          "Subject_24",
          "Subject_25",
          "Subject_26",
          "Subject_27",
          "Subject_28",
          "Subject_29",
          "Subject_30",
          "Subject_31",
          "Subject_32",
          "Subject_33",
          "Subject_34",
          "Subject_35",
          "Subject_36",
          "Subject_37",
          "Subject_38",
          "Subject_39",
          "Subject_40",
          "Subject_41",
          "Subject_42",
          "Subject_43",
          "Subject_44",
          "Subject_45",
          "Subject_46",
          "Subject_47",
          "Subject_48",
          "Subject_49",
          "Subject_50",
          "Subject_51",
          "Subject_52",
          "Subject_53",
          "Subject_54",
          "Subject_55",
          "Subject_56",
          "Subject_57",
          "Subject_58",
          "Subject_59",
          "Subject_60",
          "Subject_61",
          "Subject_62",
          "Subject_63",
          "Subject_64",
          "Subject_65",
          "Subject_66",
          "Subject_67",
          "Subject_68",
          "Subject_69",
          "Subject_70",
          "Subject_71",
          "Subject_72",
          "Subject_73",
          "Subject_74",
          "Subject_75",
          "Subject_76",
          "Subject_77",
          "Subject_78",
          "Subject_79",
          "Subject_80",
          "Subject_81",
          "Subject_82",
          "Subject_83",
          "Subject_84",
          "Subject_85",
          "Subject_86",
          "Subject_87",
          "Subject_88",
          "Subject_89",
          "Subject_90",
          "Subject_91",
          "Subject_92",
          "Subject_93",
          "Subject_94",
          "Subject_95",
          "Subject_96",
          "Subject_97",
          "Subject_98",
          "Subject_99",
          "Subject_100",
          "Subject_101",
          "Subject_102",
          "Subject_103",
          "Subject_104",
          "Subject_105",
          "Subject_106",
          "Subject_107",
          "Subject_108",
          "Subject_109",
          "Subject_110",
          "Subject_111",
          "Subject_112",
          "Subject_113",
          "Subject_114",
          "Subject_115",
          "Subject_116",
          "Subject_117",
          "Subject_118",
          "Subject_119",
          "Subject_120",
          "Subject_121",
          "Subject_122",
          "Subject_123",
          "Subject_124",
          "Subject_125",
          "Subject_126",
          "Subject_127",
          "Subject_128",
          "Subject_129",
          "Subject_130",
          "Subject_131",
          "Subject_132",
          "Subject_133",
          "Subject_134",
          "Subject_135",
          "Subject_136",
          "Subject_137",
          "Subject_138",
          "Subject_139",
          "Subject_140",
          "Subject_141",
          "Subject_142",
          "Subject_143",
          "Subject_144",
          "Subject_145",
          "Subject_146",
          "Subject_147",
          "Subject_148",
          "Subject_149",
          "Subject_150",
          "Subject_151",
          "Subject_152",
          "Subject_153",
          "Subject_154",
          "Subject_155",
          "Subject_156",
          "Subject_157",
          "Subject_158",
          "Subject_159",
          "Subject_160",
          "Subject_161",
          "Subject_162",
          "Subject_163",
          "Subject_164",
          "Subject_165",
          "Subject_166",
          "Subject_167",
          "Subject_168",
          "Subject_169",
          "Subject_170",
          "Subject_171",
          "Subject_172",
          "Subject_173",
          "Subject_174",
          "Subject_175",
          "Subject_176",
          "Subject_177",
          "Subject_178",
          "Subject_179",
          "Subject_180",
          "Subject_181",
          "Subject_182",
          "Subject_183",
          "Subject_184",
          "Subject_185"
         ],
         "legendgroup": "POSITIVE",
         "marker": {
          "color": "#636efa",
          "symbol": "circle"
         },
         "mode": "markers",
         "name": "POSITIVE",
         "orientation": "v",
         "showlegend": true,
         "type": "scatter",
         "x": [
          0.21837402148048587,
          -0.5987677734919538,
          -0.29025354041809204,
          -0.2876091826495827,
          0.4451980549026791,
          -0.3302434849072217,
          -0.04758394780693809,
          0.02293616545613225,
          -0.15985328789351572,
          2.8436888316234743,
          -0.31580497818430087,
          -0.18720983046785458,
          -0.6591051317145165,
          -0.7520749819656881,
          -0.5991774133572972,
          -0.5409636717129276,
          -0.06195470449917792,
          -0.5642857012183597,
          -0.49439396125774077,
          -0.24288632075926964,
          0.49213316312264116,
          -0.18226810436591237,
          -0.3193755014466612,
          -0.2190980194215748,
          -0.41967707404728755,
          8.548298380134636,
          -0.3520475693916829,
          -0.6022972890089814,
          4.608468250098928,
          -0.259087446994994,
          -0.4330011536133455,
          -0.3889250103082875,
          0.19583700708340657,
          -0.5847632955969195,
          -0.468479943824998,
          -0.588957990345356,
          -0.649358106665862,
          -0.2504816766634283,
          -0.5015362442693401,
          -0.2248272048796834,
          -0.4756532372987744,
          0.0037283128439817076,
          -0.4301192421165573,
          -0.5604637131253121,
          -0.8385435468727517,
          -0.49702206439536917,
          -0.0661968133581692,
          -0.26712005742354833,
          1.2518056979237675,
          -0.29034753410054664,
          -0.29036172432691265,
          0.38512808180394087,
          -0.3041765540557657,
          -0.31004261598813765,
          -0.2764775892744631,
          -0.36348978463351894,
          -0.17875433096256257,
          -0.4195044245346068,
          -0.010780818769571704,
          -0.40942719076887163,
          0.29690576054569445,
          -0.3373765158251414,
          -0.4299663919946621,
          -0.43034037125443947,
          -0.12131387407187513,
          -0.060795374973680344,
          -0.3913045796769347,
          -0.7503410762766306,
          -0.5755938126216725,
          -0.5384717164965662,
          -0.5147766322635239,
          -0.14638496636028323,
          0.5782869907216193,
          -0.3493697323382584,
          -0.07753063957001505,
          -0.25513911073170165,
          -0.22899417046760911,
          -0.24075243087146017,
          -0.11752164678746826,
          0.4718850511201453,
          2.3934051580627695,
          -0.49356637563066097,
          0.5859594154159039,
          1.6174252007319874,
          0.10878653251971046,
          0.2700152585911399,
          0.09003982958955851,
          -0.5856913206593644,
          -0.697647352737273,
          -0.21317892997124827,
          0.075431953377686,
          -0.21333995866052657,
          -0.6304609778413559,
          -0.4028471101065719,
          0.46137575322669405,
          -0.6095491724036087,
          -0.4837392043327967,
          0.6542639148926854,
          -0.7257014202062008,
          -0.6264682319959384,
          -0.628380721380055,
          -0.65608651490268,
          0.253680540745398,
          -0.6259507906402542,
          0.01726930161440591,
          -0.21884542364421916,
          -0.5088259943766794,
          -0.5866432782368297,
          -0.004311577489355846,
          0.12308896326106424,
          -0.0547999359062073,
          -0.6061952095531596,
          -0.7950141909367031,
          -0.7036412514142848,
          -0.24792110303049752,
          -0.5989115201921038,
          -0.5474058787089014,
          -0.7269664500313208,
          -0.39676152477361093,
          0.39014288063588076,
          -0.7721563716698032,
          0.629637924314338,
          -0.7970373174355815,
          -0.6420247387766885,
          -0.6182709101855641,
          -0.6063352659793054,
          0.61991828718381,
          -0.6490716802711973,
          -0.6087415965044053,
          -0.7021198779371428,
          -0.46417962511528366,
          -0.3823409217658497,
          -0.6275742803168443,
          -0.711448893392631,
          -0.7885265803998578,
          -0.42008075077006446,
          -0.7138117672000066,
          -0.6709192838293446,
          -0.4207067277803662,
          -0.4195557446099656,
          -0.6165844454847376,
          -0.2307373005257205,
          -0.7003590885021627,
          -0.4141308992229607,
          -0.246314785392746,
          0.6446507647306641,
          -0.4468969568303455,
          -0.41539154224704894,
          -0.2931774236605652,
          0.19857261100421647,
          0.3513134319032746,
          -0.31879724545021576,
          -0.47902520123464193,
          -0.41072453010867166,
          -0.335545470480551,
          -0.3172551912620757,
          -0.5096035604661966,
          0.048440909369758534,
          -0.4815463513898031,
          0.14458767159906263,
          13.582319398017704,
          -0.22828164168314644,
          -0.5182878996179995,
          1.4432598038032503,
          0.19344285308435713,
          -0.12114666754353798,
          -0.06446693533052489,
          0.9901948157298911,
          -0.19037657612106007,
          0.6395297218519919,
          0.15659552325595347,
          13.897179585601876,
          -0.29471920522741396,
          2.927623803589743,
          0.11965208869503868,
          0.28635863212860657,
          19.602076834386406,
          0.017829960549922405,
          -0.37347294726246805,
          -0.4196641846101537,
          -0.39846780736388127,
          8.950067468692584,
          0.8523983763359305,
          -0.09508879631432175,
          -0.06310098142486126
         ],
         "xaxis": "x",
         "y": [
          -0.29749503808556493,
          -0.02820301798847944,
          -0.11868557168858587,
          -0.2012065914972489,
          -0.23723899094137274,
          -0.2185834083788421,
          -0.18550284545596848,
          -0.11587756411841646,
          -0.020611581934534412,
          0.8395036459492502,
          -0.12195554423046039,
          0.2681072266317367,
          0.11449450160990286,
          0.12491942980254982,
          -0.0186460063512745,
          0.4963760729875302,
          -0.19609164418693997,
          -0.07691060116432076,
          -0.051459243299765506,
          -0.17548131740132147,
          -0.740064601995952,
          -0.0328426236353823,
          -0.12478591144400963,
          0.34728646194381246,
          -0.18936882845865585,
          -3.2126561722085674,
          -0.1942515110680701,
          0.011117644084637059,
          -5.259581067429751,
          -0.21535613708959553,
          -0.3122182537426088,
          -0.00519187003909692,
          -0.5243167498640936,
          -0.14678064327828366,
          0.011808216980515382,
          -0.05397605344293837,
          -0.014338674543746216,
          -0.2613492549655629,
          -0.24668192984989645,
          -0.010206511771544195,
          -0.25793660463789514,
          -0.7508559467117195,
          -0.37964983370152305,
          -0.06760525578407624,
          0.15441636472220835,
          -0.12098455223437603,
          -0.6835198360856034,
          -0.3490777131929002,
          -0.1264388919642674,
          -0.03741525150413765,
          -0.12594682074014754,
          -0.40793897993317196,
          -0.23421499608914403,
          -0.11526423662249798,
          -0.12661579304143078,
          -0.03336422355202694,
          -0.19806730673002798,
          -0.0777186746884429,
          -0.3061132910294737,
          -0.21930370677177333,
          0.1310945276312152,
          -0.09119890619597006,
          0.29604233345328274,
          0.10313808530867576,
          -0.17707426880948104,
          0.4452633305101828,
          0.02171975194107275,
          0.02188577146152903,
          -0.020902422244375603,
          0.00895376610775329,
          0.07351614084340176,
          0.1548014908543844,
          0.32618301772714126,
          0.2311550503872595,
          0.21925113473884153,
          0.1480586895278987,
          0.038775607479878765,
          0.008102982337260593,
          0.032761026443716985,
          0.42943015481984725,
          0.38033406032043365,
          -0.003984185111276055,
          1.206648840802543,
          0.3352454382344449,
          0.34515010049975897,
          0.568545023910074,
          0.04561909506329605,
          -0.050759220527806966,
          0.1461876823047807,
          -0.38426741054838787,
          -0.014969993777232042,
          -0.1448375494565698,
          0.21646134760893124,
          0.23825285518575728,
          0.6698934648869808,
          0.2411437576710019,
          0.2830779408941415,
          0.3321026960081838,
          0.1719100199587879,
          0.21541742942089948,
          0.2007418757041867,
          0.2554701188703411,
          0.9276982056565192,
          0.18744374522983837,
          -0.07727123499383663,
          0.39810433454921595,
          0.3154838127591946,
          0.17296178666013495,
          0.5744819270532135,
          0.5152458780528727,
          0.4272545131303975,
          0.2609548059090596,
          0.1779433320028396,
          0.2134314330076821,
          0.25513194460738414,
          0.2225053455748492,
          0.2858143140410513,
          0.08953598776611207,
          0.019302933301702754,
          0.7001462248659288,
          0.1603661805090859,
          -1.3250713753334644,
          0.04487444744380956,
          0.2776976443880964,
          0.21278267985685423,
          0.18849645430717715,
          0.06177365817321087,
          0.21604914151955523,
          0.1757609636757494,
          0.21822124582519237,
          0.28133790301219164,
          0.28951444270046445,
          -0.04224568077124385,
          0.17485679928655076,
          0.147885691336999,
          0.27242275020067924,
          0.21161717805944122,
          0.023166144050250873,
          0.16846035234462597,
          0.07069740135739197,
          0.015233552222590091,
          0.15840793286457708,
          -0.013918485360769757,
          -0.012860471701897943,
          0.3216141862931996,
          -0.15110316565481807,
          0.05846567476495395,
          0.16517185082040076,
          -0.025259567503391707,
          0.4485318572386715,
          -0.5425608989329416,
          0.17386825737127065,
          0.11093427827229484,
          0.29554047017382473,
          -0.057046716373639075,
          -0.17787602401950323,
          -0.09963723244539169,
          0.3565424551933604,
          0.15746314817541993,
          -0.19374827313946652,
          -15.090320481712126,
          -0.29147143279204574,
          -0.04247454594752119,
          -0.6229342755160155,
          -0.2978608887242805,
          -0.17533537059149598,
          0.30718715367432164,
          -0.5783934503134374,
          -0.18697247468910355,
          0.6732867070676948,
          0.01123100865057454,
          -12.047248426644108,
          0.3655867382254277,
          -0.13178328233891537,
          -0.37194713088941567,
          -0.48571320500075404,
          18.016761834307605,
          -0.3412504752572379,
          0.0741231605058763,
          0.02440365669499309,
          0.32059168272871746,
          9.774596452082662,
          0.007970515473334293,
          -0.42551201278049294,
          -0.21314462494191086
         ],
         "yaxis": "y"
        },
        {
         "customdata": [
          [
           "NEGATIVE"
          ],
          [
           "NEGATIVE"
          ],
          [
           "NEGATIVE"
          ],
          [
           "NEGATIVE"
          ],
          [
           "NEGATIVE"
          ],
          [
           "NEGATIVE"
          ],
          [
           "NEGATIVE"
          ],
          [
           "NEGATIVE"
          ],
          [
           "NEGATIVE"
          ],
          [
           "NEGATIVE"
          ],
          [
           "NEGATIVE"
          ],
          [
           "NEGATIVE"
          ],
          [
           "NEGATIVE"
          ],
          [
           "NEGATIVE"
          ],
          [
           "NEGATIVE"
          ],
          [
           "NEGATIVE"
          ],
          [
           "NEGATIVE"
          ],
          [
           "NEGATIVE"
          ],
          [
           "NEGATIVE"
          ],
          [
           "NEGATIVE"
          ],
          [
           "NEGATIVE"
          ],
          [
           "NEGATIVE"
          ],
          [
           "NEGATIVE"
          ],
          [
           "NEGATIVE"
          ],
          [
           "NEGATIVE"
          ],
          [
           "NEGATIVE"
          ],
          [
           "NEGATIVE"
          ],
          [
           "NEGATIVE"
          ],
          [
           "NEGATIVE"
          ],
          [
           "NEGATIVE"
          ],
          [
           "NEGATIVE"
          ],
          [
           "NEGATIVE"
          ],
          [
           "NEGATIVE"
          ],
          [
           "NEGATIVE"
          ],
          [
           "NEGATIVE"
          ],
          [
           "NEGATIVE"
          ],
          [
           "NEGATIVE"
          ],
          [
           "NEGATIVE"
          ],
          [
           "NEGATIVE"
          ],
          [
           "NEGATIVE"
          ],
          [
           "NEGATIVE"
          ],
          [
           "NEGATIVE"
          ],
          [
           "NEGATIVE"
          ],
          [
           "NEGATIVE"
          ],
          [
           "NEGATIVE"
          ],
          [
           "NEGATIVE"
          ],
          [
           "NEGATIVE"
          ],
          [
           "NEGATIVE"
          ],
          [
           "NEGATIVE"
          ],
          [
           "NEGATIVE"
          ],
          [
           "NEGATIVE"
          ],
          [
           "NEGATIVE"
          ],
          [
           "NEGATIVE"
          ],
          [
           "NEGATIVE"
          ],
          [
           "NEGATIVE"
          ],
          [
           "NEGATIVE"
          ],
          [
           "NEGATIVE"
          ],
          [
           "NEGATIVE"
          ],
          [
           "NEGATIVE"
          ],
          [
           "NEGATIVE"
          ],
          [
           "NEGATIVE"
          ],
          [
           "NEGATIVE"
          ],
          [
           "NEGATIVE"
          ],
          [
           "NEGATIVE"
          ],
          [
           "NEGATIVE"
          ]
         ],
         "hovertemplate": "<b>%{hovertext}</b><br><br>Class=%{customdata[0]}<br>PC1=%{x}<br>PC2=%{y}<extra></extra>",
         "hovertext": [
          "Subject_186",
          "Subject_187",
          "Subject_188",
          "Subject_189",
          "Subject_190",
          "Subject_191",
          "Subject_192",
          "Subject_193",
          "Subject_194",
          "Subject_195",
          "Subject_196",
          "Subject_197",
          "Subject_198",
          "Subject_199",
          "Subject_200",
          "Subject_201",
          "Subject_202",
          "Subject_203",
          "Subject_204",
          "Subject_205",
          "Subject_206",
          "Subject_207",
          "Subject_208",
          "Subject_209",
          "Subject_210",
          "Subject_211",
          "Subject_212",
          "Subject_213",
          "Subject_214",
          "Subject_215",
          "Subject_216",
          "Subject_217",
          "Subject_218",
          "Subject_219",
          "Subject_220",
          "Subject_221",
          "Subject_222",
          "Subject_223",
          "Subject_224",
          "Subject_225",
          "Subject_226",
          "Subject_227",
          "Subject_228",
          "Subject_229",
          "Subject_230",
          "Subject_231",
          "Subject_232",
          "Subject_233",
          "Subject_234",
          "Subject_235",
          "Subject_236",
          "Subject_237",
          "Subject_238",
          "Subject_239",
          "Subject_240",
          "Subject_241",
          "Subject_242",
          "Subject_243",
          "Subject_244",
          "Subject_245",
          "Subject_246",
          "Subject_247",
          "Subject_248",
          "Subject_249",
          "Subject_250"
         ],
         "legendgroup": "NEGATIVE",
         "marker": {
          "color": "#EF553B",
          "symbol": "circle"
         },
         "mode": "markers",
         "name": "NEGATIVE",
         "orientation": "v",
         "showlegend": true,
         "type": "scatter",
         "x": [
          -0.7271148954740697,
          -0.6881754927520531,
          -0.715284151384572,
          -0.7464539318667343,
          -0.7873698800260028,
          -0.6771055961193775,
          -0.550233030991591,
          -0.644637977866061,
          -0.7012696211274299,
          -0.5354651577117708,
          -0.7366954504497351,
          -0.80828779818776,
          -0.716477374092844,
          -0.5683059068648906,
          -0.6280657760745296,
          -0.7896516660041871,
          -0.6496927499204538,
          -0.46608042579192976,
          -0.10901062259710498,
          -0.7761948126806754,
          -0.7871156043653197,
          -0.7156969035040386,
          -0.3295727687939788,
          -0.39496569251581043,
          -0.724682388624595,
          -0.7408182204272105,
          -0.7827929003303374,
          -0.761065803744943,
          -0.24521091468295153,
          -0.5995898972319629,
          -0.6897875467737529,
          -0.6049643247935881,
          -0.551749767471203,
          -0.7702174930932377,
          -0.7955777904188605,
          -0.4390633671221786,
          -0.7317518129702802,
          -0.6390249402931352,
          -0.7213260688729721,
          -0.6546296903973234,
          -0.7551565388981807,
          -0.6674651539633187,
          -0.801356356552097,
          -0.7557981016807747,
          -0.6591629453706029,
          -0.7616219924488946,
          -0.7188917624464409,
          -0.7583384575435547,
          -0.3953189017465062,
          -0.5480015782939617,
          -0.4071642901408271,
          -0.5832763103394215,
          -0.7495340565949483,
          -0.7036849485605287,
          -0.7934493663478406,
          -0.17840745489764104,
          5.279781229850158,
          -0.6851661228004974,
          -0.6420722327819347,
          -0.7140118107989405,
          -0.7559804976157024,
          -0.4864295468001306,
          -0.7433311544519731,
          -0.7034387844447695,
          -0.5930343710777617
         ],
         "xaxis": "x",
         "y": [
          0.12531790163615927,
          0.01235479096892978,
          0.15892104105503788,
          0.1361505685305807,
          0.10713985429897016,
          0.1435860234241075,
          0.26876087989280334,
          0.045643339477204954,
          0.19156710996852014,
          0.033596949231813486,
          0.17513775827369255,
          0.12464062787347768,
          0.18377683480338186,
          0.13503994664663238,
          0.20298952932194303,
          0.15830088252385938,
          0.2217252699846104,
          0.012158297352878794,
          -0.4141181366650813,
          0.11153423483035543,
          0.10857132565949813,
          0.10309588948991726,
          0.31847068164585524,
          0.2364912202743898,
          0.09483501004264537,
          0.09696882900437592,
          0.10007817236943851,
          0.17931685210877193,
          -0.10852503893374123,
          0.0022733961505650995,
          0.005094030880426374,
          -0.027470521807270956,
          -0.02172580931336085,
          0.09982319885881817,
          0.12019321644252579,
          -0.006381666453880825,
          0.05429243253853539,
          -0.021783792339871235,
          -0.05289249199403858,
          -0.10492720376745744,
          0.06210035329363338,
          -0.01970226181265969,
          0.11213963703628929,
          0.1601260637495817,
          0.05264016706377275,
          0.1270369565866514,
          -0.3844551549456906,
          0.1455185008704466,
          -0.03252529574081957,
          -0.18083747109435866,
          -0.07642878669782413,
          0.08854345897234711,
          0.13448924870204876,
          0.08876842071999883,
          0.1571083832771115,
          -0.009347129774113824,
          -2.3602289110288313,
          0.04318651515861655,
          0.013547038450760142,
          0.025466780652145714,
          0.04020341381003635,
          -0.04672464924369331,
          0.06855476119697043,
          -0.07032599644805111,
          -0.0012709880817168531
         ],
         "yaxis": "y"
        }
       ],
       "layout": {
        "height": 600,
        "legend": {
         "title": {
          "text": "Class"
         },
         "tracegroupgap": 0
        },
        "margin": {
         "t": 60
        },
        "template": {
         "data": {
          "bar": [
           {
            "error_x": {
             "color": "#2a3f5f"
            },
            "error_y": {
             "color": "#2a3f5f"
            },
            "marker": {
             "line": {
              "color": "#E5ECF6",
              "width": 0.5
             },
             "pattern": {
              "fillmode": "overlay",
              "size": 10,
              "solidity": 0.2
             }
            },
            "type": "bar"
           }
          ],
          "barpolar": [
           {
            "marker": {
             "line": {
              "color": "#E5ECF6",
              "width": 0.5
             },
             "pattern": {
              "fillmode": "overlay",
              "size": 10,
              "solidity": 0.2
             }
            },
            "type": "barpolar"
           }
          ],
          "carpet": [
           {
            "aaxis": {
             "endlinecolor": "#2a3f5f",
             "gridcolor": "white",
             "linecolor": "white",
             "minorgridcolor": "white",
             "startlinecolor": "#2a3f5f"
            },
            "baxis": {
             "endlinecolor": "#2a3f5f",
             "gridcolor": "white",
             "linecolor": "white",
             "minorgridcolor": "white",
             "startlinecolor": "#2a3f5f"
            },
            "type": "carpet"
           }
          ],
          "choropleth": [
           {
            "colorbar": {
             "outlinewidth": 0,
             "ticks": ""
            },
            "type": "choropleth"
           }
          ],
          "contour": [
           {
            "colorbar": {
             "outlinewidth": 0,
             "ticks": ""
            },
            "colorscale": [
             [
              0,
              "#0d0887"
             ],
             [
              0.1111111111111111,
              "#46039f"
             ],
             [
              0.2222222222222222,
              "#7201a8"
             ],
             [
              0.3333333333333333,
              "#9c179e"
             ],
             [
              0.4444444444444444,
              "#bd3786"
             ],
             [
              0.5555555555555556,
              "#d8576b"
             ],
             [
              0.6666666666666666,
              "#ed7953"
             ],
             [
              0.7777777777777778,
              "#fb9f3a"
             ],
             [
              0.8888888888888888,
              "#fdca26"
             ],
             [
              1,
              "#f0f921"
             ]
            ],
            "type": "contour"
           }
          ],
          "contourcarpet": [
           {
            "colorbar": {
             "outlinewidth": 0,
             "ticks": ""
            },
            "type": "contourcarpet"
           }
          ],
          "heatmap": [
           {
            "colorbar": {
             "outlinewidth": 0,
             "ticks": ""
            },
            "colorscale": [
             [
              0,
              "#0d0887"
             ],
             [
              0.1111111111111111,
              "#46039f"
             ],
             [
              0.2222222222222222,
              "#7201a8"
             ],
             [
              0.3333333333333333,
              "#9c179e"
             ],
             [
              0.4444444444444444,
              "#bd3786"
             ],
             [
              0.5555555555555556,
              "#d8576b"
             ],
             [
              0.6666666666666666,
              "#ed7953"
             ],
             [
              0.7777777777777778,
              "#fb9f3a"
             ],
             [
              0.8888888888888888,
              "#fdca26"
             ],
             [
              1,
              "#f0f921"
             ]
            ],
            "type": "heatmap"
           }
          ],
          "heatmapgl": [
           {
            "colorbar": {
             "outlinewidth": 0,
             "ticks": ""
            },
            "colorscale": [
             [
              0,
              "#0d0887"
             ],
             [
              0.1111111111111111,
              "#46039f"
             ],
             [
              0.2222222222222222,
              "#7201a8"
             ],
             [
              0.3333333333333333,
              "#9c179e"
             ],
             [
              0.4444444444444444,
              "#bd3786"
             ],
             [
              0.5555555555555556,
              "#d8576b"
             ],
             [
              0.6666666666666666,
              "#ed7953"
             ],
             [
              0.7777777777777778,
              "#fb9f3a"
             ],
             [
              0.8888888888888888,
              "#fdca26"
             ],
             [
              1,
              "#f0f921"
             ]
            ],
            "type": "heatmapgl"
           }
          ],
          "histogram": [
           {
            "marker": {
             "pattern": {
              "fillmode": "overlay",
              "size": 10,
              "solidity": 0.2
             }
            },
            "type": "histogram"
           }
          ],
          "histogram2d": [
           {
            "colorbar": {
             "outlinewidth": 0,
             "ticks": ""
            },
            "colorscale": [
             [
              0,
              "#0d0887"
             ],
             [
              0.1111111111111111,
              "#46039f"
             ],
             [
              0.2222222222222222,
              "#7201a8"
             ],
             [
              0.3333333333333333,
              "#9c179e"
             ],
             [
              0.4444444444444444,
              "#bd3786"
             ],
             [
              0.5555555555555556,
              "#d8576b"
             ],
             [
              0.6666666666666666,
              "#ed7953"
             ],
             [
              0.7777777777777778,
              "#fb9f3a"
             ],
             [
              0.8888888888888888,
              "#fdca26"
             ],
             [
              1,
              "#f0f921"
             ]
            ],
            "type": "histogram2d"
           }
          ],
          "histogram2dcontour": [
           {
            "colorbar": {
             "outlinewidth": 0,
             "ticks": ""
            },
            "colorscale": [
             [
              0,
              "#0d0887"
             ],
             [
              0.1111111111111111,
              "#46039f"
             ],
             [
              0.2222222222222222,
              "#7201a8"
             ],
             [
              0.3333333333333333,
              "#9c179e"
             ],
             [
              0.4444444444444444,
              "#bd3786"
             ],
             [
              0.5555555555555556,
              "#d8576b"
             ],
             [
              0.6666666666666666,
              "#ed7953"
             ],
             [
              0.7777777777777778,
              "#fb9f3a"
             ],
             [
              0.8888888888888888,
              "#fdca26"
             ],
             [
              1,
              "#f0f921"
             ]
            ],
            "type": "histogram2dcontour"
           }
          ],
          "mesh3d": [
           {
            "colorbar": {
             "outlinewidth": 0,
             "ticks": ""
            },
            "type": "mesh3d"
           }
          ],
          "parcoords": [
           {
            "line": {
             "colorbar": {
              "outlinewidth": 0,
              "ticks": ""
             }
            },
            "type": "parcoords"
           }
          ],
          "pie": [
           {
            "automargin": true,
            "type": "pie"
           }
          ],
          "scatter": [
           {
            "marker": {
             "colorbar": {
              "outlinewidth": 0,
              "ticks": ""
             }
            },
            "type": "scatter"
           }
          ],
          "scatter3d": [
           {
            "line": {
             "colorbar": {
              "outlinewidth": 0,
              "ticks": ""
             }
            },
            "marker": {
             "colorbar": {
              "outlinewidth": 0,
              "ticks": ""
             }
            },
            "type": "scatter3d"
           }
          ],
          "scattercarpet": [
           {
            "marker": {
             "colorbar": {
              "outlinewidth": 0,
              "ticks": ""
             }
            },
            "type": "scattercarpet"
           }
          ],
          "scattergeo": [
           {
            "marker": {
             "colorbar": {
              "outlinewidth": 0,
              "ticks": ""
             }
            },
            "type": "scattergeo"
           }
          ],
          "scattergl": [
           {
            "marker": {
             "colorbar": {
              "outlinewidth": 0,
              "ticks": ""
             }
            },
            "type": "scattergl"
           }
          ],
          "scattermapbox": [
           {
            "marker": {
             "colorbar": {
              "outlinewidth": 0,
              "ticks": ""
             }
            },
            "type": "scattermapbox"
           }
          ],
          "scatterpolar": [
           {
            "marker": {
             "colorbar": {
              "outlinewidth": 0,
              "ticks": ""
             }
            },
            "type": "scatterpolar"
           }
          ],
          "scatterpolargl": [
           {
            "marker": {
             "colorbar": {
              "outlinewidth": 0,
              "ticks": ""
             }
            },
            "type": "scatterpolargl"
           }
          ],
          "scatterternary": [
           {
            "marker": {
             "colorbar": {
              "outlinewidth": 0,
              "ticks": ""
             }
            },
            "type": "scatterternary"
           }
          ],
          "surface": [
           {
            "colorbar": {
             "outlinewidth": 0,
             "ticks": ""
            },
            "colorscale": [
             [
              0,
              "#0d0887"
             ],
             [
              0.1111111111111111,
              "#46039f"
             ],
             [
              0.2222222222222222,
              "#7201a8"
             ],
             [
              0.3333333333333333,
              "#9c179e"
             ],
             [
              0.4444444444444444,
              "#bd3786"
             ],
             [
              0.5555555555555556,
              "#d8576b"
             ],
             [
              0.6666666666666666,
              "#ed7953"
             ],
             [
              0.7777777777777778,
              "#fb9f3a"
             ],
             [
              0.8888888888888888,
              "#fdca26"
             ],
             [
              1,
              "#f0f921"
             ]
            ],
            "type": "surface"
           }
          ],
          "table": [
           {
            "cells": {
             "fill": {
              "color": "#EBF0F8"
             },
             "line": {
              "color": "white"
             }
            },
            "header": {
             "fill": {
              "color": "#C8D4E3"
             },
             "line": {
              "color": "white"
             }
            },
            "type": "table"
           }
          ]
         },
         "layout": {
          "annotationdefaults": {
           "arrowcolor": "#2a3f5f",
           "arrowhead": 0,
           "arrowwidth": 1
          },
          "autotypenumbers": "strict",
          "coloraxis": {
           "colorbar": {
            "outlinewidth": 0,
            "ticks": ""
           }
          },
          "colorscale": {
           "diverging": [
            [
             0,
             "#8e0152"
            ],
            [
             0.1,
             "#c51b7d"
            ],
            [
             0.2,
             "#de77ae"
            ],
            [
             0.3,
             "#f1b6da"
            ],
            [
             0.4,
             "#fde0ef"
            ],
            [
             0.5,
             "#f7f7f7"
            ],
            [
             0.6,
             "#e6f5d0"
            ],
            [
             0.7,
             "#b8e186"
            ],
            [
             0.8,
             "#7fbc41"
            ],
            [
             0.9,
             "#4d9221"
            ],
            [
             1,
             "#276419"
            ]
           ],
           "sequential": [
            [
             0,
             "#0d0887"
            ],
            [
             0.1111111111111111,
             "#46039f"
            ],
            [
             0.2222222222222222,
             "#7201a8"
            ],
            [
             0.3333333333333333,
             "#9c179e"
            ],
            [
             0.4444444444444444,
             "#bd3786"
            ],
            [
             0.5555555555555556,
             "#d8576b"
            ],
            [
             0.6666666666666666,
             "#ed7953"
            ],
            [
             0.7777777777777778,
             "#fb9f3a"
            ],
            [
             0.8888888888888888,
             "#fdca26"
            ],
            [
             1,
             "#f0f921"
            ]
           ],
           "sequentialminus": [
            [
             0,
             "#0d0887"
            ],
            [
             0.1111111111111111,
             "#46039f"
            ],
            [
             0.2222222222222222,
             "#7201a8"
            ],
            [
             0.3333333333333333,
             "#9c179e"
            ],
            [
             0.4444444444444444,
             "#bd3786"
            ],
            [
             0.5555555555555556,
             "#d8576b"
            ],
            [
             0.6666666666666666,
             "#ed7953"
            ],
            [
             0.7777777777777778,
             "#fb9f3a"
            ],
            [
             0.8888888888888888,
             "#fdca26"
            ],
            [
             1,
             "#f0f921"
            ]
           ]
          },
          "colorway": [
           "#636efa",
           "#EF553B",
           "#00cc96",
           "#ab63fa",
           "#FFA15A",
           "#19d3f3",
           "#FF6692",
           "#B6E880",
           "#FF97FF",
           "#FECB52"
          ],
          "font": {
           "color": "#2a3f5f"
          },
          "geo": {
           "bgcolor": "white",
           "lakecolor": "white",
           "landcolor": "#E5ECF6",
           "showlakes": true,
           "showland": true,
           "subunitcolor": "white"
          },
          "hoverlabel": {
           "align": "left"
          },
          "hovermode": "closest",
          "mapbox": {
           "style": "light"
          },
          "paper_bgcolor": "white",
          "plot_bgcolor": "#E5ECF6",
          "polar": {
           "angularaxis": {
            "gridcolor": "white",
            "linecolor": "white",
            "ticks": ""
           },
           "bgcolor": "#E5ECF6",
           "radialaxis": {
            "gridcolor": "white",
            "linecolor": "white",
            "ticks": ""
           }
          },
          "scene": {
           "xaxis": {
            "backgroundcolor": "#E5ECF6",
            "gridcolor": "white",
            "gridwidth": 2,
            "linecolor": "white",
            "showbackground": true,
            "ticks": "",
            "zerolinecolor": "white"
           },
           "yaxis": {
            "backgroundcolor": "#E5ECF6",
            "gridcolor": "white",
            "gridwidth": 2,
            "linecolor": "white",
            "showbackground": true,
            "ticks": "",
            "zerolinecolor": "white"
           },
           "zaxis": {
            "backgroundcolor": "#E5ECF6",
            "gridcolor": "white",
            "gridwidth": 2,
            "linecolor": "white",
            "showbackground": true,
            "ticks": "",
            "zerolinecolor": "white"
           }
          },
          "shapedefaults": {
           "line": {
            "color": "#2a3f5f"
           }
          },
          "ternary": {
           "aaxis": {
            "gridcolor": "white",
            "linecolor": "white",
            "ticks": ""
           },
           "baxis": {
            "gridcolor": "white",
            "linecolor": "white",
            "ticks": ""
           },
           "bgcolor": "#E5ECF6",
           "caxis": {
            "gridcolor": "white",
            "linecolor": "white",
            "ticks": ""
           }
          },
          "title": {
           "x": 0.05
          },
          "xaxis": {
           "automargin": true,
           "gridcolor": "white",
           "linecolor": "white",
           "ticks": "",
           "title": {
            "standoff": 15
           },
           "zerolinecolor": "white",
           "zerolinewidth": 2
          },
          "yaxis": {
           "automargin": true,
           "gridcolor": "white",
           "linecolor": "white",
           "ticks": "",
           "title": {
            "standoff": 15
           },
           "zerolinecolor": "white",
           "zerolinewidth": 2
          }
         }
        },
        "title": {
         "text": "Scores Plot"
        },
        "width": 800,
        "xaxis": {
         "anchor": "y",
         "domain": [
          0,
          1
         ],
         "title": {
          "text": "PC1"
         },
         "zeroline": true,
         "zerolinecolor": "Black",
         "zerolinewidth": 1
        },
        "yaxis": {
         "anchor": "x",
         "domain": [
          0,
          1
         ],
         "title": {
          "text": "PC2"
         },
         "zeroline": true,
         "zerolinecolor": "Black",
         "zerolinewidth": 1
        }
       }
      },
      "text/html": [
       "<div>                            <div id=\"19074438-03fb-45a2-b4f5-86b0fb4f6f59\" class=\"plotly-graph-div\" style=\"height:600px; width:800px;\"></div>            <script type=\"text/javascript\">                require([\"plotly\"], function(Plotly) {                    window.PLOTLYENV=window.PLOTLYENV || {};                                    if (document.getElementById(\"19074438-03fb-45a2-b4f5-86b0fb4f6f59\")) {                    Plotly.newPlot(                        \"19074438-03fb-45a2-b4f5-86b0fb4f6f59\",                        [{\"customdata\":[[\"POSITIVE\"],[\"POSITIVE\"],[\"POSITIVE\"],[\"POSITIVE\"],[\"POSITIVE\"],[\"POSITIVE\"],[\"POSITIVE\"],[\"POSITIVE\"],[\"POSITIVE\"],[\"POSITIVE\"],[\"POSITIVE\"],[\"POSITIVE\"],[\"POSITIVE\"],[\"POSITIVE\"],[\"POSITIVE\"],[\"POSITIVE\"],[\"POSITIVE\"],[\"POSITIVE\"],[\"POSITIVE\"],[\"POSITIVE\"],[\"POSITIVE\"],[\"POSITIVE\"],[\"POSITIVE\"],[\"POSITIVE\"],[\"POSITIVE\"],[\"POSITIVE\"],[\"POSITIVE\"],[\"POSITIVE\"],[\"POSITIVE\"],[\"POSITIVE\"],[\"POSITIVE\"],[\"POSITIVE\"],[\"POSITIVE\"],[\"POSITIVE\"],[\"POSITIVE\"],[\"POSITIVE\"],[\"POSITIVE\"],[\"POSITIVE\"],[\"POSITIVE\"],[\"POSITIVE\"],[\"POSITIVE\"],[\"POSITIVE\"],[\"POSITIVE\"],[\"POSITIVE\"],[\"POSITIVE\"],[\"POSITIVE\"],[\"POSITIVE\"],[\"POSITIVE\"],[\"POSITIVE\"],[\"POSITIVE\"],[\"POSITIVE\"],[\"POSITIVE\"],[\"POSITIVE\"],[\"POSITIVE\"],[\"POSITIVE\"],[\"POSITIVE\"],[\"POSITIVE\"],[\"POSITIVE\"],[\"POSITIVE\"],[\"POSITIVE\"],[\"POSITIVE\"],[\"POSITIVE\"],[\"POSITIVE\"],[\"POSITIVE\"],[\"POSITIVE\"],[\"POSITIVE\"],[\"POSITIVE\"],[\"POSITIVE\"],[\"POSITIVE\"],[\"POSITIVE\"],[\"POSITIVE\"],[\"POSITIVE\"],[\"POSITIVE\"],[\"POSITIVE\"],[\"POSITIVE\"],[\"POSITIVE\"],[\"POSITIVE\"],[\"POSITIVE\"],[\"POSITIVE\"],[\"POSITIVE\"],[\"POSITIVE\"],[\"POSITIVE\"],[\"POSITIVE\"],[\"POSITIVE\"],[\"POSITIVE\"],[\"POSITIVE\"],[\"POSITIVE\"],[\"POSITIVE\"],[\"POSITIVE\"],[\"POSITIVE\"],[\"POSITIVE\"],[\"POSITIVE\"],[\"POSITIVE\"],[\"POSITIVE\"],[\"POSITIVE\"],[\"POSITIVE\"],[\"POSITIVE\"],[\"POSITIVE\"],[\"POSITIVE\"],[\"POSITIVE\"],[\"POSITIVE\"],[\"POSITIVE\"],[\"POSITIVE\"],[\"POSITIVE\"],[\"POSITIVE\"],[\"POSITIVE\"],[\"POSITIVE\"],[\"POSITIVE\"],[\"POSITIVE\"],[\"POSITIVE\"],[\"POSITIVE\"],[\"POSITIVE\"],[\"POSITIVE\"],[\"POSITIVE\"],[\"POSITIVE\"],[\"POSITIVE\"],[\"POSITIVE\"],[\"POSITIVE\"],[\"POSITIVE\"],[\"POSITIVE\"],[\"POSITIVE\"],[\"POSITIVE\"],[\"POSITIVE\"],[\"POSITIVE\"],[\"POSITIVE\"],[\"POSITIVE\"],[\"POSITIVE\"],[\"POSITIVE\"],[\"POSITIVE\"],[\"POSITIVE\"],[\"POSITIVE\"],[\"POSITIVE\"],[\"POSITIVE\"],[\"POSITIVE\"],[\"POSITIVE\"],[\"POSITIVE\"],[\"POSITIVE\"],[\"POSITIVE\"],[\"POSITIVE\"],[\"POSITIVE\"],[\"POSITIVE\"],[\"POSITIVE\"],[\"POSITIVE\"],[\"POSITIVE\"],[\"POSITIVE\"],[\"POSITIVE\"],[\"POSITIVE\"],[\"POSITIVE\"],[\"POSITIVE\"],[\"POSITIVE\"],[\"POSITIVE\"],[\"POSITIVE\"],[\"POSITIVE\"],[\"POSITIVE\"],[\"POSITIVE\"],[\"POSITIVE\"],[\"POSITIVE\"],[\"POSITIVE\"],[\"POSITIVE\"],[\"POSITIVE\"],[\"POSITIVE\"],[\"POSITIVE\"],[\"POSITIVE\"],[\"POSITIVE\"],[\"POSITIVE\"],[\"POSITIVE\"],[\"POSITIVE\"],[\"POSITIVE\"],[\"POSITIVE\"],[\"POSITIVE\"],[\"POSITIVE\"],[\"POSITIVE\"],[\"POSITIVE\"],[\"POSITIVE\"],[\"POSITIVE\"],[\"POSITIVE\"],[\"POSITIVE\"],[\"POSITIVE\"],[\"POSITIVE\"],[\"POSITIVE\"],[\"POSITIVE\"],[\"POSITIVE\"],[\"POSITIVE\"],[\"POSITIVE\"],[\"POSITIVE\"]],\"hovertemplate\":\"<b>%{hovertext}</b><br><br>Class=%{customdata[0]}<br>PC1=%{x}<br>PC2=%{y}<extra></extra>\",\"hovertext\":[\"Subject_1\",\"Subject_2\",\"Subject_3\",\"Subject_4\",\"Subject_5\",\"Subject_6\",\"Subject_7\",\"Subject_8\",\"Subject_9\",\"Subject_10\",\"Subject_11\",\"Subject_12\",\"Subject_13\",\"Subject_14\",\"Subject_15\",\"Subject_16\",\"Subject_17\",\"Subject_18\",\"Subject_19\",\"Subject_20\",\"Subject_21\",\"Subject_22\",\"Subject_23\",\"Subject_24\",\"Subject_25\",\"Subject_26\",\"Subject_27\",\"Subject_28\",\"Subject_29\",\"Subject_30\",\"Subject_31\",\"Subject_32\",\"Subject_33\",\"Subject_34\",\"Subject_35\",\"Subject_36\",\"Subject_37\",\"Subject_38\",\"Subject_39\",\"Subject_40\",\"Subject_41\",\"Subject_42\",\"Subject_43\",\"Subject_44\",\"Subject_45\",\"Subject_46\",\"Subject_47\",\"Subject_48\",\"Subject_49\",\"Subject_50\",\"Subject_51\",\"Subject_52\",\"Subject_53\",\"Subject_54\",\"Subject_55\",\"Subject_56\",\"Subject_57\",\"Subject_58\",\"Subject_59\",\"Subject_60\",\"Subject_61\",\"Subject_62\",\"Subject_63\",\"Subject_64\",\"Subject_65\",\"Subject_66\",\"Subject_67\",\"Subject_68\",\"Subject_69\",\"Subject_70\",\"Subject_71\",\"Subject_72\",\"Subject_73\",\"Subject_74\",\"Subject_75\",\"Subject_76\",\"Subject_77\",\"Subject_78\",\"Subject_79\",\"Subject_80\",\"Subject_81\",\"Subject_82\",\"Subject_83\",\"Subject_84\",\"Subject_85\",\"Subject_86\",\"Subject_87\",\"Subject_88\",\"Subject_89\",\"Subject_90\",\"Subject_91\",\"Subject_92\",\"Subject_93\",\"Subject_94\",\"Subject_95\",\"Subject_96\",\"Subject_97\",\"Subject_98\",\"Subject_99\",\"Subject_100\",\"Subject_101\",\"Subject_102\",\"Subject_103\",\"Subject_104\",\"Subject_105\",\"Subject_106\",\"Subject_107\",\"Subject_108\",\"Subject_109\",\"Subject_110\",\"Subject_111\",\"Subject_112\",\"Subject_113\",\"Subject_114\",\"Subject_115\",\"Subject_116\",\"Subject_117\",\"Subject_118\",\"Subject_119\",\"Subject_120\",\"Subject_121\",\"Subject_122\",\"Subject_123\",\"Subject_124\",\"Subject_125\",\"Subject_126\",\"Subject_127\",\"Subject_128\",\"Subject_129\",\"Subject_130\",\"Subject_131\",\"Subject_132\",\"Subject_133\",\"Subject_134\",\"Subject_135\",\"Subject_136\",\"Subject_137\",\"Subject_138\",\"Subject_139\",\"Subject_140\",\"Subject_141\",\"Subject_142\",\"Subject_143\",\"Subject_144\",\"Subject_145\",\"Subject_146\",\"Subject_147\",\"Subject_148\",\"Subject_149\",\"Subject_150\",\"Subject_151\",\"Subject_152\",\"Subject_153\",\"Subject_154\",\"Subject_155\",\"Subject_156\",\"Subject_157\",\"Subject_158\",\"Subject_159\",\"Subject_160\",\"Subject_161\",\"Subject_162\",\"Subject_163\",\"Subject_164\",\"Subject_165\",\"Subject_166\",\"Subject_167\",\"Subject_168\",\"Subject_169\",\"Subject_170\",\"Subject_171\",\"Subject_172\",\"Subject_173\",\"Subject_174\",\"Subject_175\",\"Subject_176\",\"Subject_177\",\"Subject_178\",\"Subject_179\",\"Subject_180\",\"Subject_181\",\"Subject_182\",\"Subject_183\",\"Subject_184\",\"Subject_185\"],\"legendgroup\":\"POSITIVE\",\"marker\":{\"color\":\"#636efa\",\"symbol\":\"circle\"},\"mode\":\"markers\",\"name\":\"POSITIVE\",\"orientation\":\"v\",\"showlegend\":true,\"x\":[0.21837402148048587,-0.5987677734919538,-0.29025354041809204,-0.2876091826495827,0.4451980549026791,-0.3302434849072217,-0.04758394780693809,0.02293616545613225,-0.15985328789351572,2.8436888316234743,-0.31580497818430087,-0.18720983046785458,-0.6591051317145165,-0.7520749819656881,-0.5991774133572972,-0.5409636717129276,-0.06195470449917792,-0.5642857012183597,-0.49439396125774077,-0.24288632075926964,0.49213316312264116,-0.18226810436591237,-0.3193755014466612,-0.2190980194215748,-0.41967707404728755,8.548298380134636,-0.3520475693916829,-0.6022972890089814,4.608468250098928,-0.259087446994994,-0.4330011536133455,-0.3889250103082875,0.19583700708340657,-0.5847632955969195,-0.468479943824998,-0.588957990345356,-0.649358106665862,-0.2504816766634283,-0.5015362442693401,-0.2248272048796834,-0.4756532372987744,0.0037283128439817076,-0.4301192421165573,-0.5604637131253121,-0.8385435468727517,-0.49702206439536917,-0.0661968133581692,-0.26712005742354833,1.2518056979237675,-0.29034753410054664,-0.29036172432691265,0.38512808180394087,-0.3041765540557657,-0.31004261598813765,-0.2764775892744631,-0.36348978463351894,-0.17875433096256257,-0.4195044245346068,-0.010780818769571704,-0.40942719076887163,0.29690576054569445,-0.3373765158251414,-0.4299663919946621,-0.43034037125443947,-0.12131387407187513,-0.060795374973680344,-0.3913045796769347,-0.7503410762766306,-0.5755938126216725,-0.5384717164965662,-0.5147766322635239,-0.14638496636028323,0.5782869907216193,-0.3493697323382584,-0.07753063957001505,-0.25513911073170165,-0.22899417046760911,-0.24075243087146017,-0.11752164678746826,0.4718850511201453,2.3934051580627695,-0.49356637563066097,0.5859594154159039,1.6174252007319874,0.10878653251971046,0.2700152585911399,0.09003982958955851,-0.5856913206593644,-0.697647352737273,-0.21317892997124827,0.075431953377686,-0.21333995866052657,-0.6304609778413559,-0.4028471101065719,0.46137575322669405,-0.6095491724036087,-0.4837392043327967,0.6542639148926854,-0.7257014202062008,-0.6264682319959384,-0.628380721380055,-0.65608651490268,0.253680540745398,-0.6259507906402542,0.01726930161440591,-0.21884542364421916,-0.5088259943766794,-0.5866432782368297,-0.004311577489355846,0.12308896326106424,-0.0547999359062073,-0.6061952095531596,-0.7950141909367031,-0.7036412514142848,-0.24792110303049752,-0.5989115201921038,-0.5474058787089014,-0.7269664500313208,-0.39676152477361093,0.39014288063588076,-0.7721563716698032,0.629637924314338,-0.7970373174355815,-0.6420247387766885,-0.6182709101855641,-0.6063352659793054,0.61991828718381,-0.6490716802711973,-0.6087415965044053,-0.7021198779371428,-0.46417962511528366,-0.3823409217658497,-0.6275742803168443,-0.711448893392631,-0.7885265803998578,-0.42008075077006446,-0.7138117672000066,-0.6709192838293446,-0.4207067277803662,-0.4195557446099656,-0.6165844454847376,-0.2307373005257205,-0.7003590885021627,-0.4141308992229607,-0.246314785392746,0.6446507647306641,-0.4468969568303455,-0.41539154224704894,-0.2931774236605652,0.19857261100421647,0.3513134319032746,-0.31879724545021576,-0.47902520123464193,-0.41072453010867166,-0.335545470480551,-0.3172551912620757,-0.5096035604661966,0.048440909369758534,-0.4815463513898031,0.14458767159906263,13.582319398017704,-0.22828164168314644,-0.5182878996179995,1.4432598038032503,0.19344285308435713,-0.12114666754353798,-0.06446693533052489,0.9901948157298911,-0.19037657612106007,0.6395297218519919,0.15659552325595347,13.897179585601876,-0.29471920522741396,2.927623803589743,0.11965208869503868,0.28635863212860657,19.602076834386406,0.017829960549922405,-0.37347294726246805,-0.4196641846101537,-0.39846780736388127,8.950067468692584,0.8523983763359305,-0.09508879631432175,-0.06310098142486126],\"xaxis\":\"x\",\"y\":[-0.29749503808556493,-0.02820301798847944,-0.11868557168858587,-0.2012065914972489,-0.23723899094137274,-0.2185834083788421,-0.18550284545596848,-0.11587756411841646,-0.020611581934534412,0.8395036459492502,-0.12195554423046039,0.2681072266317367,0.11449450160990286,0.12491942980254982,-0.0186460063512745,0.4963760729875302,-0.19609164418693997,-0.07691060116432076,-0.051459243299765506,-0.17548131740132147,-0.740064601995952,-0.0328426236353823,-0.12478591144400963,0.34728646194381246,-0.18936882845865585,-3.2126561722085674,-0.1942515110680701,0.011117644084637059,-5.259581067429751,-0.21535613708959553,-0.3122182537426088,-0.00519187003909692,-0.5243167498640936,-0.14678064327828366,0.011808216980515382,-0.05397605344293837,-0.014338674543746216,-0.2613492549655629,-0.24668192984989645,-0.010206511771544195,-0.25793660463789514,-0.7508559467117195,-0.37964983370152305,-0.06760525578407624,0.15441636472220835,-0.12098455223437603,-0.6835198360856034,-0.3490777131929002,-0.1264388919642674,-0.03741525150413765,-0.12594682074014754,-0.40793897993317196,-0.23421499608914403,-0.11526423662249798,-0.12661579304143078,-0.03336422355202694,-0.19806730673002798,-0.0777186746884429,-0.3061132910294737,-0.21930370677177333,0.1310945276312152,-0.09119890619597006,0.29604233345328274,0.10313808530867576,-0.17707426880948104,0.4452633305101828,0.02171975194107275,0.02188577146152903,-0.020902422244375603,0.00895376610775329,0.07351614084340176,0.1548014908543844,0.32618301772714126,0.2311550503872595,0.21925113473884153,0.1480586895278987,0.038775607479878765,0.008102982337260593,0.032761026443716985,0.42943015481984725,0.38033406032043365,-0.003984185111276055,1.206648840802543,0.3352454382344449,0.34515010049975897,0.568545023910074,0.04561909506329605,-0.050759220527806966,0.1461876823047807,-0.38426741054838787,-0.014969993777232042,-0.1448375494565698,0.21646134760893124,0.23825285518575728,0.6698934648869808,0.2411437576710019,0.2830779408941415,0.3321026960081838,0.1719100199587879,0.21541742942089948,0.2007418757041867,0.2554701188703411,0.9276982056565192,0.18744374522983837,-0.07727123499383663,0.39810433454921595,0.3154838127591946,0.17296178666013495,0.5744819270532135,0.5152458780528727,0.4272545131303975,0.2609548059090596,0.1779433320028396,0.2134314330076821,0.25513194460738414,0.2225053455748492,0.2858143140410513,0.08953598776611207,0.019302933301702754,0.7001462248659288,0.1603661805090859,-1.3250713753334644,0.04487444744380956,0.2776976443880964,0.21278267985685423,0.18849645430717715,0.06177365817321087,0.21604914151955523,0.1757609636757494,0.21822124582519237,0.28133790301219164,0.28951444270046445,-0.04224568077124385,0.17485679928655076,0.147885691336999,0.27242275020067924,0.21161717805944122,0.023166144050250873,0.16846035234462597,0.07069740135739197,0.015233552222590091,0.15840793286457708,-0.013918485360769757,-0.012860471701897943,0.3216141862931996,-0.15110316565481807,0.05846567476495395,0.16517185082040076,-0.025259567503391707,0.4485318572386715,-0.5425608989329416,0.17386825737127065,0.11093427827229484,0.29554047017382473,-0.057046716373639075,-0.17787602401950323,-0.09963723244539169,0.3565424551933604,0.15746314817541993,-0.19374827313946652,-15.090320481712126,-0.29147143279204574,-0.04247454594752119,-0.6229342755160155,-0.2978608887242805,-0.17533537059149598,0.30718715367432164,-0.5783934503134374,-0.18697247468910355,0.6732867070676948,0.01123100865057454,-12.047248426644108,0.3655867382254277,-0.13178328233891537,-0.37194713088941567,-0.48571320500075404,18.016761834307605,-0.3412504752572379,0.0741231605058763,0.02440365669499309,0.32059168272871746,9.774596452082662,0.007970515473334293,-0.42551201278049294,-0.21314462494191086],\"yaxis\":\"y\",\"type\":\"scatter\"},{\"customdata\":[[\"NEGATIVE\"],[\"NEGATIVE\"],[\"NEGATIVE\"],[\"NEGATIVE\"],[\"NEGATIVE\"],[\"NEGATIVE\"],[\"NEGATIVE\"],[\"NEGATIVE\"],[\"NEGATIVE\"],[\"NEGATIVE\"],[\"NEGATIVE\"],[\"NEGATIVE\"],[\"NEGATIVE\"],[\"NEGATIVE\"],[\"NEGATIVE\"],[\"NEGATIVE\"],[\"NEGATIVE\"],[\"NEGATIVE\"],[\"NEGATIVE\"],[\"NEGATIVE\"],[\"NEGATIVE\"],[\"NEGATIVE\"],[\"NEGATIVE\"],[\"NEGATIVE\"],[\"NEGATIVE\"],[\"NEGATIVE\"],[\"NEGATIVE\"],[\"NEGATIVE\"],[\"NEGATIVE\"],[\"NEGATIVE\"],[\"NEGATIVE\"],[\"NEGATIVE\"],[\"NEGATIVE\"],[\"NEGATIVE\"],[\"NEGATIVE\"],[\"NEGATIVE\"],[\"NEGATIVE\"],[\"NEGATIVE\"],[\"NEGATIVE\"],[\"NEGATIVE\"],[\"NEGATIVE\"],[\"NEGATIVE\"],[\"NEGATIVE\"],[\"NEGATIVE\"],[\"NEGATIVE\"],[\"NEGATIVE\"],[\"NEGATIVE\"],[\"NEGATIVE\"],[\"NEGATIVE\"],[\"NEGATIVE\"],[\"NEGATIVE\"],[\"NEGATIVE\"],[\"NEGATIVE\"],[\"NEGATIVE\"],[\"NEGATIVE\"],[\"NEGATIVE\"],[\"NEGATIVE\"],[\"NEGATIVE\"],[\"NEGATIVE\"],[\"NEGATIVE\"],[\"NEGATIVE\"],[\"NEGATIVE\"],[\"NEGATIVE\"],[\"NEGATIVE\"],[\"NEGATIVE\"]],\"hovertemplate\":\"<b>%{hovertext}</b><br><br>Class=%{customdata[0]}<br>PC1=%{x}<br>PC2=%{y}<extra></extra>\",\"hovertext\":[\"Subject_186\",\"Subject_187\",\"Subject_188\",\"Subject_189\",\"Subject_190\",\"Subject_191\",\"Subject_192\",\"Subject_193\",\"Subject_194\",\"Subject_195\",\"Subject_196\",\"Subject_197\",\"Subject_198\",\"Subject_199\",\"Subject_200\",\"Subject_201\",\"Subject_202\",\"Subject_203\",\"Subject_204\",\"Subject_205\",\"Subject_206\",\"Subject_207\",\"Subject_208\",\"Subject_209\",\"Subject_210\",\"Subject_211\",\"Subject_212\",\"Subject_213\",\"Subject_214\",\"Subject_215\",\"Subject_216\",\"Subject_217\",\"Subject_218\",\"Subject_219\",\"Subject_220\",\"Subject_221\",\"Subject_222\",\"Subject_223\",\"Subject_224\",\"Subject_225\",\"Subject_226\",\"Subject_227\",\"Subject_228\",\"Subject_229\",\"Subject_230\",\"Subject_231\",\"Subject_232\",\"Subject_233\",\"Subject_234\",\"Subject_235\",\"Subject_236\",\"Subject_237\",\"Subject_238\",\"Subject_239\",\"Subject_240\",\"Subject_241\",\"Subject_242\",\"Subject_243\",\"Subject_244\",\"Subject_245\",\"Subject_246\",\"Subject_247\",\"Subject_248\",\"Subject_249\",\"Subject_250\"],\"legendgroup\":\"NEGATIVE\",\"marker\":{\"color\":\"#EF553B\",\"symbol\":\"circle\"},\"mode\":\"markers\",\"name\":\"NEGATIVE\",\"orientation\":\"v\",\"showlegend\":true,\"x\":[-0.7271148954740697,-0.6881754927520531,-0.715284151384572,-0.7464539318667343,-0.7873698800260028,-0.6771055961193775,-0.550233030991591,-0.644637977866061,-0.7012696211274299,-0.5354651577117708,-0.7366954504497351,-0.80828779818776,-0.716477374092844,-0.5683059068648906,-0.6280657760745296,-0.7896516660041871,-0.6496927499204538,-0.46608042579192976,-0.10901062259710498,-0.7761948126806754,-0.7871156043653197,-0.7156969035040386,-0.3295727687939788,-0.39496569251581043,-0.724682388624595,-0.7408182204272105,-0.7827929003303374,-0.761065803744943,-0.24521091468295153,-0.5995898972319629,-0.6897875467737529,-0.6049643247935881,-0.551749767471203,-0.7702174930932377,-0.7955777904188605,-0.4390633671221786,-0.7317518129702802,-0.6390249402931352,-0.7213260688729721,-0.6546296903973234,-0.7551565388981807,-0.6674651539633187,-0.801356356552097,-0.7557981016807747,-0.6591629453706029,-0.7616219924488946,-0.7188917624464409,-0.7583384575435547,-0.3953189017465062,-0.5480015782939617,-0.4071642901408271,-0.5832763103394215,-0.7495340565949483,-0.7036849485605287,-0.7934493663478406,-0.17840745489764104,5.279781229850158,-0.6851661228004974,-0.6420722327819347,-0.7140118107989405,-0.7559804976157024,-0.4864295468001306,-0.7433311544519731,-0.7034387844447695,-0.5930343710777617],\"xaxis\":\"x\",\"y\":[0.12531790163615927,0.01235479096892978,0.15892104105503788,0.1361505685305807,0.10713985429897016,0.1435860234241075,0.26876087989280334,0.045643339477204954,0.19156710996852014,0.033596949231813486,0.17513775827369255,0.12464062787347768,0.18377683480338186,0.13503994664663238,0.20298952932194303,0.15830088252385938,0.2217252699846104,0.012158297352878794,-0.4141181366650813,0.11153423483035543,0.10857132565949813,0.10309588948991726,0.31847068164585524,0.2364912202743898,0.09483501004264537,0.09696882900437592,0.10007817236943851,0.17931685210877193,-0.10852503893374123,0.0022733961505650995,0.005094030880426374,-0.027470521807270956,-0.02172580931336085,0.09982319885881817,0.12019321644252579,-0.006381666453880825,0.05429243253853539,-0.021783792339871235,-0.05289249199403858,-0.10492720376745744,0.06210035329363338,-0.01970226181265969,0.11213963703628929,0.1601260637495817,0.05264016706377275,0.1270369565866514,-0.3844551549456906,0.1455185008704466,-0.03252529574081957,-0.18083747109435866,-0.07642878669782413,0.08854345897234711,0.13448924870204876,0.08876842071999883,0.1571083832771115,-0.009347129774113824,-2.3602289110288313,0.04318651515861655,0.013547038450760142,0.025466780652145714,0.04020341381003635,-0.04672464924369331,0.06855476119697043,-0.07032599644805111,-0.0012709880817168531],\"yaxis\":\"y\",\"type\":\"scatter\"}],                        {\"template\":{\"data\":{\"bar\":[{\"error_x\":{\"color\":\"#2a3f5f\"},\"error_y\":{\"color\":\"#2a3f5f\"},\"marker\":{\"line\":{\"color\":\"#E5ECF6\",\"width\":0.5},\"pattern\":{\"fillmode\":\"overlay\",\"size\":10,\"solidity\":0.2}},\"type\":\"bar\"}],\"barpolar\":[{\"marker\":{\"line\":{\"color\":\"#E5ECF6\",\"width\":0.5},\"pattern\":{\"fillmode\":\"overlay\",\"size\":10,\"solidity\":0.2}},\"type\":\"barpolar\"}],\"carpet\":[{\"aaxis\":{\"endlinecolor\":\"#2a3f5f\",\"gridcolor\":\"white\",\"linecolor\":\"white\",\"minorgridcolor\":\"white\",\"startlinecolor\":\"#2a3f5f\"},\"baxis\":{\"endlinecolor\":\"#2a3f5f\",\"gridcolor\":\"white\",\"linecolor\":\"white\",\"minorgridcolor\":\"white\",\"startlinecolor\":\"#2a3f5f\"},\"type\":\"carpet\"}],\"choropleth\":[{\"colorbar\":{\"outlinewidth\":0,\"ticks\":\"\"},\"type\":\"choropleth\"}],\"contour\":[{\"colorbar\":{\"outlinewidth\":0,\"ticks\":\"\"},\"colorscale\":[[0.0,\"#0d0887\"],[0.1111111111111111,\"#46039f\"],[0.2222222222222222,\"#7201a8\"],[0.3333333333333333,\"#9c179e\"],[0.4444444444444444,\"#bd3786\"],[0.5555555555555556,\"#d8576b\"],[0.6666666666666666,\"#ed7953\"],[0.7777777777777778,\"#fb9f3a\"],[0.8888888888888888,\"#fdca26\"],[1.0,\"#f0f921\"]],\"type\":\"contour\"}],\"contourcarpet\":[{\"colorbar\":{\"outlinewidth\":0,\"ticks\":\"\"},\"type\":\"contourcarpet\"}],\"heatmap\":[{\"colorbar\":{\"outlinewidth\":0,\"ticks\":\"\"},\"colorscale\":[[0.0,\"#0d0887\"],[0.1111111111111111,\"#46039f\"],[0.2222222222222222,\"#7201a8\"],[0.3333333333333333,\"#9c179e\"],[0.4444444444444444,\"#bd3786\"],[0.5555555555555556,\"#d8576b\"],[0.6666666666666666,\"#ed7953\"],[0.7777777777777778,\"#fb9f3a\"],[0.8888888888888888,\"#fdca26\"],[1.0,\"#f0f921\"]],\"type\":\"heatmap\"}],\"heatmapgl\":[{\"colorbar\":{\"outlinewidth\":0,\"ticks\":\"\"},\"colorscale\":[[0.0,\"#0d0887\"],[0.1111111111111111,\"#46039f\"],[0.2222222222222222,\"#7201a8\"],[0.3333333333333333,\"#9c179e\"],[0.4444444444444444,\"#bd3786\"],[0.5555555555555556,\"#d8576b\"],[0.6666666666666666,\"#ed7953\"],[0.7777777777777778,\"#fb9f3a\"],[0.8888888888888888,\"#fdca26\"],[1.0,\"#f0f921\"]],\"type\":\"heatmapgl\"}],\"histogram\":[{\"marker\":{\"pattern\":{\"fillmode\":\"overlay\",\"size\":10,\"solidity\":0.2}},\"type\":\"histogram\"}],\"histogram2d\":[{\"colorbar\":{\"outlinewidth\":0,\"ticks\":\"\"},\"colorscale\":[[0.0,\"#0d0887\"],[0.1111111111111111,\"#46039f\"],[0.2222222222222222,\"#7201a8\"],[0.3333333333333333,\"#9c179e\"],[0.4444444444444444,\"#bd3786\"],[0.5555555555555556,\"#d8576b\"],[0.6666666666666666,\"#ed7953\"],[0.7777777777777778,\"#fb9f3a\"],[0.8888888888888888,\"#fdca26\"],[1.0,\"#f0f921\"]],\"type\":\"histogram2d\"}],\"histogram2dcontour\":[{\"colorbar\":{\"outlinewidth\":0,\"ticks\":\"\"},\"colorscale\":[[0.0,\"#0d0887\"],[0.1111111111111111,\"#46039f\"],[0.2222222222222222,\"#7201a8\"],[0.3333333333333333,\"#9c179e\"],[0.4444444444444444,\"#bd3786\"],[0.5555555555555556,\"#d8576b\"],[0.6666666666666666,\"#ed7953\"],[0.7777777777777778,\"#fb9f3a\"],[0.8888888888888888,\"#fdca26\"],[1.0,\"#f0f921\"]],\"type\":\"histogram2dcontour\"}],\"mesh3d\":[{\"colorbar\":{\"outlinewidth\":0,\"ticks\":\"\"},\"type\":\"mesh3d\"}],\"parcoords\":[{\"line\":{\"colorbar\":{\"outlinewidth\":0,\"ticks\":\"\"}},\"type\":\"parcoords\"}],\"pie\":[{\"automargin\":true,\"type\":\"pie\"}],\"scatter\":[{\"marker\":{\"colorbar\":{\"outlinewidth\":0,\"ticks\":\"\"}},\"type\":\"scatter\"}],\"scatter3d\":[{\"line\":{\"colorbar\":{\"outlinewidth\":0,\"ticks\":\"\"}},\"marker\":{\"colorbar\":{\"outlinewidth\":0,\"ticks\":\"\"}},\"type\":\"scatter3d\"}],\"scattercarpet\":[{\"marker\":{\"colorbar\":{\"outlinewidth\":0,\"ticks\":\"\"}},\"type\":\"scattercarpet\"}],\"scattergeo\":[{\"marker\":{\"colorbar\":{\"outlinewidth\":0,\"ticks\":\"\"}},\"type\":\"scattergeo\"}],\"scattergl\":[{\"marker\":{\"colorbar\":{\"outlinewidth\":0,\"ticks\":\"\"}},\"type\":\"scattergl\"}],\"scattermapbox\":[{\"marker\":{\"colorbar\":{\"outlinewidth\":0,\"ticks\":\"\"}},\"type\":\"scattermapbox\"}],\"scatterpolar\":[{\"marker\":{\"colorbar\":{\"outlinewidth\":0,\"ticks\":\"\"}},\"type\":\"scatterpolar\"}],\"scatterpolargl\":[{\"marker\":{\"colorbar\":{\"outlinewidth\":0,\"ticks\":\"\"}},\"type\":\"scatterpolargl\"}],\"scatterternary\":[{\"marker\":{\"colorbar\":{\"outlinewidth\":0,\"ticks\":\"\"}},\"type\":\"scatterternary\"}],\"surface\":[{\"colorbar\":{\"outlinewidth\":0,\"ticks\":\"\"},\"colorscale\":[[0.0,\"#0d0887\"],[0.1111111111111111,\"#46039f\"],[0.2222222222222222,\"#7201a8\"],[0.3333333333333333,\"#9c179e\"],[0.4444444444444444,\"#bd3786\"],[0.5555555555555556,\"#d8576b\"],[0.6666666666666666,\"#ed7953\"],[0.7777777777777778,\"#fb9f3a\"],[0.8888888888888888,\"#fdca26\"],[1.0,\"#f0f921\"]],\"type\":\"surface\"}],\"table\":[{\"cells\":{\"fill\":{\"color\":\"#EBF0F8\"},\"line\":{\"color\":\"white\"}},\"header\":{\"fill\":{\"color\":\"#C8D4E3\"},\"line\":{\"color\":\"white\"}},\"type\":\"table\"}]},\"layout\":{\"annotationdefaults\":{\"arrowcolor\":\"#2a3f5f\",\"arrowhead\":0,\"arrowwidth\":1},\"autotypenumbers\":\"strict\",\"coloraxis\":{\"colorbar\":{\"outlinewidth\":0,\"ticks\":\"\"}},\"colorscale\":{\"diverging\":[[0,\"#8e0152\"],[0.1,\"#c51b7d\"],[0.2,\"#de77ae\"],[0.3,\"#f1b6da\"],[0.4,\"#fde0ef\"],[0.5,\"#f7f7f7\"],[0.6,\"#e6f5d0\"],[0.7,\"#b8e186\"],[0.8,\"#7fbc41\"],[0.9,\"#4d9221\"],[1,\"#276419\"]],\"sequential\":[[0.0,\"#0d0887\"],[0.1111111111111111,\"#46039f\"],[0.2222222222222222,\"#7201a8\"],[0.3333333333333333,\"#9c179e\"],[0.4444444444444444,\"#bd3786\"],[0.5555555555555556,\"#d8576b\"],[0.6666666666666666,\"#ed7953\"],[0.7777777777777778,\"#fb9f3a\"],[0.8888888888888888,\"#fdca26\"],[1.0,\"#f0f921\"]],\"sequentialminus\":[[0.0,\"#0d0887\"],[0.1111111111111111,\"#46039f\"],[0.2222222222222222,\"#7201a8\"],[0.3333333333333333,\"#9c179e\"],[0.4444444444444444,\"#bd3786\"],[0.5555555555555556,\"#d8576b\"],[0.6666666666666666,\"#ed7953\"],[0.7777777777777778,\"#fb9f3a\"],[0.8888888888888888,\"#fdca26\"],[1.0,\"#f0f921\"]]},\"colorway\":[\"#636efa\",\"#EF553B\",\"#00cc96\",\"#ab63fa\",\"#FFA15A\",\"#19d3f3\",\"#FF6692\",\"#B6E880\",\"#FF97FF\",\"#FECB52\"],\"font\":{\"color\":\"#2a3f5f\"},\"geo\":{\"bgcolor\":\"white\",\"lakecolor\":\"white\",\"landcolor\":\"#E5ECF6\",\"showlakes\":true,\"showland\":true,\"subunitcolor\":\"white\"},\"hoverlabel\":{\"align\":\"left\"},\"hovermode\":\"closest\",\"mapbox\":{\"style\":\"light\"},\"paper_bgcolor\":\"white\",\"plot_bgcolor\":\"#E5ECF6\",\"polar\":{\"angularaxis\":{\"gridcolor\":\"white\",\"linecolor\":\"white\",\"ticks\":\"\"},\"bgcolor\":\"#E5ECF6\",\"radialaxis\":{\"gridcolor\":\"white\",\"linecolor\":\"white\",\"ticks\":\"\"}},\"scene\":{\"xaxis\":{\"backgroundcolor\":\"#E5ECF6\",\"gridcolor\":\"white\",\"gridwidth\":2,\"linecolor\":\"white\",\"showbackground\":true,\"ticks\":\"\",\"zerolinecolor\":\"white\"},\"yaxis\":{\"backgroundcolor\":\"#E5ECF6\",\"gridcolor\":\"white\",\"gridwidth\":2,\"linecolor\":\"white\",\"showbackground\":true,\"ticks\":\"\",\"zerolinecolor\":\"white\"},\"zaxis\":{\"backgroundcolor\":\"#E5ECF6\",\"gridcolor\":\"white\",\"gridwidth\":2,\"linecolor\":\"white\",\"showbackground\":true,\"ticks\":\"\",\"zerolinecolor\":\"white\"}},\"shapedefaults\":{\"line\":{\"color\":\"#2a3f5f\"}},\"ternary\":{\"aaxis\":{\"gridcolor\":\"white\",\"linecolor\":\"white\",\"ticks\":\"\"},\"baxis\":{\"gridcolor\":\"white\",\"linecolor\":\"white\",\"ticks\":\"\"},\"bgcolor\":\"#E5ECF6\",\"caxis\":{\"gridcolor\":\"white\",\"linecolor\":\"white\",\"ticks\":\"\"}},\"title\":{\"x\":0.05},\"xaxis\":{\"automargin\":true,\"gridcolor\":\"white\",\"linecolor\":\"white\",\"ticks\":\"\",\"title\":{\"standoff\":15},\"zerolinecolor\":\"white\",\"zerolinewidth\":2},\"yaxis\":{\"automargin\":true,\"gridcolor\":\"white\",\"linecolor\":\"white\",\"ticks\":\"\",\"title\":{\"standoff\":15},\"zerolinecolor\":\"white\",\"zerolinewidth\":2}}},\"xaxis\":{\"anchor\":\"y\",\"domain\":[0.0,1.0],\"title\":{\"text\":\"PC1\"},\"zeroline\":true,\"zerolinewidth\":1,\"zerolinecolor\":\"Black\"},\"yaxis\":{\"anchor\":\"x\",\"domain\":[0.0,1.0],\"title\":{\"text\":\"PC2\"},\"zeroline\":true,\"zerolinewidth\":1,\"zerolinecolor\":\"Black\"},\"legend\":{\"title\":{\"text\":\"Class\"},\"tracegroupgap\":0},\"margin\":{\"t\":60},\"title\":{\"text\":\"Scores Plot\"},\"height\":600,\"width\":800},                        {\"responsive\": true}                    ).then(function(){\n",
       "                            \n",
       "var gd = document.getElementById('19074438-03fb-45a2-b4f5-86b0fb4f6f59');\n",
       "var x = new MutationObserver(function (mutations, observer) {{\n",
       "        var display = window.getComputedStyle(gd).display;\n",
       "        if (!display || display === 'none') {{\n",
       "            console.log([gd, 'removed!']);\n",
       "            Plotly.purge(gd);\n",
       "            observer.disconnect();\n",
       "        }}\n",
       "}});\n",
       "\n",
       "// Listen for the removal of the full notebook cells\n",
       "var notebookContainer = gd.closest('#notebook-container');\n",
       "if (notebookContainer) {{\n",
       "    x.observe(notebookContainer, {childList: true});\n",
       "}}\n",
       "\n",
       "// Listen for the clearing of the current output cell\n",
       "var outputEl = gd.closest('.output');\n",
       "if (outputEl) {{\n",
       "    x.observe(outputEl, {childList: true});\n",
       "}}\n",
       "\n",
       "                        })                };                });            </script>        </div>"
      ]
     },
     "metadata": {},
     "output_type": "display_data"
    }
   ],
   "source": [
    "#Scores plot\n",
    "import plotly.express as px\n",
    "fig = px.scatter(scores, x=\"PC1\", y=\"PC2\", color=\"Class\", hover_data=['Class'], hover_name =data.index)\n",
    "fig.update_xaxes(zeroline=True, zerolinewidth=1, zerolinecolor='Black')\n",
    "fig.update_yaxes(zeroline=True, zerolinewidth=1, zerolinecolor='Black')\n",
    "fig.update_layout(\n",
    "    height=600,\n",
    "    width=800,\n",
    "    title_text='Scores Plot')\n",
    "fig.show()"
   ]
  },
  {
   "cell_type": "code",
   "execution_count": 42,
   "id": "cd2c1366",
   "metadata": {},
   "outputs": [
    {
     "data": {
      "application/vnd.plotly.v1+json": {
       "config": {
        "plotlyServerURL": "https://plot.ly"
       },
       "data": [
        {
         "hovertemplate": "PC1=%{x}<br>PC2=%{y}<br>Attributes=%{text}<extra></extra>",
         "legendgroup": "",
         "marker": {
          "color": "#636efa",
          "symbol": "circle"
         },
         "mode": "markers+text",
         "name": "",
         "orientation": "v",
         "showlegend": false,
         "text": [
          "testosterone_sulphate",
          "testosterone_glucuronide",
          "testosterone",
          "estrone_beta-D-glucuronide",
          "estrone",
          "estriol",
          "epitestosterone_sulphate",
          "DHEA_sulphate",
          "DHEA_glucuronide",
          "DHEA",
          "beta-estradiol",
          "androsterone",
          "androstenedione",
          "androstendiol",
          "alpha-estradiol",
          "4-methoxy_estrone",
          "4-methoxy_estradiol",
          "2-methoxy_estradiol",
          "16-epiestriol",
          "16alpha-hidroxy_estrone"
         ],
         "textposition": "top center",
         "type": "scatter",
         "x": [
          -0.00432301291086933,
          0.11943170494918365,
          0.0074266475306875605,
          0.02809240760988926,
          0.00028863274850505864,
          0.2963523839853498,
          0.30549127481964794,
          0.15187224803603216,
          0.28445857695253496,
          0.308810822128324,
          0.06352699295749656,
          0.3454971567797733,
          0.3341290278028487,
          0.332490213786406,
          0.0693166050742223,
          0.2923587175082554,
          0.29231639496144896,
          -0.01656625445617591,
          0.2870040456004145,
          0.020207788758177272
         ],
         "xaxis": "x",
         "y": [
          0.009945423113695933,
          0.10553710972535787,
          -0.06409101554978193,
          0.027632908271304255,
          -0.01677966894209915,
          -0.18596206207080934,
          -0.2290463894363655,
          -0.074545562157277,
          -0.025240743960555135,
          0.3102912508650988,
          -0.09539579343982585,
          0.34836163392942654,
          0.3557669923556504,
          0.3695470075309578,
          -0.07112795213247641,
          -0.3618702864500308,
          -0.3624241801712349,
          0.006225623145376075,
          -0.359093953297622,
          -0.0644371754528651
         ],
         "yaxis": "y"
        }
       ],
       "layout": {
        "height": 600,
        "legend": {
         "tracegroupgap": 0
        },
        "margin": {
         "t": 60
        },
        "template": {
         "data": {
          "bar": [
           {
            "error_x": {
             "color": "#2a3f5f"
            },
            "error_y": {
             "color": "#2a3f5f"
            },
            "marker": {
             "line": {
              "color": "#E5ECF6",
              "width": 0.5
             },
             "pattern": {
              "fillmode": "overlay",
              "size": 10,
              "solidity": 0.2
             }
            },
            "type": "bar"
           }
          ],
          "barpolar": [
           {
            "marker": {
             "line": {
              "color": "#E5ECF6",
              "width": 0.5
             },
             "pattern": {
              "fillmode": "overlay",
              "size": 10,
              "solidity": 0.2
             }
            },
            "type": "barpolar"
           }
          ],
          "carpet": [
           {
            "aaxis": {
             "endlinecolor": "#2a3f5f",
             "gridcolor": "white",
             "linecolor": "white",
             "minorgridcolor": "white",
             "startlinecolor": "#2a3f5f"
            },
            "baxis": {
             "endlinecolor": "#2a3f5f",
             "gridcolor": "white",
             "linecolor": "white",
             "minorgridcolor": "white",
             "startlinecolor": "#2a3f5f"
            },
            "type": "carpet"
           }
          ],
          "choropleth": [
           {
            "colorbar": {
             "outlinewidth": 0,
             "ticks": ""
            },
            "type": "choropleth"
           }
          ],
          "contour": [
           {
            "colorbar": {
             "outlinewidth": 0,
             "ticks": ""
            },
            "colorscale": [
             [
              0,
              "#0d0887"
             ],
             [
              0.1111111111111111,
              "#46039f"
             ],
             [
              0.2222222222222222,
              "#7201a8"
             ],
             [
              0.3333333333333333,
              "#9c179e"
             ],
             [
              0.4444444444444444,
              "#bd3786"
             ],
             [
              0.5555555555555556,
              "#d8576b"
             ],
             [
              0.6666666666666666,
              "#ed7953"
             ],
             [
              0.7777777777777778,
              "#fb9f3a"
             ],
             [
              0.8888888888888888,
              "#fdca26"
             ],
             [
              1,
              "#f0f921"
             ]
            ],
            "type": "contour"
           }
          ],
          "contourcarpet": [
           {
            "colorbar": {
             "outlinewidth": 0,
             "ticks": ""
            },
            "type": "contourcarpet"
           }
          ],
          "heatmap": [
           {
            "colorbar": {
             "outlinewidth": 0,
             "ticks": ""
            },
            "colorscale": [
             [
              0,
              "#0d0887"
             ],
             [
              0.1111111111111111,
              "#46039f"
             ],
             [
              0.2222222222222222,
              "#7201a8"
             ],
             [
              0.3333333333333333,
              "#9c179e"
             ],
             [
              0.4444444444444444,
              "#bd3786"
             ],
             [
              0.5555555555555556,
              "#d8576b"
             ],
             [
              0.6666666666666666,
              "#ed7953"
             ],
             [
              0.7777777777777778,
              "#fb9f3a"
             ],
             [
              0.8888888888888888,
              "#fdca26"
             ],
             [
              1,
              "#f0f921"
             ]
            ],
            "type": "heatmap"
           }
          ],
          "heatmapgl": [
           {
            "colorbar": {
             "outlinewidth": 0,
             "ticks": ""
            },
            "colorscale": [
             [
              0,
              "#0d0887"
             ],
             [
              0.1111111111111111,
              "#46039f"
             ],
             [
              0.2222222222222222,
              "#7201a8"
             ],
             [
              0.3333333333333333,
              "#9c179e"
             ],
             [
              0.4444444444444444,
              "#bd3786"
             ],
             [
              0.5555555555555556,
              "#d8576b"
             ],
             [
              0.6666666666666666,
              "#ed7953"
             ],
             [
              0.7777777777777778,
              "#fb9f3a"
             ],
             [
              0.8888888888888888,
              "#fdca26"
             ],
             [
              1,
              "#f0f921"
             ]
            ],
            "type": "heatmapgl"
           }
          ],
          "histogram": [
           {
            "marker": {
             "pattern": {
              "fillmode": "overlay",
              "size": 10,
              "solidity": 0.2
             }
            },
            "type": "histogram"
           }
          ],
          "histogram2d": [
           {
            "colorbar": {
             "outlinewidth": 0,
             "ticks": ""
            },
            "colorscale": [
             [
              0,
              "#0d0887"
             ],
             [
              0.1111111111111111,
              "#46039f"
             ],
             [
              0.2222222222222222,
              "#7201a8"
             ],
             [
              0.3333333333333333,
              "#9c179e"
             ],
             [
              0.4444444444444444,
              "#bd3786"
             ],
             [
              0.5555555555555556,
              "#d8576b"
             ],
             [
              0.6666666666666666,
              "#ed7953"
             ],
             [
              0.7777777777777778,
              "#fb9f3a"
             ],
             [
              0.8888888888888888,
              "#fdca26"
             ],
             [
              1,
              "#f0f921"
             ]
            ],
            "type": "histogram2d"
           }
          ],
          "histogram2dcontour": [
           {
            "colorbar": {
             "outlinewidth": 0,
             "ticks": ""
            },
            "colorscale": [
             [
              0,
              "#0d0887"
             ],
             [
              0.1111111111111111,
              "#46039f"
             ],
             [
              0.2222222222222222,
              "#7201a8"
             ],
             [
              0.3333333333333333,
              "#9c179e"
             ],
             [
              0.4444444444444444,
              "#bd3786"
             ],
             [
              0.5555555555555556,
              "#d8576b"
             ],
             [
              0.6666666666666666,
              "#ed7953"
             ],
             [
              0.7777777777777778,
              "#fb9f3a"
             ],
             [
              0.8888888888888888,
              "#fdca26"
             ],
             [
              1,
              "#f0f921"
             ]
            ],
            "type": "histogram2dcontour"
           }
          ],
          "mesh3d": [
           {
            "colorbar": {
             "outlinewidth": 0,
             "ticks": ""
            },
            "type": "mesh3d"
           }
          ],
          "parcoords": [
           {
            "line": {
             "colorbar": {
              "outlinewidth": 0,
              "ticks": ""
             }
            },
            "type": "parcoords"
           }
          ],
          "pie": [
           {
            "automargin": true,
            "type": "pie"
           }
          ],
          "scatter": [
           {
            "marker": {
             "colorbar": {
              "outlinewidth": 0,
              "ticks": ""
             }
            },
            "type": "scatter"
           }
          ],
          "scatter3d": [
           {
            "line": {
             "colorbar": {
              "outlinewidth": 0,
              "ticks": ""
             }
            },
            "marker": {
             "colorbar": {
              "outlinewidth": 0,
              "ticks": ""
             }
            },
            "type": "scatter3d"
           }
          ],
          "scattercarpet": [
           {
            "marker": {
             "colorbar": {
              "outlinewidth": 0,
              "ticks": ""
             }
            },
            "type": "scattercarpet"
           }
          ],
          "scattergeo": [
           {
            "marker": {
             "colorbar": {
              "outlinewidth": 0,
              "ticks": ""
             }
            },
            "type": "scattergeo"
           }
          ],
          "scattergl": [
           {
            "marker": {
             "colorbar": {
              "outlinewidth": 0,
              "ticks": ""
             }
            },
            "type": "scattergl"
           }
          ],
          "scattermapbox": [
           {
            "marker": {
             "colorbar": {
              "outlinewidth": 0,
              "ticks": ""
             }
            },
            "type": "scattermapbox"
           }
          ],
          "scatterpolar": [
           {
            "marker": {
             "colorbar": {
              "outlinewidth": 0,
              "ticks": ""
             }
            },
            "type": "scatterpolar"
           }
          ],
          "scatterpolargl": [
           {
            "marker": {
             "colorbar": {
              "outlinewidth": 0,
              "ticks": ""
             }
            },
            "type": "scatterpolargl"
           }
          ],
          "scatterternary": [
           {
            "marker": {
             "colorbar": {
              "outlinewidth": 0,
              "ticks": ""
             }
            },
            "type": "scatterternary"
           }
          ],
          "surface": [
           {
            "colorbar": {
             "outlinewidth": 0,
             "ticks": ""
            },
            "colorscale": [
             [
              0,
              "#0d0887"
             ],
             [
              0.1111111111111111,
              "#46039f"
             ],
             [
              0.2222222222222222,
              "#7201a8"
             ],
             [
              0.3333333333333333,
              "#9c179e"
             ],
             [
              0.4444444444444444,
              "#bd3786"
             ],
             [
              0.5555555555555556,
              "#d8576b"
             ],
             [
              0.6666666666666666,
              "#ed7953"
             ],
             [
              0.7777777777777778,
              "#fb9f3a"
             ],
             [
              0.8888888888888888,
              "#fdca26"
             ],
             [
              1,
              "#f0f921"
             ]
            ],
            "type": "surface"
           }
          ],
          "table": [
           {
            "cells": {
             "fill": {
              "color": "#EBF0F8"
             },
             "line": {
              "color": "white"
             }
            },
            "header": {
             "fill": {
              "color": "#C8D4E3"
             },
             "line": {
              "color": "white"
             }
            },
            "type": "table"
           }
          ]
         },
         "layout": {
          "annotationdefaults": {
           "arrowcolor": "#2a3f5f",
           "arrowhead": 0,
           "arrowwidth": 1
          },
          "autotypenumbers": "strict",
          "coloraxis": {
           "colorbar": {
            "outlinewidth": 0,
            "ticks": ""
           }
          },
          "colorscale": {
           "diverging": [
            [
             0,
             "#8e0152"
            ],
            [
             0.1,
             "#c51b7d"
            ],
            [
             0.2,
             "#de77ae"
            ],
            [
             0.3,
             "#f1b6da"
            ],
            [
             0.4,
             "#fde0ef"
            ],
            [
             0.5,
             "#f7f7f7"
            ],
            [
             0.6,
             "#e6f5d0"
            ],
            [
             0.7,
             "#b8e186"
            ],
            [
             0.8,
             "#7fbc41"
            ],
            [
             0.9,
             "#4d9221"
            ],
            [
             1,
             "#276419"
            ]
           ],
           "sequential": [
            [
             0,
             "#0d0887"
            ],
            [
             0.1111111111111111,
             "#46039f"
            ],
            [
             0.2222222222222222,
             "#7201a8"
            ],
            [
             0.3333333333333333,
             "#9c179e"
            ],
            [
             0.4444444444444444,
             "#bd3786"
            ],
            [
             0.5555555555555556,
             "#d8576b"
            ],
            [
             0.6666666666666666,
             "#ed7953"
            ],
            [
             0.7777777777777778,
             "#fb9f3a"
            ],
            [
             0.8888888888888888,
             "#fdca26"
            ],
            [
             1,
             "#f0f921"
            ]
           ],
           "sequentialminus": [
            [
             0,
             "#0d0887"
            ],
            [
             0.1111111111111111,
             "#46039f"
            ],
            [
             0.2222222222222222,
             "#7201a8"
            ],
            [
             0.3333333333333333,
             "#9c179e"
            ],
            [
             0.4444444444444444,
             "#bd3786"
            ],
            [
             0.5555555555555556,
             "#d8576b"
            ],
            [
             0.6666666666666666,
             "#ed7953"
            ],
            [
             0.7777777777777778,
             "#fb9f3a"
            ],
            [
             0.8888888888888888,
             "#fdca26"
            ],
            [
             1,
             "#f0f921"
            ]
           ]
          },
          "colorway": [
           "#636efa",
           "#EF553B",
           "#00cc96",
           "#ab63fa",
           "#FFA15A",
           "#19d3f3",
           "#FF6692",
           "#B6E880",
           "#FF97FF",
           "#FECB52"
          ],
          "font": {
           "color": "#2a3f5f"
          },
          "geo": {
           "bgcolor": "white",
           "lakecolor": "white",
           "landcolor": "#E5ECF6",
           "showlakes": true,
           "showland": true,
           "subunitcolor": "white"
          },
          "hoverlabel": {
           "align": "left"
          },
          "hovermode": "closest",
          "mapbox": {
           "style": "light"
          },
          "paper_bgcolor": "white",
          "plot_bgcolor": "#E5ECF6",
          "polar": {
           "angularaxis": {
            "gridcolor": "white",
            "linecolor": "white",
            "ticks": ""
           },
           "bgcolor": "#E5ECF6",
           "radialaxis": {
            "gridcolor": "white",
            "linecolor": "white",
            "ticks": ""
           }
          },
          "scene": {
           "xaxis": {
            "backgroundcolor": "#E5ECF6",
            "gridcolor": "white",
            "gridwidth": 2,
            "linecolor": "white",
            "showbackground": true,
            "ticks": "",
            "zerolinecolor": "white"
           },
           "yaxis": {
            "backgroundcolor": "#E5ECF6",
            "gridcolor": "white",
            "gridwidth": 2,
            "linecolor": "white",
            "showbackground": true,
            "ticks": "",
            "zerolinecolor": "white"
           },
           "zaxis": {
            "backgroundcolor": "#E5ECF6",
            "gridcolor": "white",
            "gridwidth": 2,
            "linecolor": "white",
            "showbackground": true,
            "ticks": "",
            "zerolinecolor": "white"
           }
          },
          "shapedefaults": {
           "line": {
            "color": "#2a3f5f"
           }
          },
          "ternary": {
           "aaxis": {
            "gridcolor": "white",
            "linecolor": "white",
            "ticks": ""
           },
           "baxis": {
            "gridcolor": "white",
            "linecolor": "white",
            "ticks": ""
           },
           "bgcolor": "#E5ECF6",
           "caxis": {
            "gridcolor": "white",
            "linecolor": "white",
            "ticks": ""
           }
          },
          "title": {
           "x": 0.05
          },
          "xaxis": {
           "automargin": true,
           "gridcolor": "white",
           "linecolor": "white",
           "ticks": "",
           "title": {
            "standoff": 15
           },
           "zerolinecolor": "white",
           "zerolinewidth": 2
          },
          "yaxis": {
           "automargin": true,
           "gridcolor": "white",
           "linecolor": "white",
           "ticks": "",
           "title": {
            "standoff": 15
           },
           "zerolinecolor": "white",
           "zerolinewidth": 2
          }
         }
        },
        "title": {
         "text": "Loadings Plot"
        },
        "width": 800,
        "xaxis": {
         "anchor": "y",
         "domain": [
          0,
          1
         ],
         "title": {
          "text": "PC1"
         },
         "zeroline": true,
         "zerolinecolor": "Black",
         "zerolinewidth": 1
        },
        "yaxis": {
         "anchor": "x",
         "domain": [
          0,
          1
         ],
         "title": {
          "text": "PC2"
         },
         "zeroline": true,
         "zerolinecolor": "Black",
         "zerolinewidth": 1
        }
       }
      },
      "text/html": [
       "<div>                            <div id=\"696a2ba9-5336-4713-ae42-a065289c3a3d\" class=\"plotly-graph-div\" style=\"height:600px; width:800px;\"></div>            <script type=\"text/javascript\">                require([\"plotly\"], function(Plotly) {                    window.PLOTLYENV=window.PLOTLYENV || {};                                    if (document.getElementById(\"696a2ba9-5336-4713-ae42-a065289c3a3d\")) {                    Plotly.newPlot(                        \"696a2ba9-5336-4713-ae42-a065289c3a3d\",                        [{\"hovertemplate\":\"PC1=%{x}<br>PC2=%{y}<br>Attributes=%{text}<extra></extra>\",\"legendgroup\":\"\",\"marker\":{\"color\":\"#636efa\",\"symbol\":\"circle\"},\"mode\":\"markers+text\",\"name\":\"\",\"orientation\":\"v\",\"showlegend\":false,\"text\":[\"testosterone_sulphate\",\"testosterone_glucuronide\",\"testosterone\",\"estrone_beta-D-glucuronide\",\"estrone\",\"estriol\",\"epitestosterone_sulphate\",\"DHEA_sulphate\",\"DHEA_glucuronide\",\"DHEA\",\"beta-estradiol\",\"androsterone\",\"androstenedione\",\"androstendiol\",\"alpha-estradiol\",\"4-methoxy_estrone\",\"4-methoxy_estradiol\",\"2-methoxy_estradiol\",\"16-epiestriol\",\"16alpha-hidroxy_estrone\"],\"x\":[-0.00432301291086933,0.11943170494918365,0.0074266475306875605,0.02809240760988926,0.00028863274850505864,0.2963523839853498,0.30549127481964794,0.15187224803603216,0.28445857695253496,0.308810822128324,0.06352699295749656,0.3454971567797733,0.3341290278028487,0.332490213786406,0.0693166050742223,0.2923587175082554,0.29231639496144896,-0.01656625445617591,0.2870040456004145,0.020207788758177272],\"xaxis\":\"x\",\"y\":[0.009945423113695933,0.10553710972535787,-0.06409101554978193,0.027632908271304255,-0.01677966894209915,-0.18596206207080934,-0.2290463894363655,-0.074545562157277,-0.025240743960555135,0.3102912508650988,-0.09539579343982585,0.34836163392942654,0.3557669923556504,0.3695470075309578,-0.07112795213247641,-0.3618702864500308,-0.3624241801712349,0.006225623145376075,-0.359093953297622,-0.0644371754528651],\"yaxis\":\"y\",\"type\":\"scatter\",\"textposition\":\"top center\"}],                        {\"template\":{\"data\":{\"bar\":[{\"error_x\":{\"color\":\"#2a3f5f\"},\"error_y\":{\"color\":\"#2a3f5f\"},\"marker\":{\"line\":{\"color\":\"#E5ECF6\",\"width\":0.5},\"pattern\":{\"fillmode\":\"overlay\",\"size\":10,\"solidity\":0.2}},\"type\":\"bar\"}],\"barpolar\":[{\"marker\":{\"line\":{\"color\":\"#E5ECF6\",\"width\":0.5},\"pattern\":{\"fillmode\":\"overlay\",\"size\":10,\"solidity\":0.2}},\"type\":\"barpolar\"}],\"carpet\":[{\"aaxis\":{\"endlinecolor\":\"#2a3f5f\",\"gridcolor\":\"white\",\"linecolor\":\"white\",\"minorgridcolor\":\"white\",\"startlinecolor\":\"#2a3f5f\"},\"baxis\":{\"endlinecolor\":\"#2a3f5f\",\"gridcolor\":\"white\",\"linecolor\":\"white\",\"minorgridcolor\":\"white\",\"startlinecolor\":\"#2a3f5f\"},\"type\":\"carpet\"}],\"choropleth\":[{\"colorbar\":{\"outlinewidth\":0,\"ticks\":\"\"},\"type\":\"choropleth\"}],\"contour\":[{\"colorbar\":{\"outlinewidth\":0,\"ticks\":\"\"},\"colorscale\":[[0.0,\"#0d0887\"],[0.1111111111111111,\"#46039f\"],[0.2222222222222222,\"#7201a8\"],[0.3333333333333333,\"#9c179e\"],[0.4444444444444444,\"#bd3786\"],[0.5555555555555556,\"#d8576b\"],[0.6666666666666666,\"#ed7953\"],[0.7777777777777778,\"#fb9f3a\"],[0.8888888888888888,\"#fdca26\"],[1.0,\"#f0f921\"]],\"type\":\"contour\"}],\"contourcarpet\":[{\"colorbar\":{\"outlinewidth\":0,\"ticks\":\"\"},\"type\":\"contourcarpet\"}],\"heatmap\":[{\"colorbar\":{\"outlinewidth\":0,\"ticks\":\"\"},\"colorscale\":[[0.0,\"#0d0887\"],[0.1111111111111111,\"#46039f\"],[0.2222222222222222,\"#7201a8\"],[0.3333333333333333,\"#9c179e\"],[0.4444444444444444,\"#bd3786\"],[0.5555555555555556,\"#d8576b\"],[0.6666666666666666,\"#ed7953\"],[0.7777777777777778,\"#fb9f3a\"],[0.8888888888888888,\"#fdca26\"],[1.0,\"#f0f921\"]],\"type\":\"heatmap\"}],\"heatmapgl\":[{\"colorbar\":{\"outlinewidth\":0,\"ticks\":\"\"},\"colorscale\":[[0.0,\"#0d0887\"],[0.1111111111111111,\"#46039f\"],[0.2222222222222222,\"#7201a8\"],[0.3333333333333333,\"#9c179e\"],[0.4444444444444444,\"#bd3786\"],[0.5555555555555556,\"#d8576b\"],[0.6666666666666666,\"#ed7953\"],[0.7777777777777778,\"#fb9f3a\"],[0.8888888888888888,\"#fdca26\"],[1.0,\"#f0f921\"]],\"type\":\"heatmapgl\"}],\"histogram\":[{\"marker\":{\"pattern\":{\"fillmode\":\"overlay\",\"size\":10,\"solidity\":0.2}},\"type\":\"histogram\"}],\"histogram2d\":[{\"colorbar\":{\"outlinewidth\":0,\"ticks\":\"\"},\"colorscale\":[[0.0,\"#0d0887\"],[0.1111111111111111,\"#46039f\"],[0.2222222222222222,\"#7201a8\"],[0.3333333333333333,\"#9c179e\"],[0.4444444444444444,\"#bd3786\"],[0.5555555555555556,\"#d8576b\"],[0.6666666666666666,\"#ed7953\"],[0.7777777777777778,\"#fb9f3a\"],[0.8888888888888888,\"#fdca26\"],[1.0,\"#f0f921\"]],\"type\":\"histogram2d\"}],\"histogram2dcontour\":[{\"colorbar\":{\"outlinewidth\":0,\"ticks\":\"\"},\"colorscale\":[[0.0,\"#0d0887\"],[0.1111111111111111,\"#46039f\"],[0.2222222222222222,\"#7201a8\"],[0.3333333333333333,\"#9c179e\"],[0.4444444444444444,\"#bd3786\"],[0.5555555555555556,\"#d8576b\"],[0.6666666666666666,\"#ed7953\"],[0.7777777777777778,\"#fb9f3a\"],[0.8888888888888888,\"#fdca26\"],[1.0,\"#f0f921\"]],\"type\":\"histogram2dcontour\"}],\"mesh3d\":[{\"colorbar\":{\"outlinewidth\":0,\"ticks\":\"\"},\"type\":\"mesh3d\"}],\"parcoords\":[{\"line\":{\"colorbar\":{\"outlinewidth\":0,\"ticks\":\"\"}},\"type\":\"parcoords\"}],\"pie\":[{\"automargin\":true,\"type\":\"pie\"}],\"scatter\":[{\"marker\":{\"colorbar\":{\"outlinewidth\":0,\"ticks\":\"\"}},\"type\":\"scatter\"}],\"scatter3d\":[{\"line\":{\"colorbar\":{\"outlinewidth\":0,\"ticks\":\"\"}},\"marker\":{\"colorbar\":{\"outlinewidth\":0,\"ticks\":\"\"}},\"type\":\"scatter3d\"}],\"scattercarpet\":[{\"marker\":{\"colorbar\":{\"outlinewidth\":0,\"ticks\":\"\"}},\"type\":\"scattercarpet\"}],\"scattergeo\":[{\"marker\":{\"colorbar\":{\"outlinewidth\":0,\"ticks\":\"\"}},\"type\":\"scattergeo\"}],\"scattergl\":[{\"marker\":{\"colorbar\":{\"outlinewidth\":0,\"ticks\":\"\"}},\"type\":\"scattergl\"}],\"scattermapbox\":[{\"marker\":{\"colorbar\":{\"outlinewidth\":0,\"ticks\":\"\"}},\"type\":\"scattermapbox\"}],\"scatterpolar\":[{\"marker\":{\"colorbar\":{\"outlinewidth\":0,\"ticks\":\"\"}},\"type\":\"scatterpolar\"}],\"scatterpolargl\":[{\"marker\":{\"colorbar\":{\"outlinewidth\":0,\"ticks\":\"\"}},\"type\":\"scatterpolargl\"}],\"scatterternary\":[{\"marker\":{\"colorbar\":{\"outlinewidth\":0,\"ticks\":\"\"}},\"type\":\"scatterternary\"}],\"surface\":[{\"colorbar\":{\"outlinewidth\":0,\"ticks\":\"\"},\"colorscale\":[[0.0,\"#0d0887\"],[0.1111111111111111,\"#46039f\"],[0.2222222222222222,\"#7201a8\"],[0.3333333333333333,\"#9c179e\"],[0.4444444444444444,\"#bd3786\"],[0.5555555555555556,\"#d8576b\"],[0.6666666666666666,\"#ed7953\"],[0.7777777777777778,\"#fb9f3a\"],[0.8888888888888888,\"#fdca26\"],[1.0,\"#f0f921\"]],\"type\":\"surface\"}],\"table\":[{\"cells\":{\"fill\":{\"color\":\"#EBF0F8\"},\"line\":{\"color\":\"white\"}},\"header\":{\"fill\":{\"color\":\"#C8D4E3\"},\"line\":{\"color\":\"white\"}},\"type\":\"table\"}]},\"layout\":{\"annotationdefaults\":{\"arrowcolor\":\"#2a3f5f\",\"arrowhead\":0,\"arrowwidth\":1},\"autotypenumbers\":\"strict\",\"coloraxis\":{\"colorbar\":{\"outlinewidth\":0,\"ticks\":\"\"}},\"colorscale\":{\"diverging\":[[0,\"#8e0152\"],[0.1,\"#c51b7d\"],[0.2,\"#de77ae\"],[0.3,\"#f1b6da\"],[0.4,\"#fde0ef\"],[0.5,\"#f7f7f7\"],[0.6,\"#e6f5d0\"],[0.7,\"#b8e186\"],[0.8,\"#7fbc41\"],[0.9,\"#4d9221\"],[1,\"#276419\"]],\"sequential\":[[0.0,\"#0d0887\"],[0.1111111111111111,\"#46039f\"],[0.2222222222222222,\"#7201a8\"],[0.3333333333333333,\"#9c179e\"],[0.4444444444444444,\"#bd3786\"],[0.5555555555555556,\"#d8576b\"],[0.6666666666666666,\"#ed7953\"],[0.7777777777777778,\"#fb9f3a\"],[0.8888888888888888,\"#fdca26\"],[1.0,\"#f0f921\"]],\"sequentialminus\":[[0.0,\"#0d0887\"],[0.1111111111111111,\"#46039f\"],[0.2222222222222222,\"#7201a8\"],[0.3333333333333333,\"#9c179e\"],[0.4444444444444444,\"#bd3786\"],[0.5555555555555556,\"#d8576b\"],[0.6666666666666666,\"#ed7953\"],[0.7777777777777778,\"#fb9f3a\"],[0.8888888888888888,\"#fdca26\"],[1.0,\"#f0f921\"]]},\"colorway\":[\"#636efa\",\"#EF553B\",\"#00cc96\",\"#ab63fa\",\"#FFA15A\",\"#19d3f3\",\"#FF6692\",\"#B6E880\",\"#FF97FF\",\"#FECB52\"],\"font\":{\"color\":\"#2a3f5f\"},\"geo\":{\"bgcolor\":\"white\",\"lakecolor\":\"white\",\"landcolor\":\"#E5ECF6\",\"showlakes\":true,\"showland\":true,\"subunitcolor\":\"white\"},\"hoverlabel\":{\"align\":\"left\"},\"hovermode\":\"closest\",\"mapbox\":{\"style\":\"light\"},\"paper_bgcolor\":\"white\",\"plot_bgcolor\":\"#E5ECF6\",\"polar\":{\"angularaxis\":{\"gridcolor\":\"white\",\"linecolor\":\"white\",\"ticks\":\"\"},\"bgcolor\":\"#E5ECF6\",\"radialaxis\":{\"gridcolor\":\"white\",\"linecolor\":\"white\",\"ticks\":\"\"}},\"scene\":{\"xaxis\":{\"backgroundcolor\":\"#E5ECF6\",\"gridcolor\":\"white\",\"gridwidth\":2,\"linecolor\":\"white\",\"showbackground\":true,\"ticks\":\"\",\"zerolinecolor\":\"white\"},\"yaxis\":{\"backgroundcolor\":\"#E5ECF6\",\"gridcolor\":\"white\",\"gridwidth\":2,\"linecolor\":\"white\",\"showbackground\":true,\"ticks\":\"\",\"zerolinecolor\":\"white\"},\"zaxis\":{\"backgroundcolor\":\"#E5ECF6\",\"gridcolor\":\"white\",\"gridwidth\":2,\"linecolor\":\"white\",\"showbackground\":true,\"ticks\":\"\",\"zerolinecolor\":\"white\"}},\"shapedefaults\":{\"line\":{\"color\":\"#2a3f5f\"}},\"ternary\":{\"aaxis\":{\"gridcolor\":\"white\",\"linecolor\":\"white\",\"ticks\":\"\"},\"baxis\":{\"gridcolor\":\"white\",\"linecolor\":\"white\",\"ticks\":\"\"},\"bgcolor\":\"#E5ECF6\",\"caxis\":{\"gridcolor\":\"white\",\"linecolor\":\"white\",\"ticks\":\"\"}},\"title\":{\"x\":0.05},\"xaxis\":{\"automargin\":true,\"gridcolor\":\"white\",\"linecolor\":\"white\",\"ticks\":\"\",\"title\":{\"standoff\":15},\"zerolinecolor\":\"white\",\"zerolinewidth\":2},\"yaxis\":{\"automargin\":true,\"gridcolor\":\"white\",\"linecolor\":\"white\",\"ticks\":\"\",\"title\":{\"standoff\":15},\"zerolinecolor\":\"white\",\"zerolinewidth\":2}}},\"xaxis\":{\"anchor\":\"y\",\"domain\":[0.0,1.0],\"title\":{\"text\":\"PC1\"},\"zeroline\":true,\"zerolinewidth\":1,\"zerolinecolor\":\"Black\"},\"yaxis\":{\"anchor\":\"x\",\"domain\":[0.0,1.0],\"title\":{\"text\":\"PC2\"},\"zeroline\":true,\"zerolinewidth\":1,\"zerolinecolor\":\"Black\"},\"legend\":{\"tracegroupgap\":0},\"margin\":{\"t\":60},\"title\":{\"text\":\"Loadings Plot\"},\"height\":600,\"width\":800},                        {\"responsive\": true}                    ).then(function(){\n",
       "                            \n",
       "var gd = document.getElementById('696a2ba9-5336-4713-ae42-a065289c3a3d');\n",
       "var x = new MutationObserver(function (mutations, observer) {{\n",
       "        var display = window.getComputedStyle(gd).display;\n",
       "        if (!display || display === 'none') {{\n",
       "            console.log([gd, 'removed!']);\n",
       "            Plotly.purge(gd);\n",
       "            observer.disconnect();\n",
       "        }}\n",
       "}});\n",
       "\n",
       "// Listen for the removal of the full notebook cells\n",
       "var notebookContainer = gd.closest('#notebook-container');\n",
       "if (notebookContainer) {{\n",
       "    x.observe(notebookContainer, {childList: true});\n",
       "}}\n",
       "\n",
       "// Listen for the clearing of the current output cell\n",
       "var outputEl = gd.closest('.output');\n",
       "if (outputEl) {{\n",
       "    x.observe(outputEl, {childList: true});\n",
       "}}\n",
       "\n",
       "                        })                };                });            </script>        </div>"
      ]
     },
     "metadata": {},
     "output_type": "display_data"
    }
   ],
   "source": [
    "fig = px.scatter(loadings, x=\"PC1\", y=\"PC2\", text=\"Attributes\")\n",
    "fig.update_xaxes(zeroline=True, zerolinewidth=1, zerolinecolor='Black')\n",
    "fig.update_yaxes(zeroline=True, zerolinewidth=1, zerolinecolor='Black')\n",
    "fig.update_traces(textposition='top center')\n",
    "fig.update_layout(\n",
    "    height=600,\n",
    "    width=800,\n",
    "    title_text='Loadings Plot')\n",
    "fig.show()"
   ]
  },
  {
   "cell_type": "code",
   "execution_count": 48,
   "id": "443c44f5",
   "metadata": {},
   "outputs": [
    {
     "data": {
      "text/plain": [
       "(-1.0, 1.0)"
      ]
     },
     "execution_count": 48,
     "metadata": {},
     "output_type": "execute_result"
    },
    {
     "data": {
      "image/png": "[encoded data removed]",
      "text/plain": [
       "<Figure size 432x288 with 1 Axes>"
      ]
     },
     "metadata": {},
     "output_type": "display_data"
    }
   ],
   "source": [
    "# Boxplot using seaborn\n",
    "sns.set_style(\"whitegrid\")  \n",
    "ax = sns.boxplot(x = 'Class', y = 'DHEA', data = data_autosc)\n",
    "ax.set_ylim([-1, 1])  "
   ]
  },
  {
   "cell_type": "markdown",
   "id": "1ed508a8",
   "metadata": {},
   "source": [
    "## Hotelling's T2 vs Q-residuals"
   ]
  },
  {
   "cell_type": "code",
   "execution_count": 50,
   "id": "b4251d03",
   "metadata": {},
   "outputs": [
    {
     "data": {
      "text/html": [
       "<div>\n",
       "<style scoped>\n",
       "    .dataframe tbody tr th:only-of-type {\n",
       "        vertical-align: middle;\n",
       "    }\n",
       "\n",
       "    .dataframe tbody tr th {\n",
       "        vertical-align: top;\n",
       "    }\n",
       "\n",
       "    .dataframe thead th {\n",
       "        text-align: right;\n",
       "    }\n",
       "</style>\n",
       "<table border=\"1\" class=\"dataframe\">\n",
       "  <thead>\n",
       "    <tr style=\"text-align: right;\">\n",
       "      <th></th>\n",
       "      <th>T2</th>\n",
       "      <th>Qres</th>\n",
       "      <th>Class</th>\n",
       "    </tr>\n",
       "    <tr>\n",
       "      <th>Sample_Name</th>\n",
       "      <th></th>\n",
       "      <th></th>\n",
       "      <th></th>\n",
       "    </tr>\n",
       "  </thead>\n",
       "  <tbody>\n",
       "    <tr>\n",
       "      <th>Subject_1</th>\n",
       "      <td>3.763040</td>\n",
       "      <td>9.134902</td>\n",
       "      <td>POSITIVE</td>\n",
       "    </tr>\n",
       "    <tr>\n",
       "      <th>Subject_2</th>\n",
       "      <td>0.390363</td>\n",
       "      <td>0.418078</td>\n",
       "      <td>POSITIVE</td>\n",
       "    </tr>\n",
       "    <tr>\n",
       "      <th>Subject_3</th>\n",
       "      <td>0.080505</td>\n",
       "      <td>0.686754</td>\n",
       "      <td>POSITIVE</td>\n",
       "    </tr>\n",
       "    <tr>\n",
       "      <th>Subject_4</th>\n",
       "      <td>0.131084</td>\n",
       "      <td>1.584884</td>\n",
       "      <td>POSITIVE</td>\n",
       "    </tr>\n",
       "    <tr>\n",
       "      <th>Subject_5</th>\n",
       "      <td>4.671440</td>\n",
       "      <td>3.188493</td>\n",
       "      <td>POSITIVE</td>\n",
       "    </tr>\n",
       "    <tr>\n",
       "      <th>...</th>\n",
       "      <td>...</td>\n",
       "      <td>...</td>\n",
       "      <td>...</td>\n",
       "    </tr>\n",
       "    <tr>\n",
       "      <th>Subject_246</th>\n",
       "      <td>0.348306</td>\n",
       "      <td>0.435022</td>\n",
       "      <td>NEGATIVE</td>\n",
       "    </tr>\n",
       "    <tr>\n",
       "      <th>Subject_247</th>\n",
       "      <td>0.203300</td>\n",
       "      <td>2.550880</td>\n",
       "      <td>NEGATIVE</td>\n",
       "    </tr>\n",
       "    <tr>\n",
       "      <th>Subject_248</th>\n",
       "      <td>0.361919</td>\n",
       "      <td>0.554528</td>\n",
       "      <td>NEGATIVE</td>\n",
       "    </tr>\n",
       "    <tr>\n",
       "      <th>Subject_249</th>\n",
       "      <td>0.515707</td>\n",
       "      <td>2.383544</td>\n",
       "      <td>NEGATIVE</td>\n",
       "    </tr>\n",
       "    <tr>\n",
       "      <th>Subject_250</th>\n",
       "      <td>0.235001</td>\n",
       "      <td>0.799239</td>\n",
       "      <td>NEGATIVE</td>\n",
       "    </tr>\n",
       "  </tbody>\n",
       "</table>\n",
       "<p>250 rows × 3 columns</p>\n",
       "</div>"
      ],
      "text/plain": [
       "                   T2      Qres     Class\n",
       "Sample_Name                              \n",
       "Subject_1    3.763040  9.134902  POSITIVE\n",
       "Subject_2    0.390363  0.418078  POSITIVE\n",
       "Subject_3    0.080505  0.686754  POSITIVE\n",
       "Subject_4    0.131084  1.584884  POSITIVE\n",
       "Subject_5    4.671440  3.188493  POSITIVE\n",
       "...               ...       ...       ...\n",
       "Subject_246  0.348306  0.435022  NEGATIVE\n",
       "Subject_247  0.203300  2.550880  NEGATIVE\n",
       "Subject_248  0.361919  0.554528  NEGATIVE\n",
       "Subject_249  0.515707  2.383544  NEGATIVE\n",
       "Subject_250  0.235001  0.799239  NEGATIVE\n",
       "\n",
       "[250 rows x 3 columns]"
      ]
     },
     "execution_count": 50,
     "metadata": {},
     "output_type": "execute_result"
    }
   ],
   "source": [
    "# Get PCA scores\n",
    "T = scores.iloc[:,0:5]\n",
    "# Get PCA loadings\n",
    "P = loadings.iloc[:,0:5]\n",
    "# Calculate error array\n",
    "Err = X - np.dot(T,P.T)\n",
    "# Calculate Q-residuals (sum over the rows of the error array)\n",
    "Q = np.sum(Err**2, axis=1)\n",
    "# Calculate Hotelling's T-squared (note that data are normalised by default)\n",
    "Tsq = np.sum((T/np.std(T, axis=0))**2, axis=1)\n",
    "\n",
    "# set the confidence level\n",
    "conf = 0.95\n",
    "ncomp = 3\n",
    " \n",
    "from scipy.stats import f\n",
    "\n",
    "# Calculate confidence level for T-squared from the ppf of the F distribution\n",
    "Tsq_conf =  f.ppf(q=conf, dfn=ncomp, \\\n",
    "            dfd=X.shape[0])*ncomp*(X.shape[0]-1)/(X.shape[0]-ncomp)\n",
    "# Estimate the confidence level for the Q-residuals\n",
    "i = np.max(Q)+1\n",
    "while 1-np.sum(Q>i)/np.sum(Q>0) > conf:\n",
    "    i -= 1\n",
    "Q_conf = i\n",
    "\n",
    "# Create a dataframe using only T2 and Q-residuals\n",
    "hot_q_data = {'T2': Tsq, 'Qres': Q, 'Class': data.Class}  \n",
    "hot_q_data = pd.DataFrame(hot_q_data, index = data.index)\n",
    "hot_q_data"
   ]
  },
  {
   "cell_type": "code",
   "execution_count": 51,
   "id": "67085712",
   "metadata": {},
   "outputs": [
    {
     "data": {
      "application/vnd.plotly.v1+json": {
       "config": {
        "plotlyServerURL": "https://plot.ly"
       },
       "data": [
        {
         "customdata": [
          [
           "Subject_1"
          ],
          [
           "Subject_2"
          ],
          [
           "Subject_3"
          ],
          [
           "Subject_4"
          ],
          [
           "Subject_5"
          ],
          [
           "Subject_6"
          ],
          [
           "Subject_7"
          ],
          [
           "Subject_8"
          ],
          [
           "Subject_9"
          ],
          [
           "Subject_10"
          ],
          [
           "Subject_11"
          ],
          [
           "Subject_12"
          ],
          [
           "Subject_13"
          ],
          [
           "Subject_14"
          ],
          [
           "Subject_15"
          ],
          [
           "Subject_16"
          ],
          [
           "Subject_17"
          ],
          [
           "Subject_18"
          ],
          [
           "Subject_19"
          ],
          [
           "Subject_20"
          ],
          [
           "Subject_21"
          ],
          [
           "Subject_22"
          ],
          [
           "Subject_23"
          ],
          [
           "Subject_24"
          ],
          [
           "Subject_25"
          ],
          [
           "Subject_26"
          ],
          [
           "Subject_27"
          ],
          [
           "Subject_28"
          ],
          [
           "Subject_29"
          ],
          [
           "Subject_30"
          ],
          [
           "Subject_31"
          ],
          [
           "Subject_32"
          ],
          [
           "Subject_33"
          ],
          [
           "Subject_34"
          ],
          [
           "Subject_35"
          ],
          [
           "Subject_36"
          ],
          [
           "Subject_37"
          ],
          [
           "Subject_38"
          ],
          [
           "Subject_39"
          ],
          [
           "Subject_40"
          ],
          [
           "Subject_41"
          ],
          [
           "Subject_42"
          ],
          [
           "Subject_43"
          ],
          [
           "Subject_44"
          ],
          [
           "Subject_45"
          ],
          [
           "Subject_46"
          ],
          [
           "Subject_47"
          ],
          [
           "Subject_48"
          ],
          [
           "Subject_49"
          ],
          [
           "Subject_50"
          ],
          [
           "Subject_51"
          ],
          [
           "Subject_52"
          ],
          [
           "Subject_53"
          ],
          [
           "Subject_54"
          ],
          [
           "Subject_55"
          ],
          [
           "Subject_56"
          ],
          [
           "Subject_57"
          ],
          [
           "Subject_58"
          ],
          [
           "Subject_59"
          ],
          [
           "Subject_60"
          ],
          [
           "Subject_61"
          ],
          [
           "Subject_62"
          ],
          [
           "Subject_63"
          ],
          [
           "Subject_64"
          ],
          [
           "Subject_65"
          ],
          [
           "Subject_66"
          ],
          [
           "Subject_67"
          ],
          [
           "Subject_68"
          ],
          [
           "Subject_69"
          ],
          [
           "Subject_70"
          ],
          [
           "Subject_71"
          ],
          [
           "Subject_72"
          ],
          [
           "Subject_73"
          ],
          [
           "Subject_74"
          ],
          [
           "Subject_75"
          ],
          [
           "Subject_76"
          ],
          [
           "Subject_77"
          ],
          [
           "Subject_78"
          ],
          [
           "Subject_79"
          ],
          [
           "Subject_80"
          ],
          [
           "Subject_81"
          ],
          [
           "Subject_82"
          ],
          [
           "Subject_83"
          ],
          [
           "Subject_84"
          ],
          [
           "Subject_85"
          ],
          [
           "Subject_86"
          ],
          [
           "Subject_87"
          ],
          [
           "Subject_88"
          ],
          [
           "Subject_89"
          ],
          [
           "Subject_90"
          ],
          [
           "Subject_91"
          ],
          [
           "Subject_92"
          ],
          [
           "Subject_93"
          ],
          [
           "Subject_94"
          ],
          [
           "Subject_95"
          ],
          [
           "Subject_96"
          ],
          [
           "Subject_97"
          ],
          [
           "Subject_98"
          ],
          [
           "Subject_99"
          ],
          [
           "Subject_100"
          ],
          [
           "Subject_101"
          ],
          [
           "Subject_102"
          ],
          [
           "Subject_103"
          ],
          [
           "Subject_104"
          ],
          [
           "Subject_105"
          ],
          [
           "Subject_106"
          ],
          [
           "Subject_107"
          ],
          [
           "Subject_108"
          ],
          [
           "Subject_109"
          ],
          [
           "Subject_110"
          ],
          [
           "Subject_111"
          ],
          [
           "Subject_112"
          ],
          [
           "Subject_113"
          ],
          [
           "Subject_114"
          ],
          [
           "Subject_115"
          ],
          [
           "Subject_116"
          ],
          [
           "Subject_117"
          ],
          [
           "Subject_118"
          ],
          [
           "Subject_119"
          ],
          [
           "Subject_120"
          ],
          [
           "Subject_121"
          ],
          [
           "Subject_122"
          ],
          [
           "Subject_123"
          ],
          [
           "Subject_124"
          ],
          [
           "Subject_125"
          ],
          [
           "Subject_126"
          ],
          [
           "Subject_127"
          ],
          [
           "Subject_128"
          ],
          [
           "Subject_129"
          ],
          [
           "Subject_130"
          ],
          [
           "Subject_131"
          ],
          [
           "Subject_132"
          ],
          [
           "Subject_133"
          ],
          [
           "Subject_134"
          ],
          [
           "Subject_135"
          ],
          [
           "Subject_136"
          ],
          [
           "Subject_137"
          ],
          [
           "Subject_138"
          ],
          [
           "Subject_139"
          ],
          [
           "Subject_140"
          ],
          [
           "Subject_141"
          ],
          [
           "Subject_142"
          ],
          [
           "Subject_143"
          ],
          [
           "Subject_144"
          ],
          [
           "Subject_145"
          ],
          [
           "Subject_146"
          ],
          [
           "Subject_147"
          ],
          [
           "Subject_148"
          ],
          [
           "Subject_149"
          ],
          [
           "Subject_150"
          ],
          [
           "Subject_151"
          ],
          [
           "Subject_152"
          ],
          [
           "Subject_153"
          ],
          [
           "Subject_154"
          ],
          [
           "Subject_155"
          ],
          [
           "Subject_156"
          ],
          [
           "Subject_157"
          ],
          [
           "Subject_158"
          ],
          [
           "Subject_159"
          ],
          [
           "Subject_160"
          ],
          [
           "Subject_161"
          ],
          [
           "Subject_162"
          ],
          [
           "Subject_163"
          ],
          [
           "Subject_164"
          ],
          [
           "Subject_165"
          ],
          [
           "Subject_166"
          ],
          [
           "Subject_167"
          ],
          [
           "Subject_168"
          ],
          [
           "Subject_169"
          ],
          [
           "Subject_170"
          ],
          [
           "Subject_171"
          ],
          [
           "Subject_172"
          ],
          [
           "Subject_173"
          ],
          [
           "Subject_174"
          ],
          [
           "Subject_175"
          ],
          [
           "Subject_176"
          ],
          [
           "Subject_177"
          ],
          [
           "Subject_178"
          ],
          [
           "Subject_179"
          ],
          [
           "Subject_180"
          ],
          [
           "Subject_181"
          ],
          [
           "Subject_182"
          ],
          [
           "Subject_183"
          ],
          [
           "Subject_184"
          ],
          [
           "Subject_185"
          ],
          [
           "Subject_186"
          ],
          [
           "Subject_187"
          ],
          [
           "Subject_188"
          ],
          [
           "Subject_189"
          ],
          [
           "Subject_190"
          ],
          [
           "Subject_191"
          ],
          [
           "Subject_192"
          ],
          [
           "Subject_193"
          ],
          [
           "Subject_194"
          ],
          [
           "Subject_195"
          ],
          [
           "Subject_196"
          ],
          [
           "Subject_197"
          ],
          [
           "Subject_198"
          ],
          [
           "Subject_199"
          ],
          [
           "Subject_200"
          ],
          [
           "Subject_201"
          ],
          [
           "Subject_202"
          ],
          [
           "Subject_203"
          ],
          [
           "Subject_204"
          ],
          [
           "Subject_205"
          ],
          [
           "Subject_206"
          ],
          [
           "Subject_207"
          ],
          [
           "Subject_208"
          ],
          [
           "Subject_209"
          ],
          [
           "Subject_210"
          ],
          [
           "Subject_211"
          ],
          [
           "Subject_212"
          ],
          [
           "Subject_213"
          ],
          [
           "Subject_214"
          ],
          [
           "Subject_215"
          ],
          [
           "Subject_216"
          ],
          [
           "Subject_217"
          ],
          [
           "Subject_218"
          ],
          [
           "Subject_219"
          ],
          [
           "Subject_220"
          ],
          [
           "Subject_221"
          ],
          [
           "Subject_222"
          ],
          [
           "Subject_223"
          ],
          [
           "Subject_224"
          ],
          [
           "Subject_225"
          ],
          [
           "Subject_226"
          ],
          [
           "Subject_227"
          ],
          [
           "Subject_228"
          ],
          [
           "Subject_229"
          ],
          [
           "Subject_230"
          ],
          [
           "Subject_231"
          ],
          [
           "Subject_232"
          ],
          [
           "Subject_233"
          ],
          [
           "Subject_234"
          ],
          [
           "Subject_235"
          ],
          [
           "Subject_236"
          ],
          [
           "Subject_237"
          ],
          [
           "Subject_238"
          ],
          [
           "Subject_239"
          ],
          [
           "Subject_240"
          ],
          [
           "Subject_241"
          ],
          [
           "Subject_242"
          ],
          [
           "Subject_243"
          ],
          [
           "Subject_244"
          ],
          [
           "Subject_245"
          ],
          [
           "Subject_246"
          ],
          [
           "Subject_247"
          ],
          [
           "Subject_248"
          ],
          [
           "Subject_249"
          ],
          [
           "Subject_250"
          ]
         ],
         "hovertemplate": "T2=%{x}<br>Qres=%{y}<br>Sample=%{customdata[0]}<extra></extra>",
         "legendgroup": "",
         "marker": {
          "color": "#636efa",
          "symbol": "circle"
         },
         "mode": "markers",
         "name": "",
         "orientation": "v",
         "showlegend": false,
         "textposition": "top center",
         "type": "scatter",
         "x": [
          3.7630398970993912,
          0.39036318268713854,
          0.08050518748501062,
          0.13108385507642104,
          4.671440072447839,
          0.16377342155080998,
          0.12018755561914658,
          0.17579425943859822,
          0.1042547227808347,
          105.81893353842649,
          0.034953528412201784,
          0.37219126089850285,
          0.2336300703648123,
          0.23006841135915537,
          0.19613716461855232,
          19.438336703410474,
          0.4092412929394783,
          0.2926279054580554,
          0.6819263980654076,
          0.3078747229336839,
          0.7336555799778574,
          0.06182357542421831,
          0.19683084351314944,
          0.7895553204943043,
          0.1848107671301186,
          146.69072735809317,
          2.030539107478379,
          0.18234797094508387,
          21.595913416141965,
          0.4195061600911163,
          0.5183090495920877,
          0.31299612089328527,
          4.098072419272968,
          1.0641372074947713,
          0.11981153254478936,
          0.19157946748818902,
          0.24381464553418436,
          0.8047194149773567,
          2.9520417903959197,
          0.8189740951718902,
          2.567145706795329,
          0.8471033117387006,
          5.215243406270853,
          0.3155162523592865,
          0.9573038933324374,
          1.0845011047986286,
          0.6237494808414593,
          7.424934399275712,
          5.398496026052244,
          0.1642336288319994,
          0.10730446260992021,
          0.6537108861468388,
          0.1860567744515984,
          0.06575683545393383,
          0.09814465826840518,
          0.14941571411586585,
          0.2328343013911279,
          0.24753533695105084,
          0.3517465718894863,
          0.08678367106656733,
          1.0586299170727482,
          0.07103991623702051,
          0.2812202198376449,
          0.08921261884567343,
          1.8636889902181775,
          0.4713517485841322,
          0.10090142201099024,
          0.2842763853466723,
          0.35630311293310796,
          0.08415854869974464,
          0.29152494254049444,
          0.06836832271173963,
          2.9233080324216503,
          0.26603233507157803,
          0.6075132760466843,
          0.5226740141178228,
          0.06831272630803675,
          1.5193049664066676,
          0.08251920079997897,
          0.17417377132526737,
          16.811800923030518,
          0.24423445599744187,
          0.5955909237826618,
          1.0469993913502198,
          0.3901341055698065,
          2.4638303003499704,
          0.9744740443053579,
          0.8273628321868799,
          0.5713904237907853,
          1.8965687433923786,
          1.9772719876326577,
          1.2563598131043994,
          0.5041977798361551,
          0.27201766308645076,
          0.6126099571192545,
          0.4822527440310433,
          0.5509411842019695,
          0.28064106547298673,
          0.5531980697417085,
          0.4966338303174962,
          0.5126880264489793,
          0.5854130200927568,
          28.136889361570436,
          0.43261619865119655,
          0.648192941135831,
          0.3335910502945797,
          0.4700143644059233,
          0.4581557943000637,
          0.4391800093389806,
          0.2640571392125579,
          1.4820694309638631,
          0.46329454317143676,
          0.7374065457954955,
          0.5408171378124242,
          0.26385762984845806,
          0.5298513440511957,
          0.47874315581157034,
          0.45340361912422034,
          1.0404534416718347,
          0.5505422209898966,
          0.5670917846620651,
          104.22128660307166,
          3.1506283140774314,
          0.35667808896410114,
          0.39994904691400734,
          0.23820792226416565,
          0.8235899332264677,
          0.3969580956413892,
          0.29519673044501415,
          0.6123051305849702,
          0.21811177799416848,
          0.18391858828265767,
          0.46418108430454313,
          0.6362451515764851,
          0.5691064386997218,
          0.6740177051779398,
          0.5619782563448648,
          0.28075647854182345,
          0.11588593871181332,
          0.10923320977191706,
          0.28193105598817536,
          0.5034327096869047,
          0.4669702146749853,
          0.06455901224205828,
          0.17704295117383861,
          0.4739073056378796,
          0.1270211411380452,
          0.2573150822987018,
          0.23250456221376087,
          1.479242966738957,
          0.35552357891141306,
          6.1902772781867546,
          2.089133219771198,
          0.4930624145902309,
          1.0445792180582214,
          0.22589755920557192,
          0.26449908607588646,
          2.3607913839468946,
          0.5995860579379371,
          0.32545752378889137,
          168.74500656596445,
          0.1844469927326925,
          0.38514513700054603,
          0.8693159833769188,
          0.17439942573171552,
          0.05397440802011284,
          0.45095746343698984,
          3.055106872208359,
          0.20061637378228558,
          7.1552986988676235,
          0.9141335790093765,
          96.07562839487966,
          9.139017426300201,
          8.248213559056035,
          0.11348634180909194,
          1.8535198656642131,
          190.66218900034917,
          0.7918564126510224,
          1.5730766556375797,
          0.2897169703394681,
          0.8079238277019528,
          55.956415492096454,
          1.8265898739138993,
          0.18544415048659826,
          0.18077663027665208,
          0.4575592873904618,
          0.2956284174591595,
          0.4900302022193823,
          0.6030774136192725,
          0.4470603024587313,
          0.24377954792490192,
          0.43376710632095034,
          0.5905082359114833,
          0.3495072494644855,
          16.04786355159746,
          0.4920437242192316,
          0.7111743110901916,
          0.666728636169396,
          0.5884355159258612,
          0.5326125221540139,
          0.7391809647269514,
          0.6076811932850359,
          0.7154802128237188,
          1.6853634750584603,
          0.5184873790216444,
          0.24517965448988074,
          0.6015737326966982,
          0.3280164293201566,
          0.5562329981350984,
          0.5998693394411074,
          0.6092177635820748,
          0.48251248160587673,
          0.3476234461003412,
          0.7904806582525495,
          0.9117368517520482,
          0.5179621130445158,
          1.3085282216669873,
          0.7937929632541986,
          0.44514144999819316,
          0.6350814457235079,
          0.38905344032120115,
          0.39186187156653013,
          0.5404894141060812,
          1.2977348997680458,
          2.846051051795543,
          0.3917338423707135,
          0.5166190745678916,
          0.243587786023606,
          0.23003611806084034,
          0.31306402657867155,
          0.43984243882998486,
          12.234753968674633,
          0.5898333847239383,
          0.41918910208854454,
          8.994572462381575,
          1.38891031776305,
          1.9414227991019433,
          0.4646426606901529,
          0.22930438560901717,
          0.6622399431031016,
          0.4977847349625337,
          62.09637224705598,
          0.2506203476394779,
          0.27949475983256555,
          0.2990096652825685,
          0.3483059254836255,
          0.20329963235096002,
          0.3619190974255547,
          0.5157072101102,
          0.23500079411497726
         ],
         "xaxis": "x",
         "y": [
          9.134902466142815,
          0.4180784590609603,
          0.6867540439278824,
          1.584884174418411,
          3.1884927714679745,
          1.006867622487792,
          0.6813723092298097,
          1.2557939073295294,
          1.2523569143769129,
          23.808728129113515,
          1.418810761001739,
          1.4205207019481942,
          0.669029455665697,
          1.517046913576065,
          0.9062806692672079,
          85.43534434279216,
          7.666886600495368,
          2.577194778426458,
          0.31654309105022976,
          1.710567351174929,
          5.0774690279482115,
          0.9580698102700901,
          1.2877315786701993,
          1.777542163696374,
          1.4694411976099566,
          58.86933832757739,
          3.3749797939564696,
          0.908852490152728,
          17.739893717535278,
          11.605315178071066,
          4.912406691538788,
          2.4310365729752985,
          60.18335703730463,
          1.346382275910878,
          2.6881767646786576,
          2.8290040524292346,
          0.5802668489626661,
          2.4287092884248835,
          5.485539416884895,
          8.703571990364468,
          6.459989006116176,
          50.66466590053888,
          231.564115229056,
          1.6141124548809422,
          0.9419935055831755,
          3.382948203396288,
          39.27679842805242,
          11.39733529959076,
          3.4812727588968,
          0.455270657087877,
          2.2637856686299775,
          2.233267507368947,
          1.476512548127976,
          1.3522806189542953,
          0.9874874008826651,
          0.5234225948401516,
          1.6806702171603596,
          0.8939752997269232,
          1.6754059795531944,
          2.062886406591333,
          1.4591778119223722,
          0.15076806202527876,
          0.553747525102696,
          0.6178467553567786,
          8.602964447084764,
          2.4732993939748136,
          1.2291084983381755,
          0.6323591166449232,
          1.2436372789941141,
          0.9104939769910143,
          1.2046130440019787,
          0.28602397872322566,
          1.176239455050122,
          0.7415037470234535,
          1.0296114534706837,
          1.9838282615125822,
          2.230193079858568,
          4.002941842446855,
          2.1872150049957284,
          5.779729340562993,
          8.187304407970863,
          1.5884742057869623,
          10.607372211140902,
          5.363065332165713,
          0.6087770264218791,
          3.7368340714804256,
          1.0805575553197406,
          2.0564137474570616,
          0.744418532838164,
          34.15842690612932,
          12.867714161546763,
          16.35898071757473,
          0.815812250342688,
          1.0818459767115276,
          3.919301170579843,
          0.8363323204451094,
          0.8890642590348886,
          6.695465374340534,
          0.7464689582202074,
          0.7435126237714069,
          0.7960805049967393,
          0.7320012308821583,
          11.622576973730572,
          0.7771709113412893,
          1.0524381418235231,
          1.1059982423113666,
          0.8096038205691343,
          0.8474258518977958,
          1.6612622328294662,
          2.4655604420278454,
          1.744183661548557,
          0.8569327749779055,
          0.7091017806420477,
          0.7942212137915177,
          1.131351000189136,
          0.7884687528168952,
          0.7826122411824027,
          0.2374009020632797,
          1.9256207235518539,
          4.2746076289490045,
          0.5155993572488482,
          37.215066853551534,
          40.637198023136094,
          12.974145975844767,
          0.2517404981961538,
          1.5574829822164131,
          2.672115114296752,
          0.5425005548094386,
          0.7327775972081882,
          0.466277303230197,
          4.086576971770891,
          0.7986027546669797,
          2.209344076129749,
          0.6048991173865377,
          0.41453521680407046,
          1.6059980647192096,
          0.46740832789984643,
          0.7187679452191504,
          0.892606911575835,
          1.8382660777284072,
          0.5213219389482235,
          2.9143114655206417,
          1.1641551528038347,
          2.6975357805044324,
          1.803386279513301,
          0.9167652039971701,
          0.570951019777255,
          1.835204600505802,
          1.0932453421031392,
          4.293976848135293,
          9.13984413395288,
          12.697559614089043,
          4.756187814151589,
          0.5519701774077422,
          1.7836387535048328,
          0.6856924296828899,
          0.5891580004332875,
          16.880493884266016,
          0.4685078070553414,
          2.0861993895499142,
          19.92428395383499,
          2.057645690853385,
          0.34170348780972654,
          4.348886727935962,
          3.3273523955686084,
          2.6100219555835076,
          0.8876428541555531,
          4.927537259551098,
          0.5858184319323267,
          14.410389220398805,
          5.898133953511173,
          59.35269616502628,
          203.4095820605544,
          14.066422630754802,
          2.6773727215319667,
          12.223203646163647,
          12.22053346619619,
          2.4268620613227543,
          10.389088336812604,
          0.998068245519847,
          1.77299298669325,
          55.66564360014907,
          3.290593572715473,
          0.4260583923118934,
          0.9657406135629362,
          0.4755997564396955,
          0.6868696386265891,
          0.4669803655057694,
          0.5044820683112397,
          0.29122741139641517,
          0.869365634551946,
          0.6423994079516895,
          1.9743615856939587,
          0.5559216376644635,
          45.261845997109326,
          0.4777811454759344,
          0.4556680550820061,
          0.4252621436758541,
          0.6178862095156168,
          0.6307082845092237,
          0.45396576269544187,
          0.5493065200197662,
          0.7478680537478894,
          42.049098886530885,
          0.31468726315909423,
          3.6350638051808035,
          0.4180673144695995,
          0.9623673329107835,
          1.2509476174863523,
          0.7812398827108918,
          0.37038863480003764,
          0.8002442193675332,
          7.689579606027127,
          1.607102449137475,
          1.4746525926905376,
          0.8042898471831476,
          3.446147562116169,
          2.278273493722423,
          0.4780815255730897,
          0.7225188381466805,
          3.1042911380085725,
          1.0055632741757639,
          1.8458638943846695,
          3.2808787686200676,
          3.296774432221537,
          0.5768916827410899,
          0.5744243918884688,
          1.7911485112020114,
          2.6915721528146634,
          1.3309640550596489,
          0.6090486060917144,
          47.600822511759766,
          0.576056501601362,
          4.984746443621673,
          26.847270267545767,
          7.406412647195014,
          6.712508933283007,
          0.9949579351854891,
          0.8570387709586558,
          0.6471207013622499,
          2.062444938576001,
          75.72692091018001,
          0.5832204478788869,
          1.3923021549415775,
          0.821027252079495,
          0.4350217740272242,
          2.5508803175469326,
          0.5545282093829952,
          2.3835443428264975,
          0.7992389591742193
         ],
         "yaxis": "y"
        }
       ],
       "layout": {
        "height": 600,
        "legend": {
         "tracegroupgap": 0
        },
        "margin": {
         "t": 60
        },
        "shapes": [
         {
          "line": {
           "color": "Red",
           "dash": "dot"
          },
          "type": "line",
          "x0": 0,
          "x1": 1,
          "xref": "x domain",
          "y0": 40.564115229056,
          "y1": 40.564115229056,
          "yref": "y"
         },
         {
          "line": {
           "color": "Red",
           "dash": "dot"
          },
          "type": "line",
          "x0": 7.986272701953538,
          "x1": 7.986272701953538,
          "xref": "x",
          "y0": 0,
          "y1": 1,
          "yref": "y domain"
         }
        ],
        "template": {
         "data": {
          "bar": [
           {
            "error_x": {
             "color": "#2a3f5f"
            },
            "error_y": {
             "color": "#2a3f5f"
            },
            "marker": {
             "line": {
              "color": "#E5ECF6",
              "width": 0.5
             },
             "pattern": {
              "fillmode": "overlay",
              "size": 10,
              "solidity": 0.2
             }
            },
            "type": "bar"
           }
          ],
          "barpolar": [
           {
            "marker": {
             "line": {
              "color": "#E5ECF6",
              "width": 0.5
             },
             "pattern": {
              "fillmode": "overlay",
              "size": 10,
              "solidity": 0.2
             }
            },
            "type": "barpolar"
           }
          ],
          "carpet": [
           {
            "aaxis": {
             "endlinecolor": "#2a3f5f",
             "gridcolor": "white",
             "linecolor": "white",
             "minorgridcolor": "white",
             "startlinecolor": "#2a3f5f"
            },
            "baxis": {
             "endlinecolor": "#2a3f5f",
             "gridcolor": "white",
             "linecolor": "white",
             "minorgridcolor": "white",
             "startlinecolor": "#2a3f5f"
            },
            "type": "carpet"
           }
          ],
          "choropleth": [
           {
            "colorbar": {
             "outlinewidth": 0,
             "ticks": ""
            },
            "type": "choropleth"
           }
          ],
          "contour": [
           {
            "colorbar": {
             "outlinewidth": 0,
             "ticks": ""
            },
            "colorscale": [
             [
              0,
              "#0d0887"
             ],
             [
              0.1111111111111111,
              "#46039f"
             ],
             [
              0.2222222222222222,
              "#7201a8"
             ],
             [
              0.3333333333333333,
              "#9c179e"
             ],
             [
              0.4444444444444444,
              "#bd3786"
             ],
             [
              0.5555555555555556,
              "#d8576b"
             ],
             [
              0.6666666666666666,
              "#ed7953"
             ],
             [
              0.7777777777777778,
              "#fb9f3a"
             ],
             [
              0.8888888888888888,
              "#fdca26"
             ],
             [
              1,
              "#f0f921"
             ]
            ],
            "type": "contour"
           }
          ],
          "contourcarpet": [
           {
            "colorbar": {
             "outlinewidth": 0,
             "ticks": ""
            },
            "type": "contourcarpet"
           }
          ],
          "heatmap": [
           {
            "colorbar": {
             "outlinewidth": 0,
             "ticks": ""
            },
            "colorscale": [
             [
              0,
              "#0d0887"
             ],
             [
              0.1111111111111111,
              "#46039f"
             ],
             [
              0.2222222222222222,
              "#7201a8"
             ],
             [
              0.3333333333333333,
              "#9c179e"
             ],
             [
              0.4444444444444444,
              "#bd3786"
             ],
             [
              0.5555555555555556,
              "#d8576b"
             ],
             [
              0.6666666666666666,
              "#ed7953"
             ],
             [
              0.7777777777777778,
              "#fb9f3a"
             ],
             [
              0.8888888888888888,
              "#fdca26"
             ],
             [
              1,
              "#f0f921"
             ]
            ],
            "type": "heatmap"
           }
          ],
          "heatmapgl": [
           {
            "colorbar": {
             "outlinewidth": 0,
             "ticks": ""
            },
            "colorscale": [
             [
              0,
              "#0d0887"
             ],
             [
              0.1111111111111111,
              "#46039f"
             ],
             [
              0.2222222222222222,
              "#7201a8"
             ],
             [
              0.3333333333333333,
              "#9c179e"
             ],
             [
              0.4444444444444444,
              "#bd3786"
             ],
             [
              0.5555555555555556,
              "#d8576b"
             ],
             [
              0.6666666666666666,
              "#ed7953"
             ],
             [
              0.7777777777777778,
              "#fb9f3a"
             ],
             [
              0.8888888888888888,
              "#fdca26"
             ],
             [
              1,
              "#f0f921"
             ]
            ],
            "type": "heatmapgl"
           }
          ],
          "histogram": [
           {
            "marker": {
             "pattern": {
              "fillmode": "overlay",
              "size": 10,
              "solidity": 0.2
             }
            },
            "type": "histogram"
           }
          ],
          "histogram2d": [
           {
            "colorbar": {
             "outlinewidth": 0,
             "ticks": ""
            },
            "colorscale": [
             [
              0,
              "#0d0887"
             ],
             [
              0.1111111111111111,
              "#46039f"
             ],
             [
              0.2222222222222222,
              "#7201a8"
             ],
             [
              0.3333333333333333,
              "#9c179e"
             ],
             [
              0.4444444444444444,
              "#bd3786"
             ],
             [
              0.5555555555555556,
              "#d8576b"
             ],
             [
              0.6666666666666666,
              "#ed7953"
             ],
             [
              0.7777777777777778,
              "#fb9f3a"
             ],
             [
              0.8888888888888888,
              "#fdca26"
             ],
             [
              1,
              "#f0f921"
             ]
            ],
            "type": "histogram2d"
           }
          ],
          "histogram2dcontour": [
           {
            "colorbar": {
             "outlinewidth": 0,
             "ticks": ""
            },
            "colorscale": [
             [
              0,
              "#0d0887"
             ],
             [
              0.1111111111111111,
              "#46039f"
             ],
             [
              0.2222222222222222,
              "#7201a8"
             ],
             [
              0.3333333333333333,
              "#9c179e"
             ],
             [
              0.4444444444444444,
              "#bd3786"
             ],
             [
              0.5555555555555556,
              "#d8576b"
             ],
             [
              0.6666666666666666,
              "#ed7953"
             ],
             [
              0.7777777777777778,
              "#fb9f3a"
             ],
             [
              0.8888888888888888,
              "#fdca26"
             ],
             [
              1,
              "#f0f921"
             ]
            ],
            "type": "histogram2dcontour"
           }
          ],
          "mesh3d": [
           {
            "colorbar": {
             "outlinewidth": 0,
             "ticks": ""
            },
            "type": "mesh3d"
           }
          ],
          "parcoords": [
           {
            "line": {
             "colorbar": {
              "outlinewidth": 0,
              "ticks": ""
             }
            },
            "type": "parcoords"
           }
          ],
          "pie": [
           {
            "automargin": true,
            "type": "pie"
           }
          ],
          "scatter": [
           {
            "marker": {
             "colorbar": {
              "outlinewidth": 0,
              "ticks": ""
             }
            },
            "type": "scatter"
           }
          ],
          "scatter3d": [
           {
            "line": {
             "colorbar": {
              "outlinewidth": 0,
              "ticks": ""
             }
            },
            "marker": {
             "colorbar": {
              "outlinewidth": 0,
              "ticks": ""
             }
            },
            "type": "scatter3d"
           }
          ],
          "scattercarpet": [
           {
            "marker": {
             "colorbar": {
              "outlinewidth": 0,
              "ticks": ""
             }
            },
            "type": "scattercarpet"
           }
          ],
          "scattergeo": [
           {
            "marker": {
             "colorbar": {
              "outlinewidth": 0,
              "ticks": ""
             }
            },
            "type": "scattergeo"
           }
          ],
          "scattergl": [
           {
            "marker": {
             "colorbar": {
              "outlinewidth": 0,
              "ticks": ""
             }
            },
            "type": "scattergl"
           }
          ],
          "scattermapbox": [
           {
            "marker": {
             "colorbar": {
              "outlinewidth": 0,
              "ticks": ""
             }
            },
            "type": "scattermapbox"
           }
          ],
          "scatterpolar": [
           {
            "marker": {
             "colorbar": {
              "outlinewidth": 0,
              "ticks": ""
             }
            },
            "type": "scatterpolar"
           }
          ],
          "scatterpolargl": [
           {
            "marker": {
             "colorbar": {
              "outlinewidth": 0,
              "ticks": ""
             }
            },
            "type": "scatterpolargl"
           }
          ],
          "scatterternary": [
           {
            "marker": {
             "colorbar": {
              "outlinewidth": 0,
              "ticks": ""
             }
            },
            "type": "scatterternary"
           }
          ],
          "surface": [
           {
            "colorbar": {
             "outlinewidth": 0,
             "ticks": ""
            },
            "colorscale": [
             [
              0,
              "#0d0887"
             ],
             [
              0.1111111111111111,
              "#46039f"
             ],
             [
              0.2222222222222222,
              "#7201a8"
             ],
             [
              0.3333333333333333,
              "#9c179e"
             ],
             [
              0.4444444444444444,
              "#bd3786"
             ],
             [
              0.5555555555555556,
              "#d8576b"
             ],
             [
              0.6666666666666666,
              "#ed7953"
             ],
             [
              0.7777777777777778,
              "#fb9f3a"
             ],
             [
              0.8888888888888888,
              "#fdca26"
             ],
             [
              1,
              "#f0f921"
             ]
            ],
            "type": "surface"
           }
          ],
          "table": [
           {
            "cells": {
             "fill": {
              "color": "#EBF0F8"
             },
             "line": {
              "color": "white"
             }
            },
            "header": {
             "fill": {
              "color": "#C8D4E3"
             },
             "line": {
              "color": "white"
             }
            },
            "type": "table"
           }
          ]
         },
         "layout": {
          "annotationdefaults": {
           "arrowcolor": "#2a3f5f",
           "arrowhead": 0,
           "arrowwidth": 1
          },
          "autotypenumbers": "strict",
          "coloraxis": {
           "colorbar": {
            "outlinewidth": 0,
            "ticks": ""
           }
          },
          "colorscale": {
           "diverging": [
            [
             0,
             "#8e0152"
            ],
            [
             0.1,
             "#c51b7d"
            ],
            [
             0.2,
             "#de77ae"
            ],
            [
             0.3,
             "#f1b6da"
            ],
            [
             0.4,
             "#fde0ef"
            ],
            [
             0.5,
             "#f7f7f7"
            ],
            [
             0.6,
             "#e6f5d0"
            ],
            [
             0.7,
             "#b8e186"
            ],
            [
             0.8,
             "#7fbc41"
            ],
            [
             0.9,
             "#4d9221"
            ],
            [
             1,
             "#276419"
            ]
           ],
           "sequential": [
            [
             0,
             "#0d0887"
            ],
            [
             0.1111111111111111,
             "#46039f"
            ],
            [
             0.2222222222222222,
             "#7201a8"
            ],
            [
             0.3333333333333333,
             "#9c179e"
            ],
            [
             0.4444444444444444,
             "#bd3786"
            ],
            [
             0.5555555555555556,
             "#d8576b"
            ],
            [
             0.6666666666666666,
             "#ed7953"
            ],
            [
             0.7777777777777778,
             "#fb9f3a"
            ],
            [
             0.8888888888888888,
             "#fdca26"
            ],
            [
             1,
             "#f0f921"
            ]
           ],
           "sequentialminus": [
            [
             0,
             "#0d0887"
            ],
            [
             0.1111111111111111,
             "#46039f"
            ],
            [
             0.2222222222222222,
             "#7201a8"
            ],
            [
             0.3333333333333333,
             "#9c179e"
            ],
            [
             0.4444444444444444,
             "#bd3786"
            ],
            [
             0.5555555555555556,
             "#d8576b"
            ],
            [
             0.6666666666666666,
             "#ed7953"
            ],
            [
             0.7777777777777778,
             "#fb9f3a"
            ],
            [
             0.8888888888888888,
             "#fdca26"
            ],
            [
             1,
             "#f0f921"
            ]
           ]
          },
          "colorway": [
           "#636efa",
           "#EF553B",
           "#00cc96",
           "#ab63fa",
           "#FFA15A",
           "#19d3f3",
           "#FF6692",
           "#B6E880",
           "#FF97FF",
           "#FECB52"
          ],
          "font": {
           "color": "#2a3f5f"
          },
          "geo": {
           "bgcolor": "white",
           "lakecolor": "white",
           "landcolor": "#E5ECF6",
           "showlakes": true,
           "showland": true,
           "subunitcolor": "white"
          },
          "hoverlabel": {
           "align": "left"
          },
          "hovermode": "closest",
          "mapbox": {
           "style": "light"
          },
          "paper_bgcolor": "white",
          "plot_bgcolor": "#E5ECF6",
          "polar": {
           "angularaxis": {
            "gridcolor": "white",
            "linecolor": "white",
            "ticks": ""
           },
           "bgcolor": "#E5ECF6",
           "radialaxis": {
            "gridcolor": "white",
            "linecolor": "white",
            "ticks": ""
           }
          },
          "scene": {
           "xaxis": {
            "backgroundcolor": "#E5ECF6",
            "gridcolor": "white",
            "gridwidth": 2,
            "linecolor": "white",
            "showbackground": true,
            "ticks": "",
            "zerolinecolor": "white"
           },
           "yaxis": {
            "backgroundcolor": "#E5ECF6",
            "gridcolor": "white",
            "gridwidth": 2,
            "linecolor": "white",
            "showbackground": true,
            "ticks": "",
            "zerolinecolor": "white"
           },
           "zaxis": {
            "backgroundcolor": "#E5ECF6",
            "gridcolor": "white",
            "gridwidth": 2,
            "linecolor": "white",
            "showbackground": true,
            "ticks": "",
            "zerolinecolor": "white"
           }
          },
          "shapedefaults": {
           "line": {
            "color": "#2a3f5f"
           }
          },
          "ternary": {
           "aaxis": {
            "gridcolor": "white",
            "linecolor": "white",
            "ticks": ""
           },
           "baxis": {
            "gridcolor": "white",
            "linecolor": "white",
            "ticks": ""
           },
           "bgcolor": "#E5ECF6",
           "caxis": {
            "gridcolor": "white",
            "linecolor": "white",
            "ticks": ""
           }
          },
          "title": {
           "x": 0.05
          },
          "xaxis": {
           "automargin": true,
           "gridcolor": "white",
           "linecolor": "white",
           "ticks": "",
           "title": {
            "standoff": 15
           },
           "zerolinecolor": "white",
           "zerolinewidth": 2
          },
          "yaxis": {
           "automargin": true,
           "gridcolor": "white",
           "linecolor": "white",
           "ticks": "",
           "title": {
            "standoff": 15
           },
           "zerolinecolor": "white",
           "zerolinewidth": 2
          }
         }
        },
        "title": {
         "text": "Hotelling's T2 vs Q-residuals"
        },
        "width": 800,
        "xaxis": {
         "anchor": "y",
         "domain": [
          0,
          1
         ],
         "title": {
          "text": "T2"
         }
        },
        "yaxis": {
         "anchor": "x",
         "domain": [
          0,
          1
         ],
         "title": {
          "text": "Qres"
         }
        }
       }
      },
      "text/html": [
       "<div>                            <div id=\"aeb4f6b9-d4b4-4165-9b98-9a2102decedd\" class=\"plotly-graph-div\" style=\"height:600px; width:800px;\"></div>            <script type=\"text/javascript\">                require([\"plotly\"], function(Plotly) {                    window.PLOTLYENV=window.PLOTLYENV || {};                                    if (document.getElementById(\"aeb4f6b9-d4b4-4165-9b98-9a2102decedd\")) {                    Plotly.newPlot(                        \"aeb4f6b9-d4b4-4165-9b98-9a2102decedd\",                        [{\"customdata\":[[\"Subject_1\"],[\"Subject_2\"],[\"Subject_3\"],[\"Subject_4\"],[\"Subject_5\"],[\"Subject_6\"],[\"Subject_7\"],[\"Subject_8\"],[\"Subject_9\"],[\"Subject_10\"],[\"Subject_11\"],[\"Subject_12\"],[\"Subject_13\"],[\"Subject_14\"],[\"Subject_15\"],[\"Subject_16\"],[\"Subject_17\"],[\"Subject_18\"],[\"Subject_19\"],[\"Subject_20\"],[\"Subject_21\"],[\"Subject_22\"],[\"Subject_23\"],[\"Subject_24\"],[\"Subject_25\"],[\"Subject_26\"],[\"Subject_27\"],[\"Subject_28\"],[\"Subject_29\"],[\"Subject_30\"],[\"Subject_31\"],[\"Subject_32\"],[\"Subject_33\"],[\"Subject_34\"],[\"Subject_35\"],[\"Subject_36\"],[\"Subject_37\"],[\"Subject_38\"],[\"Subject_39\"],[\"Subject_40\"],[\"Subject_41\"],[\"Subject_42\"],[\"Subject_43\"],[\"Subject_44\"],[\"Subject_45\"],[\"Subject_46\"],[\"Subject_47\"],[\"Subject_48\"],[\"Subject_49\"],[\"Subject_50\"],[\"Subject_51\"],[\"Subject_52\"],[\"Subject_53\"],[\"Subject_54\"],[\"Subject_55\"],[\"Subject_56\"],[\"Subject_57\"],[\"Subject_58\"],[\"Subject_59\"],[\"Subject_60\"],[\"Subject_61\"],[\"Subject_62\"],[\"Subject_63\"],[\"Subject_64\"],[\"Subject_65\"],[\"Subject_66\"],[\"Subject_67\"],[\"Subject_68\"],[\"Subject_69\"],[\"Subject_70\"],[\"Subject_71\"],[\"Subject_72\"],[\"Subject_73\"],[\"Subject_74\"],[\"Subject_75\"],[\"Subject_76\"],[\"Subject_77\"],[\"Subject_78\"],[\"Subject_79\"],[\"Subject_80\"],[\"Subject_81\"],[\"Subject_82\"],[\"Subject_83\"],[\"Subject_84\"],[\"Subject_85\"],[\"Subject_86\"],[\"Subject_87\"],[\"Subject_88\"],[\"Subject_89\"],[\"Subject_90\"],[\"Subject_91\"],[\"Subject_92\"],[\"Subject_93\"],[\"Subject_94\"],[\"Subject_95\"],[\"Subject_96\"],[\"Subject_97\"],[\"Subject_98\"],[\"Subject_99\"],[\"Subject_100\"],[\"Subject_101\"],[\"Subject_102\"],[\"Subject_103\"],[\"Subject_104\"],[\"Subject_105\"],[\"Subject_106\"],[\"Subject_107\"],[\"Subject_108\"],[\"Subject_109\"],[\"Subject_110\"],[\"Subject_111\"],[\"Subject_112\"],[\"Subject_113\"],[\"Subject_114\"],[\"Subject_115\"],[\"Subject_116\"],[\"Subject_117\"],[\"Subject_118\"],[\"Subject_119\"],[\"Subject_120\"],[\"Subject_121\"],[\"Subject_122\"],[\"Subject_123\"],[\"Subject_124\"],[\"Subject_125\"],[\"Subject_126\"],[\"Subject_127\"],[\"Subject_128\"],[\"Subject_129\"],[\"Subject_130\"],[\"Subject_131\"],[\"Subject_132\"],[\"Subject_133\"],[\"Subject_134\"],[\"Subject_135\"],[\"Subject_136\"],[\"Subject_137\"],[\"Subject_138\"],[\"Subject_139\"],[\"Subject_140\"],[\"Subject_141\"],[\"Subject_142\"],[\"Subject_143\"],[\"Subject_144\"],[\"Subject_145\"],[\"Subject_146\"],[\"Subject_147\"],[\"Subject_148\"],[\"Subject_149\"],[\"Subject_150\"],[\"Subject_151\"],[\"Subject_152\"],[\"Subject_153\"],[\"Subject_154\"],[\"Subject_155\"],[\"Subject_156\"],[\"Subject_157\"],[\"Subject_158\"],[\"Subject_159\"],[\"Subject_160\"],[\"Subject_161\"],[\"Subject_162\"],[\"Subject_163\"],[\"Subject_164\"],[\"Subject_165\"],[\"Subject_166\"],[\"Subject_167\"],[\"Subject_168\"],[\"Subject_169\"],[\"Subject_170\"],[\"Subject_171\"],[\"Subject_172\"],[\"Subject_173\"],[\"Subject_174\"],[\"Subject_175\"],[\"Subject_176\"],[\"Subject_177\"],[\"Subject_178\"],[\"Subject_179\"],[\"Subject_180\"],[\"Subject_181\"],[\"Subject_182\"],[\"Subject_183\"],[\"Subject_184\"],[\"Subject_185\"],[\"Subject_186\"],[\"Subject_187\"],[\"Subject_188\"],[\"Subject_189\"],[\"Subject_190\"],[\"Subject_191\"],[\"Subject_192\"],[\"Subject_193\"],[\"Subject_194\"],[\"Subject_195\"],[\"Subject_196\"],[\"Subject_197\"],[\"Subject_198\"],[\"Subject_199\"],[\"Subject_200\"],[\"Subject_201\"],[\"Subject_202\"],[\"Subject_203\"],[\"Subject_204\"],[\"Subject_205\"],[\"Subject_206\"],[\"Subject_207\"],[\"Subject_208\"],[\"Subject_209\"],[\"Subject_210\"],[\"Subject_211\"],[\"Subject_212\"],[\"Subject_213\"],[\"Subject_214\"],[\"Subject_215\"],[\"Subject_216\"],[\"Subject_217\"],[\"Subject_218\"],[\"Subject_219\"],[\"Subject_220\"],[\"Subject_221\"],[\"Subject_222\"],[\"Subject_223\"],[\"Subject_224\"],[\"Subject_225\"],[\"Subject_226\"],[\"Subject_227\"],[\"Subject_228\"],[\"Subject_229\"],[\"Subject_230\"],[\"Subject_231\"],[\"Subject_232\"],[\"Subject_233\"],[\"Subject_234\"],[\"Subject_235\"],[\"Subject_236\"],[\"Subject_237\"],[\"Subject_238\"],[\"Subject_239\"],[\"Subject_240\"],[\"Subject_241\"],[\"Subject_242\"],[\"Subject_243\"],[\"Subject_244\"],[\"Subject_245\"],[\"Subject_246\"],[\"Subject_247\"],[\"Subject_248\"],[\"Subject_249\"],[\"Subject_250\"]],\"hovertemplate\":\"T2=%{x}<br>Qres=%{y}<br>Sample=%{customdata[0]}<extra></extra>\",\"legendgroup\":\"\",\"marker\":{\"color\":\"#636efa\",\"symbol\":\"circle\"},\"mode\":\"markers\",\"name\":\"\",\"orientation\":\"v\",\"showlegend\":false,\"x\":[3.7630398970993912,0.39036318268713854,0.08050518748501062,0.13108385507642104,4.671440072447839,0.16377342155080998,0.12018755561914658,0.17579425943859822,0.1042547227808347,105.81893353842649,0.034953528412201784,0.37219126089850285,0.2336300703648123,0.23006841135915537,0.19613716461855232,19.438336703410474,0.4092412929394783,0.2926279054580554,0.6819263980654076,0.3078747229336839,0.7336555799778574,0.06182357542421831,0.19683084351314944,0.7895553204943043,0.1848107671301186,146.69072735809317,2.030539107478379,0.18234797094508387,21.595913416141965,0.4195061600911163,0.5183090495920877,0.31299612089328527,4.098072419272968,1.0641372074947713,0.11981153254478936,0.19157946748818902,0.24381464553418436,0.8047194149773567,2.9520417903959197,0.8189740951718902,2.567145706795329,0.8471033117387006,5.215243406270853,0.3155162523592865,0.9573038933324374,1.0845011047986286,0.6237494808414593,7.424934399275712,5.398496026052244,0.1642336288319994,0.10730446260992021,0.6537108861468388,0.1860567744515984,0.06575683545393383,0.09814465826840518,0.14941571411586585,0.2328343013911279,0.24753533695105084,0.3517465718894863,0.08678367106656733,1.0586299170727482,0.07103991623702051,0.2812202198376449,0.08921261884567343,1.8636889902181775,0.4713517485841322,0.10090142201099024,0.2842763853466723,0.35630311293310796,0.08415854869974464,0.29152494254049444,0.06836832271173963,2.9233080324216503,0.26603233507157803,0.6075132760466843,0.5226740141178228,0.06831272630803675,1.5193049664066676,0.08251920079997897,0.17417377132526737,16.811800923030518,0.24423445599744187,0.5955909237826618,1.0469993913502198,0.3901341055698065,2.4638303003499704,0.9744740443053579,0.8273628321868799,0.5713904237907853,1.8965687433923786,1.9772719876326577,1.2563598131043994,0.5041977798361551,0.27201766308645076,0.6126099571192545,0.4822527440310433,0.5509411842019695,0.28064106547298673,0.5531980697417085,0.4966338303174962,0.5126880264489793,0.5854130200927568,28.136889361570436,0.43261619865119655,0.648192941135831,0.3335910502945797,0.4700143644059233,0.4581557943000637,0.4391800093389806,0.2640571392125579,1.4820694309638631,0.46329454317143676,0.7374065457954955,0.5408171378124242,0.26385762984845806,0.5298513440511957,0.47874315581157034,0.45340361912422034,1.0404534416718347,0.5505422209898966,0.5670917846620651,104.22128660307166,3.1506283140774314,0.35667808896410114,0.39994904691400734,0.23820792226416565,0.8235899332264677,0.3969580956413892,0.29519673044501415,0.6123051305849702,0.21811177799416848,0.18391858828265767,0.46418108430454313,0.6362451515764851,0.5691064386997218,0.6740177051779398,0.5619782563448648,0.28075647854182345,0.11588593871181332,0.10923320977191706,0.28193105598817536,0.5034327096869047,0.4669702146749853,0.06455901224205828,0.17704295117383861,0.4739073056378796,0.1270211411380452,0.2573150822987018,0.23250456221376087,1.479242966738957,0.35552357891141306,6.1902772781867546,2.089133219771198,0.4930624145902309,1.0445792180582214,0.22589755920557192,0.26449908607588646,2.3607913839468946,0.5995860579379371,0.32545752378889137,168.74500656596445,0.1844469927326925,0.38514513700054603,0.8693159833769188,0.17439942573171552,0.05397440802011284,0.45095746343698984,3.055106872208359,0.20061637378228558,7.1552986988676235,0.9141335790093765,96.07562839487966,9.139017426300201,8.248213559056035,0.11348634180909194,1.8535198656642131,190.66218900034917,0.7918564126510224,1.5730766556375797,0.2897169703394681,0.8079238277019528,55.956415492096454,1.8265898739138993,0.18544415048659826,0.18077663027665208,0.4575592873904618,0.2956284174591595,0.4900302022193823,0.6030774136192725,0.4470603024587313,0.24377954792490192,0.43376710632095034,0.5905082359114833,0.3495072494644855,16.04786355159746,0.4920437242192316,0.7111743110901916,0.666728636169396,0.5884355159258612,0.5326125221540139,0.7391809647269514,0.6076811932850359,0.7154802128237188,1.6853634750584603,0.5184873790216444,0.24517965448988074,0.6015737326966982,0.3280164293201566,0.5562329981350984,0.5998693394411074,0.6092177635820748,0.48251248160587673,0.3476234461003412,0.7904806582525495,0.9117368517520482,0.5179621130445158,1.3085282216669873,0.7937929632541986,0.44514144999819316,0.6350814457235079,0.38905344032120115,0.39186187156653013,0.5404894141060812,1.2977348997680458,2.846051051795543,0.3917338423707135,0.5166190745678916,0.243587786023606,0.23003611806084034,0.31306402657867155,0.43984243882998486,12.234753968674633,0.5898333847239383,0.41918910208854454,8.994572462381575,1.38891031776305,1.9414227991019433,0.4646426606901529,0.22930438560901717,0.6622399431031016,0.4977847349625337,62.09637224705598,0.2506203476394779,0.27949475983256555,0.2990096652825685,0.3483059254836255,0.20329963235096002,0.3619190974255547,0.5157072101102,0.23500079411497726],\"xaxis\":\"x\",\"y\":[9.134902466142815,0.4180784590609603,0.6867540439278824,1.584884174418411,3.1884927714679745,1.006867622487792,0.6813723092298097,1.2557939073295294,1.2523569143769129,23.808728129113515,1.418810761001739,1.4205207019481942,0.669029455665697,1.517046913576065,0.9062806692672079,85.43534434279216,7.666886600495368,2.577194778426458,0.31654309105022976,1.710567351174929,5.0774690279482115,0.9580698102700901,1.2877315786701993,1.777542163696374,1.4694411976099566,58.86933832757739,3.3749797939564696,0.908852490152728,17.739893717535278,11.605315178071066,4.912406691538788,2.4310365729752985,60.18335703730463,1.346382275910878,2.6881767646786576,2.8290040524292346,0.5802668489626661,2.4287092884248835,5.485539416884895,8.703571990364468,6.459989006116176,50.66466590053888,231.564115229056,1.6141124548809422,0.9419935055831755,3.382948203396288,39.27679842805242,11.39733529959076,3.4812727588968,0.455270657087877,2.2637856686299775,2.233267507368947,1.476512548127976,1.3522806189542953,0.9874874008826651,0.5234225948401516,1.6806702171603596,0.8939752997269232,1.6754059795531944,2.062886406591333,1.4591778119223722,0.15076806202527876,0.553747525102696,0.6178467553567786,8.602964447084764,2.4732993939748136,1.2291084983381755,0.6323591166449232,1.2436372789941141,0.9104939769910143,1.2046130440019787,0.28602397872322566,1.176239455050122,0.7415037470234535,1.0296114534706837,1.9838282615125822,2.230193079858568,4.002941842446855,2.1872150049957284,5.779729340562993,8.187304407970863,1.5884742057869623,10.607372211140902,5.363065332165713,0.6087770264218791,3.7368340714804256,1.0805575553197406,2.0564137474570616,0.744418532838164,34.15842690612932,12.867714161546763,16.35898071757473,0.815812250342688,1.0818459767115276,3.919301170579843,0.8363323204451094,0.8890642590348886,6.695465374340534,0.7464689582202074,0.7435126237714069,0.7960805049967393,0.7320012308821583,11.622576973730572,0.7771709113412893,1.0524381418235231,1.1059982423113666,0.8096038205691343,0.8474258518977958,1.6612622328294662,2.4655604420278454,1.744183661548557,0.8569327749779055,0.7091017806420477,0.7942212137915177,1.131351000189136,0.7884687528168952,0.7826122411824027,0.2374009020632797,1.9256207235518539,4.2746076289490045,0.5155993572488482,37.215066853551534,40.637198023136094,12.974145975844767,0.2517404981961538,1.5574829822164131,2.672115114296752,0.5425005548094386,0.7327775972081882,0.466277303230197,4.086576971770891,0.7986027546669797,2.209344076129749,0.6048991173865377,0.41453521680407046,1.6059980647192096,0.46740832789984643,0.7187679452191504,0.892606911575835,1.8382660777284072,0.5213219389482235,2.9143114655206417,1.1641551528038347,2.6975357805044324,1.803386279513301,0.9167652039971701,0.570951019777255,1.835204600505802,1.0932453421031392,4.293976848135293,9.13984413395288,12.697559614089043,4.756187814151589,0.5519701774077422,1.7836387535048328,0.6856924296828899,0.5891580004332875,16.880493884266016,0.4685078070553414,2.0861993895499142,19.92428395383499,2.057645690853385,0.34170348780972654,4.348886727935962,3.3273523955686084,2.6100219555835076,0.8876428541555531,4.927537259551098,0.5858184319323267,14.410389220398805,5.898133953511173,59.35269616502628,203.4095820605544,14.066422630754802,2.6773727215319667,12.223203646163647,12.22053346619619,2.4268620613227543,10.389088336812604,0.998068245519847,1.77299298669325,55.66564360014907,3.290593572715473,0.4260583923118934,0.9657406135629362,0.4755997564396955,0.6868696386265891,0.4669803655057694,0.5044820683112397,0.29122741139641517,0.869365634551946,0.6423994079516895,1.9743615856939587,0.5559216376644635,45.261845997109326,0.4777811454759344,0.4556680550820061,0.4252621436758541,0.6178862095156168,0.6307082845092237,0.45396576269544187,0.5493065200197662,0.7478680537478894,42.049098886530885,0.31468726315909423,3.6350638051808035,0.4180673144695995,0.9623673329107835,1.2509476174863523,0.7812398827108918,0.37038863480003764,0.8002442193675332,7.689579606027127,1.607102449137475,1.4746525926905376,0.8042898471831476,3.446147562116169,2.278273493722423,0.4780815255730897,0.7225188381466805,3.1042911380085725,1.0055632741757639,1.8458638943846695,3.2808787686200676,3.296774432221537,0.5768916827410899,0.5744243918884688,1.7911485112020114,2.6915721528146634,1.3309640550596489,0.6090486060917144,47.600822511759766,0.576056501601362,4.984746443621673,26.847270267545767,7.406412647195014,6.712508933283007,0.9949579351854891,0.8570387709586558,0.6471207013622499,2.062444938576001,75.72692091018001,0.5832204478788869,1.3923021549415775,0.821027252079495,0.4350217740272242,2.5508803175469326,0.5545282093829952,2.3835443428264975,0.7992389591742193],\"yaxis\":\"y\",\"type\":\"scatter\",\"textposition\":\"top center\"}],                        {\"template\":{\"data\":{\"bar\":[{\"error_x\":{\"color\":\"#2a3f5f\"},\"error_y\":{\"color\":\"#2a3f5f\"},\"marker\":{\"line\":{\"color\":\"#E5ECF6\",\"width\":0.5},\"pattern\":{\"fillmode\":\"overlay\",\"size\":10,\"solidity\":0.2}},\"type\":\"bar\"}],\"barpolar\":[{\"marker\":{\"line\":{\"color\":\"#E5ECF6\",\"width\":0.5},\"pattern\":{\"fillmode\":\"overlay\",\"size\":10,\"solidity\":0.2}},\"type\":\"barpolar\"}],\"carpet\":[{\"aaxis\":{\"endlinecolor\":\"#2a3f5f\",\"gridcolor\":\"white\",\"linecolor\":\"white\",\"minorgridcolor\":\"white\",\"startlinecolor\":\"#2a3f5f\"},\"baxis\":{\"endlinecolor\":\"#2a3f5f\",\"gridcolor\":\"white\",\"linecolor\":\"white\",\"minorgridcolor\":\"white\",\"startlinecolor\":\"#2a3f5f\"},\"type\":\"carpet\"}],\"choropleth\":[{\"colorbar\":{\"outlinewidth\":0,\"ticks\":\"\"},\"type\":\"choropleth\"}],\"contour\":[{\"colorbar\":{\"outlinewidth\":0,\"ticks\":\"\"},\"colorscale\":[[0.0,\"#0d0887\"],[0.1111111111111111,\"#46039f\"],[0.2222222222222222,\"#7201a8\"],[0.3333333333333333,\"#9c179e\"],[0.4444444444444444,\"#bd3786\"],[0.5555555555555556,\"#d8576b\"],[0.6666666666666666,\"#ed7953\"],[0.7777777777777778,\"#fb9f3a\"],[0.8888888888888888,\"#fdca26\"],[1.0,\"#f0f921\"]],\"type\":\"contour\"}],\"contourcarpet\":[{\"colorbar\":{\"outlinewidth\":0,\"ticks\":\"\"},\"type\":\"contourcarpet\"}],\"heatmap\":[{\"colorbar\":{\"outlinewidth\":0,\"ticks\":\"\"},\"colorscale\":[[0.0,\"#0d0887\"],[0.1111111111111111,\"#46039f\"],[0.2222222222222222,\"#7201a8\"],[0.3333333333333333,\"#9c179e\"],[0.4444444444444444,\"#bd3786\"],[0.5555555555555556,\"#d8576b\"],[0.6666666666666666,\"#ed7953\"],[0.7777777777777778,\"#fb9f3a\"],[0.8888888888888888,\"#fdca26\"],[1.0,\"#f0f921\"]],\"type\":\"heatmap\"}],\"heatmapgl\":[{\"colorbar\":{\"outlinewidth\":0,\"ticks\":\"\"},\"colorscale\":[[0.0,\"#0d0887\"],[0.1111111111111111,\"#46039f\"],[0.2222222222222222,\"#7201a8\"],[0.3333333333333333,\"#9c179e\"],[0.4444444444444444,\"#bd3786\"],[0.5555555555555556,\"#d8576b\"],[0.6666666666666666,\"#ed7953\"],[0.7777777777777778,\"#fb9f3a\"],[0.8888888888888888,\"#fdca26\"],[1.0,\"#f0f921\"]],\"type\":\"heatmapgl\"}],\"histogram\":[{\"marker\":{\"pattern\":{\"fillmode\":\"overlay\",\"size\":10,\"solidity\":0.2}},\"type\":\"histogram\"}],\"histogram2d\":[{\"colorbar\":{\"outlinewidth\":0,\"ticks\":\"\"},\"colorscale\":[[0.0,\"#0d0887\"],[0.1111111111111111,\"#46039f\"],[0.2222222222222222,\"#7201a8\"],[0.3333333333333333,\"#9c179e\"],[0.4444444444444444,\"#bd3786\"],[0.5555555555555556,\"#d8576b\"],[0.6666666666666666,\"#ed7953\"],[0.7777777777777778,\"#fb9f3a\"],[0.8888888888888888,\"#fdca26\"],[1.0,\"#f0f921\"]],\"type\":\"histogram2d\"}],\"histogram2dcontour\":[{\"colorbar\":{\"outlinewidth\":0,\"ticks\":\"\"},\"colorscale\":[[0.0,\"#0d0887\"],[0.1111111111111111,\"#46039f\"],[0.2222222222222222,\"#7201a8\"],[0.3333333333333333,\"#9c179e\"],[0.4444444444444444,\"#bd3786\"],[0.5555555555555556,\"#d8576b\"],[0.6666666666666666,\"#ed7953\"],[0.7777777777777778,\"#fb9f3a\"],[0.8888888888888888,\"#fdca26\"],[1.0,\"#f0f921\"]],\"type\":\"histogram2dcontour\"}],\"mesh3d\":[{\"colorbar\":{\"outlinewidth\":0,\"ticks\":\"\"},\"type\":\"mesh3d\"}],\"parcoords\":[{\"line\":{\"colorbar\":{\"outlinewidth\":0,\"ticks\":\"\"}},\"type\":\"parcoords\"}],\"pie\":[{\"automargin\":true,\"type\":\"pie\"}],\"scatter\":[{\"marker\":{\"colorbar\":{\"outlinewidth\":0,\"ticks\":\"\"}},\"type\":\"scatter\"}],\"scatter3d\":[{\"line\":{\"colorbar\":{\"outlinewidth\":0,\"ticks\":\"\"}},\"marker\":{\"colorbar\":{\"outlinewidth\":0,\"ticks\":\"\"}},\"type\":\"scatter3d\"}],\"scattercarpet\":[{\"marker\":{\"colorbar\":{\"outlinewidth\":0,\"ticks\":\"\"}},\"type\":\"scattercarpet\"}],\"scattergeo\":[{\"marker\":{\"colorbar\":{\"outlinewidth\":0,\"ticks\":\"\"}},\"type\":\"scattergeo\"}],\"scattergl\":[{\"marker\":{\"colorbar\":{\"outlinewidth\":0,\"ticks\":\"\"}},\"type\":\"scattergl\"}],\"scattermapbox\":[{\"marker\":{\"colorbar\":{\"outlinewidth\":0,\"ticks\":\"\"}},\"type\":\"scattermapbox\"}],\"scatterpolar\":[{\"marker\":{\"colorbar\":{\"outlinewidth\":0,\"ticks\":\"\"}},\"type\":\"scatterpolar\"}],\"scatterpolargl\":[{\"marker\":{\"colorbar\":{\"outlinewidth\":0,\"ticks\":\"\"}},\"type\":\"scatterpolargl\"}],\"scatterternary\":[{\"marker\":{\"colorbar\":{\"outlinewidth\":0,\"ticks\":\"\"}},\"type\":\"scatterternary\"}],\"surface\":[{\"colorbar\":{\"outlinewidth\":0,\"ticks\":\"\"},\"colorscale\":[[0.0,\"#0d0887\"],[0.1111111111111111,\"#46039f\"],[0.2222222222222222,\"#7201a8\"],[0.3333333333333333,\"#9c179e\"],[0.4444444444444444,\"#bd3786\"],[0.5555555555555556,\"#d8576b\"],[0.6666666666666666,\"#ed7953\"],[0.7777777777777778,\"#fb9f3a\"],[0.8888888888888888,\"#fdca26\"],[1.0,\"#f0f921\"]],\"type\":\"surface\"}],\"table\":[{\"cells\":{\"fill\":{\"color\":\"#EBF0F8\"},\"line\":{\"color\":\"white\"}},\"header\":{\"fill\":{\"color\":\"#C8D4E3\"},\"line\":{\"color\":\"white\"}},\"type\":\"table\"}]},\"layout\":{\"annotationdefaults\":{\"arrowcolor\":\"#2a3f5f\",\"arrowhead\":0,\"arrowwidth\":1},\"autotypenumbers\":\"strict\",\"coloraxis\":{\"colorbar\":{\"outlinewidth\":0,\"ticks\":\"\"}},\"colorscale\":{\"diverging\":[[0,\"#8e0152\"],[0.1,\"#c51b7d\"],[0.2,\"#de77ae\"],[0.3,\"#f1b6da\"],[0.4,\"#fde0ef\"],[0.5,\"#f7f7f7\"],[0.6,\"#e6f5d0\"],[0.7,\"#b8e186\"],[0.8,\"#7fbc41\"],[0.9,\"#4d9221\"],[1,\"#276419\"]],\"sequential\":[[0.0,\"#0d0887\"],[0.1111111111111111,\"#46039f\"],[0.2222222222222222,\"#7201a8\"],[0.3333333333333333,\"#9c179e\"],[0.4444444444444444,\"#bd3786\"],[0.5555555555555556,\"#d8576b\"],[0.6666666666666666,\"#ed7953\"],[0.7777777777777778,\"#fb9f3a\"],[0.8888888888888888,\"#fdca26\"],[1.0,\"#f0f921\"]],\"sequentialminus\":[[0.0,\"#0d0887\"],[0.1111111111111111,\"#46039f\"],[0.2222222222222222,\"#7201a8\"],[0.3333333333333333,\"#9c179e\"],[0.4444444444444444,\"#bd3786\"],[0.5555555555555556,\"#d8576b\"],[0.6666666666666666,\"#ed7953\"],[0.7777777777777778,\"#fb9f3a\"],[0.8888888888888888,\"#fdca26\"],[1.0,\"#f0f921\"]]},\"colorway\":[\"#636efa\",\"#EF553B\",\"#00cc96\",\"#ab63fa\",\"#FFA15A\",\"#19d3f3\",\"#FF6692\",\"#B6E880\",\"#FF97FF\",\"#FECB52\"],\"font\":{\"color\":\"#2a3f5f\"},\"geo\":{\"bgcolor\":\"white\",\"lakecolor\":\"white\",\"landcolor\":\"#E5ECF6\",\"showlakes\":true,\"showland\":true,\"subunitcolor\":\"white\"},\"hoverlabel\":{\"align\":\"left\"},\"hovermode\":\"closest\",\"mapbox\":{\"style\":\"light\"},\"paper_bgcolor\":\"white\",\"plot_bgcolor\":\"#E5ECF6\",\"polar\":{\"angularaxis\":{\"gridcolor\":\"white\",\"linecolor\":\"white\",\"ticks\":\"\"},\"bgcolor\":\"#E5ECF6\",\"radialaxis\":{\"gridcolor\":\"white\",\"linecolor\":\"white\",\"ticks\":\"\"}},\"scene\":{\"xaxis\":{\"backgroundcolor\":\"#E5ECF6\",\"gridcolor\":\"white\",\"gridwidth\":2,\"linecolor\":\"white\",\"showbackground\":true,\"ticks\":\"\",\"zerolinecolor\":\"white\"},\"yaxis\":{\"backgroundcolor\":\"#E5ECF6\",\"gridcolor\":\"white\",\"gridwidth\":2,\"linecolor\":\"white\",\"showbackground\":true,\"ticks\":\"\",\"zerolinecolor\":\"white\"},\"zaxis\":{\"backgroundcolor\":\"#E5ECF6\",\"gridcolor\":\"white\",\"gridwidth\":2,\"linecolor\":\"white\",\"showbackground\":true,\"ticks\":\"\",\"zerolinecolor\":\"white\"}},\"shapedefaults\":{\"line\":{\"color\":\"#2a3f5f\"}},\"ternary\":{\"aaxis\":{\"gridcolor\":\"white\",\"linecolor\":\"white\",\"ticks\":\"\"},\"baxis\":{\"gridcolor\":\"white\",\"linecolor\":\"white\",\"ticks\":\"\"},\"bgcolor\":\"#E5ECF6\",\"caxis\":{\"gridcolor\":\"white\",\"linecolor\":\"white\",\"ticks\":\"\"}},\"title\":{\"x\":0.05},\"xaxis\":{\"automargin\":true,\"gridcolor\":\"white\",\"linecolor\":\"white\",\"ticks\":\"\",\"title\":{\"standoff\":15},\"zerolinecolor\":\"white\",\"zerolinewidth\":2},\"yaxis\":{\"automargin\":true,\"gridcolor\":\"white\",\"linecolor\":\"white\",\"ticks\":\"\",\"title\":{\"standoff\":15},\"zerolinecolor\":\"white\",\"zerolinewidth\":2}}},\"xaxis\":{\"anchor\":\"y\",\"domain\":[0.0,1.0],\"title\":{\"text\":\"T2\"}},\"yaxis\":{\"anchor\":\"x\",\"domain\":[0.0,1.0],\"title\":{\"text\":\"Qres\"}},\"legend\":{\"tracegroupgap\":0},\"margin\":{\"t\":60},\"shapes\":[{\"line\":{\"color\":\"Red\",\"dash\":\"dot\"},\"type\":\"line\",\"x0\":0,\"x1\":1,\"xref\":\"x domain\",\"y0\":40.564115229056,\"y1\":40.564115229056,\"yref\":\"y\"},{\"line\":{\"color\":\"Red\",\"dash\":\"dot\"},\"type\":\"line\",\"x0\":7.986272701953538,\"x1\":7.986272701953538,\"xref\":\"x\",\"y0\":0,\"y1\":1,\"yref\":\"y domain\"}],\"title\":{\"text\":\"Hotelling's T2 vs Q-residuals\"},\"height\":600,\"width\":800},                        {\"responsive\": true}                    ).then(function(){\n",
       "                            \n",
       "var gd = document.getElementById('aeb4f6b9-d4b4-4165-9b98-9a2102decedd');\n",
       "var x = new MutationObserver(function (mutations, observer) {{\n",
       "        var display = window.getComputedStyle(gd).display;\n",
       "        if (!display || display === 'none') {{\n",
       "            console.log([gd, 'removed!']);\n",
       "            Plotly.purge(gd);\n",
       "            observer.disconnect();\n",
       "        }}\n",
       "}});\n",
       "\n",
       "// Listen for the removal of the full notebook cells\n",
       "var notebookContainer = gd.closest('#notebook-container');\n",
       "if (notebookContainer) {{\n",
       "    x.observe(notebookContainer, {childList: true});\n",
       "}}\n",
       "\n",
       "// Listen for the clearing of the current output cell\n",
       "var outputEl = gd.closest('.output');\n",
       "if (outputEl) {{\n",
       "    x.observe(outputEl, {childList: true});\n",
       "}}\n",
       "\n",
       "                        })                };                });            </script>        </div>"
      ]
     },
     "metadata": {},
     "output_type": "display_data"
    }
   ],
   "source": [
    "# Plot the Hotelling T2 vs Q-residuals plot\n",
    "fig = px.scatter(hot_q_data, x=\"T2\", y=\"Qres\", hover_data={'Sample': (hot_q_data.index)})#, color = \"Class\")\n",
    "fig.add_hline(y=abs(Q_conf),line_dash=\"dot\", line_color='Red')\n",
    "fig.add_vline(x=Tsq_conf,line_dash=\"dot\", line_color='Red')\n",
    "fig.update_traces(textposition='top center')\n",
    "fig.update_layout(\n",
    "    height=600,\n",
    "    width=800,\n",
    "    title_text=\"Hotelling's T2 vs Q-residuals\")\n",
    "fig.show()"
   ]
  }
 ],
 "metadata": {
  "kernelspec": {
   "display_name": "Python 3 (ipykernel)",
   "language": "python",
   "name": "python3"
  },
  "language_info": {
   "codemirror_mode": {
    "name": "ipython",
    "version": 3
   },
   "file_extension": ".py",
   "mimetype": "text/x-python",
   "name": "python",
   "nbconvert_exporter": "python",
   "pygments_lexer": "ipython3",
   "version": "3.9.7"
  }
 },
 "nbformat": 4,
 "nbformat_minor": 5
}
