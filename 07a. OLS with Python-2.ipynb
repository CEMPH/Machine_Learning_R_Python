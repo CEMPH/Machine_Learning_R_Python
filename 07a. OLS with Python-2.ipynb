{
 "cells": [
  {
   "cell_type": "markdown",
   "id": "f835077b",
   "metadata": {},
   "source": [
    "# OLS: Ordinary Least Squares Regression"
   ]
  },
  {
   "cell_type": "code",
   "execution_count": null,
   "id": "4ded2808",
   "metadata": {},
   "outputs": [],
   "source": [
    "import numpy as np\n",
    "import pandas as pd\n",
    "import matplotlib.pyplot as plt\n",
    "from sklearn.linear_model import LinearRegression"
   ]
  },
  {
   "cell_type": "code",
   "execution_count": null,
   "id": "8a9ca6c5",
   "metadata": {},
   "outputs": [],
   "source": [
    "X = np.array([58, 59, 60, 61, 62, 63, 64, 65, 66, 67, 68, 69, 70, 71, 72]).reshape((-1, 1))\n",
    "y = np.array([115, 117, 120, 123, 126, 129, 132, 135, 139, 142, 146, 150, 154, 159, 164])"
   ]
  },
  {
   "cell_type": "code",
   "execution_count": null,
   "id": "09228ba5",
   "metadata": {},
   "outputs": [],
   "source": [
    "X"
   ]
  },
  {
   "cell_type": "code",
   "execution_count": null,
   "id": "75012e92",
   "metadata": {},
   "outputs": [],
   "source": [
    "y"
   ]
  },
  {
   "cell_type": "code",
   "execution_count": null,
   "id": "e9f78738",
   "metadata": {},
   "outputs": [],
   "source": [
    "# Splitting the dataset into the Training set and Test set\n",
    "from sklearn.model_selection import train_test_split \n",
    "X_train, X_test, y_train, y_test = train_test_split(X, y, test_size=0.2, random_state=0)"
   ]
  },
  {
   "cell_type": "markdown",
   "id": "3b8e3ea7",
   "metadata": {},
   "source": [
    "Code explanation:\n",
    "\n",
    " - **test_size** = 0.2: we will split our dataset (10 observations) into 2 parts (training set, test set) and the ratio of test set compare to dataset is 0.2 (2 observations will be put into the test set. You can put it 1/5 to get 20% or 0.2, they are the same. We should not let the test set too big; if it’s too big, we will lack of data to train. Normally, we should pick around 5% to 30%.\n",
    " - **train_size**: if we use the test_size already, the rest of data will automatically be assigned to train_size.\n",
    " - **random_state**: this is the seed for the random number generator. We can put an instance of the RandomState class as well. If we leave it blank or 0, the RandomState instance used by np.random will be used instead."
   ]
  },
  {
   "cell_type": "code",
   "execution_count": null,
   "id": "4325b756",
   "metadata": {},
   "outputs": [],
   "source": [
    "# Fitting Linear Regression to the dataset\n",
    "from sklearn.linear_model import LinearRegression\n",
    "lin_reg = LinearRegression()\n",
    "lin_reg.fit(X, y)"
   ]
  },
  {
   "cell_type": "code",
   "execution_count": null,
   "id": "36140295",
   "metadata": {},
   "outputs": [],
   "source": [
    "#y = b + mX"
   ]
  },
  {
   "cell_type": "code",
   "execution_count": null,
   "id": "fed7824e",
   "metadata": {},
   "outputs": [],
   "source": [
    "# slope\n",
    "lin_reg.coef_"
   ]
  },
  {
   "cell_type": "code",
   "execution_count": null,
   "id": "313dce43",
   "metadata": {},
   "outputs": [],
   "source": [
    "# intercept\n",
    "lin_reg.intercept_"
   ]
  },
  {
   "cell_type": "code",
   "execution_count": null,
   "id": "dbb2918a",
   "metadata": {},
   "outputs": [],
   "source": [
    "#y = -87.52 + 3.45X"
   ]
  },
  {
   "cell_type": "code",
   "execution_count": null,
   "id": "980bc4a7",
   "metadata": {},
   "outputs": [],
   "source": [
    "# Visualizing the Linear Regression results\n",
    "def viz_linear():\n",
    "    plt.scatter(X, y, color='red')\n",
    "    plt.plot(X, lin_reg.predict(X), color='blue')\n",
    "    plt.title('OLS Model')\n",
    "    plt.xlabel('X')\n",
    "    plt.ylabel('Y')\n",
    "    plt.show()\n",
    "    return\n",
    "viz_linear()"
   ]
  },
  {
   "cell_type": "code",
   "execution_count": null,
   "id": "d1d5d526",
   "metadata": {},
   "outputs": [],
   "source": [
    "#pip install statsmodels"
   ]
  },
  {
   "cell_type": "code",
   "execution_count": null,
   "id": "b0262b6b",
   "metadata": {},
   "outputs": [],
   "source": [
    "import statsmodels.api as sm\n",
    "from statsmodels.formula.api import ols"
   ]
  },
  {
   "cell_type": "code",
   "execution_count": null,
   "id": "31e8fd30",
   "metadata": {},
   "outputs": [],
   "source": [
    "data = {'X': [58, 59, 60, 61, 62, 63, 64, 65, 66, 67, 68, 69, 70, 71, 72],\n",
    "        'y': [115, 117, 120, 123, 126, 129, 132, 135, 139, 142, 146, 150, 154, 159, 164]\n",
    "        }\n",
    "df = pd.DataFrame(data)\n",
    "df"
   ]
  },
  {
   "cell_type": "code",
   "execution_count": null,
   "id": "0d9b33a2",
   "metadata": {},
   "outputs": [],
   "source": [
    "#~ = ALT + 126"
   ]
  },
  {
   "cell_type": "code",
   "execution_count": null,
   "id": "cc53a0c1",
   "metadata": {},
   "outputs": [],
   "source": [
    "#fit simple linear regression model\n",
    "model = ols('y ~ X', data=df).fit()"
   ]
  },
  {
   "cell_type": "code",
   "execution_count": null,
   "id": "6c642fc9",
   "metadata": {
    "scrolled": false
   },
   "outputs": [],
   "source": [
    "#view model summary\n",
    "print(model.summary())"
   ]
  },
  {
   "cell_type": "code",
   "execution_count": null,
   "id": "d9789070",
   "metadata": {},
   "outputs": [],
   "source": [
    "#define figure size\n",
    "fig = plt.figure(figsize=(12,8))\n",
    "\n",
    "#produce regression plots\n",
    "fig = sm.graphics.plot_regress_exog(model, 'X', fig=fig)"
   ]
  },
  {
   "cell_type": "code",
   "execution_count": null,
   "id": "452b0a74",
   "metadata": {},
   "outputs": [],
   "source": [
    "model_quad = ols(formula = 'y ~ X + I(X**2)', data = df).fit()"
   ]
  },
  {
   "cell_type": "code",
   "execution_count": null,
   "id": "b78d01a9",
   "metadata": {},
   "outputs": [],
   "source": [
    "#view model summary\n",
    "print(model_quad.summary())"
   ]
  },
  {
   "cell_type": "code",
   "execution_count": null,
   "id": "31a81467",
   "metadata": {},
   "outputs": [],
   "source": [
    "#y = 261.87 - 7.35X + 0.0831X^2"
   ]
  },
  {
   "cell_type": "code",
   "execution_count": null,
   "id": "4906f282",
   "metadata": {},
   "outputs": [],
   "source": [
    "#define figure size\n",
    "fig = plt.figure(figsize=(12,8))\n",
    "\n",
    "#produce regression plots\n",
    "fig = sm.graphics.plot_regress_exog(model_quad, 'X', fig=fig)"
   ]
  },
  {
   "cell_type": "code",
   "execution_count": null,
   "id": "e251e330",
   "metadata": {},
   "outputs": [],
   "source": [
    "# Visualising the Linear Regression results\n",
    "plt.scatter(X, y, color = 'blue')\n",
    " \n",
    "plt.plot(X, lin_reg.predict(X), color = 'red')\n",
    "plt.title('Linear Regression')\n",
    "plt.xlabel('X')\n",
    "plt.ylabel('Y')\n",
    " \n",
    "plt.show()"
   ]
  },
  {
   "cell_type": "code",
   "execution_count": null,
   "id": "6d73aab3",
   "metadata": {},
   "outputs": [],
   "source": [
    "# Fitting Quadratic Regression to the dataset\n",
    "from sklearn.preprocessing import PolynomialFeatures\n",
    " \n",
    "poly = PolynomialFeatures(degree = 2)\n",
    "X_poly = poly.fit_transform(X)\n",
    " \n",
    "poly.fit(X_poly, y)\n",
    "lin2 = LinearRegression()\n",
    "lin2.fit(X_poly, y)"
   ]
  },
  {
   "cell_type": "code",
   "execution_count": null,
   "id": "0c07e299",
   "metadata": {},
   "outputs": [],
   "source": [
    "# Visualising the Quadratic Regression results\n",
    "plt.scatter(X, y, color = 'blue')\n",
    " \n",
    "plt.plot(X, lin2.predict(poly.fit_transform(X)), color = 'red')\n",
    "plt.title('Quadratic Regression')\n",
    "plt.xlabel('X')\n",
    "plt.ylabel('y')\n",
    " \n",
    "plt.show()"
   ]
  },
  {
   "cell_type": "code",
   "execution_count": null,
   "id": "09e79bc2",
   "metadata": {},
   "outputs": [],
   "source": [
    "# Print confidence intervals\n",
    "from statsmodels.sandbox.regression.predstd import wls_prediction_std\n",
    "from sklearn.preprocessing import PolynomialFeatures\n",
    "polynomial_features= PolynomialFeatures(degree=2)\n",
    "\n",
    "\n",
    "xp = polynomial_features.fit_transform(X)\n",
    "xp.shape\n",
    "\n",
    "model = sm.OLS(y, xp).fit()\n",
    "ypred = model.predict(xp) \n",
    "_, upper,lower = wls_prediction_std(model)\n",
    "\n",
    "plt.scatter(X,y)\n",
    "plt.plot(X,ypred)\n",
    "plt.plot(X,upper,'--',label=\"Upper\") # confid. intrvl\n",
    "plt.plot(X,lower,':',label=\"lower\")\n",
    "plt.legend(loc='upper left')\n"
   ]
  }
 ],
 "metadata": {
  "kernelspec": {
   "display_name": "Python 3 (ipykernel)",
   "language": "python",
   "name": "python3"
  },
  "language_info": {
   "codemirror_mode": {
    "name": "ipython",
    "version": 3
   },
   "file_extension": ".py",
   "mimetype": "text/x-python",
   "name": "python",
   "nbconvert_exporter": "python",
   "pygments_lexer": "ipython3",
   "version": "3.9.7"
  }
 },
 "nbformat": 4,
 "nbformat_minor": 5
}
