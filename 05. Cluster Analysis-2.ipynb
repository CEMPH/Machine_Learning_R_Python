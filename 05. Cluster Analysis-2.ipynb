{
 "cells": [
  {
   "cell_type": "code",
   "execution_count": null,
   "id": "463384e0",
   "metadata": {},
   "outputs": [],
   "source": [
    "import pandas as pd\n",
    "import numpy as np\n",
    "import matplotlib.pyplot as plt\n",
    "%matplotlib inline"
   ]
  },
  {
   "cell_type": "markdown",
   "id": "746dce15",
   "metadata": {},
   "source": [
    "Install scipy for dendrogram plot"
   ]
  },
  {
   "cell_type": "code",
   "execution_count": null,
   "id": "e3e5caf8",
   "metadata": {
    "scrolled": false
   },
   "outputs": [],
   "source": [
    "#pip install scipy "
   ]
  },
  {
   "cell_type": "markdown",
   "id": "8dc98594",
   "metadata": {},
   "source": [
    "## Iris dataset"
   ]
  },
  {
   "cell_type": "code",
   "execution_count": null,
   "id": "a2f62a05",
   "metadata": {},
   "outputs": [],
   "source": [
    "data = pd.read_csv('C:\\\\Users\\\\Eugenio_Py\\\\Desktop\\\\Notebooks\\\\datasets\\\\iris.csv', sep=\";\", header=0, index_col=0)\n",
    "data.head()"
   ]
  },
  {
   "cell_type": "markdown",
   "id": "435e4338",
   "metadata": {},
   "source": [
    "Our aim is to make clusters from this data that can segment similar flowers together."
   ]
  },
  {
   "cell_type": "markdown",
   "id": "31249040",
   "metadata": {},
   "source": [
    "We have to normalize/scale the data so that the scale of each variable is the same. \n",
    "\n",
    "If the scale of the variables is not the same, the model might become biased towards the variables with a higher magnitude."
   ]
  },
  {
   "cell_type": "code",
   "execution_count": null,
   "id": "8384be9b",
   "metadata": {},
   "outputs": [],
   "source": [
    "X = data.iloc[:, 0:4]\n",
    "X"
   ]
  },
  {
   "cell_type": "code",
   "execution_count": null,
   "id": "dc127935",
   "metadata": {
    "scrolled": false
   },
   "outputs": [],
   "source": [
    "# autoscale the data\n",
    "from sklearn.preprocessing import scale\n",
    "X = scale(X.values)\n",
    "X"
   ]
  },
  {
   "cell_type": "code",
   "execution_count": null,
   "id": "c01ab000",
   "metadata": {
    "scrolled": true
   },
   "outputs": [],
   "source": [
    "data_scaled = pd.DataFrame(X)\n",
    "data_scaled.index = data.index\n",
    "data_scaled = pd.concat([data_scaled, data.variety], axis = 1)\n",
    "data_scaled.columns = data.columns\n",
    "data_scaled.head()"
   ]
  },
  {
   "cell_type": "markdown",
   "id": "f730f4b0",
   "metadata": {},
   "source": [
    "We can see that the scale of all the variables is almost similar. \n",
    "\n",
    "Let’s first draw the dendrogram to help us decide the number of clusters for this particular problem."
   ]
  },
  {
   "cell_type": "markdown",
   "id": "3b99014e",
   "metadata": {},
   "source": [
    "We have 3 clusters (virginica, versicolor, setosa). \n",
    "Let’s now apply hierarchical clustering for 3 clusters"
   ]
  },
  {
   "cell_type": "code",
   "execution_count": null,
   "id": "15591278",
   "metadata": {},
   "outputs": [],
   "source": [
    "import numpy as np\n",
    "\n",
    "from matplotlib import pyplot as plt\n",
    "from scipy.cluster.hierarchy import dendrogram\n",
    "from sklearn.datasets import load_iris\n",
    "from sklearn.cluster import AgglomerativeClustering"
   ]
  },
  {
   "cell_type": "code",
   "execution_count": null,
   "id": "694dc6c1",
   "metadata": {},
   "outputs": [],
   "source": [
    "def plot_dendrogram(model, **kwargs):\n",
    "    # Create linkage matrix and then plot the dendrogram\n",
    "\n",
    "    # create the counts of samples under each node\n",
    "    counts = np.zeros(model.children_.shape[0])\n",
    "    n_samples = len(model.labels_)\n",
    "    for i, merge in enumerate(model.children_):\n",
    "        current_count = 0\n",
    "        for child_idx in merge:\n",
    "            if child_idx < n_samples:\n",
    "                current_count += 1  # leaf node\n",
    "            else:\n",
    "                current_count += counts[child_idx - n_samples]\n",
    "        counts[i] = current_count\n",
    "\n",
    "    linkage_matrix = np.column_stack(\n",
    "        [model.children_, model.distances_, counts]\n",
    "    ).astype(float)\n",
    "\n",
    "    # Plot the corresponding dendrogram\n",
    "    dendrogram(linkage_matrix, **kwargs)"
   ]
  },
  {
   "cell_type": "markdown",
   "id": "db50d8c6",
   "metadata": {},
   "source": [
    "In the following formula we can set:\n",
    " - **affinity**, default=’euclidean’: Metric used to compute the linkage. Can be “euclidean”, “l1”, “l2”,    “manhattan”, “cosine”, or “precomputed”. If linkage is “ward”, only “euclidean” is accepted. If “precomputed”, a distance matrix (instead of a similarity matrix) is needed as input for the fit method;\n",
    " - **n_clusters**, default=2: The number of clusters to find. It must be None if distance_threshold is not None;\n",
    " - **linkage**, default = 'ward': Which linkage criterion to use. The linkage criterion determines which distance to use between sets of observation. The algorithm will merge the pairs of cluster that minimize this criterion.\n",
    "\n",
    "     - ‘ward’ minimizes the variance of the clusters being merged.\n",
    "\n",
    "     - ‘average’ uses the average of the distances of each observation of the two sets.\n",
    "\n",
    "     - ‘complete’ or ‘maximum’ linkage uses the maximum distances between all observations of the two sets.\n",
    "\n",
    "     - ‘single’ uses the minimum of the distances between all observations of the two sets."
   ]
  },
  {
   "cell_type": "code",
   "execution_count": null,
   "id": "50d3c7f3",
   "metadata": {},
   "outputs": [],
   "source": [
    "# setting distance_threshold=0 ensures we compute the full tree.\n",
    "model = AgglomerativeClustering(affinity='euclidean', n_clusters=3, linkage='single', compute_distances = True)"
   ]
  },
  {
   "cell_type": "code",
   "execution_count": null,
   "id": "cf004115",
   "metadata": {},
   "outputs": [],
   "source": [
    "model"
   ]
  },
  {
   "cell_type": "code",
   "execution_count": null,
   "id": "6ca2ef76",
   "metadata": {},
   "outputs": [],
   "source": [
    "model.fit_predict(X)"
   ]
  },
  {
   "cell_type": "code",
   "execution_count": null,
   "id": "36dd8d50",
   "metadata": {},
   "outputs": [],
   "source": [
    "from matplotlib.pyplot import figure\n",
    "figure(figsize=(12, 6), dpi=80)\n",
    "model = model.fit(X)\n",
    "plt.title(\"Hierarchical Clustering Dendrogram\")\n",
    "# plot the top three levels of the dendrogram\n",
    "plot_dendrogram(model, truncate_mode=\"level\", p = 4)\n",
    "plt.xlabel(\"Number of points in node (or index of point if no parenthesis).\")\n",
    "plt.show()"
   ]
  },
  {
   "cell_type": "markdown",
   "id": "bd75ed77",
   "metadata": {},
   "source": [
    "We can see the values of 0s, 1s and 2s in the output since we defined 3 clusters. \n",
    "0 represents the points that belong to the first cluster, 1 those belonging to the second cluster and 2 represents points in the third cluster."
   ]
  },
  {
   "cell_type": "code",
   "execution_count": null,
   "id": "a3a66e95",
   "metadata": {},
   "outputs": [],
   "source": [
    "import plotly.express as px\n",
    "fig = px.scatter(data_scaled, x=\"petal.length\", y=\"petal.width\", color=\"variety\", hover_data=['variety'])\n",
    "fig.update_layout(\n",
    "    height=600,\n",
    "    width=800,\n",
    "    title_text='Original Samples')\n",
    "fig.show()"
   ]
  },
  {
   "cell_type": "code",
   "execution_count": null,
   "id": "5cc6abfb",
   "metadata": {},
   "outputs": [],
   "source": [
    "import plotly.express as px\n",
    "fig = px.scatter(data_scaled, x=\"petal.length\", y=\"petal.width\", color=model.labels_)\n",
    "fig.update_layout(\n",
    "    height=600,\n",
    "    width=800,\n",
    "    title_text='Cluster Analysis')\n",
    "fig.show()"
   ]
  },
  {
   "cell_type": "markdown",
   "id": "6a2bcaed",
   "metadata": {},
   "source": [
    "## K-means"
   ]
  },
  {
   "attachments": {
    "image.png": {
     "image/png": "[encoded data removed]"
    }
   },
   "cell_type": "markdown",
   "id": "9ed88cea",
   "metadata": {},
   "source": [
    "![image.png](attachment:image.png)"
   ]
  },
  {
   "cell_type": "code",
   "execution_count": null,
   "id": "50208899",
   "metadata": {},
   "outputs": [],
   "source": [
    "pip install kneed"
   ]
  },
  {
   "cell_type": "code",
   "execution_count": null,
   "id": "0c5cb2e0",
   "metadata": {},
   "outputs": [],
   "source": [
    "import matplotlib.pyplot as plt\n",
    "from kneed import KneeLocator\n",
    "from sklearn.datasets import make_blobs\n",
    "from sklearn.cluster import KMeans\n",
    "from sklearn.preprocessing import StandardScaler"
   ]
  },
  {
   "cell_type": "markdown",
   "id": "f76dcc89",
   "metadata": {},
   "source": [
    "K-means parameters are:\n",
    " - **init** controls the initialization technique. The standard version of the k-means algorithm is implemented by setting init to \"random\". Setting this to \"k-means++\" employs an advanced trick to speed up convergence.\n",
    "\n",
    " - **n_clusters** sets k for the clustering step. This is the most important parameter for k-means.\n",
    "\n",
    " - **n_init** sets the number of initializations to perform. This is important because two runs can converge on different cluster assignments. The default behavior for the scikit-learn algorithm is to perform ten k-means runs and return the results of the one with the lowest SSE - a measure of variability.\n",
    "\n",
    " - **max_iter** sets the number of maximum iterations for each initialization of the k-means algorithm."
   ]
  },
  {
   "cell_type": "code",
   "execution_count": null,
   "id": "9122fb7a",
   "metadata": {},
   "outputs": [],
   "source": [
    "kmeans = KMeans(\n",
    "    init=\"random\",\n",
    "    n_clusters=3, # 3 varieties\n",
    "    n_init=10, # number of trials\n",
    "    max_iter=300,\n",
    "    random_state=42\n",
    ")"
   ]
  },
  {
   "cell_type": "code",
   "execution_count": null,
   "id": "76381ba8",
   "metadata": {},
   "outputs": [],
   "source": [
    "kmeans.fit(X)# on the autoscaled data"
   ]
  },
  {
   "cell_type": "code",
   "execution_count": null,
   "id": "9e6ff46f",
   "metadata": {},
   "outputs": [],
   "source": [
    "# The lowest SSE value\n",
    "kmeans.inertia_"
   ]
  },
  {
   "cell_type": "code",
   "execution_count": null,
   "id": "619a1b86",
   "metadata": {},
   "outputs": [],
   "source": [
    "# The number of iterations required to converge\n",
    "kmeans.n_iter_"
   ]
  },
  {
   "cell_type": "code",
   "execution_count": null,
   "id": "e638eaab",
   "metadata": {},
   "outputs": [],
   "source": [
    "# View the cluster values\n",
    "kmeans.labels_"
   ]
  },
  {
   "cell_type": "code",
   "execution_count": null,
   "id": "ba576743",
   "metadata": {},
   "outputs": [],
   "source": [
    "kmeans.labels_[:5]"
   ]
  },
  {
   "cell_type": "code",
   "execution_count": null,
   "id": "4983b1b7",
   "metadata": {},
   "outputs": [],
   "source": [
    "import plotly.express as px\n",
    "fig = px.scatter(data_scaled, x=\"petal.length\", y=\"petal.width\", color=\"variety\", hover_data=['variety'])\n",
    "fig.update_layout(\n",
    "    height=600,\n",
    "    width=800,\n",
    "    title_text='Original Samples')\n",
    "fig.show()"
   ]
  },
  {
   "cell_type": "code",
   "execution_count": null,
   "id": "53944518",
   "metadata": {},
   "outputs": [],
   "source": [
    "import plotly.express as px\n",
    "fig = px.scatter(data_scaled, x=\"petal.length\", y=\"petal.width\", color=kmeans.labels_)\n",
    "fig.update_layout(\n",
    "    height=600,\n",
    "    width=800,\n",
    "    title_text='Cluster Analysis')\n",
    "fig.show()"
   ]
  },
  {
   "cell_type": "markdown",
   "id": "18752179",
   "metadata": {},
   "source": [
    "#### Choosing the Appropriate Number of Clusters\n",
    "In this section, you’ll look at two methods that are commonly used to evaluate the appropriate number of clusters using the __elbow (knee) method__ that run several k-means, increment k with each iteration, and record the SSE:"
   ]
  },
  {
   "cell_type": "code",
   "execution_count": null,
   "id": "c41b2280",
   "metadata": {},
   "outputs": [],
   "source": [
    "kmeans_kwargs = {\n",
    "    \"init\": \"random\",\n",
    "    \"n_init\": 10,\n",
    "    \"max_iter\": 300,\n",
    "    \"random_state\": 42,\n",
    "}\n",
    "\n",
    "# A list holds the SSE values for each k\n",
    "sse = []\n",
    "for k in range(1, 11):\n",
    "    kmeans = KMeans(n_clusters=k, **kmeans_kwargs)\n",
    "    kmeans.fit(X)\n",
    "    sse.append(kmeans.inertia_)"
   ]
  },
  {
   "cell_type": "code",
   "execution_count": null,
   "id": "0e6b0c6b",
   "metadata": {},
   "outputs": [],
   "source": [
    " plt.style.use(\"ggplot\") #https://matplotlib.org/3.5.1/gallery/style_sheets/style_sheets_reference.html\n",
    " plt.plot(range(1, 11), sse)\n",
    " plt.xticks(range(1, 11))\n",
    " plt.xlabel(\"Number of Clusters\")\n",
    " plt.ylabel(\"SSE - variability\")\n",
    " plt.show()"
   ]
  },
  {
   "cell_type": "code",
   "execution_count": null,
   "id": "cf54a6a6",
   "metadata": {},
   "outputs": [],
   "source": [
    "# Find the knee!\n",
    "kl = KneeLocator(\n",
    "    range(1, 11), sse, curve=\"convex\", direction=\"decreasing\"\n",
    ")\n",
    "\n",
    "kl.elbow"
   ]
  },
  {
   "cell_type": "code",
   "execution_count": null,
   "id": "142fa0c4",
   "metadata": {},
   "outputs": [],
   "source": [
    "kmeans = KMeans(\n",
    "    init=\"random\",\n",
    "    n_clusters=4, # 4 varieties\n",
    "    n_init=10, # number of trials\n",
    "    max_iter=300,\n",
    "    random_state=42\n",
    ")"
   ]
  },
  {
   "cell_type": "code",
   "execution_count": null,
   "id": "c553c334",
   "metadata": {},
   "outputs": [],
   "source": [
    "kmeans.fit(X)# on the autoscaled data"
   ]
  },
  {
   "cell_type": "code",
   "execution_count": null,
   "id": "abf4ca98",
   "metadata": {},
   "outputs": [],
   "source": [
    "import plotly.express as px\n",
    "fig = px.scatter(data_scaled, x=\"petal.length\", y=\"petal.width\", color=kmeans.labels_)\n",
    "fig.update_layout(\n",
    "    height=600,\n",
    "    width=800,\n",
    "    title_text='Cluster Analysis')\n",
    "fig.show()"
   ]
  },
  {
   "cell_type": "markdown",
   "id": "c732b2cd",
   "metadata": {},
   "source": [
    "## Plants dataset"
   ]
  },
  {
   "cell_type": "code",
   "execution_count": null,
   "id": "4405a378",
   "metadata": {},
   "outputs": [],
   "source": [
    "#import data\n",
    "data = pd.read_csv('C:\\\\Users\\\\Eugenio_Py\\\\Desktop\\\\Notebooks\\\\datasets\\\\plants.txt', sep=\"\\t\")\n",
    "data.head()"
   ]
  },
  {
   "cell_type": "code",
   "execution_count": null,
   "id": "1fb77240",
   "metadata": {
    "scrolled": true
   },
   "outputs": [],
   "source": [
    "# autoscale data\n",
    "X = data.iloc[:, 2:10]\n",
    "X = scale(X.values)\n",
    "data_scaled = pd.concat([data.Plants, data.Type, pd.DataFrame(X)], axis = 1)\n",
    "data_scaled.columns = data.columns\n",
    "data_scaled.head()"
   ]
  },
  {
   "cell_type": "code",
   "execution_count": null,
   "id": "ac8d0a16",
   "metadata": {},
   "outputs": [],
   "source": [
    "# build the model\n",
    "model = AgglomerativeClustering(affinity='manhattan', n_clusters=3, linkage='complete', compute_distances = True)"
   ]
  },
  {
   "cell_type": "code",
   "execution_count": null,
   "id": "efe3f5e9",
   "metadata": {},
   "outputs": [],
   "source": [
    "model.fit_predict(X)"
   ]
  },
  {
   "cell_type": "code",
   "execution_count": null,
   "id": "ede35269",
   "metadata": {},
   "outputs": [],
   "source": [
    "from matplotlib.pyplot import figure\n",
    "figure(figsize=(12, 6), dpi=80)\n",
    "model = model.fit(X)\n",
    "plt.title(\"Hierarchical Clustering Dendrogram\")\n",
    "# plot the top three levels of the dendrogram\n",
    "plot_dendrogram(model, truncate_mode=\"level\", p=2)\n",
    "plt.xlabel(\"Number of points in node (or index of point if no parenthesis).\")\n",
    "plt.show()"
   ]
  },
  {
   "cell_type": "code",
   "execution_count": null,
   "id": "cb76b4a3",
   "metadata": {},
   "outputs": [],
   "source": [
    "import plotly.express as px\n",
    "fig = px.scatter(data_scaled, x=\"Cd\", y=\"Pb\", color=\"Type\", hover_data=['Type'])\n",
    "fig.update_layout(\n",
    "    height=600,\n",
    "    width=800,\n",
    "    title_text='Original Samples')\n",
    "fig.show()"
   ]
  },
  {
   "cell_type": "code",
   "execution_count": null,
   "id": "85e53001",
   "metadata": {},
   "outputs": [],
   "source": [
    "import plotly.express as px\n",
    "fig = px.scatter(data_scaled, x=\"Cd\", y=\"Pb\", color=model.labels_)\n",
    "fig.update_layout(\n",
    "    height=600,\n",
    "    width=800,\n",
    "    title_text='Cluster Analysis')\n",
    "fig.show()"
   ]
  },
  {
   "cell_type": "markdown",
   "id": "cceec17a",
   "metadata": {},
   "source": [
    "## Various Agglomerative Clustering on a 2D embedding of digits"
   ]
  },
  {
   "cell_type": "code",
   "execution_count": null,
   "id": "c542e495",
   "metadata": {},
   "outputs": [],
   "source": [
    "import time\n",
    "import matplotlib.pyplot as plt\n",
    "import numpy as np\n",
    "\n",
    "from sklearn.cluster import AgglomerativeClustering\n",
    "from sklearn.neighbors import kneighbors_graph\n",
    "\n",
    "# Generate sample data\n",
    "n_samples = 1500\n",
    "np.random.seed(0)\n",
    "t = 1.5 * np.pi * (1 + 3 * np.random.rand(1, n_samples))\n",
    "x = t * np.cos(t)\n",
    "y = t * np.sin(t)\n",
    "\n",
    "\n",
    "X = np.concatenate((x, y))\n",
    "X += 0.7 * np.random.randn(2, n_samples)\n",
    "X = X.T\n",
    "\n",
    "# Create a graph capturing local connectivity. Larger number of neighbors\n",
    "# will give more homogeneous clusters to the cost of computation\n",
    "# time. A very large number of neighbors gives more evenly distributed\n",
    "# cluster sizes, but may not impose the local manifold structure of\n",
    "# the data\n",
    "knn_graph = kneighbors_graph(X, 30, include_self=False)\n",
    "my_distance = \"manhattan\"\n",
    "\n",
    "for n_clusters in (30, 3):\n",
    "        plt.figure(figsize=(10, 4))\n",
    "        for index, linkage in enumerate((\"average\", \"complete\", \"single\")): #\"ward\" only with \"affinity\" = \"euclidean\"\n",
    "            plt.subplot(1, 4, index + 1)\n",
    "            model = AgglomerativeClustering(\n",
    "                linkage=linkage, n_clusters=n_clusters, affinity=my_distance,\n",
    "            )\n",
    "            t0 = time.time()\n",
    "            model.fit(X)\n",
    "            elapsed_time = time.time() - t0\n",
    "            plt.scatter(X[:, 0], X[:, 1], c=model.labels_, cmap=plt.cm.nipy_spectral)\n",
    "            plt.title(\n",
    "                \"linkage=%s\\n(time %.2fs)\" % (linkage, elapsed_time),\n",
    "                fontdict=dict(verticalalignment=\"top\"),\n",
    "            )\n",
    "            plt.axis(\"equal\")\n",
    "            plt.axis(\"off\")\n",
    "\n",
    "            plt.subplots_adjust(bottom=0, top=0.83, wspace=0, left=0, right=1)\n",
    "            plt.suptitle(\n",
    "                \"n_cluster=%i, affinity = %r\"\n",
    "                % (n_clusters, my_distance),\n",
    "                size=17,\n",
    "            )\n",
    "\n",
    "\n",
    "plt.show()"
   ]
  },
  {
   "cell_type": "markdown",
   "id": "9e33f503",
   "metadata": {},
   "source": [
    "## Dataset alcohol"
   ]
  },
  {
   "cell_type": "code",
   "execution_count": null,
   "id": "7f38ec74",
   "metadata": {},
   "outputs": [],
   "source": [
    "# Import .xlsx file with column names (header=0) and row names (index_col=0), select also the sheet named 'training'\n",
    "data = pd.read_excel(\"C:/Users/Eugenio_Py/Desktop/Notebooks/datasets/alcohol.xlsx\", sheet_name='training', header=0, index_col=0) \n",
    "data.head()"
   ]
  },
  {
   "cell_type": "code",
   "execution_count": null,
   "id": "5a06e163",
   "metadata": {},
   "outputs": [],
   "source": [
    "data.shape"
   ]
  },
  {
   "cell_type": "code",
   "execution_count": null,
   "id": "9ecd6e04",
   "metadata": {},
   "outputs": [],
   "source": [
    "data.Class.value_counts(normalize=False)"
   ]
  },
  {
   "cell_type": "code",
   "execution_count": null,
   "id": "b6fe14fc",
   "metadata": {},
   "outputs": [],
   "source": [
    "X = data.iloc[:, 1:13]\n",
    "X = scale(X.values)\n",
    "data_scaled = pd.DataFrame(X)\n",
    "data_scaled.index = data.index\n",
    "data_scaled = pd.concat([data.Class, data_scaled], axis = 1)\n",
    "data_scaled.columns = data.columns\n",
    "data_scaled.head()"
   ]
  },
  {
   "cell_type": "code",
   "execution_count": null,
   "id": "a8bdb552",
   "metadata": {},
   "outputs": [],
   "source": [
    "model = AgglomerativeClustering(affinity='euclidean', n_clusters=2, linkage='ward', compute_distances = True)"
   ]
  },
  {
   "cell_type": "code",
   "execution_count": null,
   "id": "6b2fa474",
   "metadata": {},
   "outputs": [],
   "source": [
    "model.fit_predict(X)"
   ]
  },
  {
   "cell_type": "code",
   "execution_count": null,
   "id": "88135f97",
   "metadata": {},
   "outputs": [],
   "source": [
    "from matplotlib.pyplot import figure\n",
    "figure(figsize=(12, 6), dpi=80)\n",
    "model = model.fit(X)\n",
    "plt.title(\"Hierarchical Clustering Dendrogram\")\n",
    "# plot the top three levels of the dendrogram\n",
    "plot_dendrogram(model, truncate_mode=\"level\", p=10)\n",
    "plt.xlabel(\"Number of points in node (or index of point if no parenthesis).\")\n",
    "plt.show()"
   ]
  },
  {
   "cell_type": "code",
   "execution_count": null,
   "id": "3bf1e6c5",
   "metadata": {},
   "outputs": [],
   "source": [
    "import plotly.express as px\n",
    "fig = px.scatter(data_scaled, x=\"Acetaldehyde\", y=\"Ethyl_acetate\", color=\"Class\", hover_data=['Class'])\n",
    "fig.update_layout(\n",
    "    height=600,\n",
    "    width=800,\n",
    "    title_text='Original Samples')\n",
    "fig.show()"
   ]
  },
  {
   "cell_type": "code",
   "execution_count": null,
   "id": "a980a265",
   "metadata": {},
   "outputs": [],
   "source": [
    "import plotly.express as px\n",
    "fig = px.scatter(data_scaled, x=\"Acetaldehyde\", y=\"Ethyl_acetate\", color=model.labels_)\n",
    "fig.update_layout(\n",
    "    height=600,\n",
    "    width=800,\n",
    "    title_text='Cluster Analysis')\n",
    "fig.show()"
   ]
  },
  {
   "cell_type": "markdown",
   "id": "2c92b77d",
   "metadata": {},
   "source": [
    "# Further algorithms based on density - DBSCAN and OPTICS"
   ]
  },
  {
   "cell_type": "code",
   "execution_count": null,
   "id": "dc94961d",
   "metadata": {},
   "outputs": [],
   "source": [
    "import time\n",
    "import warnings\n",
    "\n",
    "import numpy as np\n",
    "import matplotlib.pyplot as plt\n",
    "\n",
    "from sklearn import cluster, datasets, mixture\n",
    "from sklearn.neighbors import kneighbors_graph\n",
    "from sklearn.preprocessing import StandardScaler\n",
    "from itertools import cycle, islice\n",
    "\n",
    "np.random.seed(0)"
   ]
  },
  {
   "cell_type": "code",
   "execution_count": null,
   "id": "2528e0ed",
   "metadata": {},
   "outputs": [],
   "source": [
    "n_samples = 1500\n",
    "noisy_circles = datasets.make_circles(n_samples=n_samples, factor=0.5, noise=0.05)\n",
    "noisy_moons = datasets.make_moons(n_samples=n_samples, noise=0.05)\n",
    "blobs = datasets.make_blobs(n_samples=n_samples, random_state=8)\n",
    "no_structure = np.random.rand(n_samples, 2), None"
   ]
  },
  {
   "cell_type": "code",
   "execution_count": null,
   "id": "106e167a",
   "metadata": {},
   "outputs": [],
   "source": [
    "# Anisotropicly distributed data\n",
    "random_state = 170\n",
    "X, y = datasets.make_blobs(n_samples=n_samples, random_state=random_state)\n",
    "transformation = [[0.6, -0.6], [-0.4, 0.8]]\n",
    "X_aniso = np.dot(X, transformation)\n",
    "aniso = (X_aniso, y)\n",
    "\n",
    "# blobs with varied variances\n",
    "varied = datasets.make_blobs(\n",
    "    n_samples=n_samples, cluster_std=[1.0, 2.5, 0.5], random_state=random_state\n",
    ")\n"
   ]
  },
  {
   "cell_type": "code",
   "execution_count": null,
   "id": "e40bb145",
   "metadata": {},
   "outputs": [],
   "source": [
    "OMP_NUM_THREADS=1"
   ]
  },
  {
   "cell_type": "code",
   "execution_count": null,
   "id": "8e0c9774",
   "metadata": {},
   "outputs": [],
   "source": [
    "# ============\n",
    "# Set up cluster parameters\n",
    "# ============\n",
    "plt.figure(figsize=(9 * 2 + 3, 13))\n",
    "plt.subplots_adjust(\n",
    "    left=0.02, right=0.98, bottom=0.001, top=0.95, wspace=0.05, hspace=0.01\n",
    ")\n",
    "\n",
    "plot_num = 1\n",
    "\n",
    "default_base = {\n",
    "    \"quantile\": 0.3,\n",
    "    \"eps\": 0.3,\n",
    "    \"damping\": 0.9,\n",
    "    \"preference\": -200,\n",
    "    \"n_neighbors\": 10,\n",
    "    \"n_clusters\": 3,\n",
    "    \"min_samples\": 20,\n",
    "    \"xi\": 0.05,\n",
    "    \"min_cluster_size\": 0.1,\n",
    "}\n",
    "\n",
    "datasets = [\n",
    "    (\n",
    "        noisy_circles,\n",
    "        {\n",
    "            \"damping\": 0.77,\n",
    "            \"preference\": -240,\n",
    "            \"quantile\": 0.2,\n",
    "            \"n_clusters\": 2,\n",
    "            \"min_samples\": 20,\n",
    "            \"xi\": 0.25,\n",
    "        },\n",
    "    ),\n",
    "    (noisy_moons, {\"damping\": 0.75, \"preference\": -220, \"n_clusters\": 2}),\n",
    "    (blobs, {}),\n",
    "    \n",
    "]\n",
    "\n",
    "for i_dataset, (dataset, algo_params) in enumerate(datasets):\n",
    "    # update parameters with dataset-specific values\n",
    "    params = default_base.copy()\n",
    "    params.update(algo_params)\n",
    "\n",
    "    X, y = dataset\n",
    "\n",
    "    # normalize dataset for easier parameter selection\n",
    "    X = StandardScaler().fit_transform(X)\n",
    "\n",
    "    # estimate bandwidth for mean shift\n",
    "    bandwidth = cluster.estimate_bandwidth(X, quantile=params[\"quantile\"])\n",
    "\n",
    "    # connectivity matrix for structured Ward\n",
    "    connectivity = kneighbors_graph(\n",
    "        X, n_neighbors=params[\"n_neighbors\"], include_self=False\n",
    "    )\n",
    "    # make connectivity symmetric\n",
    "    connectivity = 0.5 * (connectivity + connectivity.T)\n",
    "\n",
    "    # ============\n",
    "    # Create cluster objects\n",
    "    # ============\n",
    "    ms = cluster.MeanShift(bandwidth=bandwidth, bin_seeding=True)\n",
    "    two_means = cluster.MiniBatchKMeans(n_clusters=params[\"n_clusters\"])\n",
    "    ward = cluster.AgglomerativeClustering(\n",
    "        n_clusters=params[\"n_clusters\"], linkage=\"ward\", connectivity=connectivity\n",
    "    )\n",
    "    spectral = cluster.SpectralClustering(\n",
    "        n_clusters=params[\"n_clusters\"],\n",
    "        eigen_solver=\"arpack\",\n",
    "        affinity=\"nearest_neighbors\",\n",
    "    )\n",
    "    dbscan = cluster.DBSCAN(eps=params[\"eps\"])\n",
    "    optics = cluster.OPTICS(\n",
    "        min_samples=params[\"min_samples\"],\n",
    "        xi=params[\"xi\"],\n",
    "        min_cluster_size=params[\"min_cluster_size\"],\n",
    "    )\n",
    "    affinity_propagation = cluster.AffinityPropagation(\n",
    "        damping=params[\"damping\"], preference=params[\"preference\"], random_state=0\n",
    "    )\n",
    "    average_linkage = cluster.AgglomerativeClustering(\n",
    "        linkage=\"average\",\n",
    "        affinity=\"cityblock\",\n",
    "        n_clusters=params[\"n_clusters\"],\n",
    "        connectivity=connectivity,\n",
    "    )\n",
    "    birch = cluster.Birch(n_clusters=params[\"n_clusters\"])\n",
    "    gmm = mixture.GaussianMixture(\n",
    "        n_components=params[\"n_clusters\"], covariance_type=\"full\"\n",
    "    )\n",
    "\n",
    "    clustering_algorithms = (\n",
    "        (\"Ward\", ward),\n",
    "        (\"DBSCAN\", dbscan),\n",
    "        (\"OPTICS\", optics)\n",
    "    )\n",
    "\n",
    "    for name, algorithm in clustering_algorithms:\n",
    "        t0 = time.time()\n",
    "\n",
    "        # catch warnings related to kneighbors_graph\n",
    "        with warnings.catch_warnings():\n",
    "            warnings.filterwarnings(\n",
    "                \"ignore\",\n",
    "                message=\"the number of connected components of the \"\n",
    "                + \"connectivity matrix is [0-9]{1,2}\"\n",
    "                + \" > 1. Completing it to avoid stopping the tree early.\",\n",
    "                category=UserWarning,\n",
    "            )\n",
    "            warnings.filterwarnings(\n",
    "                \"ignore\",\n",
    "                message=\"Graph is not fully connected, spectral embedding\"\n",
    "                + \" may not work as expected.\",\n",
    "                category=UserWarning,\n",
    "            )\n",
    "            algorithm.fit(X)\n",
    "\n",
    "        t1 = time.time()\n",
    "        if hasattr(algorithm, \"labels_\"):\n",
    "            y_pred = algorithm.labels_.astype(int)\n",
    "        else:\n",
    "            y_pred = algorithm.predict(X)\n",
    "\n",
    "        plt.subplot(len(datasets), len(clustering_algorithms), plot_num)\n",
    "        if i_dataset == 0:\n",
    "            plt.title(name, size=18)\n",
    "\n",
    "        colors = np.array(\n",
    "            list(\n",
    "                islice(\n",
    "                    cycle(\n",
    "                        [\n",
    "                            \"#377eb8\",\n",
    "                            \"#ff7f00\",\n",
    "                            \"#4daf4a\",\n",
    "                            \"#f781bf\",\n",
    "                            \"#a65628\",\n",
    "                            \"#984ea3\",\n",
    "                            \"#999999\",\n",
    "                            \"#e41a1c\",\n",
    "                            \"#dede00\",\n",
    "                        ]\n",
    "                    ),\n",
    "                    int(max(y_pred) + 1),\n",
    "                )\n",
    "            )\n",
    "        )\n",
    "        # add black color for outliers (if any)\n",
    "        colors = np.append(colors, [\"#000000\"])\n",
    "        plt.scatter(X[:, 0], X[:, 1], s=10, color=colors[y_pred])\n",
    "\n",
    "        plt.xlim(-2.5, 2.5)\n",
    "        plt.ylim(-2.5, 2.5)\n",
    "        plt.xticks(())\n",
    "        plt.yticks(())\n",
    "        plt.text(\n",
    "            0.99,\n",
    "            0.01,\n",
    "            (\"%.2fs\" % (t1 - t0)).lstrip(\"0\"),\n",
    "            transform=plt.gca().transAxes,\n",
    "            size=15,\n",
    "            horizontalalignment=\"right\",\n",
    "        )\n",
    "        plot_num += 1\n",
    "\n",
    "plt.show()"
   ]
  },
  {
   "cell_type": "markdown",
   "id": "c7783e1e",
   "metadata": {},
   "source": [
    "### DBSCAN in real life"
   ]
  },
  {
   "cell_type": "code",
   "execution_count": null,
   "id": "e2ae9b6c",
   "metadata": {},
   "outputs": [],
   "source": [
    "data = pd.read_csv(\"C:/Users/Eugenio_Py/Desktop/Notebooks/datasets/Mall_Customers.csv\", sep=\",\",index_col=0,header=0) # importing the dataset"
   ]
  },
  {
   "cell_type": "code",
   "execution_count": null,
   "id": "1c4686f0",
   "metadata": {},
   "outputs": [],
   "source": [
    "data.head()"
   ]
  },
  {
   "cell_type": "code",
   "execution_count": null,
   "id": "48a1fb86",
   "metadata": {},
   "outputs": [],
   "source": [
    "data.shape"
   ]
  },
  {
   "cell_type": "code",
   "execution_count": null,
   "id": "8a90df5d",
   "metadata": {},
   "outputs": [],
   "source": [
    "# extracting two columns\n",
    "x = data.loc[:, ['Annual_Income',\n",
    "                 'Spending_Score']].values\n",
    "x"
   ]
  },
  {
   "cell_type": "markdown",
   "id": "fffc522d",
   "metadata": {},
   "source": [
    "Before we apply the __DBSCAN model__, first, we need to define __two parameters__.\n",
    "\n",
    "__MinPoints__: the minimum number of points to be used to recognize a cluster:\n",
    "               Rule of thumb:\n",
    "               - if the dataset has two dimensions, use the **min sample per cluster as 4**;\n",
    "               - if the data has more than two dimensions, the min sample per cluster should be:                      **Min_sample(MinPoints) = 2 * Data dimension**\n",
    "\n",
    "Since our data is two-dimensional, we shall use the default value of 4 as our MinPoint parameter.\n",
    "\n",
    "__Epsilon (Eps)__: a strategy to calculate the value of Eps, we shall calculate the distance between each data point to its closest neighbor using the __Nearest Neighbours__ (we will see this with supervised ML). \n",
    "\n",
    "After that, we sort them and finally plot them. From the plot, we identify the maximum value at the curvature of the graph. This value is our Eps."
   ]
  },
  {
   "cell_type": "code",
   "execution_count": null,
   "id": "7f7ae3b0",
   "metadata": {},
   "outputs": [],
   "source": [
    "#Compute data proximity from each other using Nearest Neighbours\n",
    "\n",
    "from sklearn.neighbors import NearestNeighbors # importing the library\n",
    "neighb = NearestNeighbors(n_neighbors=2) # creating an object of the NearestNeighbors class\n",
    "nbrs=neighb.fit(x) # fitting the data to the object\n",
    "distances,indices=nbrs.kneighbors(x) # finding the nearest neighbours"
   ]
  },
  {
   "cell_type": "code",
   "execution_count": null,
   "id": "5421e1c6",
   "metadata": {},
   "outputs": [],
   "source": [
    "# Sort and plot the distances results\n",
    "\n",
    "distances = np.sort(distances, axis = 0) # sorting the distances\n",
    "distances = distances[:, 1] # taking the second column of the sorted distances\n",
    "plt.rcParams['figure.figsize'] = (25,15) # setting the figure size\n",
    "plt.plot(distances) # plotting the distances\n",
    "plt.xticks(np.arange(1, 250, step=7))\n",
    "plt.show() # showing the plot"
   ]
  },
  {
   "cell_type": "markdown",
   "id": "0d8a4c64",
   "metadata": {},
   "source": [
    "From the above plot, we note the **maximum curvature of the curve is about eight**, and thus we picked our Eps as 8.\n",
    "\n",
    "We now have our two parameters as:\n",
    "\n",
    "**MinPoints = 4\n",
    "Eps = 8**\n",
    "\n",
    "Now that we have the parameters let us implement the DBSCAN model."
   ]
  },
  {
   "cell_type": "code",
   "execution_count": null,
   "id": "b1a6b24b",
   "metadata": {},
   "outputs": [],
   "source": [
    "# Implementing the DBSCAN model\n",
    "\n",
    "from sklearn.cluster import DBSCAN\n",
    "# cluster the data into five clusters\n",
    "dbscan = DBSCAN(eps = 8, min_samples = 4).fit(x) # fitting the model\n",
    "labels = dbscan.labels_ # getting the labels"
   ]
  },
  {
   "cell_type": "code",
   "execution_count": null,
   "id": "85bbf291",
   "metadata": {
    "scrolled": false
   },
   "outputs": [],
   "source": [
    "# Plot the clusters\n",
    "\n",
    "plt.scatter(x[:, 0], x[:,1], c = labels, cmap= \"plasma\") # plotting the clusters\n",
    "plt.xlabel(\"Income\") # X-axis label\n",
    "plt.ylabel(\"Spending Score\") # Y-axis label\n",
    "plt.show() # showing the plot"
   ]
  },
  {
   "cell_type": "markdown",
   "id": "f5c616b1",
   "metadata": {},
   "source": [
    "### Compare K-means and DBSCAN with 2 moons"
   ]
  },
  {
   "cell_type": "code",
   "execution_count": null,
   "id": "e3562b6b",
   "metadata": {},
   "outputs": [],
   "source": [
    "from sklearn.metrics import silhouette_score"
   ]
  },
  {
   "cell_type": "code",
   "execution_count": null,
   "id": "ae99025e",
   "metadata": {},
   "outputs": [],
   "source": [
    "from sklearn.cluster import DBSCAN\n",
    "from sklearn.datasets import make_moons # to create MOONS!\n",
    "from sklearn.metrics import adjusted_rand_score"
   ]
  },
  {
   "cell_type": "code",
   "execution_count": null,
   "id": "55230878",
   "metadata": {},
   "outputs": [],
   "source": [
    "# simulate the data and scale them\n",
    "features, true_labels = make_moons(\n",
    "    n_samples=250, noise=0.05, random_state=42\n",
    ")\n",
    "scaled_features = scaler.fit_transform(features)"
   ]
  },
  {
   "cell_type": "code",
   "execution_count": null,
   "id": "64bcba05",
   "metadata": {},
   "outputs": [],
   "source": [
    "plt.scatter(scaled_features[:, 0], scaled_features[:, 1])\n",
    "plt.show()"
   ]
  },
  {
   "cell_type": "code",
   "execution_count": null,
   "id": "82792b67",
   "metadata": {},
   "outputs": [],
   "source": [
    "# Instantiate k-means and dbscan algorithms\n",
    "kmeans = KMeans(n_clusters=2)\n",
    "dbscan = DBSCAN(eps=0.3)"
   ]
  },
  {
   "cell_type": "code",
   "execution_count": null,
   "id": "d9a72ba3",
   "metadata": {},
   "outputs": [],
   "source": [
    "# Fit the algorithms to the features\n",
    "kmeans.fit(scaled_features)\n",
    "dbscan.fit(scaled_features)"
   ]
  },
  {
   "cell_type": "code",
   "execution_count": null,
   "id": "acb10d1a",
   "metadata": {},
   "outputs": [],
   "source": [
    "# Compute the silhouette scores for each algorithm - the best number of clusters\n",
    "kmeans_silhouette = silhouette_score(\n",
    "    scaled_features, kmeans.labels_\n",
    ").round(2)\n",
    "dbscan_silhouette = silhouette_score(\n",
    "   scaled_features, dbscan.labels_\n",
    ").round (2)"
   ]
  },
  {
   "cell_type": "code",
   "execution_count": null,
   "id": "0add042f",
   "metadata": {},
   "outputs": [],
   "source": [
    "kmeans_silhouette"
   ]
  },
  {
   "cell_type": "code",
   "execution_count": null,
   "id": "fccf3ab8",
   "metadata": {},
   "outputs": [],
   "source": [
    "dbscan_silhouette"
   ]
  },
  {
   "cell_type": "markdown",
   "id": "ed37a9c6",
   "metadata": {},
   "source": [
    "Now plot the comparison!"
   ]
  },
  {
   "cell_type": "code",
   "execution_count": null,
   "id": "defcdabf",
   "metadata": {},
   "outputs": [],
   "source": [
    "# Plot the data and cluster silhouette comparison\n",
    "fig, (ax1, ax2) = plt.subplots(\n",
    "    1, 2, figsize=(8, 6), sharex=True, sharey=True\n",
    ")\n",
    "fig.suptitle(f\"Clustering Algorithm Comparison\", fontsize=16)\n",
    "fte_colors = {\n",
    "    0: \"red\",\n",
    "    1: \"blue\",\n",
    "}\n",
    "# The k-means plot\n",
    "km_colors = [fte_colors[label] for label in kmeans.labels_]\n",
    "ax1.scatter(scaled_features[:, 0], scaled_features[:, 1], c=km_colors)\n",
    "ax1.set_title(\n",
    "    f\"k-means\\nSilhouette: {kmeans_silhouette}\", fontdict={\"fontsize\": 12}\n",
    ")\n",
    "\n",
    "# The dbscan plot\n",
    "db_colors = [fte_colors[label] for label in dbscan.labels_]\n",
    "ax2.scatter(scaled_features[:, 0], scaled_features[:, 1], c=db_colors)\n",
    "ax2.set_title(\n",
    "    f\"DBSCAN\\nSilhouette: {dbscan_silhouette}\", fontdict={\"fontsize\": 12}\n",
    ")\n",
    "plt.show()"
   ]
  }
 ],
 "metadata": {
  "kernelspec": {
   "display_name": "Python 3 (ipykernel)",
   "language": "python",
   "name": "python3"
  },
  "language_info": {
   "codemirror_mode": {
    "name": "ipython",
    "version": 3
   },
   "file_extension": ".py",
   "mimetype": "text/x-python",
   "name": "python",
   "nbconvert_exporter": "python",
   "pygments_lexer": "ipython3",
   "version": "3.9.7"
  }
 },
 "nbformat": 4,
 "nbformat_minor": 5
}
