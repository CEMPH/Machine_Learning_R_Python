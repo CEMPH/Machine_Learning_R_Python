{
 "cells": [
  {
   "cell_type": "code",
   "execution_count": null,
   "id": "57b183cd",
   "metadata": {},
   "outputs": [],
   "source": [
    "pip install plotly"
   ]
  },
  {
   "cell_type": "code",
   "execution_count": null,
   "id": "60080984",
   "metadata": {},
   "outputs": [],
   "source": [
    "import pandas as pd\n",
    "import numpy as np\n",
    "import seaborn as sns #nice statics plots\n",
    "import matplotlib.pyplot as plt #traditional plots\n",
    "import plotly.express as px #dynamic plots\n",
    "#introduce matplotlib while coding in python notebook\n",
    "%matplotlib inline "
   ]
  },
  {
   "cell_type": "markdown",
   "id": "c096ae35",
   "metadata": {},
   "source": [
    "## Bivariate analysis"
   ]
  },
  {
   "cell_type": "markdown",
   "id": "78c77945",
   "metadata": {},
   "source": [
    "If we analyze data by taking two variables/columns into consideration from a dataset, it is known as Bivariate Analysis.\n",
    "\n",
    "### Numeric-Numeric Analysis:\n",
    "Analyzing the two numeric variables from a dataset is known as numeric-numeric analysis. \n",
    "We can analyze it in three different ways.\n",
    " - Scatter Plot\n",
    " - Pair Plot\n",
    " - Correlation Matrix"
   ]
  },
  {
   "cell_type": "markdown",
   "id": "e207bfb6",
   "metadata": {},
   "source": [
    "#### Scatter Plot"
   ]
  },
  {
   "cell_type": "markdown",
   "id": "e0025017",
   "metadata": {},
   "source": [
    "Let’s take three columns *Category*, *Alcohol* and *Mg* from our dataset and see what we can infer by plotting to scatter plot between *Alcohol* - *Category* and *Mg* - *Category*"
   ]
  },
  {
   "cell_type": "code",
   "execution_count": null,
   "id": "2b7bc67f",
   "metadata": {},
   "outputs": [],
   "source": [
    "# import a .csv file\n",
    "data = pd.read_csv(\"C:/Users/Eugenio_Py/Desktop/Notebooks/datasets/wines.csv\", sep = \";\", header = 0, index_col = 0)"
   ]
  },
  {
   "cell_type": "code",
   "execution_count": null,
   "id": "c8af696e",
   "metadata": {},
   "outputs": [],
   "source": [
    "data"
   ]
  },
  {
   "cell_type": "code",
   "execution_count": null,
   "id": "2b028963",
   "metadata": {},
   "outputs": [],
   "source": [
    "#plot the scatter plot of Category and Alcohol variable in data\n",
    "plt.scatter(data[\"Alcohol\"],data[\"Mg\"])\n",
    "plt.show()"
   ]
  },
  {
   "cell_type": "code",
   "execution_count": null,
   "id": "2fbc01e6",
   "metadata": {},
   "outputs": [],
   "source": [
    "#plot the scatter plot of balance and Mg variable in data\n",
    "plt.scatter(data.Proline, data.Alcohol)\n",
    "plt.show()"
   ]
  },
  {
   "cell_type": "code",
   "execution_count": null,
   "id": "4f5a21f5",
   "metadata": {
    "scrolled": true
   },
   "outputs": [],
   "source": [
    "sns.scatterplot(data=data, x=\"Proline\", y=\"Alcohol\"); #try Ash instead of alcohol"
   ]
  },
  {
   "cell_type": "code",
   "execution_count": null,
   "id": "2997126a",
   "metadata": {},
   "outputs": [],
   "source": [
    "sns.scatterplot(data=data, x=\"Proline\", y=\"Alcohol\", hue = \"Category\");"
   ]
  },
  {
   "cell_type": "code",
   "execution_count": null,
   "id": "fea91904",
   "metadata": {},
   "outputs": [],
   "source": [
    "sns.displot(data, x=\"Proline\", hue=\"Category\", kind=\"kde\", fill=True);"
   ]
  },
  {
   "cell_type": "code",
   "execution_count": null,
   "id": "498210c7",
   "metadata": {},
   "outputs": [],
   "source": [
    "sns.displot(data, x=\"Alcohol\", hue=\"Category\", kind=\"kde\", fill=True);"
   ]
  },
  {
   "cell_type": "code",
   "execution_count": null,
   "id": "fb3ef60d",
   "metadata": {},
   "outputs": [],
   "source": [
    "# using plotly\n",
    "fig = px.scatter(data, x=\"Proline\", y=\"Alcohol\")\n",
    "fig.show()"
   ]
  },
  {
   "cell_type": "code",
   "execution_count": null,
   "id": "776bfabb",
   "metadata": {},
   "outputs": [],
   "source": [
    "# Color by discrete\n",
    "fig = px.scatter(data, x=\"Proline\", y=\"Alcohol\", color=\"Category\")\n",
    "fig.show()"
   ]
  },
  {
   "cell_type": "code",
   "execution_count": null,
   "id": "b8278737",
   "metadata": {},
   "outputs": [],
   "source": [
    "# Bubble plot (using a certain size)\n",
    "fig = px.scatter(data, x=\"Proline\", y=\"Alcohol\", color=\"Category\",\n",
    "                 size='Hue')\n",
    "fig.show()"
   ]
  },
  {
   "cell_type": "code",
   "execution_count": null,
   "id": "38058eab",
   "metadata": {},
   "outputs": [],
   "source": [
    "# Color by continuous\n",
    "fig = px.scatter(data, x=\"Proline\", y=\"Alcohol\", color=\"Hue\")\n",
    "fig.show()"
   ]
  },
  {
   "cell_type": "code",
   "execution_count": null,
   "id": "0710179a",
   "metadata": {},
   "outputs": [],
   "source": [
    "# Color by discrete and change symbols \n",
    "fig = px.scatter(data, x=\"Proline\", y=\"Alcohol\", color=\"Category\", symbol = \"Category\")\n",
    "fig.show()"
   ]
  },
  {
   "cell_type": "code",
   "execution_count": null,
   "id": "41e69d55",
   "metadata": {
    "scrolled": false
   },
   "outputs": [],
   "source": [
    "# Hover with text\n",
    "fig = px.scatter(data, x=\"Proline\", y=\"Alcohol\", color=\"Category\", symbol = \"Category\", hover_name=data.index)\n",
    "fig.show()"
   ]
  },
  {
   "cell_type": "code",
   "execution_count": null,
   "id": "d26c222e",
   "metadata": {},
   "outputs": [],
   "source": [
    "# Modifications\n",
    "fig.update_yaxes( # the y-axis is %\n",
    "    ticksuffix=\"%\", showgrid=True\n",
    ")\n",
    "\n",
    "fig.update_layout( # customize font and legend orientation & position\n",
    "    font_family=\"Sans\",\n",
    "    legend=dict(\n",
    "        title=\"My wines\", orientation=\"h\", y=1, yanchor=\"bottom\", x=0.5, xanchor=\"center\"\n",
    "    )\n",
    ")\n",
    "fig.show()"
   ]
  },
  {
   "cell_type": "markdown",
   "id": "d5f9d683",
   "metadata": {},
   "source": [
    "#### Density maps"
   ]
  },
  {
   "cell_type": "code",
   "execution_count": null,
   "id": "6bb58bef",
   "metadata": {},
   "outputs": [],
   "source": [
    "fig = px.density_heatmap(data, x=\"Proline\", y=\"Alcohol\")\n",
    "fig.show()"
   ]
  },
  {
   "cell_type": "markdown",
   "id": "d1611abc",
   "metadata": {},
   "source": [
    "#### Pair Plot\n",
    "Now, let’s plot Pair Plots for the three columns we used in plotting Scatter plots. \n",
    "We’ll use the seaborn and plotly libraries for plotting Pair Plots."
   ]
  },
  {
   "cell_type": "code",
   "execution_count": null,
   "id": "7887bb38",
   "metadata": {},
   "outputs": [],
   "source": [
    "#plot the pair plot of Alcohol, Mg and Category in data dataframe.\n",
    "sns.pairplot(data = data, vars=['Alcohol','Mg','Proline'])\n",
    "plt.show();"
   ]
  },
  {
   "cell_type": "code",
   "execution_count": null,
   "id": "b47dbac3",
   "metadata": {},
   "outputs": [],
   "source": [
    "data.loc[:,['Alcohol','Mg','Proline']]"
   ]
  },
  {
   "cell_type": "code",
   "execution_count": null,
   "id": "23aeb1aa",
   "metadata": {},
   "outputs": [],
   "source": [
    "import plotly.express as px\n",
    "fig = px.scatter_matrix(data.loc[:,['Alcohol','Mg','Proline']])\n",
    "fig.show()"
   ]
  },
  {
   "cell_type": "code",
   "execution_count": null,
   "id": "c1e92ea0",
   "metadata": {},
   "outputs": [],
   "source": [
    "fig = px.scatter_matrix(data,\n",
    "    dimensions=['Alcohol','Mg','Proline',\"Ash\"],\n",
    "    color=\"Category\",hover_name=data.index)\n",
    "fig.show()"
   ]
  },
  {
   "cell_type": "code",
   "execution_count": null,
   "id": "d96b46d2",
   "metadata": {},
   "outputs": [],
   "source": [
    "#remove the diagonal\n",
    "fig = px.scatter_matrix(data,\n",
    "    dimensions=['Alcohol','Mg','Proline',\"Ash\"],\n",
    "    color=\"Category\",symbol=\"Category\",hover_name=data.index,\n",
    "    title=\"Scatter matrix of wines data set\")\n",
    "fig.update_traces(diagonal_visible=False)\n",
    "fig.show()"
   ]
  },
  {
   "cell_type": "markdown",
   "id": "3515c0f0",
   "metadata": {},
   "source": [
    "#### Correlation Matrix\n",
    "Since we cannot use more than two variables as x-axis and y-axis in Scatter and Pair Plots, it is difficult to see the relation between three numerical variables in a single graph. \n",
    "In those cases, we’ll use the correlation matrix."
   ]
  },
  {
   "cell_type": "code",
   "execution_count": null,
   "id": "b76b476a",
   "metadata": {},
   "outputs": [],
   "source": [
    "# Correlation data matrix\n",
    "data.corr()"
   ]
  },
  {
   "cell_type": "code",
   "execution_count": null,
   "id": "9d4adb15",
   "metadata": {},
   "outputs": [],
   "source": [
    "data[['Alcohol','Mg','Proline']].corr()"
   ]
  },
  {
   "cell_type": "code",
   "execution_count": null,
   "id": "25a3a721",
   "metadata": {
    "scrolled": true
   },
   "outputs": [],
   "source": [
    "# Creating a matrix using Alcohol, Mg, and Proline as rows and columns\n",
    "data[['Alcohol','Mg','Proline']].corr()\n",
    "\n",
    "#plot the correlation matrix of lcohol, Mg, and Proline in data dataframe.\n",
    "sns.heatmap(data[['Alcohol','Mg','Proline','Phenols']].corr(), annot=True, cmap = 'Reds')\n",
    "plt.show()"
   ]
  },
  {
   "cell_type": "code",
   "execution_count": null,
   "id": "d528994d",
   "metadata": {},
   "outputs": [],
   "source": [
    "# Creating a matrix using Alcohol, Mg, and Proline as rows and columns\n",
    "data[['Alcohol','Mg','Proline']].corr()\n",
    "\n",
    "#plot the correlation matrix of Alcohol, Mg, and Proline in data dataframe.\n",
    "sns.heatmap(data[['Alcohol','Mg','Proline','Phenols']].corr(), annot=True, cmap = 'Reds', vmin=-1, vmax=1)\n",
    "plt.show()"
   ]
  },
  {
   "cell_type": "code",
   "execution_count": null,
   "id": "778b0584",
   "metadata": {},
   "outputs": [],
   "source": [
    "# Creating a matrix using all the variables as rows and columns\n",
    "data.corr()\n",
    "\n",
    "#plot the correlation matrix of lcohol, Mg, and Proline in data dataframe.\n",
    "sns.heatmap(data.corr(), annot=True, cmap = 'Reds')\n",
    "plt.show()"
   ]
  },
  {
   "cell_type": "code",
   "execution_count": null,
   "id": "0b2426c0",
   "metadata": {},
   "outputs": [],
   "source": [
    "# Creating a matrix using all the variables as rows and columns\n",
    "data.corr()\n",
    "\n",
    "#plot the correlation matrix of all the variables in data dataframe.\n",
    "from matplotlib.pyplot import figure\n",
    "\n",
    "figure(figsize=(8, 6), dpi=80) # try dpi = 120\n",
    "\n",
    "sns.heatmap(data.corr(), annot=True, cmap = 'Reds')\n",
    "plt.show()"
   ]
  },
  {
   "cell_type": "markdown",
   "id": "ccceaba5",
   "metadata": {},
   "source": [
    "### Numeric - Categorical Analysis"
   ]
  },
  {
   "cell_type": "markdown",
   "id": "37d57c78",
   "metadata": {},
   "source": [
    "Analyzing the one numeric variable and one categorical variable from a dataset is known as numeric-categorical analysis. \n",
    "\n",
    "We analyze them mainly using mean, median, and boxplots.\n",
    "Let’s take *Alcohol* and *Category* columns from our dataset.\n",
    "\n",
    "First check for mean value using **groupby**"
   ]
  },
  {
   "cell_type": "code",
   "execution_count": null,
   "id": "2df09167",
   "metadata": {},
   "outputs": [],
   "source": [
    "#groupby the response to find the mean of the alcohol with Category wines separately.\n",
    "data.groupby('Category')['Alcohol'].mean()"
   ]
  },
  {
   "cell_type": "markdown",
   "id": "aab11a9b",
   "metadata": {},
   "source": [
    "There is not much of a difference between the wines based on the alcohol content.\n",
    "\n",
    "Let’s calculate the median"
   ]
  },
  {
   "cell_type": "code",
   "execution_count": null,
   "id": "0d6af9c9",
   "metadata": {},
   "outputs": [],
   "source": [
    "#groupby the response to find the median of the Alcohol with Category separately.\n",
    "data.groupby('Category')['Alcohol'].median()"
   ]
  },
  {
   "cell_type": "markdown",
   "id": "3ea170b8",
   "metadata": {},
   "source": [
    "By both mean and median we can say that the Category is different for some wines. \n",
    "Let’s plot the boxplot for them and check the behavior."
   ]
  },
  {
   "cell_type": "code",
   "execution_count": null,
   "id": "55e06548",
   "metadata": {},
   "outputs": [],
   "source": [
    "#plot the box plot of Alcohol for Category.\n",
    "sns.boxplot(data = data, x = 'Category', y = 'Ash')\n",
    "plt.show();"
   ]
  },
  {
   "cell_type": "code",
   "execution_count": null,
   "id": "ddcf38f0",
   "metadata": {},
   "outputs": [],
   "source": [
    "# using plotly\n",
    "fig = px.box(data, x = 'Category', y = 'Ash', color = \"Category\")\n",
    "fig.show()"
   ]
  },
  {
   "cell_type": "markdown",
   "id": "2ef3c861",
   "metadata": {},
   "source": [
    "As we can see, when we plot the Box Plot, it paints a very different picture compared to mean and median. \n",
    "\n",
    "The IQR for Grignolino has lower values than Barolo median and Barbera box.\n",
    "\n",
    "This is how we analyze Numeric-Categorical variables, we use mean, median, and Box Plots to draw some sort of conclusions."
   ]
  },
  {
   "cell_type": "markdown",
   "id": "5bc806c5",
   "metadata": {},
   "source": [
    "## Multivariate Analysis\n",
    "\n",
    "Making a 3D plot"
   ]
  },
  {
   "cell_type": "markdown",
   "id": "7f8db03f",
   "metadata": {},
   "source": [
    "### 3D Scatter plot"
   ]
  },
  {
   "cell_type": "code",
   "execution_count": null,
   "id": "e7088c37",
   "metadata": {},
   "outputs": [],
   "source": [
    "import plotly.express as px\n",
    "fig = px.scatter_3d(data, x='Alcohol', y='Mg', z='Proline',hover_name=data.index,\n",
    "                    color='Category')\n",
    "fig.show()"
   ]
  }
 ],
 "metadata": {
  "kernelspec": {
   "display_name": "Python 3 (ipykernel)",
   "language": "python",
   "name": "python3"
  },
  "language_info": {
   "codemirror_mode": {
    "name": "ipython",
    "version": 3
   },
   "file_extension": ".py",
   "mimetype": "text/x-python",
   "name": "python",
   "nbconvert_exporter": "python",
   "pygments_lexer": "ipython3",
   "version": "3.9.7"
  }
 },
 "nbformat": 4,
 "nbformat_minor": 5
}
