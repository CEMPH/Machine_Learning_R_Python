{
 "cells": [
  {
   "cell_type": "markdown",
   "id": "3b013c17",
   "metadata": {},
   "source": [
    "# Principal Component Analysis (PCA) with Python"
   ]
  },
  {
   "cell_type": "code",
   "execution_count": null,
   "id": "4a4abf15",
   "metadata": {},
   "outputs": [],
   "source": [
    "import numpy as np\n",
    "import pandas as pd\n",
    "import seaborn as sns\n",
    "import plotly.express as px"
   ]
  },
  {
   "cell_type": "markdown",
   "id": "60151353",
   "metadata": {},
   "source": [
    "## Data Import: quarries dataset"
   ]
  },
  {
   "cell_type": "code",
   "execution_count": null,
   "id": "4f611ba2",
   "metadata": {},
   "outputs": [],
   "source": [
    "data = pd.read_csv('C:/Users/Eugenio_Py/Desktop/Notebooks/datasets/quarries.txt', sep=\"\\t\", header=0,index_col=0)"
   ]
  },
  {
   "cell_type": "code",
   "execution_count": null,
   "id": "75a9149d",
   "metadata": {},
   "outputs": [],
   "source": [
    "data.info()"
   ]
  },
  {
   "cell_type": "code",
   "execution_count": null,
   "id": "20b4c452",
   "metadata": {
    "scrolled": true
   },
   "outputs": [],
   "source": [
    "data.head()"
   ]
  },
  {
   "cell_type": "code",
   "execution_count": null,
   "id": "ae1b2700",
   "metadata": {},
   "outputs": [],
   "source": [
    "data.shape"
   ]
  },
  {
   "cell_type": "code",
   "execution_count": null,
   "id": "a9fc4a1c",
   "metadata": {},
   "outputs": [],
   "source": [
    "data"
   ]
  },
  {
   "cell_type": "code",
   "execution_count": null,
   "id": "214a79eb",
   "metadata": {},
   "outputs": [],
   "source": [
    "# Checking the missing values\n",
    "data.isnull().sum()"
   ]
  },
  {
   "cell_type": "code",
   "execution_count": null,
   "id": "167c0077",
   "metadata": {},
   "outputs": [],
   "source": [
    "#Let's calculate the percentage of each category.\n",
    "data.Type.value_counts(normalize=False)"
   ]
  },
  {
   "cell_type": "code",
   "execution_count": null,
   "id": "588df888",
   "metadata": {
    "scrolled": false
   },
   "outputs": [],
   "source": [
    "data[\"Type\"].describe() # what is wrong?"
   ]
  },
  {
   "cell_type": "code",
   "execution_count": null,
   "id": "539ffb58",
   "metadata": {},
   "outputs": [],
   "source": [
    "data[\"Type\"] = data[\"Type\"].astype(str)"
   ]
  },
  {
   "cell_type": "code",
   "execution_count": null,
   "id": "323b8b2b",
   "metadata": {},
   "outputs": [],
   "source": [
    "data[\"Type\"].describe() "
   ]
  },
  {
   "cell_type": "code",
   "execution_count": null,
   "id": "48579b4c",
   "metadata": {},
   "outputs": [],
   "source": [
    "# Boxplot using seaborn\n",
    "sns.set_style(\"whitegrid\")  \n",
    "sns.boxplot(x = 'Type', y = 'Fe', data = data);"
   ]
  },
  {
   "cell_type": "code",
   "execution_count": null,
   "id": "65271704",
   "metadata": {},
   "outputs": [],
   "source": [
    "# Scatter 2D plot\n",
    "import plotly.express as px\n",
    "fig = px.scatter(data, x=\"Ti\", y=\"Ba\",\n",
    "                 color=\"Type\",\n",
    "                 hover_name=\"Type\", log_x=False, size_max=10)\n",
    "fig.show()"
   ]
  },
  {
   "cell_type": "code",
   "execution_count": null,
   "id": "50373b7c",
   "metadata": {},
   "outputs": [],
   "source": [
    "fig = px.scatter_3d(data, x=\"Fe\", y=\"Ti\", z = \"Ba\",\n",
    "                 color=\"Type\")\n",
    "fig.show()"
   ]
  },
  {
   "cell_type": "code",
   "execution_count": null,
   "id": "2056f5c6",
   "metadata": {},
   "outputs": [],
   "source": [
    "data.head()"
   ]
  },
  {
   "cell_type": "code",
   "execution_count": null,
   "id": "3a6fbc44",
   "metadata": {},
   "outputs": [],
   "source": [
    "# select only numerical attributes\n",
    "X = data.iloc[:, 1:11]\n",
    "X"
   ]
  },
  {
   "cell_type": "code",
   "execution_count": null,
   "id": "a2980553",
   "metadata": {
    "scrolled": true
   },
   "outputs": [],
   "source": [
    "# autoscale the data\n",
    "from sklearn.preprocessing import scale\n",
    "X = scale(X.values)\n",
    "X"
   ]
  },
  {
   "cell_type": "code",
   "execution_count": null,
   "id": "9ff826ae",
   "metadata": {},
   "outputs": [],
   "source": [
    "# This is called parallel coordinates plot\n",
    "from matplotlib.pyplot import figure\n",
    "figure(figsize=(16, 6), dpi=120)\n",
    "fig = pd.plotting.parallel_coordinates( data, 'Type', color=('red', 'blue','green','yellow'));\n",
    "fig;"
   ]
  },
  {
   "cell_type": "code",
   "execution_count": null,
   "id": "254e17aa",
   "metadata": {},
   "outputs": [],
   "source": [
    "# Prepare the dataset for autoscaled data\n",
    "data_autosc = pd.DataFrame(X)\n",
    "data_autosc.columns = data.columns[1:11]\n",
    "data_autosc.index = data.index\n",
    "data_autosc.head()\n",
    "data_autosc['Type'] = data.Type\n",
    "data_autosc.head()"
   ]
  },
  {
   "cell_type": "code",
   "execution_count": null,
   "id": "ea3ba6fa",
   "metadata": {},
   "outputs": [],
   "source": [
    "# This is called parallel coordinates plot\n",
    "from matplotlib.pyplot import figure\n",
    "figure(figsize=(16, 6), dpi=120)\n",
    "fig = pd.plotting.parallel_coordinates(data_autosc, 'Type', color=('red', 'blue','green','yellow'));\n",
    "fig;"
   ]
  },
  {
   "cell_type": "code",
   "execution_count": null,
   "id": "610761ec",
   "metadata": {},
   "outputs": [],
   "source": [
    "from sklearn import decomposition\n",
    "pca = decomposition.PCA(n_components=10)\n",
    "pca"
   ]
  },
  {
   "cell_type": "code",
   "execution_count": null,
   "id": "e92e6079",
   "metadata": {},
   "outputs": [],
   "source": [
    "Principal_components=pca.fit_transform(X)"
   ]
  },
  {
   "cell_type": "code",
   "execution_count": null,
   "id": "6c4f5f58",
   "metadata": {},
   "outputs": [],
   "source": [
    "# Scores\n",
    "scores = pd.DataFrame(data = Principal_components, columns = ['PC1', 'PC2', 'PC3', 'PC4','PC5', 'PC6', 'PC7', 'PC8','PC9', 'PC10'])\n",
    "print(scores)"
   ]
  },
  {
   "cell_type": "code",
   "execution_count": null,
   "id": "fa7605fc",
   "metadata": {},
   "outputs": [],
   "source": [
    "# Scores - for graphs\n",
    "scores = pd.concat([scores, data.Type], axis = 1)\n",
    "print(scores)"
   ]
  },
  {
   "cell_type": "code",
   "execution_count": null,
   "id": "8fef2292",
   "metadata": {},
   "outputs": [],
   "source": [
    "# Scree plot\n",
    "import matplotlib\n",
    "import matplotlib.pyplot as plt\n",
    "PC_values = np.arange(pca.n_components_) + 1\n",
    "plt.plot(PC_values, pca.explained_variance_ratio_, 'ro-', linewidth=2)\n",
    "plt.title('Scree Plot')\n",
    "plt.xlabel('Principal Component')\n",
    "plt.ylabel('Proportion of Variance Explained')\n",
    "plt.show()"
   ]
  },
  {
   "cell_type": "code",
   "execution_count": null,
   "id": "e4ccb888",
   "metadata": {},
   "outputs": [],
   "source": [
    "print (\"Proportion of Variance Explained : \", pca.explained_variance_ratio_)  \n",
    "   \n",
    "out_sum = np.cumsum(pca.explained_variance_ratio_)  \n",
    "print (\"Cumulative Prop. Variance Explained: \", out_sum)"
   ]
  },
  {
   "cell_type": "code",
   "execution_count": null,
   "id": "9bcbc297",
   "metadata": {},
   "outputs": [],
   "source": [
    "plt.plot(PC_values, np.cumsum(pca.explained_variance_ratio_), 'ro-', linewidth=2)\n",
    "plt.title('Scree Plot')\n",
    "plt.xlabel('Principal Component')\n",
    "plt.ylabel('Cumulative Prop. Variance Explained')\n",
    "plt.show()"
   ]
  },
  {
   "cell_type": "code",
   "execution_count": null,
   "id": "d4a28c44",
   "metadata": {},
   "outputs": [],
   "source": [
    "print(pca.explained_variance_) "
   ]
  },
  {
   "cell_type": "code",
   "execution_count": null,
   "id": "dfe4860d",
   "metadata": {},
   "outputs": [],
   "source": [
    "plt.plot(PC_values, np.cumsum(pca.explained_variance_), 'ro-', linewidth=2)\n",
    "plt.title('Scree Plot')\n",
    "plt.xlabel('Principal Component')\n",
    "plt.ylabel('Explained Variance')\n",
    "plt.show()"
   ]
  },
  {
   "cell_type": "code",
   "execution_count": null,
   "id": "f54cb0c1",
   "metadata": {},
   "outputs": [],
   "source": [
    "pca = decomposition.PCA(n_components=4)\n",
    "Principal_components=pca.fit_transform(X)\n",
    "scores = pd.DataFrame(data = Principal_components, columns = ['PC1', 'PC2', 'PC3', 'PC4'])\n",
    "scores.index = data.index\n",
    "scores = pd.concat([scores, data.Type], axis = 1)\n",
    "print(scores)"
   ]
  },
  {
   "cell_type": "code",
   "execution_count": null,
   "id": "6d0f97b2",
   "metadata": {},
   "outputs": [],
   "source": [
    "# Loadings\n",
    "loadings = pd.DataFrame(pca.components_.T, columns=['PC1', 'PC2', 'PC3', 'PC4'], index=data.columns[1:11])\n",
    "loadings[\"Attributes\"] = loadings.index\n",
    "loadings"
   ]
  },
  {
   "cell_type": "code",
   "execution_count": null,
   "id": "36f2876d",
   "metadata": {},
   "outputs": [],
   "source": [
    "#Scores plot\n",
    "import plotly.express as px\n",
    "fig = px.scatter(scores, x=\"PC1\", y=\"PC2\", color=\"Type\", hover_data=['Type'])\n",
    "fig.update_xaxes(zeroline=True, zerolinewidth=1, zerolinecolor='Black')\n",
    "fig.update_yaxes(zeroline=True, zerolinewidth=1, zerolinecolor='Black')\n",
    "fig.update_layout(\n",
    "    height=600,\n",
    "    width=800,\n",
    "    title_text='Scores Plot')\n",
    "fig.show()"
   ]
  },
  {
   "cell_type": "code",
   "execution_count": null,
   "id": "cd2c1366",
   "metadata": {},
   "outputs": [],
   "source": [
    "fig = px.scatter(loadings, x=\"PC1\", y=\"PC2\",text=\"Attributes\")\n",
    "fig.update_xaxes(zeroline=True, zerolinewidth=1, zerolinecolor='Black')\n",
    "fig.update_yaxes(zeroline=True, zerolinewidth=1, zerolinecolor='Black')\n",
    "fig.update_traces(textposition='top center')\n",
    "fig.update_layout(\n",
    "    height=600,\n",
    "    width=800,\n",
    "    title_text='Loadings Plot')\n",
    "fig.show()"
   ]
  },
  {
   "attachments": {
    "image.png": {
     "image/png": "[encoded data removed]"
    }
   },
   "cell_type": "markdown",
   "id": "70f52c2d",
   "metadata": {},
   "source": [
    "![image.png](attachment:image.png)"
   ]
  },
  {
   "cell_type": "code",
   "execution_count": null,
   "id": "443c44f5",
   "metadata": {},
   "outputs": [],
   "source": [
    "# Boxplot using seaborn\n",
    "sns.set_style(\"whitegrid\")  \n",
    "sns.boxplot(x = 'Type', y = 'K', data = data);"
   ]
  },
  {
   "cell_type": "markdown",
   "id": "1ed508a8",
   "metadata": {},
   "source": [
    "## Hotelling's T2 vs Q-residuals"
   ]
  },
  {
   "cell_type": "code",
   "execution_count": null,
   "id": "b4251d03",
   "metadata": {},
   "outputs": [],
   "source": [
    "# Get PCA scores\n",
    "T = scores.iloc[:,1:4]\n",
    "# Get PCA loadings\n",
    "P = loadings.iloc[:,0:3]\n",
    "# Calculate error array\n",
    "Err = X - np.dot(T,P.T)\n",
    "# Calculate Q-residuals (sum over the rows of the error array)\n",
    "Q = np.sum(Err**2, axis=1)\n",
    "# Calculate Hotelling's T-squared (note that data are normalised by default)\n",
    "Tsq = np.sum((T/np.std(T, axis=0))**2, axis=1)\n",
    "\n",
    "# set the confidence level\n",
    "conf = 0.95\n",
    "ncomp = 3\n",
    " \n",
    "from scipy.stats import f\n",
    "\n",
    "# Calculate confidence level for T-squared from the ppf of the F distribution\n",
    "Tsq_conf =  f.ppf(q=conf, dfn=ncomp, \\\n",
    "            dfd=X.shape[0])*ncomp*(X.shape[0]-1)/(X.shape[0]-ncomp)\n",
    "# Estimate the confidence level for the Q-residuals\n",
    "i = np.max(Q)+1\n",
    "while 1-np.sum(Q>i)/np.sum(Q>0) > conf:\n",
    "    i -= 1\n",
    "Q_conf = i\n",
    "\n",
    "# Create a dataframe using only T2 and Q-residuals\n",
    "hot_q_data = {'T2': Tsq, 'Qres': Q, 'Type': data.Type}  \n",
    "hot_q_data = pd.DataFrame(hot_q_data, index = data.index)\n",
    "hot_q_data"
   ]
  },
  {
   "cell_type": "code",
   "execution_count": null,
   "id": "67085712",
   "metadata": {},
   "outputs": [],
   "source": [
    "# Plot the Hotelling T2 vs Q-residuals plot\n",
    "fig = px.scatter(hot_q_data, x=\"T2\", y=\"Qres\", hover_data={'Sample': (hot_q_data.index)})#, color = \"Class\")\n",
    "fig.add_hline(y=Q_conf,line_dash=\"dot\", line_color='Red')\n",
    "fig.add_vline(x=Tsq_conf,line_dash=\"dot\", line_color='Red')\n",
    "fig.update_traces(textposition='top center')\n",
    "fig.update_layout(\n",
    "    height=600,\n",
    "    width=800,\n",
    "    title_text=\"Hotelling's T2 vs Q-residuals\")\n",
    "fig.show()"
   ]
  }
 ],
 "metadata": {
  "kernelspec": {
   "display_name": "Python 3 (ipykernel)",
   "language": "python",
   "name": "python3"
  },
  "language_info": {
   "codemirror_mode": {
    "name": "ipython",
    "version": 3
   },
   "file_extension": ".py",
   "mimetype": "text/x-python",
   "name": "python",
   "nbconvert_exporter": "python",
   "pygments_lexer": "ipython3",
   "version": "3.9.7"
  }
 },
 "nbformat": 4,
 "nbformat_minor": 5
}
