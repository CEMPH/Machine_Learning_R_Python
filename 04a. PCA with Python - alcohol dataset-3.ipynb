{
 "cells": [
  {
   "cell_type": "markdown",
   "id": "3b013c17",
   "metadata": {},
   "source": [
    "# PCA with Python - alcohol dataset"
   ]
  },
  {
   "cell_type": "code",
   "execution_count": null,
   "id": "4a4abf15",
   "metadata": {},
   "outputs": [],
   "source": [
    "# Import the necessary libraries for importing and viewing the data\n",
    "import numpy as np\n",
    "import pandas as pd\n",
    "import seaborn as sns\n",
    "import plotly.express as px # Shift + Enter"
   ]
  },
  {
   "cell_type": "markdown",
   "id": "60151353",
   "metadata": {},
   "source": [
    "## Data Import: alcohol dataset (training)"
   ]
  },
  {
   "cell_type": "code",
   "execution_count": null,
   "id": "4f611ba2",
   "metadata": {},
   "outputs": [],
   "source": [
    "# Import .xlsx file with column names (header=0) and row names (index_col=0), select also the sheet named 'training'\n",
    "data = pd.read_excel(\"C:/Users/Eugenio_Py/Desktop/Notebooks/datasets/alcohol.xlsx\", sheet_name='training', header=0, index_col=0) #scrivere qui i commenti"
   ]
  },
  {
   "cell_type": "code",
   "execution_count": null,
   "id": "75a9149d",
   "metadata": {},
   "outputs": [],
   "source": [
    "# View simple information of the data\n",
    "data.info()"
   ]
  },
  {
   "cell_type": "code",
   "execution_count": null,
   "id": "20b4c452",
   "metadata": {
    "scrolled": true
   },
   "outputs": [],
   "source": [
    "# View the first 5 rows\n",
    "data.head()"
   ]
  },
  {
   "cell_type": "code",
   "execution_count": null,
   "id": "ae1b2700",
   "metadata": {},
   "outputs": [],
   "source": [
    "# View the dimensions of the dataset\n",
    "data.shape"
   ]
  },
  {
   "cell_type": "code",
   "execution_count": null,
   "id": "a9fc4a1c",
   "metadata": {},
   "outputs": [],
   "source": [
    "# Print all the data\n",
    "data"
   ]
  },
  {
   "cell_type": "code",
   "execution_count": null,
   "id": "214a79eb",
   "metadata": {},
   "outputs": [],
   "source": [
    "# Check the presence of missing values\n",
    "data.isnull().sum()"
   ]
  },
  {
   "cell_type": "code",
   "execution_count": null,
   "id": "167c0077",
   "metadata": {},
   "outputs": [],
   "source": [
    "#Evaluate the percentages of each category.\n",
    "data[\"Class\"].value_counts(normalize=False)"
   ]
  },
  {
   "cell_type": "code",
   "execution_count": null,
   "id": "323b8b2b",
   "metadata": {},
   "outputs": [],
   "source": [
    "# View some information about the categorical variable\n",
    "data[\"Class\"].describe()"
   ]
  },
  {
   "cell_type": "code",
   "execution_count": null,
   "id": "48579b4c",
   "metadata": {},
   "outputs": [],
   "source": [
    "# Boxplot using seaborn (plot Y by Class, then a variable (e.g. Acetaldehyde) by class)\n",
    "sns.set_style(\"whitegrid\")  \n",
    "sns.boxplot(x = 'Class', y = 'Isobutanol', data = data);"
   ]
  },
  {
   "cell_type": "code",
   "execution_count": null,
   "id": "8216820d",
   "metadata": {},
   "outputs": [],
   "source": [
    "# KDE plot (Kernel Density Estimation)\n",
    "sns.kdeplot(data=data, x=\"Isobutanol\", hue=\"Class\", multiple=\"stack\");"
   ]
  },
  {
   "cell_type": "code",
   "execution_count": null,
   "id": "65271704",
   "metadata": {},
   "outputs": [],
   "source": [
    "# Scatter 2D plot using plotly package (useful for dynamic plots)\n",
    "import plotly.express as px\n",
    "fig = px.scatter(data, x=\"Acetaldehyde\", y=\"Isobutanol\", color=\"Class\", hover_name=\"Class\", log_x=False)\n",
    "fig.show()"
   ]
  },
  {
   "cell_type": "code",
   "execution_count": null,
   "id": "50373b7c",
   "metadata": {},
   "outputs": [],
   "source": [
    "# Scatter 3D plot using plotly package (useful for dynamic plots)\n",
    "fig = px.scatter_3d(data, x=\"Acetaldehyde\", y=\"Isobutanol\", z = \"Propanol\", color=\"Class\")\n",
    "fig.show()"
   ]
  },
  {
   "cell_type": "markdown",
   "metadata": {},
   "source": [
    "## Data pre-processing (scaling, autoscaling)"
   ]
  },
  {
   "cell_type": "code",
   "execution_count": null,
   "metadata": {},
   "outputs": [],
   "source": [
    "# View the shape\n",
    "data.shape"
   ]
  },
  {
   "cell_type": "code",
   "execution_count": null,
   "id": "3a6fbc44",
   "metadata": {
    "scrolled": false
   },
   "outputs": [],
   "source": [
    "# We need to select only numerical values (i.e., the continuous variables)\n",
    "X = data.iloc[:, 1:13]\n",
    "X"
   ]
  },
  {
   "cell_type": "code",
   "execution_count": null,
   "id": "f546f406",
   "metadata": {},
   "outputs": [],
   "source": [
    "# To plot the raw data altogether, we need to transpose (.T) the data\n",
    "X.T.plot(legend=False,figsize=(20,9));"
   ]
  },
  {
   "cell_type": "code",
   "execution_count": null,
   "metadata": {},
   "outputs": [],
   "source": [
    "# We need to convert the data into an array-like form in order to proper apply the autoscale function (it works on np array objects)\n",
    "X = data.values[:, 1:13]\n",
    "X"
   ]
  },
  {
   "cell_type": "code",
   "execution_count": null,
   "id": "5d3453a1",
   "metadata": {},
   "outputs": [],
   "source": [
    "# Define a vector for the variables\n",
    "vars = data.columns[1:13]"
   ]
  },
  {
   "cell_type": "code",
   "execution_count": null,
   "id": "cba9c603",
   "metadata": {},
   "outputs": [],
   "source": [
    "# Print the vector\n",
    "vars"
   ]
  },
  {
   "cell_type": "code",
   "execution_count": null,
   "id": "c44592e3",
   "metadata": {},
   "outputs": [],
   "source": [
    "# Now we can also AUTOSCALE the data (autoscaling by column)\n",
    "from sklearn.preprocessing import scale\n",
    "Xaut = scale(X)\n",
    "Xaut"
   ]
  },
  {
   "cell_type": "code",
   "execution_count": null,
   "id": "2684f228",
   "metadata": {
    "scrolled": false
   },
   "outputs": [],
   "source": [
    "# Now we can plot 2 three dataset (non-scaled and autoscaled) together\n",
    "import matplotlib\n",
    "import matplotlib.pyplot as plt\n",
    "fig, (ax1, ax2) = plt.subplots(2,figsize=(15,15))\n",
    "ax1.plot(vars,  X.T)\n",
    "ax1.set_title('Original data')\n",
    "ax2.plot(vars,  Xaut.T)\n",
    "ax2.set_title('Autoscaling')"
   ]
  },
  {
   "cell_type": "code",
   "execution_count": null,
   "metadata": {},
   "outputs": [],
   "source": [
    "# This is called parallel coordinates plot\n",
    "from matplotlib.pyplot import figure\n",
    "figure(figsize=(16, 6), dpi=120)\n",
    "fig = pd.plotting.parallel_coordinates( data, 'Class', color=('red', 'blue'));\n",
    "fig;"
   ]
  },
  {
   "cell_type": "code",
   "execution_count": null,
   "metadata": {},
   "outputs": [],
   "source": [
    "data.columns[1:13]"
   ]
  },
  {
   "cell_type": "code",
   "execution_count": null,
   "metadata": {
    "scrolled": true
   },
   "outputs": [],
   "source": [
    "# Prepare the dataset for autoscaled data\n",
    "data_autosc = pd.DataFrame(Xaut)\n",
    "data_autosc.columns = data.columns[1:13]\n",
    "data_autosc.index = data.index\n",
    "data_autosc.head()\n",
    "data_autosc['Class'] = data.Class\n",
    "data_autosc.head()"
   ]
  },
  {
   "cell_type": "code",
   "execution_count": null,
   "metadata": {
    "scrolled": true
   },
   "outputs": [],
   "source": [
    "# Prepare the dataset for autoscaled data (try not to use .index, what happens?)\n",
    "data_autosc = pd.DataFrame(Xaut)\n",
    "data_autosc.columns = data.columns[1:13]\n",
    "#data_autosc.index = data.index\n",
    "data_autosc.head()\n",
    "data_autosc['Class'] = data.Class\n",
    "data_autosc.head()"
   ]
  },
  {
   "cell_type": "code",
   "execution_count": null,
   "metadata": {},
   "outputs": [],
   "source": [
    "# Autoscaled data parallel coordinates plot\n",
    "from matplotlib.pyplot import figure\n",
    "figure(figsize=(16, 6), dpi=120)\n",
    "fig = pd.plotting.parallel_coordinates(data_autosc, 'Class', color=('red', 'blue'));\n",
    "#fig.set_xticklabels(data_autosc['Names'], rotation=90, ha='right')\n",
    "fig;"
   ]
  },
  {
   "cell_type": "markdown",
   "metadata": {},
   "source": [
    "## PCA on autoscaled dataset"
   ]
  },
  {
   "cell_type": "code",
   "execution_count": null,
   "metadata": {
    "scrolled": false
   },
   "outputs": [],
   "source": [
    "# For simplicity, define Xaut as X\n",
    "X = Xaut\n",
    "X"
   ]
  },
  {
   "cell_type": "code",
   "execution_count": null,
   "id": "610761ec",
   "metadata": {},
   "outputs": [],
   "source": [
    "# Build the PCA model (using sklearn library) - set 10 Principal Components (PCs) as default\n",
    "from sklearn import decomposition\n",
    "pca = decomposition.PCA(n_components=10)\n",
    "pca"
   ]
  },
  {
   "cell_type": "code",
   "execution_count": null,
   "metadata": {},
   "outputs": [],
   "source": [
    "# Apply the PCA model on X data\n",
    "Principal_components=pca.fit_transform(X)"
   ]
  },
  {
   "cell_type": "markdown",
   "metadata": {},
   "source": [
    "view https://scikit-learn.org/stable/modules/generated/sklearn.decomposition.PCA.html for more information"
   ]
  },
  {
   "cell_type": "code",
   "execution_count": null,
   "id": "8fef2292",
   "metadata": {},
   "outputs": [],
   "source": [
    "# View the Scree plot\n",
    "import matplotlib\n",
    "import matplotlib.pyplot as plt\n",
    "PC_values = np.arange(pca.n_components_) + 1\n",
    "plt.plot(PC_values, pca.explained_variance_ratio_, 'ro-', linewidth=2)\n",
    "plt.title('Scree Plot')\n",
    "plt.xlabel('Principal Component')\n",
    "plt.ylabel('Proportion of Variance Explained')\n",
    "plt.show()"
   ]
  },
  {
   "cell_type": "markdown",
   "metadata": {},
   "source": [
    "How many PCs would you choose?"
   ]
  },
  {
   "cell_type": "code",
   "execution_count": null,
   "metadata": {},
   "outputs": [],
   "source": [
    "# Print the explained variance\n",
    "print (\"Explained variance: \", pca.explained_variance_)"
   ]
  },
  {
   "cell_type": "code",
   "execution_count": null,
   "id": "e4ccb888",
   "metadata": {},
   "outputs": [],
   "source": [
    "# Print the explained variance (ratio)\n",
    "print (\"Proportion of Variance Explained : \", pca.explained_variance_ratio_)"
   ]
  },
  {
   "cell_type": "code",
   "execution_count": null,
   "metadata": {},
   "outputs": [],
   "source": [
    "# Print the cumulative explained variance (ratio)\n",
    "out_sum = np.cumsum(pca.explained_variance_ratio_)  \n",
    "print (\"Cumulative Prop. Variance Explained: \", out_sum)"
   ]
  },
  {
   "cell_type": "code",
   "execution_count": null,
   "id": "9bcbc297",
   "metadata": {},
   "outputs": [],
   "source": [
    "# Plot the cumulative explained variance\n",
    "plt.plot(PC_values, np.cumsum(pca.explained_variance_ratio_), 'ro-', linewidth=2)\n",
    "plt.title('Scree Plot')\n",
    "plt.xlabel('Principal Component')\n",
    "plt.ylabel('Cumulative Prop. Variance Explained')\n",
    "plt.show()"
   ]
  },
  {
   "cell_type": "code",
   "execution_count": null,
   "id": "dfe4860d",
   "metadata": {},
   "outputs": [],
   "source": [
    "# Plot the explained variance\n",
    "plt.plot(PC_values, np.cumsum(pca.explained_variance_), 'ro-', linewidth=2)\n",
    "plt.title('Scree Plot')\n",
    "plt.xlabel('Principal Component')\n",
    "plt.ylabel('Explained Variance')\n",
    "plt.show()"
   ]
  },
  {
   "cell_type": "code",
   "execution_count": null,
   "metadata": {},
   "outputs": [],
   "source": [
    "# Build a proper PCA model with n components\n",
    "pca = decomposition.PCA(n_components=3)\n",
    "Principal_components=pca.fit_transform(X)"
   ]
  },
  {
   "cell_type": "code",
   "execution_count": null,
   "id": "6c4f5f58",
   "metadata": {},
   "outputs": [],
   "source": [
    "# Prepare a dataframe for the scores\n",
    "scores = pd.DataFrame(data = Principal_components, columns = ['PC1', 'PC2', 'PC3'])\n",
    "print(scores)"
   ]
  },
  {
   "cell_type": "code",
   "execution_count": null,
   "id": "f54cb0c1",
   "metadata": {},
   "outputs": [],
   "source": [
    "# Scores - for graphs - add the Class and Y columns\n",
    "scores = pd.DataFrame(data = Principal_components, columns = ['PC1', 'PC2', 'PC3'])\n",
    "scores.index = data.index # name the row names as dataset 'data'\n",
    "scores = pd.concat([data.Class,scores], axis = 1) # concatenate function, along the column direction (axis=1)\n",
    "print(scores)"
   ]
  },
  {
   "cell_type": "code",
   "execution_count": null,
   "id": "6d0f97b2",
   "metadata": {},
   "outputs": [],
   "source": [
    "# Prepare the Loadings dataframe (loadings = pca.components_.T)\n",
    "loadings = pd.DataFrame(pca.components_.T, columns=['PC1', 'PC2', 'PC3'], index=data.columns[1:13])\n",
    "loadings[\"Attributes\"] = loadings.index\n",
    "loadings"
   ]
  },
  {
   "cell_type": "code",
   "execution_count": null,
   "id": "36f2876d",
   "metadata": {},
   "outputs": [],
   "source": [
    "# Plot the Scores\n",
    "import plotly.express as px\n",
    "fig = px.scatter(scores, x=\"PC1\", y=\"PC2\", color=\"Class\", hover_data={'Sample': (scores.index)})\n",
    "fig.update_xaxes(zeroline=True, zerolinewidth=1, zerolinecolor='Black')\n",
    "fig.update_yaxes(zeroline=True, zerolinewidth=1, zerolinecolor='Black')\n",
    "fig.update_layout(\n",
    "    height=600,\n",
    "    width=800,\n",
    "    title_text='Scores Plot')\n",
    "fig.show()"
   ]
  },
  {
   "cell_type": "code",
   "execution_count": null,
   "metadata": {},
   "outputs": [],
   "source": [
    "# Scatter 3D plot using plotly package (useful for dynamic plots)\n",
    "fig = px.scatter_3d(scores, x=\"PC1\", y=\"PC2\", z = \"PC3\", color=\"Class\")\n",
    "fig.show()"
   ]
  },
  {
   "cell_type": "code",
   "execution_count": null,
   "id": "cd2c1366",
   "metadata": {},
   "outputs": [],
   "source": [
    "# Plot the Loadings plot in 2D\n",
    "fig = px.scatter(loadings, x=\"PC1\", y=\"PC2\",hover_data={'Variables': (loadings.index)})#,text=\"Attributes\")\n",
    "fig.update_xaxes(zeroline=True, zerolinewidth=1, zerolinecolor='Black')\n",
    "fig.update_yaxes(zeroline=True, zerolinewidth=1, zerolinecolor='Black')\n",
    "fig.update_traces(textposition='top center')\n",
    "fig.update_layout(\n",
    "    height=600,\n",
    "    width=800,\n",
    "    title_text='Loadings Plot')\n",
    "fig.show()"
   ]
  },
  {
   "cell_type": "code",
   "execution_count": null,
   "id": "891bf7ca",
   "metadata": {},
   "outputs": [],
   "source": [
    "# Plot only one loading\n",
    "import matplotlib.pyplot as plt\n",
    "fig = px.line(loadings, x=\"Attributes\", y=\"PC1\")#, text=\"Attributes\")\n",
    "fig.show()"
   ]
  },
  {
   "cell_type": "code",
   "execution_count": null,
   "id": "443c44f5",
   "metadata": {},
   "outputs": [],
   "source": [
    "# Boxplot using seaborn (Class vs a certain variable)\n",
    "sns.set_style(\"whitegrid\")  \n",
    "sns.boxplot(x = 'Class', y = 'Isoamyl_acetal', data = data);"
   ]
  },
  {
   "cell_type": "markdown",
   "metadata": {},
   "source": [
    "## Import test dataset for prediction"
   ]
  },
  {
   "cell_type": "code",
   "execution_count": null,
   "metadata": {},
   "outputs": [],
   "source": [
    "#Import .xlsx file with column names (header=0) and row names (index_col=0)\n",
    "test = pd.read_excel(\"C:/Users/Eugenio_Py/Desktop/Notebooks/datasets/alcohol.xlsx\", sheet_name='test', header=0, index_col=0)\n",
    "test.head()"
   ]
  },
  {
   "cell_type": "code",
   "execution_count": null,
   "metadata": {},
   "outputs": [],
   "source": [
    "# Pre-process the test set\n",
    "from sklearn.preprocessing import scale\n",
    "Xtest = scale(test.values[:, 1:13])\n",
    "Xtest"
   ]
  },
  {
   "cell_type": "code",
   "execution_count": null,
   "metadata": {},
   "outputs": [],
   "source": [
    "# Project the new samples in the developed PCA model\n",
    "test_components=pca.fit_transform(Xtest)"
   ]
  },
  {
   "cell_type": "code",
   "execution_count": null,
   "metadata": {},
   "outputs": [],
   "source": [
    "# Prepare a dataframe for the scores - test\n",
    "test_scores = pd.DataFrame(data = test_components, columns = ['PC1', 'PC2', 'PC3'])\n",
    "test_scores.index = test.index # name the row names as dataset 'test'\n",
    "test_scores = pd.concat([test.Class,test_scores], axis = 1) # concatenate function, along the column direction (axis=1)\n",
    "print(test_scores)"
   ]
  },
  {
   "cell_type": "code",
   "execution_count": null,
   "metadata": {},
   "outputs": [],
   "source": [
    "# We need to create a new (numeric) column in order to plot the new test samples into the developed PCA model\n",
    "test_scores['Class2'] = pd.Categorical(test_scores[\"Class\"])\n",
    "test_scores['Class2'] = test_scores.Class2.cat.codes\n",
    "test_scores"
   ]
  },
  {
   "cell_type": "code",
   "execution_count": null,
   "metadata": {},
   "outputs": [],
   "source": [
    "# Plot the Scores with the projected test samples\n",
    "import plotly.express as px\n",
    "import plotly as plotly\n",
    "import plotly.graph_objs as go\n",
    "\n",
    "fig = px.scatter(scores, x=\"PC1\", y=\"PC2\", color=\"Class\", hover_data={'Sample': (scores.index)})\n",
    "fig.add_trace(go.Scatter(x=test_scores[\"PC1\"], y=test_scores[\"PC2\"], mode='markers', marker=dict(color=test_scores.Class2,size=8), name = \"Test\"))\n",
    "fig.update_layout(hovermode='x unified')\n",
    "fig.show()\n"
   ]
  },
  {
   "cell_type": "markdown",
   "metadata": {},
   "source": [
    "## Hotelling's T2 vs Q-residuals"
   ]
  },
  {
   "cell_type": "code",
   "execution_count": null,
   "metadata": {},
   "outputs": [],
   "source": [
    "# Get PCA scores\n",
    "T = scores.iloc[:,1:4]\n",
    "T"
   ]
  },
  {
   "cell_type": "code",
   "execution_count": null,
   "metadata": {},
   "outputs": [],
   "source": [
    "# Get PCA loadings\n",
    "P = loadings.iloc[:,0:3]\n",
    "P"
   ]
  },
  {
   "cell_type": "code",
   "execution_count": null,
   "metadata": {
    "scrolled": false
   },
   "outputs": [],
   "source": [
    "# Calculate error array\n",
    "Err = Xaut - np.dot(T,P.T)\n",
    "Err"
   ]
  },
  {
   "cell_type": "code",
   "execution_count": null,
   "metadata": {},
   "outputs": [],
   "source": [
    "# Calculate Q-residuals (sum over the rows of the error array)\n",
    "Q = np.sum(Err**2, axis=1)\n",
    "Q"
   ]
  },
  {
   "cell_type": "code",
   "execution_count": null,
   "metadata": {},
   "outputs": [],
   "source": [
    "# Calculate Hotelling's T-squared (note that data are normalised by default)\n",
    "Tsq = np.sum((T/np.std(T, axis=0))**2, axis=1)\n",
    "Tsq"
   ]
  },
  {
   "cell_type": "markdown",
   "metadata": {},
   "source": [
    "If necessary, install **scipy** library"
   ]
  },
  {
   "cell_type": "code",
   "execution_count": null,
   "metadata": {},
   "outputs": [],
   "source": [
    "#pip install scipy"
   ]
  },
  {
   "cell_type": "code",
   "execution_count": null,
   "metadata": {},
   "outputs": [],
   "source": [
    "# set the confidence level\n",
    "conf = 0.95\n",
    "ncomp = 3\n",
    " \n",
    "from scipy.stats import f\n",
    "\n",
    "# Calculate confidence level for T-squared from the ppf of the F distribution\n",
    "Tsq_conf =  f.ppf(q=conf, dfn=ncomp, \\\n",
    "            dfd=Xaut.shape[0])*ncomp*(Xaut.shape[0]-1)/(Xaut.shape[0]-ncomp)\n",
    "Tsq_conf"
   ]
  },
  {
   "cell_type": "code",
   "execution_count": null,
   "metadata": {},
   "outputs": [],
   "source": [
    "# Estimate the confidence level for the Q-residuals\n",
    "i = np.max(Q)+1\n",
    "while 1-np.sum(Q>i)/np.sum(Q>0) > conf:\n",
    "    i -= 1\n",
    "Q_conf = i\n",
    "\n",
    "Q_conf"
   ]
  },
  {
   "cell_type": "code",
   "execution_count": null,
   "metadata": {},
   "outputs": [],
   "source": [
    "# Create a dataframe using only T2 and Q-residuals\n",
    "hot_q_data = {'T2': Tsq, 'Qres': Q, 'Class': data.Class}  \n",
    "hot_q_data = pd.DataFrame(hot_q_data, index = data.index)\n",
    "hot_q_data\n"
   ]
  },
  {
   "cell_type": "code",
   "execution_count": null,
   "metadata": {},
   "outputs": [],
   "source": [
    "# Plot the Hotelling T2 vs Q-residuals plot\n",
    "fig = px.scatter(hot_q_data, x=\"T2\", y=\"Qres\", hover_data={'Sample': (hot_q_data.index)})#, color = \"Class\")\n",
    "fig.add_hline(y=Q_conf,line_dash=\"dot\", line_color='Red')\n",
    "fig.add_vline(x=Tsq_conf,line_dash=\"dot\", line_color='Red')\n",
    "fig.update_traces(textposition='top center')\n",
    "fig.update_layout(\n",
    "    height=600,\n",
    "    width=800,\n",
    "    title_text=\"Hotelling's T2 vs Q-residuals\")\n",
    "fig.show()"
   ]
  }
 ],
 "metadata": {
  "interpreter": {
   "hash": "a1d51df54d8f42b5164975dc57fa3116ea94921a9ae668dda5c68ba07dd9cbae"
  },
  "kernelspec": {
   "display_name": "Python 3 (ipykernel)",
   "language": "python",
   "name": "python3"
  },
  "language_info": {
   "codemirror_mode": {
    "name": "ipython",
    "version": 3
   },
   "file_extension": ".py",
   "mimetype": "text/x-python",
   "name": "python",
   "nbconvert_exporter": "python",
   "pygments_lexer": "ipython3",
   "version": "3.9.7"
  }
 },
 "nbformat": 4,
 "nbformat_minor": 2
}
